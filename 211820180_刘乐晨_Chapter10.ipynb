{
 "cells": [
  {
   "cell_type": "markdown",
   "id": "3ee3a9bc-e124-4d91-976e-aadc8f773ebd",
   "metadata": {},
   "source": [
    "# 文件和异常"
   ]
  },
  {
   "cell_type": "markdown",
   "id": "e3306885-8c49-4623-9288-a70ec9b5df74",
   "metadata": {},
   "source": [
    "## 从文件中读取数据"
   ]
  },
  {
   "cell_type": "markdown",
   "id": "94338fb0-1dad-45a2-a198-a7aca6fa3cc1",
   "metadata": {},
   "source": [
    "### 读取整个文件"
   ]
  },
  {
   "cell_type": "code",
   "execution_count": 2,
   "id": "f65ed30b-8ef6-4fe1-82c8-e1123f078cec",
   "metadata": {
    "execution": {
     "iopub.execute_input": "2024-05-10T02:25:49.166406Z",
     "iopub.status.busy": "2024-05-10T02:25:49.166406Z",
     "iopub.status.idle": "2024-05-10T02:25:49.183192Z",
     "shell.execute_reply": "2024-05-10T02:25:49.182056Z",
     "shell.execute_reply.started": "2024-05-10T02:25:49.166406Z"
    }
   },
   "outputs": [
    {
     "name": "stdout",
     "output_type": "stream",
     "text": [
      "3.1415926535\n",
      "  8979323846\n",
      "  2643383279\n",
      "\n"
     ]
    }
   ],
   "source": [
    "#函数open() 接受一个参数：要打开的文件的名称，返回一个表示文件的对象。\n",
    "#并非在任何情况下都能轻松确定关闭文件的恰当时机，只管打开，Python会在合适的时候自动将其关闭\n",
    "\n",
    "#关键字with 在不再需要访问文件后将其关闭\n",
    "#open('pi_digits.txt') 返回一个表示文件pi_digits.txt的对象，将该对象赋给file_object 供以后使用\n",
    "with open('pi_digits.txt') as file_object:\n",
    "    contents = file_object.read()\n",
    "print(contents)"
   ]
  },
  {
   "cell_type": "code",
   "execution_count": 17,
   "id": "1cf45eee-e199-43fa-9900-f9ffd148f377",
   "metadata": {
    "execution": {
     "iopub.execute_input": "2024-05-10T02:48:16.241240Z",
     "iopub.status.busy": "2024-05-10T02:48:16.241240Z",
     "iopub.status.idle": "2024-05-10T02:48:16.261106Z",
     "shell.execute_reply": "2024-05-10T02:48:16.261106Z",
     "shell.execute_reply.started": "2024-05-10T02:48:16.241240Z"
    }
   },
   "outputs": [
    {
     "name": "stdout",
     "output_type": "stream",
     "text": [
      "3.1415926535\n",
      "  8979323846\n",
      "  2643383279\n"
     ]
    }
   ],
   "source": [
    "#read() 到达文件末尾时返回一个空字符串，而将这个空字符串显示出来时就是一个空行\n",
    "#删除字符串末尾的空白：rstrip()\n",
    "\n",
    "with open('pi_digits.txt') as file_object:\n",
    "    contents = file_object.read()\n",
    "print(contents.rstrip())"
   ]
  },
  {
   "cell_type": "code",
   "execution_count": 16,
   "id": "29f802f7-e6a9-4701-b3f0-e8194e3b8d6b",
   "metadata": {
    "execution": {
     "iopub.execute_input": "2024-05-10T02:47:24.099704Z",
     "iopub.status.busy": "2024-05-10T02:47:24.083964Z",
     "iopub.status.idle": "2024-05-10T02:47:24.115347Z",
     "shell.execute_reply": "2024-05-10T02:47:24.112203Z",
     "shell.execute_reply.started": "2024-05-10T02:47:24.099704Z"
    }
   },
   "outputs": [
    {
     "name": "stdout",
     "output_type": "stream",
     "text": [
      "['3.1415926535\\n', '  8979323846\\n', '  2643383279\\n']\n"
     ]
    }
   ],
   "source": [
    "with open('pi_digits.txt','r') as file_object:\n",
    "    contents = file_object.readlines()\n",
    "print(contents)"
   ]
  },
  {
   "cell_type": "code",
   "execution_count": 6,
   "id": "e145a8f5-7548-4787-b626-11d9c8e9f1db",
   "metadata": {
    "execution": {
     "iopub.execute_input": "2024-05-10T02:43:01.553226Z",
     "iopub.status.busy": "2024-05-10T02:43:01.553226Z",
     "iopub.status.idle": "2024-05-10T02:43:01.574280Z",
     "shell.execute_reply": "2024-05-10T02:43:01.570942Z",
     "shell.execute_reply.started": "2024-05-10T02:43:01.553226Z"
    }
   },
   "outputs": [
    {
     "name": "stdout",
     "output_type": "stream",
     "text": [
      "3.1415926535\n",
      "  8979323846\n",
      "  2643383279\n",
      "\n"
     ]
    }
   ],
   "source": [
    "from pathlib import Path\n",
    "\n",
    "path=Path('pi_digits.txt')\n",
    "contents=path.read_text()\n",
    "print(contents)"
   ]
  },
  {
   "cell_type": "code",
   "execution_count": 12,
   "id": "abd80e1c-1934-495b-a1ac-e1b69af2c688",
   "metadata": {
    "execution": {
     "iopub.execute_input": "2024-05-10T02:46:32.993761Z",
     "iopub.status.busy": "2024-05-10T02:46:32.993761Z",
     "iopub.status.idle": "2024-05-10T02:46:33.010519Z",
     "shell.execute_reply": "2024-05-10T02:46:33.008025Z",
     "shell.execute_reply.started": "2024-05-10T02:46:32.993761Z"
    }
   },
   "outputs": [
    {
     "name": "stdout",
     "output_type": "stream",
     "text": [
      "3.1415926535\n",
      "  8979323846\n",
      "  2643383279\n"
     ]
    }
   ],
   "source": [
    "from pathlib import Path\n",
    "\n",
    "path=Path('pi_digits.txt')\n",
    "contents=path.read_text().rstrip()\n",
    "print(contents)"
   ]
  },
  {
   "cell_type": "markdown",
   "id": "318378b1-0677-4c44-a463-fefffdc78672",
   "metadata": {},
   "source": [
    "### 文件路径"
   ]
  },
  {
   "cell_type": "code",
   "execution_count": null,
   "id": "24677737-7a33-4bc3-828e-9eacfe2bb27c",
   "metadata": {},
   "outputs": [],
   "source": [
    "#相对路径\n",
    "\n",
    "#文件夹text_files位于文件夹python_work中，可以使用相对文件路径来打开其中的文件。\n",
    "#相对文件路径让Python到指定的位置去查找，而该位置是相对于当前运行的程序所在目录的。\n",
    "\n",
    "with open('text_files/filename.txt') as file_object:\n",
    "    \n",
    "#n到文件夹python_work下的文件夹text_files中去查找指定的.txt文件"
   ]
  },
  {
   "cell_type": "code",
   "execution_count": null,
   "id": "29e64935-da4d-4350-b930-da139245d9ec",
   "metadata": {},
   "outputs": [],
   "source": [
    "#绝对路径：将文件在计算机中的准确位置告诉Python\n",
    "\n",
    "#如果text_files并不在文件夹python_work中，而在文件夹other_files中，需要提供完整的路径\n",
    "#绝对路径通常比相对路径长，因此将其赋给一个变量，再将该变量传递给open()会有所帮助：\n",
    "file_path = '/home/ehmatthes/other_files/text_files/_filename_.txt'\n",
    "with open(file_path) as file_object:\n",
    "\n",
    "#通过使用绝对路径，可读取系统中任何地方的文件。\n",
    "#最简单的：要么将数据文件存储在程序文件所在的目录，要么将其存储在程序文件所在目录下的一个文件夹中"
   ]
  },
  {
   "cell_type": "code",
   "execution_count": 21,
   "id": "3d205f92-d518-4666-bb9e-223d72cd89fd",
   "metadata": {
    "execution": {
     "iopub.execute_input": "2024-05-10T02:55:14.296346Z",
     "iopub.status.busy": "2024-05-10T02:55:14.294080Z",
     "iopub.status.idle": "2024-05-10T02:55:14.307937Z",
     "shell.execute_reply": "2024-05-10T02:55:14.305199Z",
     "shell.execute_reply.started": "2024-05-10T02:55:14.296346Z"
    }
   },
   "outputs": [
    {
     "name": "stdout",
     "output_type": "stream",
     "text": [
      "ᄑ\n"
     ]
    }
   ],
   "source": [
    "#如果在文件路径中直接使用反斜杠，将引发错误，因为反斜杠用于对字符串中的字符进行转义。\n",
    "#如，对于\"C:\\path\\to\\file.txt\" ，\\t 将被解读为制表符。\n",
    "\n",
    "#如 Unicode编码：\\u\n",
    "print('\\u1111')\n",
    "\n",
    "#如果一定要使用反斜杠，可对路径中的每个反斜杠都进行转义，如\"C:\\\\path\\\\to\\\\file.txt\" "
   ]
  },
  {
   "cell_type": "markdown",
   "id": "57ca8ac1-443d-4a2b-9866-7cf5d6f2f70e",
   "metadata": {},
   "source": [
    "### 逐行读取"
   ]
  },
  {
   "cell_type": "code",
   "execution_count": 25,
   "id": "f3a33d61-eda3-4cb4-a611-61026432b642",
   "metadata": {
    "execution": {
     "iopub.execute_input": "2024-05-10T06:24:29.888017Z",
     "iopub.status.busy": "2024-05-10T06:24:29.888017Z",
     "iopub.status.idle": "2024-05-10T06:24:29.897769Z",
     "shell.execute_reply": "2024-05-10T06:24:29.896625Z",
     "shell.execute_reply.started": "2024-05-10T06:24:29.888017Z"
    }
   },
   "outputs": [
    {
     "name": "stdout",
     "output_type": "stream",
     "text": [
      "3.1415926535\n",
      "\n",
      "  8979323846\n",
      "\n",
      "  2643383279\n",
      "\n"
     ]
    }
   ],
   "source": [
    "#要以每次一行的方式检查文件，可对文件对象使用for 循环：\n",
    "filename = 'pi_digits.txt'\n",
    "\n",
    "with open(filename) as file_object:\n",
    "    for line in file_object:\n",
    "        print(line)\n",
    "\n",
    "#在这个文件中，每行的末尾都有一个看不见的换行符，而函数调用print()也会加上一个换行符\n",
    "#因此每行末尾都有两个换行符：一个来自文件，另一个来自函数调用print() "
   ]
  },
  {
   "cell_type": "code",
   "execution_count": 28,
   "id": "0b1a0639-12df-4df3-943b-40b3ac2c95cf",
   "metadata": {
    "execution": {
     "iopub.execute_input": "2024-05-10T06:25:12.167331Z",
     "iopub.status.busy": "2024-05-10T06:25:12.164321Z",
     "iopub.status.idle": "2024-05-10T06:25:12.175081Z",
     "shell.execute_reply": "2024-05-10T06:25:12.173502Z",
     "shell.execute_reply.started": "2024-05-10T06:25:12.167331Z"
    }
   },
   "outputs": [
    {
     "name": "stdout",
     "output_type": "stream",
     "text": [
      "3.1415926535\n",
      "  8979323846\n",
      "  2643383279\n"
     ]
    }
   ],
   "source": [
    "#消除多余的空白行\n",
    "\n",
    "with open(filename) as file_object:\n",
    "    for line in file_object:\n",
    "        print(line.rstrip())"
   ]
  },
  {
   "cell_type": "markdown",
   "id": "894b22db-6aa8-454b-9209-1edc03c27405",
   "metadata": {},
   "source": [
    "### 创建一个包含文件各行内容的列表"
   ]
  },
  {
   "cell_type": "code",
   "execution_count": 29,
   "id": "5b044138-3c0a-455c-888e-653b6e552cba",
   "metadata": {
    "execution": {
     "iopub.execute_input": "2024-05-10T08:22:00.034255Z",
     "iopub.status.busy": "2024-05-10T08:22:00.032675Z",
     "iopub.status.idle": "2024-05-10T08:22:00.044732Z",
     "shell.execute_reply": "2024-05-10T08:22:00.043715Z",
     "shell.execute_reply.started": "2024-05-10T08:22:00.034255Z"
    }
   },
   "outputs": [
    {
     "name": "stdout",
     "output_type": "stream",
     "text": [
      "3.1415926535\n",
      "  8979323846\n",
      "  2643383279\n"
     ]
    }
   ],
   "source": [
    "#使用关键字with 时，open() 返回的文件对象只在with 代码块内可用\n",
    "#如果要在with代码块外访问文件的内容，可在with代码块内将文件的各行存储在一个列表中，并在with 代码块外使用该列表：\n",
    "#可以立即处理文件的各个部分，也可以推迟到程序后面再处理。\n",
    "\n",
    "filename = 'pi_digits.txt'\n",
    "with open(filename) as file_object:\n",
    "    lines = file_object.readlines()\n",
    "#方法readlines() 从文件中读取每一行，并将其存储在一个列表中\n",
    "\n",
    "for line in lines:\n",
    "    print(line.rstrip())\n",
    "#在with代码块外打印"
   ]
  },
  {
   "cell_type": "markdown",
   "id": "98f5b6ea-0c16-49d2-9e4f-1c5e299e00f7",
   "metadata": {},
   "source": [
    "### 使用文件的内容"
   ]
  },
  {
   "cell_type": "code",
   "execution_count": 32,
   "id": "94e3bbfe-e8fa-48b7-b962-925ae328a370",
   "metadata": {
    "execution": {
     "iopub.execute_input": "2024-05-10T08:25:44.445419Z",
     "iopub.status.busy": "2024-05-10T08:25:44.445419Z",
     "iopub.status.idle": "2024-05-10T08:25:44.455484Z",
     "shell.execute_reply": "2024-05-10T08:25:44.453841Z",
     "shell.execute_reply.started": "2024-05-10T08:25:44.445419Z"
    }
   },
   "outputs": [
    {
     "name": "stdout",
     "output_type": "stream",
     "text": [
      "3.1415926535  8979323846  2643383279\n",
      "36\n"
     ]
    }
   ],
   "source": [
    "filename = 'pi_digits.txt'\n",
    "\n",
    "with open(filename) as file_object:\n",
    "    lines = file_object.readlines()\n",
    "    \n",
    "pi_string = ''\n",
    "for line in lines:\n",
    "    pi_string += line.rstrip()\n",
    "    \n",
    "print(pi_string)\n",
    "print(len(pi_string))"
   ]
  },
  {
   "cell_type": "code",
   "execution_count": 34,
   "id": "7ab8e9d7-6d91-462d-a780-140c1460aa39",
   "metadata": {
    "execution": {
     "iopub.execute_input": "2024-05-10T08:26:35.231649Z",
     "iopub.status.busy": "2024-05-10T08:26:35.230171Z",
     "iopub.status.idle": "2024-05-10T08:26:35.239569Z",
     "shell.execute_reply": "2024-05-10T08:26:35.238609Z",
     "shell.execute_reply.started": "2024-05-10T08:26:35.231649Z"
    }
   },
   "outputs": [
    {
     "name": "stdout",
     "output_type": "stream",
     "text": [
      "3.141592653589793238462643383279\n",
      "32\n"
     ]
    }
   ],
   "source": [
    "#变量pi_string 指向的字符串包含原来位于每行左边的空格\n",
    "#为删除这些空格可使用strip()\n",
    "\n",
    "filename = 'pi_digits.txt'\n",
    "\n",
    "with open(filename) as file_object:\n",
    "    lines = file_object.readlines()\n",
    "    \n",
    "pi_string = ''\n",
    "for line in lines:\n",
    "    pi_string += line.strip()\n",
    "    \n",
    "print(pi_string)\n",
    "print(len(pi_string))"
   ]
  },
  {
   "cell_type": "code",
   "execution_count": null,
   "id": "43eb8b8a-f2e2-417f-b915-5ea77140cbbf",
   "metadata": {},
   "outputs": [],
   "source": [
    "#读取文本文件时，Python将其中的所有文本都解读为字符串\n",
    "#如果读取的是数，并要将其作为数值使用，就必须使用函数int() 将其转换为整数或使用函数float() 将其转换为浮点数"
   ]
  },
  {
   "cell_type": "markdown",
   "id": "a6b3e027-8427-4088-80e8-ee0e44dcb0c3",
   "metadata": {},
   "source": [
    "### 包含一百万位的大型文件"
   ]
  },
  {
   "cell_type": "code",
   "execution_count": 36,
   "id": "dfcafc83-78a8-4464-b8c3-da6c4f5d0851",
   "metadata": {
    "execution": {
     "iopub.execute_input": "2024-05-10T08:34:09.830209Z",
     "iopub.status.busy": "2024-05-10T08:34:09.830209Z",
     "iopub.status.idle": "2024-05-10T08:34:10.029030Z",
     "shell.execute_reply": "2024-05-10T08:34:10.027287Z",
     "shell.execute_reply.started": "2024-05-10T08:34:09.830209Z"
    }
   },
   "outputs": [
    {
     "name": "stdout",
     "output_type": "stream",
     "text": [
      "3.14159265358979323846264338327950288419716939937510...\n",
      "1000002\n"
     ]
    }
   ],
   "source": [
    "filename = 'pi_million_digits.txt'\n",
    "\n",
    "with open(filename) as file_object:\n",
    "    lines = file_object.readlines()\n",
    "    \n",
    "pi_string = ''\n",
    "for line in lines:\n",
    "    pi_string += line.strip()\n",
    "    \n",
    "print(f\"{pi_string[:52]}...\")\n",
    "print(len(pi_string))"
   ]
  },
  {
   "cell_type": "markdown",
   "id": "1f99fa14-0c4c-44a6-9c20-ecb7fe6b390c",
   "metadata": {},
   "source": [
    "### 圆周率值中包含你的生日吗"
   ]
  },
  {
   "cell_type": "code",
   "execution_count": 38,
   "id": "87dbb67a-f45a-475b-b4de-7c39819009ef",
   "metadata": {
    "execution": {
     "iopub.execute_input": "2024-05-10T08:43:49.455443Z",
     "iopub.status.busy": "2024-05-10T08:43:49.454102Z",
     "iopub.status.idle": "2024-05-10T08:43:58.481993Z",
     "shell.execute_reply": "2024-05-10T08:43:58.480929Z",
     "shell.execute_reply.started": "2024-05-10T08:43:49.455443Z"
    }
   },
   "outputs": [
    {
     "name": "stdin",
     "output_type": "stream",
     "text": [
      "Enter your birthday, in the form mmddyy:  092302\n"
     ]
    },
    {
     "name": "stdout",
     "output_type": "stream",
     "text": [
      "Your birthday appears in the first million digits of pi!\n"
     ]
    }
   ],
   "source": [
    "filename = 'pi_million_digits.txt'\n",
    "\n",
    "with open(filename) as file_object:\n",
    "    lines = file_object.readlines()\n",
    "    \n",
    "pi_string = ''\n",
    "for line in lines:\n",
    "    pi_string += line.strip()\n",
    "birthday = input(\"Enter your birthday, in the form mmddyy: \")\n",
    "if birthday in pi_string:\n",
    "    print(\"Your birthday appears in the first million digits of pi!\")\n",
    "else:\n",
    "    print(\"Your birthday does not appear in the first million digits of pi.\")"
   ]
  },
  {
   "cell_type": "markdown",
   "id": "c8ff85e0-dba8-497c-9424-5f56c6f6702e",
   "metadata": {},
   "source": [
    "### 练习"
   ]
  },
  {
   "cell_type": "code",
   "execution_count": 39,
   "id": "1f0fafad-ab6c-4e20-9b44-2107cfeb6765",
   "metadata": {
    "execution": {
     "iopub.execute_input": "2024-05-10T08:58:52.830975Z",
     "iopub.status.busy": "2024-05-10T08:58:52.830975Z",
     "iopub.status.idle": "2024-05-10T08:58:52.845902Z",
     "shell.execute_reply": "2024-05-10T08:58:52.844886Z",
     "shell.execute_reply.started": "2024-05-10T08:58:52.830975Z"
    }
   },
   "outputs": [
    {
     "name": "stdout",
     "output_type": "stream",
     "text": [
      "In Python you can write functions and pass real parameters.\n",
      "In Python you can use positional and keyword real parameters.\n",
      "In Python you can accept any number of real parameters.\n",
      "In Python you can use functions with lists, dictionaries, if statements, and while loops.\n",
      "In Python you can store functions in separate files called modules.\n"
     ]
    }
   ],
   "source": [
    "with open('learning_python.txt') as file:\n",
    "    contents = file.read()\n",
    "print(contents)"
   ]
  },
  {
   "cell_type": "code",
   "execution_count": 41,
   "id": "1469c359-234d-4995-bc7b-7182643a38de",
   "metadata": {
    "execution": {
     "iopub.execute_input": "2024-05-10T09:00:43.646426Z",
     "iopub.status.busy": "2024-05-10T09:00:43.645412Z",
     "iopub.status.idle": "2024-05-10T09:00:43.653651Z",
     "shell.execute_reply": "2024-05-10T09:00:43.652641Z",
     "shell.execute_reply.started": "2024-05-10T09:00:43.646426Z"
    }
   },
   "outputs": [
    {
     "name": "stdout",
     "output_type": "stream",
     "text": [
      "In Python you can write functions and pass real parameters.\n",
      "In Python you can use positional and keyword real parameters.\n",
      "In Python you can accept any number of real parameters.\n",
      "In Python you can use functions with lists, dictionaries, if statements, and while loops.\n",
      "In Python you can store functions in separate files called modules.\n"
     ]
    }
   ],
   "source": [
    "filename = 'learning_python.txt'\n",
    "\n",
    "with open(filename) as file:\n",
    "    for line in file:\n",
    "        print(line.rstrip())"
   ]
  },
  {
   "cell_type": "code",
   "execution_count": 42,
   "id": "0a43a18a-d4e1-41c7-8614-d1f2a22550b7",
   "metadata": {
    "execution": {
     "iopub.execute_input": "2024-05-10T09:01:30.244548Z",
     "iopub.status.busy": "2024-05-10T09:01:30.244548Z",
     "iopub.status.idle": "2024-05-10T09:01:30.253078Z",
     "shell.execute_reply": "2024-05-10T09:01:30.252000Z",
     "shell.execute_reply.started": "2024-05-10T09:01:30.244548Z"
    }
   },
   "outputs": [
    {
     "name": "stdout",
     "output_type": "stream",
     "text": [
      "In Python you can write functions and pass real parameters.\n",
      "In Python you can use positional and keyword real parameters.\n",
      "In Python you can accept any number of real parameters.\n",
      "In Python you can use functions with lists, dictionaries, if statements, and while loops.\n",
      "In Python you can store functions in separate files called modules.\n"
     ]
    }
   ],
   "source": [
    "filename = 'learning_python.txt'\n",
    "\n",
    "with open(filename) as file:\n",
    "    lines = file.readlines()\n",
    "\n",
    "for line in lines:\n",
    "    print(line.rstrip())"
   ]
  },
  {
   "cell_type": "code",
   "execution_count": 46,
   "id": "0c970fff-6659-48e1-836c-e7bfe3ef2458",
   "metadata": {
    "execution": {
     "iopub.execute_input": "2024-05-10T09:04:22.889176Z",
     "iopub.status.busy": "2024-05-10T09:04:22.889176Z",
     "iopub.status.idle": "2024-05-10T09:04:22.897120Z",
     "shell.execute_reply": "2024-05-10T09:04:22.896151Z",
     "shell.execute_reply.started": "2024-05-10T09:04:22.889176Z"
    }
   },
   "outputs": [
    {
     "name": "stdout",
     "output_type": "stream",
     "text": [
      "In C you can write functions and pass real parameters.\n",
      "In C you can use positional and keyword real parameters.\n",
      "In C you can accept any number of real parameters.\n",
      "In C you can use functions with lists, dictionaries, if statements, and while loops.\n",
      "In C you can store functions in separate files called modules.\n"
     ]
    }
   ],
   "source": [
    "filename = 'learning_python.txt'\n",
    "\n",
    "with open(filename) as file:\n",
    "    lines = file.readlines()\n",
    "\n",
    "for line in lines:\n",
    "    print(line.replace('Python','C').rstrip())"
   ]
  },
  {
   "cell_type": "markdown",
   "id": "50d57e9b-6239-4879-a07e-24fc2548d747",
   "metadata": {},
   "source": [
    "## 写入文件"
   ]
  },
  {
   "cell_type": "markdown",
   "id": "c6d9cb76-3213-4790-80e9-7f42774f7e27",
   "metadata": {},
   "source": [
    "### 写入空文件"
   ]
  },
  {
   "cell_type": "code",
   "execution_count": 47,
   "id": "302a3c84-ceb6-454a-9c67-532b37327c41",
   "metadata": {
    "execution": {
     "iopub.execute_input": "2024-05-10T09:25:18.975305Z",
     "iopub.status.busy": "2024-05-10T09:25:18.974274Z",
     "iopub.status.idle": "2024-05-10T09:25:18.982395Z",
     "shell.execute_reply": "2024-05-10T09:25:18.981386Z",
     "shell.execute_reply.started": "2024-05-10T09:25:18.975305Z"
    }
   },
   "outputs": [],
   "source": [
    "#调用open()时提供了两个实参。\n",
    "#第一个实参：要打开的文件的名称。\n",
    "#第二个实参（'w'）：要以写入模式 打开这个文件。\n",
    "#                 还可指定读取模式 （'r'）、附加模式 （'a'）或读写模式 （'r+'）\n",
    "#如果省略了模式实参，Python将以默认的只读模式打开文件。\n",
    "\n",
    "filename = 'programming.txt'\n",
    "with open(filename, 'w') as file_object:\n",
    "    file_object.write(\"I love programming.\")\n",
    "\n",
    "#如果要写入的文件不存在，函数open() 将自动创建它。\n",
    "#如果指定的文件已经存在，Python将在返回文件对象前清空该文件的内容。\n",
    "\n",
    "#Python只能将字符串写入文本文件。要将数值数据存储到文本文件中，必须先使用函数str() 将其转换为字符串格式。"
   ]
  },
  {
   "cell_type": "markdown",
   "id": "1e5d5741-d575-485f-a52c-d11d0cb4a57d",
   "metadata": {},
   "source": [
    "### 写入多行\n"
   ]
  },
  {
   "cell_type": "code",
   "execution_count": 48,
   "id": "e38c60e3-b83c-4131-a779-7ed85ba8a995",
   "metadata": {
    "execution": {
     "iopub.execute_input": "2024-05-10T09:28:21.396390Z",
     "iopub.status.busy": "2024-05-10T09:28:21.396390Z",
     "iopub.status.idle": "2024-05-10T09:28:21.403612Z",
     "shell.execute_reply": "2024-05-10T09:28:21.403073Z",
     "shell.execute_reply.started": "2024-05-10T09:28:21.396390Z"
    }
   },
   "outputs": [],
   "source": [
    "#函数write() 不会在写入的文本末尾添加换行符\n",
    "\n",
    "#要让每个字符串都单独占一行，需要在方法调用write() 中包含换行符：\n",
    "filename = 'programming.txt'\n",
    "with open(filename, 'w') as file_object:\n",
    "    file_object.write(\"I love programming.\\n\")\n",
    "    file_object.write(\"I love creating new games.\\n\")"
   ]
  },
  {
   "cell_type": "markdown",
   "id": "dcb65080-1736-4234-93fe-71cd11c7d449",
   "metadata": {},
   "source": [
    "### 附加到文件"
   ]
  },
  {
   "cell_type": "code",
   "execution_count": 49,
   "id": "77ef937f-9ac8-45a1-9771-a41705e322a0",
   "metadata": {
    "execution": {
     "iopub.execute_input": "2024-05-10T09:32:19.396351Z",
     "iopub.status.busy": "2024-05-10T09:32:19.395277Z",
     "iopub.status.idle": "2024-05-10T09:32:19.404831Z",
     "shell.execute_reply": "2024-05-10T09:32:19.403315Z",
     "shell.execute_reply.started": "2024-05-10T09:32:19.396351Z"
    }
   },
   "outputs": [],
   "source": [
    "#如果要给文件添加内容，而不是覆盖原有的内容，可以以附加模式 打开文件。\n",
    "#Python不会在返回文件对象前清空文件的内容，而是将写入文件的行添加到文件末尾\n",
    "#如果指定的文件不存在，Python将为你创建一个空文件。\n",
    "\n",
    "filename = 'programming.txt'\n",
    "\n",
    "#open时指定了实参'a'，以便将内容附加到末尾，而不是覆盖原来的。\n",
    "with open(filename, 'a') as file_object:\n",
    "    file_object.write(\"I also love finding meaning in large datasets.\\n\")\n",
    "    file_object.write(\"I love creating apps that can run in a browser.\\n\")"
   ]
  },
  {
   "cell_type": "markdown",
   "id": "1f8031be-21b1-4c95-a8cf-d0853fb742c9",
   "metadata": {},
   "source": [
    "### 练习"
   ]
  },
  {
   "cell_type": "code",
   "execution_count": 51,
   "id": "0a3499fb-e8a2-4373-8301-f207fd54d122",
   "metadata": {
    "execution": {
     "iopub.execute_input": "2024-05-10T09:50:45.159456Z",
     "iopub.status.busy": "2024-05-10T09:50:45.159456Z",
     "iopub.status.idle": "2024-05-10T09:50:52.823315Z",
     "shell.execute_reply": "2024-05-10T09:50:52.821785Z",
     "shell.execute_reply.started": "2024-05-10T09:50:45.159456Z"
    }
   },
   "outputs": [
    {
     "name": "stdin",
     "output_type": "stream",
     "text": [
      "Enter your name:  Ruby Lowe\n"
     ]
    }
   ],
   "source": [
    "filename = 'guest.txt'\n",
    "\n",
    "with open(filename, 'w') as file_object:\n",
    "    name = input(\"Enter your name: \")\n",
    "    file_object.write(name)"
   ]
  },
  {
   "cell_type": "code",
   "execution_count": 54,
   "id": "9b6c2b1a-9cbf-4144-9bcc-1347215aa131",
   "metadata": {
    "execution": {
     "iopub.execute_input": "2024-05-10T10:01:36.789423Z",
     "iopub.status.busy": "2024-05-10T10:01:36.789423Z",
     "iopub.status.idle": "2024-05-10T10:01:55.177518Z",
     "shell.execute_reply": "2024-05-10T10:01:55.175507Z",
     "shell.execute_reply.started": "2024-05-10T10:01:36.789423Z"
    }
   },
   "outputs": [
    {
     "name": "stdin",
     "output_type": "stream",
     "text": [
      "Enter your name:  Ruby Lowe\n"
     ]
    },
    {
     "name": "stdout",
     "output_type": "stream",
     "text": [
      "Hello,Ruby Lowe!\n"
     ]
    },
    {
     "name": "stdin",
     "output_type": "stream",
     "text": [
      "\n",
      "(Enter 'quit' to finish or 'go' to add more)  go\n",
      "Enter your name:  Penny\n"
     ]
    },
    {
     "name": "stdout",
     "output_type": "stream",
     "text": [
      "Hello,Penny!\n"
     ]
    },
    {
     "name": "stdin",
     "output_type": "stream",
     "text": [
      "\n",
      "(Enter 'quit' to finish or 'go' to add more)  quit\n"
     ]
    }
   ],
   "source": [
    "filename = 'guest_book.txt'\n",
    "\n",
    "with open(filename, 'w') as file_object:\n",
    "    while True:\n",
    "        name = input(\"Enter your name: \")\n",
    "        print(f\"Hello,{name}!\")\n",
    "        file_object.write(f\"{name} has visited.\\n\")\n",
    "        prompt = \"\\n(Enter 'quit' to finish or 'go' to add more) \"\n",
    "        msg=input(prompt)\n",
    "        if msg == 'quit':\n",
    "            break"
   ]
  },
  {
   "cell_type": "code",
   "execution_count": 55,
   "id": "23a10ef9-1cee-428b-b327-4d254f85f8b4",
   "metadata": {
    "execution": {
     "iopub.execute_input": "2024-05-10T10:10:40.352692Z",
     "iopub.status.busy": "2024-05-10T10:10:40.351386Z",
     "iopub.status.idle": "2024-05-10T10:12:57.345683Z",
     "shell.execute_reply": "2024-05-10T10:12:57.344663Z",
     "shell.execute_reply.started": "2024-05-10T10:10:40.352692Z"
    }
   },
   "outputs": [
    {
     "name": "stdout",
     "output_type": "stream",
     "text": [
      "Why you love programming?\n"
     ]
    },
    {
     "name": "stdin",
     "output_type": "stream",
     "text": [
      "Enter your answer:  It is interesting\n",
      "\n",
      "(Enter 'quit' to finish or 'go' to add more)  go\n"
     ]
    },
    {
     "name": "stdout",
     "output_type": "stream",
     "text": [
      "Why you love programming?\n"
     ]
    },
    {
     "name": "stdin",
     "output_type": "stream",
     "text": [
      "Enter your answer:  It helps develop my digital sensation\n",
      "\n",
      "(Enter 'quit' to finish or 'go' to add more)  go\n"
     ]
    },
    {
     "name": "stdout",
     "output_type": "stream",
     "text": [
      "Why you love programming?\n"
     ]
    },
    {
     "name": "stdin",
     "output_type": "stream",
     "text": [
      "Enter your answer:  I can be more connected to the information era\n",
      "\n",
      "(Enter 'quit' to finish or 'go' to add more)  go\n"
     ]
    },
    {
     "name": "stdout",
     "output_type": "stream",
     "text": [
      "Why you love programming?\n"
     ]
    },
    {
     "name": "stdin",
     "output_type": "stream",
     "text": [
      "Enter your answer:  My digital literacy gets practiced and improved\n",
      "\n",
      "(Enter 'quit' to finish or 'go' to add more)  quit\n"
     ]
    }
   ],
   "source": [
    "filename = 'why.txt'\n",
    "\n",
    "with open(filename, 'w') as file_object:\n",
    "    while True:\n",
    "        print(\"Why you love programming?\")\n",
    "        answer = input(\"Enter your answer: \")\n",
    "        file_object.write(f\"Reason(s): {answer}.\\n\")\n",
    "        prompt = \"\\n(Enter 'quit' to finish or 'go' to add more) \"\n",
    "        msg=input(prompt)\n",
    "        if msg == 'quit':\n",
    "            break"
   ]
  },
  {
   "cell_type": "markdown",
   "id": "c61b9cc8-c163-48fc-89da-c9788c085297",
   "metadata": {},
   "source": [
    "## 异常"
   ]
  },
  {
   "cell_type": "code",
   "execution_count": null,
   "id": "707388d7-f773-486b-9840-45735d56c7cc",
   "metadata": {},
   "outputs": [],
   "source": [
    "#每当发生让Python不知所措的错误时，它都会创建一个异常对象\n",
    "#如果编写了处理该异常的代码，程序将继续运行；\n",
    "#如果未对异常进行处理，程序将停止并显示traceback，包含有关异常的报告\n",
    "\n",
    "#try-except 代码块让Python执行指定的操作，同时告诉Python发生异常时怎么办\n",
    "#即便出现异常，程序也将继续运行：显示友好的错误消息，而不是令用户迷惑的traceback"
   ]
  },
  {
   "cell_type": "markdown",
   "id": "06b294f2-b835-4c01-8b75-7378980c98b9",
   "metadata": {},
   "source": [
    "### 处理ZeroDivisionError 异常"
   ]
  },
  {
   "cell_type": "code",
   "execution_count": 1,
   "id": "60c14e6c-8f06-4517-b523-48cce8817270",
   "metadata": {
    "execution": {
     "iopub.execute_input": "2024-05-17T06:16:18.769822Z",
     "iopub.status.busy": "2024-05-17T06:16:18.769822Z",
     "iopub.status.idle": "2024-05-17T06:16:20.614756Z",
     "shell.execute_reply": "2024-05-17T06:16:20.613204Z",
     "shell.execute_reply.started": "2024-05-17T06:16:18.769822Z"
    }
   },
   "outputs": [
    {
     "ename": "ZeroDivisionError",
     "evalue": "division by zero",
     "output_type": "error",
     "traceback": [
      "\u001b[1;31m---------------------------------------------------------------------------\u001b[0m",
      "\u001b[1;31mZeroDivisionError\u001b[0m                         Traceback (most recent call last)",
      "Cell \u001b[1;32mIn[1], line 1\u001b[0m\n\u001b[1;32m----> 1\u001b[0m \u001b[38;5;28mprint\u001b[39m(\u001b[38;5;241m5\u001b[39m\u001b[38;5;241m/\u001b[39m\u001b[38;5;241m0\u001b[39m)\n",
      "\u001b[1;31mZeroDivisionError\u001b[0m: division by zero"
     ]
    }
   ],
   "source": [
    "print(5/0)"
   ]
  },
  {
   "cell_type": "markdown",
   "id": "9fcfbfff-f917-481e-88c8-16d9ba3c9080",
   "metadata": {},
   "source": [
    "### 使用try-except 代码块"
   ]
  },
  {
   "cell_type": "code",
   "execution_count": 19,
   "id": "efe80a85-2728-438c-b36c-4f372ac33e6e",
   "metadata": {
    "execution": {
     "iopub.execute_input": "2024-05-17T07:23:20.258892Z",
     "iopub.status.busy": "2024-05-17T07:23:20.258892Z",
     "iopub.status.idle": "2024-05-17T07:23:20.280507Z",
     "shell.execute_reply": "2024-05-17T07:23:20.276572Z",
     "shell.execute_reply.started": "2024-05-17T07:23:20.258892Z"
    }
   },
   "outputs": [
    {
     "name": "stdout",
     "output_type": "stream",
     "text": [
      "You can't divide by zero!\n"
     ]
    }
   ],
   "source": [
    "try:\n",
    "    print(5/0)\n",
    "except ZeroDivisionError:\n",
    "    print(\"You can't divide by zero!\")"
   ]
  },
  {
   "cell_type": "markdown",
   "id": "60be25fd-9e9a-4db2-aec5-f42e708f0ff9",
   "metadata": {},
   "source": [
    "### 使用异常避免崩溃"
   ]
  },
  {
   "cell_type": "code",
   "execution_count": 3,
   "id": "b29c74ee-e2d4-4486-a13f-783d0e2c6b06",
   "metadata": {
    "execution": {
     "iopub.execute_input": "2024-05-17T06:36:58.233389Z",
     "iopub.status.busy": "2024-05-17T06:36:58.233389Z",
     "iopub.status.idle": "2024-05-17T06:37:04.615770Z",
     "shell.execute_reply": "2024-05-17T06:37:04.611416Z",
     "shell.execute_reply.started": "2024-05-17T06:36:58.233389Z"
    }
   },
   "outputs": [
    {
     "name": "stdout",
     "output_type": "stream",
     "text": [
      "Give me two numbers, and I'll divide them.\n",
      "Enter 'q' to quit.\n"
     ]
    },
    {
     "name": "stdin",
     "output_type": "stream",
     "text": [
      "\n",
      "First number:  6\n",
      "Second number:  0\n"
     ]
    },
    {
     "ename": "ZeroDivisionError",
     "evalue": "division by zero",
     "output_type": "error",
     "traceback": [
      "\u001b[1;31m---------------------------------------------------------------------------\u001b[0m",
      "\u001b[1;31mZeroDivisionError\u001b[0m                         Traceback (most recent call last)",
      "Cell \u001b[1;32mIn[3], line 10\u001b[0m\n\u001b[0;32m      8\u001b[0m \u001b[38;5;28;01mif\u001b[39;00m second_number \u001b[38;5;241m==\u001b[39m \u001b[38;5;124m'\u001b[39m\u001b[38;5;124mq\u001b[39m\u001b[38;5;124m'\u001b[39m:\n\u001b[0;32m      9\u001b[0m     \u001b[38;5;28;01mbreak\u001b[39;00m\n\u001b[1;32m---> 10\u001b[0m answer \u001b[38;5;241m=\u001b[39m \u001b[38;5;28mint\u001b[39m(first_number) \u001b[38;5;241m/\u001b[39m \u001b[38;5;28mint\u001b[39m(second_number)\n\u001b[0;32m     11\u001b[0m \u001b[38;5;28mprint\u001b[39m(answer)\n",
      "\u001b[1;31mZeroDivisionError\u001b[0m: division by zero"
     ]
    }
   ],
   "source": [
    "print(\"Give me two numbers, and I'll divide them.\")\n",
    "print(\"Enter 'q' to quit.\")\n",
    "while True:\n",
    "    first_number = input(\"\\nFirst number: \")\n",
    "    if first_number == 'q':\n",
    "        break\n",
    "    second_number = input(\"Second number: \")\n",
    "    if second_number == 'q':\n",
    "        break\n",
    "    answer = int(first_number) / int(second_number)\n",
    "    print(answer)\n",
    "#没有采取任何处理错误的措施，因此在执行除数为0的除法运算时，它将崩溃"
   ]
  },
  {
   "cell_type": "code",
   "execution_count": null,
   "id": "49845155-0dbe-4169-a193-278eb794006e",
   "metadata": {},
   "outputs": [],
   "source": [
    "#让用户看到traceback的后果：\n",
    "#不懂技术的用户会被搞糊涂\n",
    "#怀有恶意的用户还会通过traceback获悉你不想他知道的信息，例如，程序文件的名称，部分不能正确运行的代码\n",
    "#训练有素的攻击者可根据这些信息判断出可对你的代码发起什么样的攻击"
   ]
  },
  {
   "cell_type": "markdown",
   "id": "a6b49043-b291-4968-8773-d31519181976",
   "metadata": {},
   "source": [
    "### else 代码块"
   ]
  },
  {
   "cell_type": "code",
   "execution_count": 5,
   "id": "3cbafdff-3b1e-443c-892c-5e76eeb853bb",
   "metadata": {
    "execution": {
     "iopub.execute_input": "2024-05-17T06:41:01.516987Z",
     "iopub.status.busy": "2024-05-17T06:41:01.513265Z",
     "iopub.status.idle": "2024-05-17T06:41:25.629928Z",
     "shell.execute_reply": "2024-05-17T06:41:25.627630Z",
     "shell.execute_reply.started": "2024-05-17T06:41:01.516987Z"
    }
   },
   "outputs": [
    {
     "name": "stdout",
     "output_type": "stream",
     "text": [
      "Give me two numbers, and I'll divide them.\n",
      "Enter 'q' to quit.\n"
     ]
    },
    {
     "name": "stdin",
     "output_type": "stream",
     "text": [
      "\n",
      "First number:  6\n",
      "Second number:  0\n"
     ]
    },
    {
     "name": "stdout",
     "output_type": "stream",
     "text": [
      "You can't divide by 0!\n"
     ]
    },
    {
     "name": "stdin",
     "output_type": "stream",
     "text": [
      "\n",
      "First number:  6\n",
      "Second number:  3\n"
     ]
    },
    {
     "name": "stdout",
     "output_type": "stream",
     "text": [
      "2.0\n"
     ]
    },
    {
     "name": "stdin",
     "output_type": "stream",
     "text": [
      "\n",
      "First number:  q\n"
     ]
    }
   ],
   "source": [
    "#依赖try代码块成功执行的代码都应放到 else代码块中\n",
    "\n",
    "print(\"Give me two numbers, and I'll divide them.\")\n",
    "print(\"Enter 'q' to quit.\")\n",
    "while True:\n",
    "    first_number = input(\"\\nFirst number: \")\n",
    "    if first_number == 'q':\n",
    "        break\n",
    "    second_number = input(\"Second number: \")\n",
    "    if second_number == 'q':\n",
    "        break\n",
    "    try:\n",
    "        answer = int(first_number) / int(second_number)\n",
    "    except ZeroDivisionError:\n",
    "        print(\"You can't divide by 0!\")\n",
    "    else:\n",
    "        print(answer)"
   ]
  },
  {
   "cell_type": "code",
   "execution_count": null,
   "id": "89cc62d8-211a-4876-b2ff-de0756a6d9a2",
   "metadata": {},
   "outputs": [],
   "source": [
    "#原理\n",
    "#Python尝试执行try 代码块中的代码，只有可能引发异常的代码才需要放在try 语句中。\n",
    "#有时候，有一些仅在try代码块成功执行时才需要运行的代码，这些代码应放在else 代码块中。\n",
    "#except代码块告诉Python，如果尝试运行try 代码块中的代码时，引发了指定的异常，该怎么办。\n",
    "\n",
    "#通过预测可能发生错误的代码，可编写健壮的程序。它们即便面临无效数据或缺少资源，也能继续运行"
   ]
  },
  {
   "cell_type": "markdown",
   "id": "0adaa2f5-8993-4465-9643-6ea10eceaea8",
   "metadata": {},
   "source": [
    "### 处理FileNotFoundError 异常"
   ]
  },
  {
   "cell_type": "code",
   "execution_count": null,
   "id": "5b61e9cf-e65b-4d42-aff9-ba64cc742f0a",
   "metadata": {},
   "outputs": [],
   "source": [
    "#使用变量f 来表示文件对象，这是一种常见的做法。\n",
    "#给参数encoding 指定了值，在系统的默认编码与要读取文件使用的编码不一致时，必须这样做。"
   ]
  },
  {
   "cell_type": "code",
   "execution_count": 6,
   "id": "3fde177a-ef1d-431b-a97c-1c2418cbba45",
   "metadata": {
    "execution": {
     "iopub.execute_input": "2024-05-17T06:58:21.251647Z",
     "iopub.status.busy": "2024-05-17T06:58:21.251647Z",
     "iopub.status.idle": "2024-05-17T06:58:21.542880Z",
     "shell.execute_reply": "2024-05-17T06:58:21.540567Z",
     "shell.execute_reply.started": "2024-05-17T06:58:21.251647Z"
    }
   },
   "outputs": [
    {
     "ename": "FileNotFoundError",
     "evalue": "[Errno 2] No such file or directory: 'alice.txt'",
     "output_type": "error",
     "traceback": [
      "\u001b[1;31m---------------------------------------------------------------------------\u001b[0m",
      "\u001b[1;31mFileNotFoundError\u001b[0m                         Traceback (most recent call last)",
      "Cell \u001b[1;32mIn[6], line 2\u001b[0m\n\u001b[0;32m      1\u001b[0m filename \u001b[38;5;241m=\u001b[39m \u001b[38;5;124m'\u001b[39m\u001b[38;5;124malice.txt\u001b[39m\u001b[38;5;124m'\u001b[39m\n\u001b[1;32m----> 2\u001b[0m \u001b[38;5;28;01mwith\u001b[39;00m \u001b[38;5;28mopen\u001b[39m(filename, encoding\u001b[38;5;241m=\u001b[39m\u001b[38;5;124m'\u001b[39m\u001b[38;5;124mutf-8\u001b[39m\u001b[38;5;124m'\u001b[39m) \u001b[38;5;28;01mas\u001b[39;00m f:\n\u001b[0;32m      3\u001b[0m     contents \u001b[38;5;241m=\u001b[39m f\u001b[38;5;241m.\u001b[39mread()\n",
      "File \u001b[1;32mD:\\aSoftware\\anaconda3\\Lib\\site-packages\\IPython\\core\\interactiveshell.py:310\u001b[0m, in \u001b[0;36m_modified_open\u001b[1;34m(file, *args, **kwargs)\u001b[0m\n\u001b[0;32m    303\u001b[0m \u001b[38;5;28;01mif\u001b[39;00m file \u001b[38;5;129;01min\u001b[39;00m {\u001b[38;5;241m0\u001b[39m, \u001b[38;5;241m1\u001b[39m, \u001b[38;5;241m2\u001b[39m}:\n\u001b[0;32m    304\u001b[0m     \u001b[38;5;28;01mraise\u001b[39;00m \u001b[38;5;167;01mValueError\u001b[39;00m(\n\u001b[0;32m    305\u001b[0m         \u001b[38;5;124mf\u001b[39m\u001b[38;5;124m\"\u001b[39m\u001b[38;5;124mIPython won\u001b[39m\u001b[38;5;124m'\u001b[39m\u001b[38;5;124mt let you open fd=\u001b[39m\u001b[38;5;132;01m{\u001b[39;00mfile\u001b[38;5;132;01m}\u001b[39;00m\u001b[38;5;124m by default \u001b[39m\u001b[38;5;124m\"\u001b[39m\n\u001b[0;32m    306\u001b[0m         \u001b[38;5;124m\"\u001b[39m\u001b[38;5;124mas it is likely to crash IPython. If you know what you are doing, \u001b[39m\u001b[38;5;124m\"\u001b[39m\n\u001b[0;32m    307\u001b[0m         \u001b[38;5;124m\"\u001b[39m\u001b[38;5;124myou can use builtins\u001b[39m\u001b[38;5;124m'\u001b[39m\u001b[38;5;124m open.\u001b[39m\u001b[38;5;124m\"\u001b[39m\n\u001b[0;32m    308\u001b[0m     )\n\u001b[1;32m--> 310\u001b[0m \u001b[38;5;28;01mreturn\u001b[39;00m io_open(file, \u001b[38;5;241m*\u001b[39margs, \u001b[38;5;241m*\u001b[39m\u001b[38;5;241m*\u001b[39mkwargs)\n",
      "\u001b[1;31mFileNotFoundError\u001b[0m: [Errno 2] No such file or directory: 'alice.txt'"
     ]
    }
   ],
   "source": [
    "filename = 'alice.txt'\n",
    "with open(filename, encoding='utf-8') as f:\n",
    "    contents = f.read()"
   ]
  },
  {
   "cell_type": "code",
   "execution_count": 7,
   "id": "5bf50c7e-18ec-4e15-8c2f-daa3fdf738d2",
   "metadata": {
    "execution": {
     "iopub.execute_input": "2024-05-17T07:00:07.722561Z",
     "iopub.status.busy": "2024-05-17T07:00:07.722561Z",
     "iopub.status.idle": "2024-05-17T07:00:07.736890Z",
     "shell.execute_reply": "2024-05-17T07:00:07.736890Z",
     "shell.execute_reply.started": "2024-05-17T07:00:07.722561Z"
    }
   },
   "outputs": [
    {
     "name": "stdout",
     "output_type": "stream",
     "text": [
      "Sorry, the file alice.txt does not exist.\n"
     ]
    }
   ],
   "source": [
    "#这个错误是函数open() 导致的。因此必须将try 语句放在包含open() 的代码行之前：\n",
    "filename = 'alice.txt'\n",
    "try:\n",
    "    with open(filename, encoding='utf-8') as f:\n",
    "        contents = f.read()\n",
    "except FileNotFoundError:\n",
    "    print(f\"Sorry, the file {filename} does not exist.\")"
   ]
  },
  {
   "cell_type": "markdown",
   "id": "b3c6d0fe-52f3-4799-b3a4-a0022dad921a",
   "metadata": {},
   "source": [
    "### 分析文本"
   ]
  },
  {
   "cell_type": "code",
   "execution_count": 10,
   "id": "35ab2850-5a22-49b6-9b58-3e87a2b0cf5e",
   "metadata": {
    "execution": {
     "iopub.execute_input": "2024-05-17T07:06:43.818656Z",
     "iopub.status.busy": "2024-05-17T07:06:43.818656Z",
     "iopub.status.idle": "2024-05-17T07:06:43.889299Z",
     "shell.execute_reply": "2024-05-17T07:06:43.885629Z",
     "shell.execute_reply.started": "2024-05-17T07:06:43.818656Z"
    }
   },
   "outputs": [
    {
     "name": "stdout",
     "output_type": "stream",
     "text": [
      "The file alice.txt has about 29465 words.\n"
     ]
    }
   ],
   "source": [
    "#分析包含整本书的文本文件。\n",
    "#很多经典文学作品都是简单以文本文件的形式提供的，因为它们不受版权限制。\n",
    "#本节使用的文本来自古登堡计划，该计划提供了一系列不受版权限制的文学作品。\n",
    "\n",
    "#方法split() 以空格为分隔符将字符串分拆成多个部分，并将这些部分都存储到一个列表中\n",
    "#结果是一个包含字符串中所有单词的列表，虽然有些单词可能包含标点\n",
    "\n",
    "filename = 'alice.txt'\n",
    "try:\n",
    "    with open(filename, encoding='utf-8') as f:\n",
    "        contents = f.read()\n",
    "except FileNotFoundError:\n",
    "    print(f\"Sorry, the file {filename} does not exist.\")\n",
    "else:\n",
    "    # 计算该文件大致包含多少个单词\n",
    "    words = contents.split()\n",
    "    num_words = len(words)\n",
    "    print(f\"The file {filename} has about {num_words} words.\")"
   ]
  },
  {
   "cell_type": "markdown",
   "id": "1a5528ce-178f-4c9d-ada8-37605279a15d",
   "metadata": {},
   "source": [
    "### 使用多个文件"
   ]
  },
  {
   "cell_type": "code",
   "execution_count": 15,
   "id": "991d00b9-7325-4b55-9eaf-1e8e2789b318",
   "metadata": {
    "execution": {
     "iopub.execute_input": "2024-05-17T07:11:01.603308Z",
     "iopub.status.busy": "2024-05-17T07:11:01.603308Z",
     "iopub.status.idle": "2024-05-17T07:11:01.624991Z",
     "shell.execute_reply": "2024-05-17T07:11:01.623181Z",
     "shell.execute_reply.started": "2024-05-17T07:11:01.603308Z"
    }
   },
   "outputs": [
    {
     "name": "stdout",
     "output_type": "stream",
     "text": [
      "\n",
      "The file alice.txt has about 29465 words.\n"
     ]
    }
   ],
   "source": [
    "def count_words(filename):\n",
    "    \"\"\"计算一个文件大致包含多少个单词。\"\"\"\n",
    "    try:\n",
    "        with open(filename, encoding='utf-8') as f:\n",
    "            contents = f.read()\n",
    "    except FileNotFoundError:\n",
    "        print(f\"\\nSorry, the file {filename} does not exist.\")\n",
    "    else:\n",
    "        words = contents.split()\n",
    "        num_words = len(words)\n",
    "        print(f\"\\nThe file {filename} has about {num_words} words.\")\n",
    "    \n",
    "filename = 'alice.txt'\n",
    "count_words(filename)"
   ]
  },
  {
   "cell_type": "code",
   "execution_count": 16,
   "id": "57eebec2-fc5f-4abb-ae3f-b395f00c2fe5",
   "metadata": {
    "execution": {
     "iopub.execute_input": "2024-05-17T07:11:05.385989Z",
     "iopub.status.busy": "2024-05-17T07:11:05.384875Z",
     "iopub.status.idle": "2024-05-17T07:11:05.509277Z",
     "shell.execute_reply": "2024-05-17T07:11:05.506845Z",
     "shell.execute_reply.started": "2024-05-17T07:11:05.385989Z"
    }
   },
   "outputs": [
    {
     "name": "stdout",
     "output_type": "stream",
     "text": [
      "\n",
      "The file alice.txt has about 29465 words.\n",
      "\n",
      "Sorry, the file siddhartha.txt does not exist.\n",
      "\n",
      "The file moby_dick.txt has about 215830 words.\n",
      "\n",
      "The file little_women.txt has about 189079 words.\n"
     ]
    }
   ],
   "source": [
    "filenames = ['alice.txt', 'siddhartha.txt', 'moby_dick.txt', 'little_women.txt']\n",
    "for filename in filenames:\n",
    "    count_words(filename)"
   ]
  },
  {
   "cell_type": "markdown",
   "id": "03df66ed-a5b4-43c7-899f-3d78c0a0ad44",
   "metadata": {},
   "source": [
    "### 静默失败"
   ]
  },
  {
   "cell_type": "code",
   "execution_count": 18,
   "id": "9459f0d7-c015-4078-b78b-50812c5eea65",
   "metadata": {
    "execution": {
     "iopub.execute_input": "2024-05-17T07:18:24.952939Z",
     "iopub.status.busy": "2024-05-17T07:18:24.952939Z",
     "iopub.status.idle": "2024-05-17T07:18:25.073571Z",
     "shell.execute_reply": "2024-05-17T07:18:25.073571Z",
     "shell.execute_reply.started": "2024-05-17T07:18:24.952939Z"
    }
   },
   "outputs": [
    {
     "name": "stdout",
     "output_type": "stream",
     "text": [
      "\n",
      "The file alice.txt has about 29465 words.\n",
      "\n",
      "The file moby_dick.txt has about 215830 words.\n",
      "\n",
      "The file little_women.txt has about 189079 words.\n"
     ]
    }
   ],
   "source": [
    "#要让程序静默失败，可像通常那样编写try 代码块，但在except 代码块中明确地告诉Python什么都不要做\n",
    "#pass 语句 可用于让Python在代码块中什么都不要做：\n",
    "def count_words(filename):\n",
    "    \"\"\"计算一个文件大致包含多少个单词。\"\"\"\n",
    "    try:\n",
    "        with open(filename, encoding='utf-8') as f:\n",
    "            contents = f.read()\n",
    "    except FileNotFoundError:\n",
    "        pass   \n",
    "                    #pass语句还充当了占位符，提醒在程序的某个地方什么都没有做，并且以后也许要在这里做些什么\n",
    "    else:\n",
    "        words = contents.split()\n",
    "        num_words = len(words)\n",
    "        print(f\"\\nThe file {filename} has about {num_words} words.\")\n",
    "\n",
    "filenames = ['alice.txt', 'siddhartha.txt', 'moby_dick.txt','little_women.txt']\n",
    "for filename in filenames:\n",
    "    count_words(filename)"
   ]
  },
  {
   "cell_type": "markdown",
   "id": "14eb58fa-fd6b-4cf2-95a3-880e6e639f18",
   "metadata": {},
   "source": [
    "### 决定报告哪些错误"
   ]
  },
  {
   "cell_type": "code",
   "execution_count": null,
   "id": "80296684-9940-403e-b7e0-9372a3b32863",
   "metadata": {},
   "outputs": [],
   "source": [
    "#只要程序依赖于外部因素，如用户输入、存在指定的文件、有网络链接，就有可能出现异常\n",
    "\n",
    "#通过错误处理结构能够细致地控制与用户分享错误信息的程度"
   ]
  },
  {
   "cell_type": "markdown",
   "id": "5b307666-66d9-45b2-91b9-e9ace81e3c35",
   "metadata": {},
   "source": [
    "### 练习"
   ]
  },
  {
   "cell_type": "code",
   "execution_count": 20,
   "id": "8a8a25e4-703c-4b9b-83f5-4fccb043059d",
   "metadata": {
    "execution": {
     "iopub.execute_input": "2024-05-17T07:32:42.082285Z",
     "iopub.status.busy": "2024-05-17T07:32:42.082285Z",
     "iopub.status.idle": "2024-05-17T07:32:49.764265Z",
     "shell.execute_reply": "2024-05-17T07:32:49.764265Z",
     "shell.execute_reply.started": "2024-05-17T07:32:42.082285Z"
    }
   },
   "outputs": [
    {
     "name": "stdin",
     "output_type": "stream",
     "text": [
      "First number:  4\n",
      "Second number:  6\n"
     ]
    },
    {
     "name": "stdout",
     "output_type": "stream",
     "text": [
      "10\n"
     ]
    }
   ],
   "source": [
    "first_number = input(\"First number: \")\n",
    "second_number = input(\"Second number: \")\n",
    "try:\n",
    "    answer = int(first_number) + int(second_number)\n",
    "except ValueError:\n",
    "    print(\"Please enter a number.\")\n",
    "else:\n",
    "    print(answer)"
   ]
  },
  {
   "cell_type": "code",
   "execution_count": 21,
   "id": "a85d5e4e-8eef-4194-b3ae-e4e6e057f148",
   "metadata": {
    "execution": {
     "iopub.execute_input": "2024-05-17T07:33:03.275281Z",
     "iopub.status.busy": "2024-05-17T07:33:03.272261Z",
     "iopub.status.idle": "2024-05-17T07:33:11.093308Z",
     "shell.execute_reply": "2024-05-17T07:33:11.093308Z",
     "shell.execute_reply.started": "2024-05-17T07:33:03.275281Z"
    }
   },
   "outputs": [
    {
     "name": "stdin",
     "output_type": "stream",
     "text": [
      "First number:  t\n",
      "Second number:  9\n"
     ]
    },
    {
     "name": "stdout",
     "output_type": "stream",
     "text": [
      "Please enter a number.\n"
     ]
    }
   ],
   "source": [
    "first_number = input(\"First number: \")\n",
    "second_number = input(\"Second number: \")\n",
    "try:\n",
    "    answer = int(first_number) + int(second_number)\n",
    "except ValueError:\n",
    "    print(\"Please enter a number.\")\n",
    "else:\n",
    "    print(answer)"
   ]
  },
  {
   "cell_type": "code",
   "execution_count": 23,
   "id": "155792dd-779f-484e-b328-840f8ffb07ab",
   "metadata": {
    "execution": {
     "iopub.execute_input": "2024-05-17T07:34:55.728156Z",
     "iopub.status.busy": "2024-05-17T07:34:55.728156Z",
     "iopub.status.idle": "2024-05-17T07:35:13.327626Z",
     "shell.execute_reply": "2024-05-17T07:35:13.324942Z",
     "shell.execute_reply.started": "2024-05-17T07:34:55.728156Z"
    }
   },
   "outputs": [
    {
     "name": "stdout",
     "output_type": "stream",
     "text": [
      "Give me two numbers, and I'll add them.\n",
      "Enter 'q' to quit.\n"
     ]
    },
    {
     "name": "stdin",
     "output_type": "stream",
     "text": [
      "\n",
      "First number:  w\n",
      "Second number:  e\n"
     ]
    },
    {
     "name": "stdout",
     "output_type": "stream",
     "text": [
      "Please enter a number.\n"
     ]
    },
    {
     "name": "stdin",
     "output_type": "stream",
     "text": [
      "\n",
      "First number:  4\n",
      "Second number:  9\n"
     ]
    },
    {
     "name": "stdout",
     "output_type": "stream",
     "text": [
      "13\n"
     ]
    },
    {
     "name": "stdin",
     "output_type": "stream",
     "text": [
      "\n",
      "First number:  q\n"
     ]
    }
   ],
   "source": [
    "print(\"Give me two numbers, and I'll add them.\")\n",
    "print(\"Enter 'q' to quit.\")\n",
    "while True:\n",
    "    first_number = input(\"\\nFirst number: \")\n",
    "    if first_number == 'q':\n",
    "        break\n",
    "    second_number = input(\"Second number: \")\n",
    "    if second_number == 'q':\n",
    "        break\n",
    "    try:\n",
    "        answer = int(first_number) + int(second_number)\n",
    "    except ValueError:\n",
    "        print(\"Please enter a number.\")\n",
    "    else:\n",
    "        print(answer)"
   ]
  },
  {
   "cell_type": "code",
   "execution_count": 25,
   "id": "bba44993-c054-4061-82cf-e1fe45b98614",
   "metadata": {
    "execution": {
     "iopub.execute_input": "2024-05-17T07:42:26.874246Z",
     "iopub.status.busy": "2024-05-17T07:42:26.870470Z",
     "iopub.status.idle": "2024-05-17T07:42:26.908757Z",
     "shell.execute_reply": "2024-05-17T07:42:26.907732Z",
     "shell.execute_reply.started": "2024-05-17T07:42:26.874246Z"
    }
   },
   "outputs": [
    {
     "name": "stdout",
     "output_type": "stream",
     "text": [
      "['Lucy', 'Ben', 'Nelson', 'Judy', 'David']\n",
      "['Tom', 'Peggy', 'Lily', 'Mike', 'Coco']\n"
     ]
    }
   ],
   "source": [
    "def show_words(filename):\n",
    "    \"\"\"读取文件中的单词。\"\"\"\n",
    "    try:\n",
    "        with open(filename, encoding='utf-8') as f:\n",
    "            contents = f.read()\n",
    "    except FileNotFoundError:\n",
    "        print(f\"\\nSorry, the file {filename} does not exist.\")\n",
    "    else:\n",
    "        words = contents.split()\n",
    "        print(words)\n",
    "    \n",
    "file_A = 'cats.txt'\n",
    "show_words(file_A)\n",
    "\n",
    "file_B = 'dogs.txt'\n",
    "show_words(file_B)"
   ]
  },
  {
   "cell_type": "code",
   "execution_count": 27,
   "id": "fe7850a4-72ee-4640-bf53-50e4f90a9462",
   "metadata": {
    "execution": {
     "iopub.execute_input": "2024-05-17T07:44:13.032697Z",
     "iopub.status.busy": "2024-05-17T07:44:13.032697Z",
     "iopub.status.idle": "2024-05-17T07:44:13.055050Z",
     "shell.execute_reply": "2024-05-17T07:44:13.053374Z",
     "shell.execute_reply.started": "2024-05-17T07:44:13.032697Z"
    }
   },
   "outputs": [
    {
     "name": "stdout",
     "output_type": "stream",
     "text": [
      "\n",
      "Sorry, the file cats.txt does not exist.\n",
      "['Tom', 'Peggy', 'Lily', 'Mike', 'Coco']\n"
     ]
    }
   ],
   "source": [
    "def show_words(filename):\n",
    "    \"\"\"读取文件中的单词。\"\"\"\n",
    "    try:\n",
    "        with open(filename, encoding='utf-8') as f:\n",
    "            contents = f.read()\n",
    "    except FileNotFoundError:\n",
    "        print(f\"\\nSorry, the file {filename} does not exist.\")\n",
    "    else:\n",
    "        words = contents.split()\n",
    "        print(words)\n",
    "    \n",
    "files = ['cats.txt','dogs.txt']\n",
    "for file in files:\n",
    "    show_words(file)"
   ]
  },
  {
   "cell_type": "code",
   "execution_count": 28,
   "id": "387a1764-2f4d-48e8-98d1-ec2d0e9e8142",
   "metadata": {
    "execution": {
     "iopub.execute_input": "2024-05-17T07:44:49.952306Z",
     "iopub.status.busy": "2024-05-17T07:44:49.952306Z",
     "iopub.status.idle": "2024-05-17T07:44:49.978712Z",
     "shell.execute_reply": "2024-05-17T07:44:49.974006Z",
     "shell.execute_reply.started": "2024-05-17T07:44:49.952306Z"
    }
   },
   "outputs": [
    {
     "name": "stdout",
     "output_type": "stream",
     "text": [
      "['Tom', 'Peggy', 'Lily', 'Mike', 'Coco']\n"
     ]
    }
   ],
   "source": [
    "def show_words(filename):\n",
    "    \"\"\"读取文件中的单词。\"\"\"\n",
    "    try:\n",
    "        with open(filename, encoding='utf-8') as f:\n",
    "            contents = f.read()\n",
    "    except FileNotFoundError:\n",
    "        pass\n",
    "    else:\n",
    "        words = contents.split()\n",
    "        print(words)\n",
    "    \n",
    "files = ['cats.txt','dogs.txt']\n",
    "for file in files:\n",
    "    show_words(file)"
   ]
  },
  {
   "cell_type": "code",
   "execution_count": 33,
   "id": "af5a1748-ae37-4c98-aa76-9878615d6d04",
   "metadata": {
    "execution": {
     "iopub.execute_input": "2024-05-17T07:52:39.839380Z",
     "iopub.status.busy": "2024-05-17T07:52:39.839380Z",
     "iopub.status.idle": "2024-05-17T07:52:39.893881Z",
     "shell.execute_reply": "2024-05-17T07:52:39.893881Z",
     "shell.execute_reply.started": "2024-05-17T07:52:39.839380Z"
    }
   },
   "outputs": [
    {
     "name": "stdout",
     "output_type": "stream",
     "text": [
      "There are 2505 'the' in the file 'alice.txt'.\n",
      "There are 11843 'the' in the file 'little_women.txt'.\n"
     ]
    }
   ],
   "source": [
    "#方法count() :确定特定的单词或短语在字符串中出现了多少次\n",
    "\n",
    "def see_words(filename):\n",
    "    \"\"\"看看文件中‘the’出现了几次。\"\"\"\n",
    "    try:\n",
    "        with open(filename, encoding='utf-8') as f:\n",
    "            contents = f.read()\n",
    "    except FileNotFoundError:\n",
    "        pass\n",
    "    else:\n",
    "        result = contents.lower().count('the')\n",
    "        print(f\"There are {result} 'the' in the file '{filename}'.\")\n",
    "    \n",
    "files = ['alice.txt','little_women.txt']\n",
    "for file in files:\n",
    "    see_words(file)"
   ]
  },
  {
   "cell_type": "code",
   "execution_count": 34,
   "id": "dec65fb7-3134-49fe-bfee-e8ca92377bfb",
   "metadata": {
    "execution": {
     "iopub.execute_input": "2024-05-17T07:52:44.710868Z",
     "iopub.status.busy": "2024-05-17T07:52:44.710868Z",
     "iopub.status.idle": "2024-05-17T07:52:44.766981Z",
     "shell.execute_reply": "2024-05-17T07:52:44.766981Z",
     "shell.execute_reply.started": "2024-05-17T07:52:44.710868Z"
    }
   },
   "outputs": [
    {
     "name": "stdout",
     "output_type": "stream",
     "text": [
      "'the ' showed 1689 times in the file 'alice.txt'.\n",
      "'the ' showed 7042 times in the file 'little_women.txt'.\n"
     ]
    }
   ],
   "source": [
    "def see_words(filename):\n",
    "    \"\"\"看看文件中‘the’出现了几次。\"\"\"\n",
    "    try:\n",
    "        with open(filename, encoding='utf-8') as f:\n",
    "            contents = f.read()\n",
    "    except FileNotFoundError:\n",
    "        pass\n",
    "    else:\n",
    "        result = contents.lower().count('the ')\n",
    "        print(f\"'the ' showed {result} times in the file '{filename}'.\")\n",
    "    \n",
    "files = ['alice.txt','little_women.txt']\n",
    "for file in files:\n",
    "    see_words(file)"
   ]
  },
  {
   "cell_type": "markdown",
   "id": "c8152cd4-e17b-4b91-b40a-d84d2e81f993",
   "metadata": {},
   "source": [
    "## 存储数据"
   ]
  },
  {
   "cell_type": "code",
   "execution_count": null,
   "id": "0dcdcfa6-27fe-4400-979f-a1dbf79bb120",
   "metadata": {},
   "outputs": [],
   "source": [
    "#模块json :能够将简单的Python数据结构转储到文件中，并在程序再次运行时加载该文件中的数据。\n",
    "#还可以使用json 在Python程序之间分享数据。\n",
    "\n",
    "#JSON（JavaScript Object Notation）格式并非Python专用，最初为JavaScript开发，随后成了一种常见格式"
   ]
  },
  {
   "cell_type": "markdown",
   "id": "671507c7-489a-4472-bbe5-3c73c88999c1",
   "metadata": {},
   "source": [
    "### 使用json.dump() 和json.load()"
   ]
  },
  {
   "cell_type": "code",
   "execution_count": 35,
   "id": "f5addbcc-d03f-4c7e-be72-e4c55f68eea3",
   "metadata": {
    "execution": {
     "iopub.execute_input": "2024-05-17T08:05:56.962354Z",
     "iopub.status.busy": "2024-05-17T08:05:56.962354Z",
     "iopub.status.idle": "2024-05-17T08:05:56.984635Z",
     "shell.execute_reply": "2024-05-17T08:05:56.980830Z",
     "shell.execute_reply.started": "2024-05-17T08:05:56.962354Z"
    }
   },
   "outputs": [],
   "source": [
    "#函数json.dump() 接受两个实参：要存储的数据、可用于存储数据的文件对象\n",
    "\n",
    "import json\n",
    "\n",
    "numbers = [2, 3, 5, 7, 11, 13]\n",
    "\n",
    "filename = 'numbers.json'\n",
    "  #通常使用文件扩展名.json来指出文件存储的数据为JSON格式\n",
    "\n",
    "with open(filename, 'w') as f:\n",
    "    json.dump(numbers, f)"
   ]
  },
  {
   "cell_type": "code",
   "execution_count": 36,
   "id": "89c9f4d6-101e-4850-bf8a-712364420f4e",
   "metadata": {
    "execution": {
     "iopub.execute_input": "2024-05-17T08:26:31.608724Z",
     "iopub.status.busy": "2024-05-17T08:26:31.606010Z",
     "iopub.status.idle": "2024-05-17T08:26:31.622330Z",
     "shell.execute_reply": "2024-05-17T08:26:31.622330Z",
     "shell.execute_reply.started": "2024-05-17T08:26:31.608724Z"
    }
   },
   "outputs": [
    {
     "name": "stdout",
     "output_type": "stream",
     "text": [
      "[2, 3, 5, 7, 11, 13]\n"
     ]
    }
   ],
   "source": [
    "#使用json.load() 将列表读取到内存中\n",
    "\n",
    "import json\n",
    "\n",
    "filename = 'numbers.json'   #确保读取的是前面写入的文件\n",
    "with open(filename) as f:\n",
    "    numbers = json.load(f)\n",
    "                            #使用函数json.load() 加载存储在numbers.json中的信息，并将其赋给变量numbers\n",
    "print(numbers)"
   ]
  },
  {
   "cell_type": "markdown",
   "id": "9847161b-4883-463c-bb48-18ff3a8c3482",
   "metadata": {},
   "source": [
    "### 保存和读取用户生成的数据"
   ]
  },
  {
   "cell_type": "code",
   "execution_count": 38,
   "id": "b461348d-5e98-4057-8fc0-97e3dba247ef",
   "metadata": {
    "execution": {
     "iopub.execute_input": "2024-05-17T08:34:19.923941Z",
     "iopub.status.busy": "2024-05-17T08:34:19.923941Z",
     "iopub.status.idle": "2024-05-17T08:34:22.822221Z",
     "shell.execute_reply": "2024-05-17T08:34:22.821698Z",
     "shell.execute_reply.started": "2024-05-17T08:34:19.923941Z"
    }
   },
   "outputs": [
    {
     "name": "stdin",
     "output_type": "stream",
     "text": [
      "What is your name?  Ruby\n"
     ]
    },
    {
     "name": "stdout",
     "output_type": "stream",
     "text": [
      "We'll remember you when you come back, Ruby!\n"
     ]
    }
   ],
   "source": [
    "#使用json 保存用户生成的数据大有裨益，因为如果不以某种方式存储，用户的信息会在程序停止运行时丢失。\n",
    "\n",
    "#示例：提示用户首次运行程序时输入自己的名字，并在再次运行程序时记住他\n",
    "import json\n",
    "\n",
    "username = input(\"What is your name? \")\n",
    "filename = 'username.json'\n",
    "with open(filename, 'w') as f:\n",
    "    json.dump(username, f)\n",
    "    print(f\"We'll remember you when you come back, {username}!\")"
   ]
  },
  {
   "cell_type": "code",
   "execution_count": 39,
   "id": "fd95e830-3634-4e6d-b094-816522c280c8",
   "metadata": {
    "execution": {
     "iopub.execute_input": "2024-05-17T08:37:18.667428Z",
     "iopub.status.busy": "2024-05-17T08:37:18.663304Z",
     "iopub.status.idle": "2024-05-17T08:37:18.693936Z",
     "shell.execute_reply": "2024-05-17T08:37:18.690828Z",
     "shell.execute_reply.started": "2024-05-17T08:37:18.663304Z"
    }
   },
   "outputs": [
    {
     "name": "stdout",
     "output_type": "stream",
     "text": [
      "Welcome back, Ruby!\n"
     ]
    }
   ],
   "source": [
    "#向已存储了名字的用户发出问候\n",
    "\n",
    "import json\n",
    "\n",
    "filename = 'username.json'\n",
    "with open(filename) as f:\n",
    "    username = json.load(f)\n",
    "    print(f\"Welcome back, {username}!\")"
   ]
  },
  {
   "cell_type": "code",
   "execution_count": 40,
   "id": "b13bf551-368e-4fd4-b69b-f4d1bc481f64",
   "metadata": {
    "execution": {
     "iopub.execute_input": "2024-05-17T08:42:38.399864Z",
     "iopub.status.busy": "2024-05-17T08:42:38.399864Z",
     "iopub.status.idle": "2024-05-17T08:42:38.421202Z",
     "shell.execute_reply": "2024-05-17T08:42:38.419036Z",
     "shell.execute_reply.started": "2024-05-17T08:42:38.399864Z"
    }
   },
   "outputs": [
    {
     "name": "stdout",
     "output_type": "stream",
     "text": [
      "Welcome back, Ruby!\n"
     ]
    }
   ],
   "source": [
    "#将前两个示例的代码合并到一个程序中\n",
    "\n",
    "import json\n",
    " # 如果以前存储了用户名，就加载它。\n",
    " # 否则，提示用户输入用户名并存储它。\n",
    "filename = 'username.json'\n",
    "try:\n",
    "    with open(filename) as f:\n",
    "        username = json.load(f)\n",
    "except FileNotFoundError:\n",
    "    username = input(\"What is your name? \")\n",
    "    with open(filename, 'w') as f:\n",
    "        json.dump(username, f)\n",
    "        print(f\"We'll remember you when you come back, {username}!\")\n",
    "else:\n",
    "    print(f\"Welcome back, {username}!\")"
   ]
  },
  {
   "cell_type": "markdown",
   "id": "4b6df28c-8651-4d91-8043-7c329f9f8425",
   "metadata": {},
   "source": [
    "### 重构"
   ]
  },
  {
   "cell_type": "code",
   "execution_count": null,
   "id": "bc893cbb-a64c-4497-a00a-4c3cce00b553",
   "metadata": {},
   "outputs": [],
   "source": [
    "#代码能够正确地运行，但通过将其划分为一系列完成具体工作的函数，还可以改进\n",
    "#这样的过程称为  重构"
   ]
  },
  {
   "cell_type": "code",
   "execution_count": 44,
   "id": "d7a76d31-a0c7-4255-b26f-b07b9cdb34b0",
   "metadata": {
    "execution": {
     "iopub.execute_input": "2024-05-17T12:28:17.130204Z",
     "iopub.status.busy": "2024-05-17T12:28:17.130204Z",
     "iopub.status.idle": "2024-05-17T12:28:17.161843Z",
     "shell.execute_reply": "2024-05-17T12:28:17.157299Z",
     "shell.execute_reply.started": "2024-05-17T12:28:17.130204Z"
    }
   },
   "outputs": [
    {
     "name": "stdout",
     "output_type": "stream",
     "text": [
      "Welcome back, Ruby!\n"
     ]
    }
   ],
   "source": [
    "#重构上一个程序\n",
    "\n",
    "import json\n",
    "\n",
    "def greet_user():\n",
    "    \"\"\"问候用户，并指出其名字。\"\"\"\n",
    "    filename = 'username.json'\n",
    "    try:\n",
    "        with open(filename) as f:\n",
    "            username = json.load(f)\n",
    "    except FileNotFoundError:\n",
    "        username = input(\"What is your name? \")\n",
    "        with open(filename, 'w') as f:\n",
    "            json.dump(username, f)\n",
    "            print(f\"We'll remember you when you come back, {username}!\")\n",
    "    else:\n",
    "        print(f\"Welcome back, {username}!\")\n",
    "\n",
    "greet_user()"
   ]
  },
  {
   "cell_type": "code",
   "execution_count": 43,
   "id": "db55defc-2f7c-4612-95f1-4c82dc0fe096",
   "metadata": {
    "execution": {
     "iopub.execute_input": "2024-05-17T12:25:43.835182Z",
     "iopub.status.busy": "2024-05-17T12:25:43.835182Z",
     "iopub.status.idle": "2024-05-17T12:25:43.866753Z",
     "shell.execute_reply": "2024-05-17T12:25:43.863595Z",
     "shell.execute_reply.started": "2024-05-17T12:25:43.835182Z"
    }
   },
   "outputs": [
    {
     "name": "stdout",
     "output_type": "stream",
     "text": [
      "Welcome back, Ruby!\n"
     ]
    }
   ],
   "source": [
    "#重构greet_user()函数\n",
    "\n",
    "import json\n",
    "\n",
    "def get_stored_username():\n",
    "    \"\"\"如果存储了用户名，就获取它。\"\"\"\n",
    "    filename = 'username.json'\n",
    "    try:\n",
    "        with open(filename) as f:\n",
    "            username = json.load(f)\n",
    "    except FileNotFoundError:\n",
    "        return None\n",
    "    else:\n",
    "        return username\n",
    "        \n",
    "def greet_user():\n",
    "    \"\"\"问候用户，并指出其名字。\"\"\"\n",
    "    username = get_stored_username()\n",
    "    if username:\n",
    "        print(f\"Welcome back, {username}!\")\n",
    "    else:\n",
    "        username = input(\"What is your name? \")\n",
    "        filename = 'username.json'\n",
    "        with open(filename, 'w') as f:\n",
    "            json.dump(username, f)\n",
    "            print(f\"We'll remember you when you come back, {username}!\")\n",
    "            \n",
    "greet_user()"
   ]
  },
  {
   "cell_type": "code",
   "execution_count": 50,
   "id": "54e07989-50b5-4665-9c65-82b31d97d0bc",
   "metadata": {
    "execution": {
     "iopub.execute_input": "2024-05-17T13:25:11.301517Z",
     "iopub.status.busy": "2024-05-17T13:25:11.301517Z",
     "iopub.status.idle": "2024-05-17T13:25:11.322963Z",
     "shell.execute_reply": "2024-05-17T13:25:11.321913Z",
     "shell.execute_reply.started": "2024-05-17T13:25:11.301517Z"
    }
   },
   "outputs": [
    {
     "name": "stdout",
     "output_type": "stream",
     "text": [
      "Welcome back, Ruby!\n"
     ]
    }
   ],
   "source": [
    "#再重构\n",
    "\n",
    "import json\n",
    "\n",
    "def get_stored_username():\n",
    "    \"\"\"如果存储了用户名，就获取它。\"\"\"\n",
    "    filename = 'username.json'\n",
    "    try:\n",
    "        with open(filename) as f:\n",
    "            username = json.load(f)\n",
    "    except FileNotFoundError:\n",
    "        return None\n",
    "    else:\n",
    "        return username\n",
    "\n",
    "\n",
    "def get_new_username():\n",
    "    \"\"\"提示用户输入用户名。\"\"\"\n",
    "    username = input(\"What is your name? \")\n",
    "    filename = 'username.json'\n",
    "    with open(filename, 'w') as f:\n",
    "        json.dump(username, f)\n",
    "        return username\n",
    "    \n",
    "def greet_user():\n",
    "    \"\"\"问候用户，并指出其名字。\"\"\"\n",
    "    username = get_stored_username()\n",
    "    if username:\n",
    "        print(f\"Welcome back, {username}!\")\n",
    "    else:\n",
    "        username = get_new_username()\n",
    "        print(f\"We'll remember you when you come back, {username}!\")\n",
    "\n",
    "greet_user()"
   ]
  },
  {
   "cell_type": "markdown",
   "id": "b91974e7-78dd-464c-8f6c-73e77725d4c1",
   "metadata": {},
   "source": [
    "### 练习"
   ]
  },
  {
   "cell_type": "code",
   "execution_count": 46,
   "id": "d209f948-75a3-48f7-824e-f7ebd9f1282b",
   "metadata": {
    "execution": {
     "iopub.execute_input": "2024-05-17T12:55:06.693588Z",
     "iopub.status.busy": "2024-05-17T12:55:06.689575Z",
     "iopub.status.idle": "2024-05-17T12:55:09.683103Z",
     "shell.execute_reply": "2024-05-17T12:55:09.681066Z",
     "shell.execute_reply.started": "2024-05-17T12:55:06.693588Z"
    }
   },
   "outputs": [
    {
     "name": "stdin",
     "output_type": "stream",
     "text": [
      "Enter your favorite number:  6\n"
     ]
    }
   ],
   "source": [
    "import json\n",
    "\n",
    "number = input(\"Enter your favorite number: \")\n",
    "\n",
    "filename = 'num.json'\n",
    "\n",
    "with open(filename, 'w') as f:\n",
    "    json.dump(number, f)"
   ]
  },
  {
   "cell_type": "code",
   "execution_count": 47,
   "id": "c85cdbbe-3fb3-435c-b3f4-5453f2172e3c",
   "metadata": {
    "execution": {
     "iopub.execute_input": "2024-05-17T12:58:49.757191Z",
     "iopub.status.busy": "2024-05-17T12:58:49.755024Z",
     "iopub.status.idle": "2024-05-17T12:58:49.772100Z",
     "shell.execute_reply": "2024-05-17T12:58:49.770508Z",
     "shell.execute_reply.started": "2024-05-17T12:58:49.757191Z"
    }
   },
   "outputs": [
    {
     "name": "stdout",
     "output_type": "stream",
     "text": [
      "I know your favorite number! It's 6 .\n"
     ]
    }
   ],
   "source": [
    "import json\n",
    "\n",
    "filename = 'num.json' \n",
    "with open(filename) as f:\n",
    "    number = json.load(f)\n",
    "print(f\"I know your favorite number! It's {number} .\")"
   ]
  },
  {
   "cell_type": "code",
   "execution_count": 48,
   "id": "00b8f83f-23de-416d-b24a-cebe470c41a0",
   "metadata": {
    "execution": {
     "iopub.execute_input": "2024-05-17T13:02:31.904608Z",
     "iopub.status.busy": "2024-05-17T13:02:31.904608Z",
     "iopub.status.idle": "2024-05-17T13:02:31.924152Z",
     "shell.execute_reply": "2024-05-17T13:02:31.923616Z",
     "shell.execute_reply.started": "2024-05-17T13:02:31.904608Z"
    }
   },
   "outputs": [
    {
     "name": "stdout",
     "output_type": "stream",
     "text": [
      "I know your favorite number! It's 6 .\n"
     ]
    }
   ],
   "source": [
    "import json\n",
    "\n",
    "filename = 'num.json'\n",
    "try:\n",
    "    with open(filename) as f:\n",
    "        number = json.load(f)\n",
    "except FileNotFoundError:\n",
    "    number = input(\"Enter your favorite number: \")\n",
    "    with open(filename, 'w') as f:\n",
    "        json.dump(number, f)\n",
    "        print(f\"We'll remember you like {number} most.\")\n",
    "else:\n",
    "    print(f\"I know your favorite number! It's {number} .\")"
   ]
  },
  {
   "cell_type": "code",
   "execution_count": 49,
   "id": "a61737e1-3c05-4bbb-a9d3-486ef3f37350",
   "metadata": {
    "execution": {
     "iopub.execute_input": "2024-05-17T13:03:00.774318Z",
     "iopub.status.busy": "2024-05-17T13:03:00.769924Z",
     "iopub.status.idle": "2024-05-17T13:03:04.826456Z",
     "shell.execute_reply": "2024-05-17T13:03:04.823920Z",
     "shell.execute_reply.started": "2024-05-17T13:03:00.774318Z"
    }
   },
   "outputs": [
    {
     "name": "stdin",
     "output_type": "stream",
     "text": [
      "Enter your favorite number:  8\n"
     ]
    },
    {
     "name": "stdout",
     "output_type": "stream",
     "text": [
      "We'll remember you like 8 most.\n"
     ]
    }
   ],
   "source": [
    "import json\n",
    "\n",
    "filename = 'numb.json'\n",
    "try:\n",
    "    with open(filename) as f:\n",
    "        number = json.load(f)\n",
    "except FileNotFoundError:\n",
    "    number = input(\"Enter your favorite number: \")\n",
    "    with open(filename, 'w') as f:\n",
    "        json.dump(number, f)\n",
    "        print(f\"We'll remember you like {number} most.\")\n",
    "else:\n",
    "    print(f\"I know your favorite number! It's {number} .\")"
   ]
  },
  {
   "cell_type": "code",
   "execution_count": 51,
   "id": "15909ebc-4c5b-4eba-8f74-cea3e3b1c30a",
   "metadata": {
    "execution": {
     "iopub.execute_input": "2024-05-17T13:43:56.466631Z",
     "iopub.status.busy": "2024-05-17T13:43:56.466631Z",
     "iopub.status.idle": "2024-05-17T13:44:09.126890Z",
     "shell.execute_reply": "2024-05-17T13:44:09.123469Z",
     "shell.execute_reply.started": "2024-05-17T13:43:56.466631Z"
    }
   },
   "outputs": [
    {
     "name": "stdin",
     "output_type": "stream",
     "text": [
      "Welcome back! Is your name still Ruby? (yes/no):  no\n",
      "What is your name?  Kinda\n"
     ]
    },
    {
     "name": "stdout",
     "output_type": "stream",
     "text": [
      "We'll remember you when you come back, Kinda!\n"
     ]
    }
   ],
   "source": [
    "import json\n",
    "\n",
    "def get_stored_username():\n",
    "    \"\"\"如果存储了用户名，就获取它。\"\"\"\n",
    "    filename = 'username.json'\n",
    "    try:\n",
    "        with open(filename) as f:\n",
    "            username = json.load(f)\n",
    "    except FileNotFoundError:\n",
    "        return None\n",
    "    else:\n",
    "        return username\n",
    "\n",
    "\n",
    "def get_new_username():\n",
    "    \"\"\"提示用户输入用户名。\"\"\"\n",
    "    username = input(\"What is your name? \")\n",
    "    filename = 'username.json'\n",
    "    with open(filename, 'w') as f:\n",
    "        json.dump(username, f)\n",
    "        return username\n",
    "\n",
    "def greet_user():\n",
    "    \"\"\"问候用户，并指出其名字。\"\"\"\n",
    "    username = get_stored_username()\n",
    "    while not username:  # 如果没有存储用户名，提示用户输入\n",
    "        username = get_new_username()\n",
    "        print(f\"We'll remember you when you come back, {username}!\")\n",
    "    else:\n",
    "        # 如果存储了用户名，询问用户是否正确\n",
    "        check = input(f\"Welcome back! Is your name still {username}? (yes/no): \")\n",
    "        if check.lower() == 'no':\n",
    "            username = get_new_username()\n",
    "            print(f\"We'll remember you when you come back, {username}!\")\n",
    "        else:\n",
    "            # 如果用户说是，打印欢迎消息\n",
    "            print(f\"Welcome back, {username}!\")\n",
    "\n",
    "greet_user()"
   ]
  },
  {
   "cell_type": "code",
   "execution_count": null,
   "id": "9e40f21f-84b4-4a90-ade5-bcd43f05ea80",
   "metadata": {},
   "outputs": [],
   "source": [
    "with open('./../../../../')\n",
    "#tab键查看"
   ]
  }
 ],
 "metadata": {
  "kernelspec": {
   "display_name": "Python 3 (ipykernel)",
   "language": "python",
   "name": "python3"
  },
  "language_info": {
   "codemirror_mode": {
    "name": "ipython",
    "version": 3
   },
   "file_extension": ".py",
   "mimetype": "text/x-python",
   "name": "python",
   "nbconvert_exporter": "python",
   "pygments_lexer": "ipython3",
   "version": "3.11.5"
  }
 },
 "nbformat": 4,
 "nbformat_minor": 5
}
