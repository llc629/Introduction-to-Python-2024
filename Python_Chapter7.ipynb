{
 "cells": [
  {
   "cell_type": "markdown",
   "id": "2533cdc7-caff-4e22-a2b3-d38a33e1ca7c",
   "metadata": {},
   "source": [
    "# 用户输入和while 循环"
   ]
  },
  {
   "cell_type": "markdown",
   "id": "6d7b6e36-91a9-4eb9-8746-692379e20d07",
   "metadata": {},
   "source": [
    "## 函数input() 的工作原理"
   ]
  },
  {
   "cell_type": "code",
   "execution_count": 11,
   "id": "ca2202fe-b501-4b8c-af45-a33b9080d076",
   "metadata": {
    "execution": {
     "iopub.execute_input": "2024-04-07T15:06:31.523774Z",
     "iopub.status.busy": "2024-04-07T15:06:31.523774Z",
     "iopub.status.idle": "2024-04-07T15:06:40.569916Z",
     "shell.execute_reply": "2024-04-07T15:06:40.569409Z",
     "shell.execute_reply.started": "2024-04-07T15:06:31.523774Z"
    }
   },
   "outputs": [
    {
     "name": "stdin",
     "output_type": "stream",
     "text": [
      "Tell me something, and I will repeat it back to you:  Good night!\n"
     ]
    },
    {
     "name": "stdout",
     "output_type": "stream",
     "text": [
      "Good night!\n"
     ]
    }
   ],
   "source": [
    "#函数input() 接受一个参数——要向用户显示的提示 （prompt）或说明，让用户知道该如何做\n",
    "#程序等待用户输入，并在用户按回车键后继续运行。\n",
    "message = input(\"Tell me something, and I will repeat it back to you: \")\n",
    "print(message)"
   ]
  },
  {
   "cell_type": "markdown",
   "id": "b90b73a2-e717-4009-937b-8078cad95eaa",
   "metadata": {},
   "source": [
    "###  编写清晰的程序\n",
    "在提示末尾（这里是冒号后面）包含一个空格，可将提示与用户输入分开"
   ]
  },
  {
   "cell_type": "code",
   "execution_count": 1,
   "id": "8bf67946-0cd6-4fda-b82b-5092b813d225",
   "metadata": {},
   "outputs": [
    {
     "name": "stdin",
     "output_type": "stream",
     "text": [
      "Please enter your name:  Ruby\n"
     ]
    },
    {
     "name": "stdout",
     "output_type": "stream",
     "text": [
      "\n",
      "Hello, Ruby!\n"
     ]
    }
   ],
   "source": [
    "name = input(\"Please enter your name: \")\n",
    "print(f\"\\nHello, {name}!\")"
   ]
  },
  {
   "cell_type": "code",
   "execution_count": 13,
   "id": "596275fa-46eb-437d-a485-da88a03fb80e",
   "metadata": {
    "execution": {
     "iopub.execute_input": "2024-04-07T15:11:56.253069Z",
     "iopub.status.busy": "2024-04-07T15:11:56.251920Z",
     "iopub.status.idle": "2024-04-07T15:11:56.258165Z",
     "shell.execute_reply": "2024-04-07T15:11:56.257134Z",
     "shell.execute_reply.started": "2024-04-07T15:11:56.253069Z"
    }
   },
   "outputs": [],
   "source": [
    "#自赋值运算符\n",
    "#x += y 相当于 x = x + y\n",
    "#x -= y 相当于 x = x - y\n",
    "#x *= y 相当于 x = x * y\n",
    "#x /= y 相当于 x = x / y\n",
    "#x //= y 相当于 x = x // y\n",
    "#x **= y 相当于 x = x ** y"
   ]
  },
  {
   "cell_type": "code",
   "execution_count": 14,
   "id": "5ea2919a-f072-4140-8b0b-0b091b243746",
   "metadata": {
    "execution": {
     "iopub.execute_input": "2024-04-07T15:12:31.642695Z",
     "iopub.status.busy": "2024-04-07T15:12:31.642174Z",
     "iopub.status.idle": "2024-04-07T15:12:39.742667Z",
     "shell.execute_reply": "2024-04-07T15:12:39.742667Z",
     "shell.execute_reply.started": "2024-04-07T15:12:31.642695Z"
    }
   },
   "outputs": [
    {
     "name": "stdin",
     "output_type": "stream",
     "text": [
      "If you tell us who you are, we can personalize the messages you see.\n",
      "What is your first name?  Ruby\n"
     ]
    },
    {
     "name": "stdout",
     "output_type": "stream",
     "text": [
      "\n",
      "Hello, Ruby!\n"
     ]
    }
   ],
   "source": [
    "#有时候，提示可能超过一行\n",
    "prompt = \"If you tell us who you are, we can personalize the messages you see.\"\n",
    "prompt += \"\\nWhat is your first name? \"\n",
    "name = input(prompt)\n",
    "print(f\"\\nHello, {name}!\")"
   ]
  },
  {
   "cell_type": "markdown",
   "id": "94b719bf-0621-4609-a4d6-59fe350fda9c",
   "metadata": {},
   "source": [
    "### 使用int() 来获取数值输入\n",
    "将数值输入用于计算和比较前，务必将其转换为数值表示"
   ]
  },
  {
   "cell_type": "code",
   "execution_count": 7,
   "id": "f675da55-69c5-49cd-9aa5-0ecf6ad59f60",
   "metadata": {
    "execution": {
     "iopub.execute_input": "2024-04-07T04:00:33.995782Z",
     "iopub.status.busy": "2024-04-07T04:00:33.995782Z",
     "iopub.status.idle": "2024-04-07T04:00:46.247971Z",
     "shell.execute_reply": "2024-04-07T04:00:46.246563Z",
     "shell.execute_reply.started": "2024-04-07T04:00:33.995782Z"
    }
   },
   "outputs": [
    {
     "name": "stdin",
     "output_type": "stream",
     "text": [
      "How old are you?  16\n"
     ]
    }
   ],
   "source": [
    "age = input(\"How old are you? \")\n"
   ]
  },
  {
   "cell_type": "code",
   "execution_count": 8,
   "id": "133b8375-40d0-4add-acc0-fa056b34e750",
   "metadata": {
    "execution": {
     "iopub.execute_input": "2024-04-07T04:00:50.043806Z",
     "iopub.status.busy": "2024-04-07T04:00:50.041651Z",
     "iopub.status.idle": "2024-04-07T04:00:50.094087Z",
     "shell.execute_reply": "2024-04-07T04:00:50.090342Z",
     "shell.execute_reply.started": "2024-04-07T04:00:50.043806Z"
    }
   },
   "outputs": [
    {
     "ename": "TypeError",
     "evalue": "'>=' not supported between instances of 'str' and 'int'",
     "output_type": "error",
     "traceback": [
      "\u001b[1;31m---------------------------------------------------------------------------\u001b[0m",
      "\u001b[1;31mTypeError\u001b[0m                                 Traceback (most recent call last)",
      "Cell \u001b[1;32mIn[8], line 1\u001b[0m\n\u001b[1;32m----> 1\u001b[0m \u001b[38;5;28mprint\u001b[39m(age \u001b[38;5;241m>\u001b[39m\u001b[38;5;241m=\u001b[39m \u001b[38;5;241m18\u001b[39m)\n",
      "\u001b[1;31mTypeError\u001b[0m: '>=' not supported between instances of 'str' and 'int'"
     ]
    }
   ],
   "source": [
    "print(age >= 18)"
   ]
  },
  {
   "cell_type": "code",
   "execution_count": 9,
   "id": "ee4f705d-d174-4e44-aa50-7b86bd8d2866",
   "metadata": {
    "execution": {
     "iopub.execute_input": "2024-04-07T04:00:53.099312Z",
     "iopub.status.busy": "2024-04-07T04:00:53.095032Z",
     "iopub.status.idle": "2024-04-07T04:00:53.112103Z",
     "shell.execute_reply": "2024-04-07T04:00:53.108896Z",
     "shell.execute_reply.started": "2024-04-07T04:00:53.099312Z"
    }
   },
   "outputs": [
    {
     "name": "stdout",
     "output_type": "stream",
     "text": [
      "False\n"
     ]
    }
   ],
   "source": [
    "#将数的字符串表示转换为数值表示\n",
    "print(int(age) >= 18)"
   ]
  },
  {
   "cell_type": "code",
   "execution_count": 15,
   "id": "ca3fb34f-5167-4088-a08e-24eed2900d75",
   "metadata": {
    "execution": {
     "iopub.execute_input": "2024-04-07T15:14:04.938654Z",
     "iopub.status.busy": "2024-04-07T15:14:04.937650Z",
     "iopub.status.idle": "2024-04-07T15:14:10.588832Z",
     "shell.execute_reply": "2024-04-07T15:14:10.587798Z",
     "shell.execute_reply.started": "2024-04-07T15:14:04.938654Z"
    }
   },
   "outputs": [
    {
     "name": "stdin",
     "output_type": "stream",
     "text": [
      "How tall are you, in inches?  60\n"
     ]
    },
    {
     "name": "stdout",
     "output_type": "stream",
     "text": [
      "\n",
      "You're tall enough to ride!\n"
     ]
    }
   ],
   "source": [
    "height = input(\"How tall are you, in inches? \")\n",
    "height = int(height)\n",
    "if height >= 48:\n",
    "    print(\"\\nYou're tall enough to ride!\")\n",
    "else:\n",
    "    print(\"\\nYou'll be able to ride when you're a little older.\")"
   ]
  },
  {
   "cell_type": "markdown",
   "id": "390d699b-aca4-43e9-af6c-e1d54208edaa",
   "metadata": {},
   "source": [
    "### 求模运算符\n",
    "将两个数相除并返回余\n",
    "，不会指出一个数是另一个数的多少倍，只指出余数是多少数"
   ]
  },
  {
   "cell_type": "code",
   "execution_count": 16,
   "id": "f9d7a19e-5174-4e0a-a41b-9c00c4488325",
   "metadata": {
    "execution": {
     "iopub.execute_input": "2024-04-07T15:15:40.539536Z",
     "iopub.status.busy": "2024-04-07T15:15:40.539536Z",
     "iopub.status.idle": "2024-04-07T15:15:40.558923Z",
     "shell.execute_reply": "2024-04-07T15:15:40.557425Z",
     "shell.execute_reply.started": "2024-04-07T15:15:40.539536Z"
    }
   },
   "outputs": [
    {
     "data": {
      "text/plain": [
       "0"
      ]
     },
     "execution_count": 16,
     "metadata": {},
     "output_type": "execute_result"
    }
   ],
   "source": [
    "#判断奇数/偶数\n",
    "6 % 2"
   ]
  },
  {
   "cell_type": "code",
   "execution_count": 17,
   "id": "3d2458c1-3bf6-479b-86e0-e8274cf5d076",
   "metadata": {
    "execution": {
     "iopub.execute_input": "2024-04-07T15:15:59.582385Z",
     "iopub.status.busy": "2024-04-07T15:15:59.582385Z",
     "iopub.status.idle": "2024-04-07T15:15:59.591899Z",
     "shell.execute_reply": "2024-04-07T15:15:59.590890Z",
     "shell.execute_reply.started": "2024-04-07T15:15:59.582385Z"
    }
   },
   "outputs": [
    {
     "data": {
      "text/plain": [
       "3"
      ]
     },
     "execution_count": 17,
     "metadata": {},
     "output_type": "execute_result"
    }
   ],
   "source": [
    "45678 % 7"
   ]
  },
  {
   "cell_type": "code",
   "execution_count": 18,
   "id": "7cb985f4-62de-484b-99d7-ca9fdcdd5584",
   "metadata": {
    "execution": {
     "iopub.execute_input": "2024-04-07T15:16:30.529185Z",
     "iopub.status.busy": "2024-04-07T15:16:30.528138Z",
     "iopub.status.idle": "2024-04-07T15:16:35.754032Z",
     "shell.execute_reply": "2024-04-07T15:16:35.754032Z",
     "shell.execute_reply.started": "2024-04-07T15:16:30.529185Z"
    }
   },
   "outputs": [
    {
     "name": "stdin",
     "output_type": "stream",
     "text": [
      "Enter a number, and I'll tell you if it's even or odd:  876543\n"
     ]
    },
    {
     "name": "stdout",
     "output_type": "stream",
     "text": [
      "\n",
      "The number 876543 is odd.\n"
     ]
    }
   ],
   "source": [
    "number = input(\"Enter a number, and I'll tell you if it's even or odd: \")\n",
    "number = int(number)\n",
    "if number % 2 == 0:\n",
    "    print(f\"\\nThe number {number} is even.\")\n",
    "else:\n",
    "    print(f\"\\nThe number {number} is odd.\")"
   ]
  },
  {
   "cell_type": "markdown",
   "id": "31b427eb-e686-4e82-b6d6-2a6dcf2e67c3",
   "metadata": {},
   "source": [
    "### 练习"
   ]
  },
  {
   "cell_type": "code",
   "execution_count": 21,
   "id": "a21fb6da-147d-450b-b2c9-63590aaa7f03",
   "metadata": {
    "execution": {
     "iopub.execute_input": "2024-04-07T15:19:21.085027Z",
     "iopub.status.busy": "2024-04-07T15:19:21.085027Z",
     "iopub.status.idle": "2024-04-07T15:19:22.763196Z",
     "shell.execute_reply": "2024-04-07T15:19:22.762066Z",
     "shell.execute_reply.started": "2024-04-07T15:19:21.085027Z"
    }
   },
   "outputs": [
    {
     "name": "stdin",
     "output_type": "stream",
     "text": [
      "Which kind of car do you want?  Subaru\n"
     ]
    },
    {
     "name": "stdout",
     "output_type": "stream",
     "text": [
      "\n",
      "OK,I will find one Subaru for you.\n"
     ]
    }
   ],
   "source": [
    "car= input(\"Which kind of car do you want? \")\n",
    "print(f\"\\nOK,I will find one {car} for you.\")"
   ]
  },
  {
   "cell_type": "code",
   "execution_count": 26,
   "id": "1469f14a-7c17-49e3-ad6e-0c6b0769593c",
   "metadata": {
    "execution": {
     "iopub.execute_input": "2024-04-07T15:24:36.772499Z",
     "iopub.status.busy": "2024-04-07T15:24:36.770857Z",
     "iopub.status.idle": "2024-04-07T15:24:38.190482Z",
     "shell.execute_reply": "2024-04-07T15:24:38.190482Z",
     "shell.execute_reply.started": "2024-04-07T15:24:36.772499Z"
    }
   },
   "outputs": [
    {
     "name": "stdin",
     "output_type": "stream",
     "text": [
      "How many of you are dining?  3\n"
     ]
    },
    {
     "name": "stdout",
     "output_type": "stream",
     "text": [
      "\n",
      "There are seats available.\n"
     ]
    }
   ],
   "source": [
    "person = input(\"How many of you are dining? \")\n",
    "person = int(person)\n",
    "if person > 8:\n",
    "    print(\"\\nThere's no more seats available.\")\n",
    "else:\n",
    "    print(\"\\nThere are seats available.\")"
   ]
  },
  {
   "cell_type": "code",
   "execution_count": 27,
   "id": "cd37ca95-7f29-4bde-8eef-fef0d4df8cbc",
   "metadata": {
    "execution": {
     "iopub.execute_input": "2024-04-07T15:24:41.927498Z",
     "iopub.status.busy": "2024-04-07T15:24:41.927498Z",
     "iopub.status.idle": "2024-04-07T15:24:46.263208Z",
     "shell.execute_reply": "2024-04-07T15:24:46.263208Z",
     "shell.execute_reply.started": "2024-04-07T15:24:41.927498Z"
    }
   },
   "outputs": [
    {
     "name": "stdin",
     "output_type": "stream",
     "text": [
      "please enter a number:  57650\n"
     ]
    },
    {
     "name": "stdout",
     "output_type": "stream",
     "text": [
      "\n",
      "It's divisible by 10.\n"
     ]
    }
   ],
   "source": [
    "num=input(\"please enter a number: \")\n",
    "num=int(num)\n",
    "if num % 10 == 0:\n",
    "    print(\"\\nIt's divisible by 10.\")\n",
    "else:\n",
    "    print(\"\\nIt's not divisible by 10.\")"
   ]
  }
 ],
 "metadata": {
  "kernelspec": {
   "display_name": "Python 3 (ipykernel)",
   "language": "python",
   "name": "python3"
  },
  "language_info": {
   "codemirror_mode": {
    "name": "ipython",
    "version": 3
   },
   "file_extension": ".py",
   "mimetype": "text/x-python",
   "name": "python",
   "nbconvert_exporter": "python",
   "pygments_lexer": "ipython3",
   "version": "3.11.5"
  }
 },
 "nbformat": 4,
 "nbformat_minor": 5
}
