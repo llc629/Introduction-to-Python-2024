{
 "cells": [
  {
   "cell_type": "markdown",
   "id": "4e1db5ea",
   "metadata": {},
   "source": [
    "# if语句"
   ]
  },
  {
   "cell_type": "markdown",
   "id": "cf1cab9a",
   "metadata": {},
   "source": [
    "## 一个简单示例"
   ]
  },
  {
   "cell_type": "code",
   "execution_count": 1,
   "id": "549cc5f1",
   "metadata": {},
   "outputs": [
    {
     "name": "stdout",
     "output_type": "stream",
     "text": [
      "Audi\n",
      "BMW\n",
      "Subaru\n",
      "Toyota\n"
     ]
    }
   ],
   "source": [
    "cars = ['audi', 'bmw', 'subaru', 'toyota']\n",
    "for car in cars:\n",
    "    if car == 'bmw':\n",
    "        print(car.upper())\n",
    "    else:\n",
    "        print(car.title())"
   ]
  },
  {
   "cell_type": "markdown",
   "id": "34017a5a",
   "metadata": {},
   "source": [
    "## 条件测试"
   ]
  },
  {
   "cell_type": "markdown",
   "id": "4940d591",
   "metadata": {},
   "source": [
    "### 检查是否相等"
   ]
  },
  {
   "cell_type": "code",
   "execution_count": 2,
   "id": "da7daddc",
   "metadata": {},
   "outputs": [
    {
     "data": {
      "text/plain": [
       "True"
      ]
     },
     "execution_count": 2,
     "metadata": {},
     "output_type": "execute_result"
    }
   ],
   "source": [
    "car = 'audi'\n",
    "car == 'audi'"
   ]
  },
  {
   "cell_type": "code",
   "execution_count": 3,
   "id": "641ad4ec",
   "metadata": {},
   "outputs": [
    {
     "data": {
      "text/plain": [
       "False"
      ]
     },
     "execution_count": 3,
     "metadata": {},
     "output_type": "execute_result"
    }
   ],
   "source": [
    "car = 'audi'\n",
    "car == 'bmw'"
   ]
  },
  {
   "cell_type": "code",
   "execution_count": 4,
   "id": "b4ab8372",
   "metadata": {},
   "outputs": [
    {
     "data": {
      "text/plain": [
       "True"
      ]
     },
     "execution_count": 4,
     "metadata": {},
     "output_type": "execute_result"
    }
   ],
   "source": [
    "19 != 21"
   ]
  },
  {
   "cell_type": "markdown",
   "id": "81a99797",
   "metadata": {},
   "source": [
    "### 检查是否相等时忽略大小写"
   ]
  },
  {
   "cell_type": "code",
   "execution_count": 5,
   "id": "e9974b0c",
   "metadata": {},
   "outputs": [
    {
     "data": {
      "text/plain": [
       "False"
      ]
     },
     "execution_count": 5,
     "metadata": {},
     "output_type": "execute_result"
    }
   ],
   "source": [
    "car = 'Audi'\n",
    "car == 'audi'"
   ]
  },
  {
   "cell_type": "code",
   "execution_count": 7,
   "id": "ec9ac553",
   "metadata": {},
   "outputs": [
    {
     "data": {
      "text/plain": [
       "True"
      ]
     },
     "execution_count": 7,
     "metadata": {},
     "output_type": "execute_result"
    }
   ],
   "source": [
    "car = 'Audi'\n",
    "car.lower() == 'audi'\n",
    "\n",
    "#函数lower() 不会修改最初赋给变量car 的值，因此进行这样的比较时不会影响原来的变量"
   ]
  },
  {
   "cell_type": "markdown",
   "id": "c0d48153",
   "metadata": {},
   "source": [
    "### 检查是否不相等"
   ]
  },
  {
   "cell_type": "code",
   "execution_count": 16,
   "id": "1c1e58bd",
   "metadata": {},
   "outputs": [
    {
     "name": "stdout",
     "output_type": "stream",
     "text": [
      "Hold the anchovies!\n"
     ]
    }
   ],
   "source": [
    "requested_topping = 'mushrooms'\n",
    "if requested_topping != 'anchovies':\n",
    "    print(\"Hold the anchovies!\")"
   ]
  },
  {
   "cell_type": "markdown",
   "id": "41ccb576",
   "metadata": {},
   "source": [
    "### 数值比较"
   ]
  },
  {
   "cell_type": "code",
   "execution_count": 26,
   "id": "d0b39c7a",
   "metadata": {},
   "outputs": [
    {
     "name": "stdout",
     "output_type": "stream",
     "text": [
      "That is not the correct answer. Please try again!\n"
     ]
    }
   ],
   "source": [
    "answer = 17\n",
    "if answer != 42:\n",
    "    print(\"That is not the correct answer. Please try again!\")"
   ]
  },
  {
   "cell_type": "code",
   "execution_count": 24,
   "id": "bcc777b7",
   "metadata": {},
   "outputs": [
    {
     "data": {
      "text/plain": [
       "True"
      ]
     },
     "execution_count": 24,
     "metadata": {},
     "output_type": "execute_result"
    }
   ],
   "source": [
    "age = 20\n",
    "age == 20"
   ]
  },
  {
   "cell_type": "code",
   "execution_count": 28,
   "id": "695f311c",
   "metadata": {},
   "outputs": [
    {
     "name": "stdout",
     "output_type": "stream",
     "text": [
      "True\n",
      "True\n",
      "False\n",
      "False\n"
     ]
    }
   ],
   "source": [
    "age = 20\n",
    "print(age >= 10)\n",
    "print(age <= 90)\n",
    "print(age > 40)\n",
    "print(age < 3)"
   ]
  },
  {
   "cell_type": "markdown",
   "id": "e4db90b9",
   "metadata": {},
   "source": [
    "### 检查多个条件\n",
    "#### 使用and检查多个条件"
   ]
  },
  {
   "cell_type": "code",
   "execution_count": 1,
   "id": "1991583d",
   "metadata": {},
   "outputs": [
    {
     "data": {
      "text/plain": [
       "False"
      ]
     },
     "execution_count": 1,
     "metadata": {},
     "output_type": "execute_result"
    }
   ],
   "source": [
    "age_0 = 22\n",
    "age_1 = 18\n",
    "age_0 >= 21 and age_1 >= 21"
   ]
  },
  {
   "cell_type": "code",
   "execution_count": 2,
   "id": "08860c9c",
   "metadata": {},
   "outputs": [
    {
     "data": {
      "text/plain": [
       "True"
      ]
     },
     "execution_count": 2,
     "metadata": {},
     "output_type": "execute_result"
    }
   ],
   "source": [
    "age_1 = 22\n",
    "age_0 >= 21 and age_1 >= 21"
   ]
  },
  {
   "cell_type": "code",
   "execution_count": 3,
   "id": "4af1e9d3",
   "metadata": {},
   "outputs": [
    {
     "data": {
      "text/plain": [
       "True"
      ]
     },
     "execution_count": 3,
     "metadata": {},
     "output_type": "execute_result"
    }
   ],
   "source": [
    "#为改善可读性，可将每个测试分别放在一对圆括号内，但并非必须\n",
    "\n",
    "(age_0 >= 21) and (age_1 >= 21)"
   ]
  },
  {
   "cell_type": "markdown",
   "id": "1e5d184c",
   "metadata": {},
   "source": [
    "#### 使用or检查多个条件"
   ]
  },
  {
   "cell_type": "code",
   "execution_count": 4,
   "id": "6810865e",
   "metadata": {},
   "outputs": [
    {
     "data": {
      "text/plain": [
       "True"
      ]
     },
     "execution_count": 4,
     "metadata": {},
     "output_type": "execute_result"
    }
   ],
   "source": [
    "age_0 = 22\n",
    "age_1 = 18\n",
    "age_0 >= 21 or age_1 >= 21"
   ]
  },
  {
   "cell_type": "code",
   "execution_count": 5,
   "id": "c4b7f781",
   "metadata": {},
   "outputs": [
    {
     "data": {
      "text/plain": [
       "False"
      ]
     },
     "execution_count": 5,
     "metadata": {},
     "output_type": "execute_result"
    }
   ],
   "source": [
    "age_0 = 18\n",
    "age_0 >= 21 or age_1 >= 21"
   ]
  },
  {
   "cell_type": "code",
   "execution_count": 22,
   "id": "f749810e",
   "metadata": {},
   "outputs": [
    {
     "data": {
      "text/plain": [
       "True"
      ]
     },
     "execution_count": 22,
     "metadata": {},
     "output_type": "execute_result"
    }
   ],
   "source": [
    "True == 1"
   ]
  },
  {
   "cell_type": "code",
   "execution_count": 23,
   "id": "15af17ce",
   "metadata": {},
   "outputs": [
    {
     "data": {
      "text/plain": [
       "True"
      ]
     },
     "execution_count": 23,
     "metadata": {},
     "output_type": "execute_result"
    }
   ],
   "source": [
    "False == 0"
   ]
  },
  {
   "cell_type": "code",
   "execution_count": 14,
   "id": "1d43367a",
   "metadata": {},
   "outputs": [
    {
     "data": {
      "text/plain": [
       "1"
      ]
     },
     "execution_count": 14,
     "metadata": {},
     "output_type": "execute_result"
    }
   ],
   "source": [
    "True + False"
   ]
  },
  {
   "cell_type": "code",
   "execution_count": 15,
   "id": "8ddbdc3f",
   "metadata": {},
   "outputs": [
    {
     "data": {
      "text/plain": [
       "1"
      ]
     },
     "execution_count": 15,
     "metadata": {},
     "output_type": "execute_result"
    }
   ],
   "source": [
    "True - False"
   ]
  },
  {
   "cell_type": "code",
   "execution_count": 9,
   "id": "ca1d3fdf",
   "metadata": {},
   "outputs": [
    {
     "data": {
      "text/plain": [
       "True"
      ]
     },
     "execution_count": 9,
     "metadata": {},
     "output_type": "execute_result"
    }
   ],
   "source": [
    "True & True\n",
    "\n",
    "#and：&"
   ]
  },
  {
   "cell_type": "code",
   "execution_count": 10,
   "id": "0390088f",
   "metadata": {},
   "outputs": [
    {
     "data": {
      "text/plain": [
       "False"
      ]
     },
     "execution_count": 10,
     "metadata": {},
     "output_type": "execute_result"
    }
   ],
   "source": [
    "True & False"
   ]
  },
  {
   "cell_type": "code",
   "execution_count": 11,
   "id": "0c730f6d",
   "metadata": {},
   "outputs": [
    {
     "data": {
      "text/plain": [
       "True"
      ]
     },
     "execution_count": 11,
     "metadata": {},
     "output_type": "execute_result"
    }
   ],
   "source": [
    "True | False\n",
    "\n",
    "#or：|（竖线，同stata）"
   ]
  },
  {
   "cell_type": "code",
   "execution_count": 13,
   "id": "98aa3787",
   "metadata": {},
   "outputs": [
    {
     "data": {
      "text/plain": [
       "0.0"
      ]
     },
     "execution_count": 13,
     "metadata": {},
     "output_type": "execute_result"
    }
   ],
   "source": [
    "False / True "
   ]
  },
  {
   "cell_type": "markdown",
   "id": "fdf38724",
   "metadata": {},
   "source": [
    "### 检查特定值是否包含/不包含在列表中"
   ]
  },
  {
   "cell_type": "code",
   "execution_count": 18,
   "id": "27740b4e",
   "metadata": {},
   "outputs": [
    {
     "name": "stdout",
     "output_type": "stream",
     "text": [
      "True\n",
      "False\n",
      "\n",
      "False\n"
     ]
    }
   ],
   "source": [
    "requested_toppings = ['mushrooms', 'onions', 'pineapple']\n",
    "print('mushrooms' in requested_toppings)\n",
    "print('pepperoni' in requested_toppings)\n",
    "print()   #相当于空行\n",
    "print('onions' not in requested_toppings)"
   ]
  },
  {
   "cell_type": "code",
   "execution_count": 6,
   "id": "6de52f6a",
   "metadata": {},
   "outputs": [
    {
     "name": "stdout",
     "output_type": "stream",
     "text": [
      "Marie, you can post a response if you wish.\n"
     ]
    }
   ],
   "source": [
    "banned_users = ['andrew', 'carolina', 'david']\n",
    "user = 'marie'\n",
    "if user not in banned_users:\n",
    "    print(f\"{user.title()}, you can post a response if you wish.\")"
   ]
  },
  {
   "cell_type": "markdown",
   "id": "9c2d4e13",
   "metadata": {},
   "source": [
    "### 布尔表达式\n",
    "条件测试的别名。与条件表达式一样，布尔表达式的结果要么为True ，要么为False；布尔值变量:存储布尔表达式结果的变量，通常用于记录条件，如游戏是否正在运行"
   ]
  },
  {
   "cell_type": "code",
   "execution_count": 21,
   "id": "e3cd6f19",
   "metadata": {},
   "outputs": [
    {
     "data": {
      "text/plain": [
       "False"
      ]
     },
     "execution_count": 21,
     "metadata": {},
     "output_type": "execute_result"
    }
   ],
   "source": [
    "game_paused = True\n",
    "not game_paused"
   ]
  },
  {
   "cell_type": "code",
   "execution_count": 1,
   "id": "14b58445",
   "metadata": {},
   "outputs": [],
   "source": [
    "screen_active = True\n",
    "game_paused = False\n",
    "game_active = screen_active and not game_paused\n",
    "#如果屏幕是激活的(screen active=True)，且游戏没有被暂停(game paused=False)，那么游戏被视为是激活的(game active=True)\n",
    "\n",
    "#打小括号()是提高优先级的方式   ()优先级最高 大于乘方大于乘除大于加减\n",
    "#但是not本身的优先级就高于and，所以这里无需括号\n",
    "\n",
    "can_edit = admin_user or owner_usen\n",
    "#如果用户既不是管理员(admin_user=False)也不是所有者(owner_user=False)，那么就不能编辑(can_edit = False)"
   ]
  },
  {
   "cell_type": "markdown",
   "id": "f2d2c7d4",
   "metadata": {},
   "source": [
    "### 练习\n",
    "编写条件测试"
   ]
  },
  {
   "cell_type": "code",
   "execution_count": 36,
   "id": "53fc4f99",
   "metadata": {},
   "outputs": [
    {
     "name": "stdout",
     "output_type": "stream",
     "text": [
      "False\n",
      "True\n"
     ]
    }
   ],
   "source": [
    "print('red' == 'Red')\n",
    "print('you' != 'me')"
   ]
  },
  {
   "cell_type": "code",
   "execution_count": 12,
   "id": "d5a92d99",
   "metadata": {},
   "outputs": [
    {
     "name": "stdout",
     "output_type": "stream",
     "text": [
      "Is 'red' in colors? I predict true.\n",
      "True\n",
      "\n",
      "Is 'green' not in colors? I predict false.\n",
      "False\n",
      "\n",
      "Is 'brown' in colors? I predict false.\n",
      "False\n",
      "\n",
      "Is 'white' not in colors? I predict true.\n",
      "True\n",
      "\n",
      "Are 'red' and 'blue' in colors? I predict true.\n",
      "True\n",
      "\n",
      "Are 'red' and 'black' in colors? I predict false.\n",
      "False\n"
     ]
    }
   ],
   "source": [
    "colors=['red','blue','yellow','green']\n",
    "print(\"Is 'red' in colors? I predict true.\")\n",
    "print('red' in colors)\n",
    "\n",
    "print(\"\\nIs 'green' not in colors? I predict false.\")\n",
    "print('green' not in colors)\n",
    "\n",
    "print(\"\\nIs 'brown' in colors? I predict false.\")\n",
    "print('brown' in colors)\n",
    "\n",
    "print(\"\\nIs 'white' not in colors? I predict true.\")\n",
    "print('white' not in colors)\n",
    "\n",
    "print(\"\\nAre 'red' and 'blue' in colors? I predict true.\")\n",
    "print('red' and 'blue' in colors)\n",
    "\n",
    "print(\"\\nAre 'red' and 'black' in colors? I predict false.\")\n",
    "print('red' and 'black' in colors)"
   ]
  },
  {
   "cell_type": "code",
   "execution_count": 3,
   "id": "26f32db6",
   "metadata": {},
   "outputs": [
    {
     "name": "stdout",
     "output_type": "stream",
     "text": [
      "Is gender == 'female'? I predict True.\n",
      "True\n",
      "\n",
      "Is gender == 'male'? I predict False.\n",
      "False\n",
      "\n",
      "Is gender != 'male'? I predict true.\n",
      "True\n",
      "\n",
      "Is gender != 'female'? I predict False.\n",
      "False\n"
     ]
    }
   ],
   "source": [
    "gender = 'female'\n",
    "print(\"Is gender == 'female'? I predict True.\")\n",
    "print(gender == 'female')\n",
    "print(\"\\nIs gender == 'male'? I predict False.\")\n",
    "print(gender == 'male')\n",
    "print(\"\\nIs gender != 'male'? I predict true.\")\n",
    "print(gender != 'male')\n",
    "print(\"\\nIs gender != 'female'? I predict False.\")\n",
    "print(gender != 'female')"
   ]
  },
  {
   "cell_type": "code",
   "execution_count": 14,
   "id": "3c39ed2d",
   "metadata": {},
   "outputs": [
    {
     "name": "stdout",
     "output_type": "stream",
     "text": [
      "True\n",
      "False\n"
     ]
    }
   ],
   "source": [
    "sky = 'moon'\n",
    "ground = 'leaf'\n",
    "print(sky != ground)\n",
    "print(sky == ground)"
   ]
  },
  {
   "cell_type": "code",
   "execution_count": 17,
   "id": "47b19dab",
   "metadata": {},
   "outputs": [
    {
     "name": "stdout",
     "output_type": "stream",
     "text": [
      "True\n",
      "False\n"
     ]
    }
   ],
   "source": [
    "boy = 'Cascades'\n",
    "print(boy.lower() == 'cascades')\n",
    "print(boy.lower() == 'Cascades')"
   ]
  },
  {
   "cell_type": "code",
   "execution_count": 21,
   "id": "4b9af69c",
   "metadata": {},
   "outputs": [
    {
     "name": "stdout",
     "output_type": "stream",
     "text": [
      "True\n",
      "False\n",
      "False\n",
      "True\n",
      "True\n",
      "False\n"
     ]
    }
   ],
   "source": [
    "rk = 3\n",
    "print(rk > 1)\n",
    "print(rk >= 5)\n",
    "print(rk == 81)\n",
    "print(rk <= 3)\n",
    "print(rk <= 100 or rk > 78)\n",
    "print(rk != 100 and rk < 1)"
   ]
  },
  {
   "cell_type": "markdown",
   "id": "ee369e75",
   "metadata": {},
   "source": [
    "## IF语句"
   ]
  },
  {
   "cell_type": "markdown",
   "id": "5a442f4e",
   "metadata": {},
   "source": [
    "### 简单的if 语句"
   ]
  },
  {
   "cell_type": "code",
   "execution_count": 45,
   "id": "97b6d85a",
   "metadata": {},
   "outputs": [
    {
     "name": "stdout",
     "output_type": "stream",
     "text": [
      "You are old enough to vote!\n",
      "Have you registered to vote yet?\n"
     ]
    }
   ],
   "source": [
    "age = 19\n",
    "if age >= 18:\n",
    "    print(\"You are old enough to vote!\")\n",
    "    print(\"Have you registered to vote yet?\")"
   ]
  },
  {
   "cell_type": "markdown",
   "id": "c2ece1d7",
   "metadata": {},
   "source": [
    "### if-else语句"
   ]
  },
  {
   "cell_type": "code",
   "execution_count": 46,
   "id": "30f15d0b",
   "metadata": {},
   "outputs": [
    {
     "name": "stdout",
     "output_type": "stream",
     "text": [
      "Sorry, you are too young to vote.\n",
      "Please register to vote as soon as you turn 18!\n"
     ]
    }
   ],
   "source": [
    "#总是执行两个操作中的一个\n",
    "\n",
    "age = 17\n",
    "if age >= 18:\n",
    "    print(\"You are old enough to vote!\")\n",
    "    print(\"Have you registered to vote yet?\")\n",
    "else:\n",
    "    print(\"Sorry, you are too young to vote.\")\n",
    "    print(\"Please register to vote as soon as you turn 18!\")"
   ]
  },
  {
   "cell_type": "markdown",
   "id": "cd1c0d4c",
   "metadata": {},
   "source": [
    "### if-elif-else 结构"
   ]
  },
  {
   "cell_type": "code",
   "execution_count": 47,
   "id": "2467f8d2",
   "metadata": {},
   "outputs": [
    {
     "name": "stdout",
     "output_type": "stream",
     "text": [
      "Your admission cost is $25.\n"
     ]
    }
   ],
   "source": [
    "# 需要考虑的情形超过两个\n",
    "\n",
    "age = 12\n",
    "\n",
    "if age < 4:\n",
    "    print(\"Your admission cost is $0.\")\n",
    "elif age < 18:\n",
    "    print(\"Your admission cost is $25.\")\n",
    "else:\n",
    "    print(\"Your admission cost is $40.\")"
   ]
  },
  {
   "cell_type": "code",
   "execution_count": 49,
   "id": "df46a62c",
   "metadata": {},
   "outputs": [
    {
     "name": "stdout",
     "output_type": "stream",
     "text": [
      "Your admission cost is $40.\n"
     ]
    }
   ],
   "source": [
    "age = 52\n",
    "if age < 4:\n",
    "    price = 0\n",
    "elif age < 18:\n",
    "    price = 25\n",
    "else:\n",
    "    price = 40\n",
    "\n",
    "print(f\"Your admission cost is ${price}.\")\n"
   ]
  },
  {
   "cell_type": "markdown",
   "id": "a1ab0466",
   "metadata": {},
   "source": [
    "### 使用多个elif 代码块"
   ]
  },
  {
   "cell_type": "code",
   "execution_count": 50,
   "id": "3e8b18bb",
   "metadata": {},
   "outputs": [
    {
     "name": "stdout",
     "output_type": "stream",
     "text": [
      "Your admission cost is $40.\n"
     ]
    }
   ],
   "source": [
    "age = 55\n",
    "if age < 4:\n",
    "    price = 0\n",
    "elif age < 18:\n",
    "    price = 25\n",
    "elif age < 65:\n",
    "    price = 40\n",
    "else:\n",
    "    price = 20\n",
    "\n",
    "print(f\"Your admission cost is ${price}.\")"
   ]
  },
  {
   "cell_type": "markdown",
   "id": "d6edc2ff",
   "metadata": {},
   "source": [
    "### 省略else 代码块"
   ]
  },
  {
   "cell_type": "code",
   "execution_count": 56,
   "id": "599616b6",
   "metadata": {},
   "outputs": [
    {
     "name": "stdout",
     "output_type": "stream",
     "text": [
      "Your admission cost is $25.\n"
     ]
    }
   ],
   "source": [
    "age = 12\n",
    "if age < 4:\n",
    "    price = 0\n",
    "elif age < 18:\n",
    "    price = 25\n",
    "elif age < 65:\n",
    "    price = 40\n",
    "elif age >= 65:\n",
    "    price = 20\n",
    "\n",
    "print(f\"Your admission cost is ${price}.\")"
   ]
  },
  {
   "cell_type": "markdown",
   "id": "2e840e86",
   "metadata": {},
   "source": [
    "### 测试多个条件"
   ]
  },
  {
   "cell_type": "code",
   "execution_count": 54,
   "id": "0ffb7c46",
   "metadata": {},
   "outputs": [
    {
     "name": "stdout",
     "output_type": "stream",
     "text": [
      "Adding mushrooms.\n",
      "Adding extra cheese.\n",
      "\n",
      "Finished making your pizza!\n"
     ]
    }
   ],
   "source": [
    "#但有的情况并不适合用elif，只能反复采用if，否则容易造成混乱\n",
    "\n",
    "requested_toppings = ['mushrooms','extra cheese']\n",
    "if 'mushrooms' in requested_toppings:\n",
    "    print(\"Adding mushrooms.\")\n",
    "if 'pepperoni' in requested_toppings:\n",
    "    print(\"Adding pepperoni.\")\n",
    "if 'extra cheese' in requested_toppings:\n",
    "    print(\"Adding extra cheese.\")\n",
    "                      \n",
    "print(\"\\nFinished making your pizza!\")"
   ]
  },
  {
   "cell_type": "code",
   "execution_count": 22,
   "id": "5f7cee9d",
   "metadata": {},
   "outputs": [
    {
     "name": "stdout",
     "output_type": "stream",
     "text": [
      "Adding mushrooms.\n",
      "\n",
      "Finished making your pizza!\n"
     ]
    }
   ],
   "source": [
    "requested_toppings = ['mushrooms', 'extra cheese']\n",
    "if 'mushrooms' in requested_toppings:\n",
    "    print(\"Adding mushrooms.\")\n",
    "elif 'pepperoni' in requested_toppings: \n",
    "    print(\"Adding pepperoni.\")\n",
    "elif 'extra cheese' in requested_toppings:\n",
    "    print(\"Adding extra cheese.\")\n",
    "print(\"\\nFinished making your pizza!\")"
   ]
  },
  {
   "cell_type": "markdown",
   "id": "f6f77ee4",
   "metadata": {},
   "source": [
    "### 练习"
   ]
  },
  {
   "cell_type": "code",
   "execution_count": 2,
   "id": "bbf90886",
   "metadata": {},
   "outputs": [
    {
     "name": "stdout",
     "output_type": "stream",
     "text": [
      "You got 5 points!\n"
     ]
    }
   ],
   "source": [
    "alien_color='green'\n",
    "if alien_color == 'green':\n",
    "    print(\"You got 5 points!\")"
   ]
  },
  {
   "cell_type": "code",
   "execution_count": 3,
   "id": "0d693e10",
   "metadata": {},
   "outputs": [],
   "source": [
    "alien_color='red'\n",
    "if alien_color == 'green':\n",
    "    print(\"You got 5 points!\")"
   ]
  },
  {
   "cell_type": "code",
   "execution_count": 4,
   "id": "470f05e0",
   "metadata": {},
   "outputs": [
    {
     "name": "stdout",
     "output_type": "stream",
     "text": [
      "You got 10 points!\n"
     ]
    }
   ],
   "source": [
    "alien_color='red'\n",
    "if alien_color == 'green':\n",
    "    print(\"You got 5 points!\")\n",
    "else:\n",
    "    print(\"You got 10 points!\")"
   ]
  },
  {
   "cell_type": "code",
   "execution_count": 5,
   "id": "f4ae0a09",
   "metadata": {},
   "outputs": [
    {
     "name": "stdout",
     "output_type": "stream",
     "text": [
      "You got 5 points!\n"
     ]
    }
   ],
   "source": [
    "alien_color='green'\n",
    "if alien_color == 'green':\n",
    "    print(\"You got 5 points!\")\n",
    "else:\n",
    "    print(\"You got 10 points!\")"
   ]
  },
  {
   "cell_type": "code",
   "execution_count": 6,
   "id": "0194472d",
   "metadata": {},
   "outputs": [
    {
     "name": "stdout",
     "output_type": "stream",
     "text": [
      "You got 5 points!\n"
     ]
    }
   ],
   "source": [
    "alien_color='green'\n",
    "if alien_color == 'green':\n",
    "    print(\"You got 5 points!\")\n",
    "elif alien_color == 'yellow':\n",
    "    print(\"You got 10 points!\")\n",
    "else:\n",
    "    print(\"You got 15 points!\")"
   ]
  },
  {
   "cell_type": "code",
   "execution_count": 7,
   "id": "220661c0",
   "metadata": {},
   "outputs": [
    {
     "name": "stdout",
     "output_type": "stream",
     "text": [
      "You got 10 points!\n"
     ]
    }
   ],
   "source": [
    "alien_color='yellow'\n",
    "if alien_color == 'green':\n",
    "    print(\"You got 5 points!\")\n",
    "elif alien_color == 'yellow':\n",
    "    print(\"You got 10 points!\")\n",
    "else:\n",
    "    print(\"You got 15 points!\")"
   ]
  },
  {
   "cell_type": "code",
   "execution_count": 8,
   "id": "fde782c0",
   "metadata": {},
   "outputs": [
    {
     "name": "stdout",
     "output_type": "stream",
     "text": [
      "You got 15 points!\n"
     ]
    }
   ],
   "source": [
    "alien_color='red'\n",
    "if alien_color == 'green':\n",
    "    print(\"You got 5 points!\")\n",
    "elif alien_color == 'yellow':\n",
    "    print(\"You got 10 points!\")\n",
    "else:\n",
    "    print(\"You got 15 points!\")"
   ]
  },
  {
   "cell_type": "code",
   "execution_count": 10,
   "id": "3a02dcce",
   "metadata": {},
   "outputs": [
    {
     "name": "stdout",
     "output_type": "stream",
     "text": [
      "He/She is an adult.\n"
     ]
    }
   ],
   "source": [
    "age = 23\n",
    "if age < 2:\n",
    "    print(\"He/She is an infant.\")\n",
    "elif age < 4:\n",
    "    print(\"He/She is a toddler.\")\n",
    "elif age < 13:\n",
    "    print(\"He/She is a child.\")\n",
    "elif age < 20:\n",
    "    print(\"He/She is a teenager.\")\n",
    "elif age < 65:\n",
    "    print(\"He/She is an adult.\")\n",
    "else:\n",
    "    print(\"He/She is an old.\")"
   ]
  },
  {
   "cell_type": "code",
   "execution_count": 11,
   "id": "aff79790",
   "metadata": {},
   "outputs": [
    {
     "name": "stdout",
     "output_type": "stream",
     "text": [
      "You really like apples!\n",
      "You really like peach!\n",
      "You really like durian!\n"
     ]
    }
   ],
   "source": [
    "favorite_fruits=['apple','peach','durian']\n",
    "if 'cherry' in favorite_fruits:\n",
    "    print(\"You really like cherry!\")\n",
    "if 'apple' in favorite_fruits:\n",
    "    print(\"You really like apples!\")\n",
    "if 'peach' in favorite_fruits:\n",
    "    print(\"You really like peach!\")\n",
    "if 'banana' in favorite_fruits:\n",
    "    print(\"You really like bananas!\")\n",
    "if 'durian' in favorite_fruits:\n",
    "    print(\"You really like durian!\")"
   ]
  },
  {
   "cell_type": "markdown",
   "id": "eaac634b",
   "metadata": {},
   "source": [
    "## 使用if 语句处理列表"
   ]
  },
  {
   "cell_type": "markdown",
   "id": "5bf708ad",
   "metadata": {},
   "source": [
    "### 检查特殊元素"
   ]
  },
  {
   "cell_type": "code",
   "execution_count": 23,
   "id": "e7014622",
   "metadata": {},
   "outputs": [
    {
     "name": "stdout",
     "output_type": "stream",
     "text": [
      "Adding mushrooms.\n",
      "Adding green peppers.\n",
      "Adding extra cheese.\n",
      "\n",
      "Finished making your pizza!\n"
     ]
    }
   ],
   "source": [
    "requested_toppings = ['mushrooms', 'green peppers', 'extra cheese']\n",
    "for requested_top in requested_toppings:\n",
    "    print(f\"Adding {requested_top}.\")\n",
    "print(\"\\nFinished making your pizza!\")"
   ]
  },
  {
   "cell_type": "code",
   "execution_count": 25,
   "id": "c599ce9b",
   "metadata": {},
   "outputs": [
    {
     "name": "stdout",
     "output_type": "stream",
     "text": [
      "Adding mushrooms.\n",
      "Sorry, we are out of green peppers right now.\n",
      "Adding extra cheese.\n",
      "\n",
      "Finished making your pizza!\n"
     ]
    }
   ],
   "source": [
    "requested_toppings = ['mushrooms', 'green peppers', 'extra cheese']\n",
    "for requested_top in requested_toppings:\n",
    "    if requested_top == 'green peppers':\n",
    "        print(\"Sorry, we are out of green peppers right now.\")\n",
    "    else:\n",
    "        print(f\"Adding {requested_top}.\")\n",
    "print(\"\\nFinished making your pizza!\")"
   ]
  },
  {
   "cell_type": "markdown",
   "id": "2fe1038b",
   "metadata": {},
   "source": [
    "### 确定列表不是空的\n",
    "运行for 循环前确定列表是否为空很重要"
   ]
  },
  {
   "cell_type": "markdown",
   "id": "41460a37",
   "metadata": {},
   "source": [
    "#将数值0、空值 None、空字符串\"\"、空列表[ ] 、空元组()、空字典{}用作条件表达式时,python 都会返回False。\n",
    "\n",
    "我们可以将列表名用作条件表达式，这个表达式只有当列表至少包含一个元素时才为 True"
   ]
  },
  {
   "cell_type": "code",
   "execution_count": 26,
   "id": "ee5a5299",
   "metadata": {},
   "outputs": [
    {
     "name": "stdout",
     "output_type": "stream",
     "text": [
      "Are you sure you want a plain pizza?\n"
     ]
    }
   ],
   "source": [
    "requested_toppings = []\n",
    "if requested_toppings:\n",
    "    for requested_top in requested_toppings:\n",
    "        print(f\"Adding {requested_top}.\")\n",
    "        print(\"\\nFinished making your pizza!\")\n",
    "else:\n",
    "    print(\"Are you sure you want a plain pizza?\")\n",
    "    \n",
    "#在if 语句中将列表名用作条件表达式时，Python将在列表至少包含一个元素时返回True ，并在列表为空时返回False 。"
   ]
  },
  {
   "cell_type": "markdown",
   "id": "7be4877f",
   "metadata": {},
   "source": [
    "### 使用多个列表"
   ]
  },
  {
   "cell_type": "code",
   "execution_count": 2,
   "id": "a2d17515",
   "metadata": {},
   "outputs": [
    {
     "name": "stdout",
     "output_type": "stream",
     "text": [
      "Adding mushrooms.\n",
      "Sorry, we don't have french fries.\n",
      "Adding extra cheese.\n",
      "\n",
      "Finished making your pizza!\n"
     ]
    }
   ],
   "source": [
    "available_toppings = ['mushrooms', 'olives', 'green peppers','pepperoni', 'pineapple', 'extra cheese']\n",
    "requested_toppings = ['mushrooms', 'french fries', 'extra cheese']\n",
    "for requested_top in requested_toppings:\n",
    "    if requested_top in available_toppings:\n",
    "        print(f\"Adding {requested_top}.\")\n",
    "    else:\n",
    "        print(f\"Sorry, we don't have {requested_top}.\")\n",
    "print(\"\\nFinished making your pizza!\")"
   ]
  },
  {
   "cell_type": "markdown",
   "id": "eb8361cf",
   "metadata": {},
   "source": [
    "### 练习"
   ]
  },
  {
   "cell_type": "code",
   "execution_count": 7,
   "id": "1d5a9a48",
   "metadata": {},
   "outputs": [
    {
     "name": "stdout",
     "output_type": "stream",
     "text": [
      "Hello wr, thank you for logging in again.\n",
      "Hello lc, thank you for logging in again.\n",
      "Hello admin, would you like to see a status report?\n",
      "Hello bo, thank you for logging in again.\n",
      "Hello vi, thank you for logging in again.\n"
     ]
    }
   ],
   "source": [
    "name_users = ['wr','lc','admin','bo','vi']\n",
    "for name in name_users:\n",
    "    if name == 'admin':\n",
    "        print(\"Hello admin, would you like to see a status report?\")\n",
    "    else:\n",
    "        print(f\"Hello {name}, thank you for logging in again.\")"
   ]
  },
  {
   "cell_type": "code",
   "execution_count": 2,
   "id": "5eef6252",
   "metadata": {},
   "outputs": [
    {
     "name": "stdout",
     "output_type": "stream",
     "text": [
      "We need to find some users!\n"
     ]
    }
   ],
   "source": [
    "name_users = []\n",
    "if name_users:\n",
    "    for name in name_users:\n",
    "        if name == 'admin':\n",
    "            print(\"Hello admin, would you like to see a status report?\")\n",
    "        else:\n",
    "            print(f\"Hello {name}, thank you for logging in again.\")\n",
    "else:\n",
    "    print(\"We need to find some users!\")"
   ]
  },
  {
   "cell_type": "code",
   "execution_count": 2,
   "id": "23d8d0bb",
   "metadata": {},
   "outputs": [
    {
     "name": "stdout",
     "output_type": "stream",
     "text": [
      "已被使用，请输入除Amy之外的用户名。\n",
      "已被使用，请输入除Rose之外的用户名。\n",
      "Linda未被使用，可以使用\n",
      "Emily未被使用，可以使用\n",
      "Sandra未被使用，可以使用\n"
     ]
    }
   ],
   "source": [
    "current_users=['Roy','Jack','Mike','Amy','Rose']\n",
    "new_users=['Amy','Rose','Linda','Emily','Sandra']\n",
    "for new in new_users:\n",
    "    if new in current_users or new.lower() in current_users:\n",
    "        print(f\"已被使用，请输入除{new}之外的用户名。\")\n",
    "    else:\n",
    "        print(f\"{new}未被使用，可以使用\")"
   ]
  },
  {
   "cell_type": "code",
   "execution_count": 1,
   "id": "823306d1",
   "metadata": {},
   "outputs": [
    {
     "name": "stdout",
     "output_type": "stream",
     "text": [
      "1st\n",
      "2nd\n",
      "3rd\n",
      "4th\n",
      "5th\n",
      "6th\n",
      "7th\n",
      "8th\n",
      "9th\n"
     ]
    }
   ],
   "source": [
    "numbers=[1,2,3,4,5,6,7,8,9]\n",
    "for number in numbers:\n",
    "    if number == 1:\n",
    "        print(\"1st\")\n",
    "    elif number == 2:\n",
    "        print(\"2nd\")\n",
    "    elif number == 3:\n",
    "        print(\"3rd\")\n",
    "    else:\n",
    "        print(f\"{number}th\")"
   ]
  },
  {
   "cell_type": "markdown",
   "id": "8d81c241",
   "metadata": {},
   "source": [
    "## 设置if 语句的格式"
   ]
  },
  {
   "cell_type": "markdown",
   "id": "22e35aba",
   "metadata": {},
   "source": [
    "在条件测试的格式设置方面，PEP 8提供的唯一建议是，在诸如== 、>= 和<= 等比较运算符两边各添加一个空格。\n",
    "\n",
    "\"if age < 4:\"比\"if age<4:\"更可读"
   ]
  }
 ],
 "metadata": {
  "kernelspec": {
   "display_name": "Python 3 (ipykernel)",
   "language": "python",
   "name": "python3"
  },
  "language_info": {
   "codemirror_mode": {
    "name": "ipython",
    "version": 3
   },
   "file_extension": ".py",
   "mimetype": "text/x-python",
   "name": "python",
   "nbconvert_exporter": "python",
   "pygments_lexer": "ipython3",
   "version": "3.11.5"
  },
  "toc": {
   "base_numbering": 1,
   "nav_menu": {},
   "number_sections": true,
   "sideBar": true,
   "skip_h1_title": false,
   "title_cell": "Table of Contents",
   "title_sidebar": "Contents",
   "toc_cell": false,
   "toc_position": {
    "height": "calc(100% - 180px)",
    "left": "10px",
    "top": "150px",
    "width": "246.396px"
   },
   "toc_section_display": true,
   "toc_window_display": false
  }
 },
 "nbformat": 4,
 "nbformat_minor": 5
}
