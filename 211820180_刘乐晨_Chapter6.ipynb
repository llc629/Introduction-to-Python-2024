{
 "cells": [
  {
   "cell_type": "markdown",
   "id": "2c40de32-a7a0-404b-b2a9-abdfaf628526",
   "metadata": {},
   "source": [
    "# 字典"
   ]
  },
  {
   "cell_type": "markdown",
   "id": "929b8b49-8dea-4208-9ca5-4687ef1a2ace",
   "metadata": {},
   "source": [
    "## 一个简单的字典"
   ]
  },
  {
   "cell_type": "code",
   "execution_count": 1,
   "id": "07a9bcb1-f5c5-4945-8c09-e2699ade02a1",
   "metadata": {},
   "outputs": [
    {
     "name": "stdout",
     "output_type": "stream",
     "text": [
      "green\n",
      "5\n"
     ]
    }
   ],
   "source": [
    "alien_0 = {'color': 'green', 'points': 5}\n",
    "print(alien_0['color'])\n",
    "print(alien_0['points'])"
   ]
  },
  {
   "cell_type": "markdown",
   "id": "5482a699-eff1-49c2-ad73-0aaf128304bd",
   "metadata": {},
   "source": [
    "## 使用字典\n",
    "字典是一系列键值对——‘key’：‘value’。\n",
    "每个键都与一个值相关联，可使用键来访\n",
    "问相关联的值\n",
    "。与键相关联的值可以是数、字符串、列表乃字典。可以把\r\n",
    "任何Python对象用作字典中的值。"
   ]
  },
  {
   "cell_type": "markdown",
   "id": "1949be84-dc08-43d7-ace7-a0b6054b42c7",
   "metadata": {},
   "source": [
    "### 访问字典中的值"
   ]
  },
  {
   "cell_type": "code",
   "execution_count": 3,
   "id": "23551eaa-0c56-42cd-8b9f-857dc6e75a27",
   "metadata": {},
   "outputs": [
    {
     "name": "stdout",
     "output_type": "stream",
     "text": [
      "green\n"
     ]
    }
   ],
   "source": [
    "alien_0 = {'color': 'green'}\n",
    "print(alien_0['color'])\n",
    "#定义字典的时候用大括号，键值之间用冒号，不同键值之间用逗号\n",
    "#访问字典的时候用的是中括号"
   ]
  },
  {
   "cell_type": "code",
   "execution_count": 4,
   "id": "07fba3de-4308-4fae-ab43-2d3a0a85ba09",
   "metadata": {},
   "outputs": [
    {
     "name": "stdout",
     "output_type": "stream",
     "text": [
      "You just earned 5 points!\n"
     ]
    }
   ],
   "source": [
    "alien_0 = {'color': 'green', 'points': 5}\n",
    "new_points = alien_0['points']\n",
    "print(f\"You just earned {new_points} points!\")"
   ]
  },
  {
   "cell_type": "markdown",
   "id": "aef24e1d-6016-4ee2-9fc4-0f39934729ca",
   "metadata": {},
   "source": [
    "### 添加键值对"
   ]
  },
  {
   "cell_type": "code",
   "execution_count": 6,
   "id": "1e17a929-339e-43f8-9243-68a891d07dba",
   "metadata": {},
   "outputs": [
    {
     "name": "stdout",
     "output_type": "stream",
     "text": [
      "{'color': 'green', 'points': 5}\n",
      "{'color': 'green', 'points': 5, 'x_position': 0, 'y_position': 25}\n"
     ]
    }
   ],
   "source": [
    "alien_0 = {'color': 'green', 'points': 5}\n",
    "print(alien_0)\n",
    "\n",
    "alien_0['x_position'] = 0\n",
    "alien_0['y_position'] = 25\n",
    "print(alien_0)"
   ]
  },
  {
   "cell_type": "markdown",
   "id": "e1f0191d-4f78-4b10-9bd5-c99f360906e7",
   "metadata": {},
   "source": [
    "### 先创建一个空字典"
   ]
  },
  {
   "cell_type": "code",
   "execution_count": 42,
   "id": "76e2e65d-0359-4ce0-ab44-7c73246134f4",
   "metadata": {},
   "outputs": [
    {
     "name": "stdout",
     "output_type": "stream",
     "text": [
      "{'color': 'green', 'points': 5}\n"
     ]
    }
   ],
   "source": [
    "alien_0 = {}\n",
    "alien_0['color'] = 'green'\n",
    "alien_0['points'] = 5\n",
    "print(alien_0)"
   ]
  },
  {
   "cell_type": "code",
   "execution_count": 12,
   "id": "bb1b1175-bfa6-455b-8cde-9cc720423ab6",
   "metadata": {},
   "outputs": [
    {
     "name": "stdout",
     "output_type": "stream",
     "text": [
      "['green', 5]\n"
     ]
    }
   ],
   "source": [
    "#与列表相对比\n",
    "#列表要添加元素，原先必须有任意的值，不能为空；必须是相邻的逐个添加；利用序列号索引\n",
    "alien_0 = [9,8]\n",
    "alien_0[0] = 'green'\n",
    "alien_0[1] = 5\n",
    "print(alien_0)"
   ]
  },
  {
   "cell_type": "markdown",
   "id": "f74f8dd9-c658-4418-9d1e-4a0b75a2d381",
   "metadata": {},
   "source": [
    "### 修改字典中的值"
   ]
  },
  {
   "cell_type": "code",
   "execution_count": 43,
   "id": "7e89189e-f9e1-41a1-8131-b7219622e8bf",
   "metadata": {
    "execution": {
     "iopub.execute_input": "2024-04-07T06:20:29.488864Z",
     "iopub.status.busy": "2024-04-07T06:20:29.488864Z",
     "iopub.status.idle": "2024-04-07T06:20:29.506584Z",
     "shell.execute_reply": "2024-04-07T06:20:29.503182Z",
     "shell.execute_reply.started": "2024-04-07T06:20:29.488864Z"
    }
   },
   "outputs": [
    {
     "name": "stdout",
     "output_type": "stream",
     "text": [
      "It is green.\n",
      "It is now yellow.\n"
     ]
    }
   ],
   "source": [
    "alien = {'color':'green'}\n",
    "print(f\"It is {alien['color']}.\")\n",
    "\n",
    "alien['color'] = 'yellow'\n",
    "print(f\"It is now {alien['color']}.\")"
   ]
  },
  {
   "cell_type": "code",
   "execution_count": 44,
   "id": "56a31e13-03ec-40ae-944f-2263f57ff178",
   "metadata": {
    "execution": {
     "iopub.execute_input": "2024-04-07T06:30:09.964643Z",
     "iopub.status.busy": "2024-04-07T06:30:09.964643Z",
     "iopub.status.idle": "2024-04-07T06:30:09.980038Z",
     "shell.execute_reply": "2024-04-07T06:30:09.978512Z",
     "shell.execute_reply.started": "2024-04-07T06:30:09.964643Z"
    }
   },
   "outputs": [
    {
     "name": "stdout",
     "output_type": "stream",
     "text": [
      "Original position: 0\n",
      "New position: 2\n"
     ]
    }
   ],
   "source": [
    "alien_0 = {'x_position': 0, 'y_position': 25, 'speed': 'medium'}\n",
    "print(f\"Original position: {alien_0['x_position']}\")\n",
    "#向右移动外星人。\n",
    "#根据当前速度确定将外星人向右移动多远。\n",
    "if alien_0['speed'] == 'slow':\n",
    "    x_increment = 1\n",
    "elif alien_0['speed'] == 'medium':\n",
    "    x_increment = 2\n",
    "else:\n",
    "    x_increment = 3\n",
    "#新位置为旧位置加上移动距离。\n",
    "alien_0['x_position'] = alien_0['x_position'] + x_increment\n",
    "print(f\"New position: {alien_0['x_position']}\")"
   ]
  },
  {
   "cell_type": "code",
   "execution_count": 46,
   "id": "526ea4b5-d081-4d64-9499-a9e6c3b3b819",
   "metadata": {
    "execution": {
     "iopub.execute_input": "2024-04-07T06:34:52.757194Z",
     "iopub.status.busy": "2024-04-07T06:34:52.756677Z",
     "iopub.status.idle": "2024-04-07T06:34:52.771859Z",
     "shell.execute_reply": "2024-04-07T06:34:52.769043Z",
     "shell.execute_reply.started": "2024-04-07T06:34:52.757194Z"
    }
   },
   "outputs": [
    {
     "name": "stdout",
     "output_type": "stream",
     "text": [
      "Original position: 0\n",
      "New position: 3\n"
     ]
    }
   ],
   "source": [
    "alien_0 = {'x_position': 0, 'y_position': 25, 'speed': 'medium'}\n",
    "print(f\"Original position: {alien_0['x_position']}\")\n",
    "\n",
    "alien_0['speed'] = 'fast'\n",
    "\n",
    "if alien_0['speed'] == 'slow':\n",
    "    x_increment = 1\n",
    "elif alien_0['speed'] == 'medium':\n",
    "    x_increment = 2\n",
    "else:\n",
    "    x_increment = 3\n",
    "\n",
    "alien_0['x_position'] = alien_0['x_position'] + x_increment\n",
    "print(f\"New position: {alien_0['x_position']}\")"
   ]
  },
  {
   "cell_type": "markdown",
   "id": "695fc0f1-bba8-458b-a64e-3a9949014639",
   "metadata": {},
   "source": [
    "### 删除键值对"
   ]
  },
  {
   "cell_type": "code",
   "execution_count": 47,
   "id": "eb178233-6e72-4991-ad2c-18ce710a846a",
   "metadata": {
    "execution": {
     "iopub.execute_input": "2024-04-07T06:35:51.414943Z",
     "iopub.status.busy": "2024-04-07T06:35:51.414943Z",
     "iopub.status.idle": "2024-04-07T06:35:51.428695Z",
     "shell.execute_reply": "2024-04-07T06:35:51.425903Z",
     "shell.execute_reply.started": "2024-04-07T06:35:51.414943Z"
    }
   },
   "outputs": [
    {
     "name": "stdout",
     "output_type": "stream",
     "text": [
      "{'color': 'green', 'points': 5}\n",
      "{'color': 'green'}\n"
     ]
    }
   ],
   "source": [
    "alien_0 = {'color': 'green', 'points': 5}\n",
    "print(alien_0)\n",
    "\n",
    "del alien_0['points']\n",
    "print(alien_0)"
   ]
  },
  {
   "cell_type": "markdown",
   "id": "527d8c8b-f24b-42c7-b890-08aba5c01d29",
   "metadata": {},
   "source": [
    "### 由类似对象组成的字典"
   ]
  },
  {
   "cell_type": "code",
   "execution_count": 73,
   "id": "79b04100-7a52-4799-9b70-ad58c0620b45",
   "metadata": {
    "execution": {
     "iopub.execute_input": "2024-04-07T07:35:03.443905Z",
     "iopub.status.busy": "2024-04-07T07:35:03.443905Z",
     "iopub.status.idle": "2024-04-07T07:35:03.462052Z",
     "shell.execute_reply": "2024-04-07T07:35:03.459318Z",
     "shell.execute_reply.started": "2024-04-07T07:35:03.443905Z"
    }
   },
   "outputs": [
    {
     "name": "stdout",
     "output_type": "stream",
     "text": [
      "Sarah's favorite language is C.\n",
      "Python\n"
     ]
    }
   ],
   "source": [
    "#确定需要使用多行来定义字典时，要在输入左花括号后按回车键。下一行缩进四个空格，指定第一个键值对后加一个逗号。\n",
    "#此后再按回车键时，将自动缩进后续键值对，且缩进量与第一个键值对相同。\n",
    "favo= {\n",
    "    'jen': 'python',\n",
    "    'sarah': 'c',\n",
    "    'edward': 'ruby',\n",
    "    'phil': 'python',\n",
    "    }\n",
    "#定义好字典后，在最后一个键值对的下一行添加一个右花括号，并缩进四个空格\n",
    "#一种不错的做法是，在最后一个键值对后面也加上逗号，为以后在下一行添加键值对做好准备\n",
    "\n",
    "language = favo['sarah'].title()\n",
    "print(f\"Sarah's favorite language is {language}.\")\n",
    "language2 = favo['phil'].title()\n",
    "print(language2)"
   ]
  },
  {
   "cell_type": "markdown",
   "id": "ac75572b-0f02-4321-b499-30ee11e57094",
   "metadata": {},
   "source": [
    "### 使用get() 来访问值\n",
    "如果指定的\n",
    "键不存在就会出错就字典而言，可使用方法get()在指定\n",
    "的键不存在时返回一个默认值，从而避免这样的错误。\r"
   ]
  },
  {
   "cell_type": "code",
   "execution_count": 14,
   "id": "af63ec7d-ab6d-48ca-99be-9a028a9a8cab",
   "metadata": {},
   "outputs": [
    {
     "ename": "KeyError",
     "evalue": "'points'",
     "output_type": "error",
     "traceback": [
      "\u001b[1;31m---------------------------------------------------------------------------\u001b[0m",
      "\u001b[1;31mKeyError\u001b[0m                                  Traceback (most recent call last)",
      "Cell \u001b[1;32mIn[14], line 2\u001b[0m\n\u001b[0;32m      1\u001b[0m alien_0 \u001b[38;5;241m=\u001b[39m {\u001b[38;5;124m'\u001b[39m\u001b[38;5;124mcolor\u001b[39m\u001b[38;5;124m'\u001b[39m: \u001b[38;5;124m'\u001b[39m\u001b[38;5;124mgreen\u001b[39m\u001b[38;5;124m'\u001b[39m, \u001b[38;5;124m'\u001b[39m\u001b[38;5;124mspeed\u001b[39m\u001b[38;5;124m'\u001b[39m: \u001b[38;5;124m'\u001b[39m\u001b[38;5;124mslow\u001b[39m\u001b[38;5;124m'\u001b[39m}\n\u001b[1;32m----> 2\u001b[0m point_value \u001b[38;5;241m=\u001b[39m alien_0[\u001b[38;5;124m'\u001b[39m\u001b[38;5;124mpoints\u001b[39m\u001b[38;5;124m'\u001b[39m]\n\u001b[0;32m      3\u001b[0m \u001b[38;5;28mprint\u001b[39m(point_value)\n",
      "\u001b[1;31mKeyError\u001b[0m: 'points'"
     ]
    }
   ],
   "source": [
    "alien_0 = {'color': 'green', 'speed': 'slow'}\n",
    "point_value = alien_0['points']\n",
    "print(point_value)"
   ]
  },
  {
   "cell_type": "code",
   "execution_count": 13,
   "id": "1e8fba08-546c-4553-b33a-bd4bedc85e27",
   "metadata": {},
   "outputs": [
    {
     "name": "stdout",
     "output_type": "stream",
     "text": [
      "No point value assigned.\n"
     ]
    }
   ],
   "source": [
    "#get() 的第一个参数用于指定键，必不可少；第二个参数为指定的键不存在时要返回的值，可选\n",
    "alien_0 = {'color': 'green', 'speed': 'slow'}\n",
    "point_value = alien_0.get('points', 'No point value assigned.')\n",
    "#不用方括号，用get自带的小括号\n",
    "print(point_value)"
   ]
  },
  {
   "cell_type": "code",
   "execution_count": 15,
   "id": "f24ac52a-c01b-4734-aae6-985943eae829",
   "metadata": {},
   "outputs": [
    {
     "name": "stdout",
     "output_type": "stream",
     "text": [
      "None\n"
     ]
    }
   ],
   "source": [
    "#调用get()时，如没有指定第二个参数且指定的键不存在，将返回值None。None是一个表示所需值不存在的特殊值.\n",
    "alien_0 = {'color': 'green', 'speed': 'slow'}\n",
    "point_value = alien_0.get('points')\n",
    "print(point_value)"
   ]
  },
  {
   "cell_type": "markdown",
   "id": "1feb49be-21bd-4894-b694-c56f018c26b0",
   "metadata": {},
   "source": [
    "### 练习"
   ]
  },
  {
   "cell_type": "code",
   "execution_count": 55,
   "id": "72cced61-9a8e-4917-99df-1feea99b707e",
   "metadata": {
    "execution": {
     "iopub.execute_input": "2024-04-07T06:59:51.852836Z",
     "iopub.status.busy": "2024-04-07T06:59:51.852836Z",
     "iopub.status.idle": "2024-04-07T06:59:51.870097Z",
     "shell.execute_reply": "2024-04-07T06:59:51.867908Z",
     "shell.execute_reply.started": "2024-04-07T06:59:51.852836Z"
    }
   },
   "outputs": [
    {
     "name": "stdout",
     "output_type": "stream",
     "text": [
      "Rui\n",
      "Wang\n",
      "20\n",
      "HB\n"
     ]
    }
   ],
   "source": [
    "acquaint = {'first_name':'Rui','second_name':'Wang','age':'20','city':'HB'}\n",
    "print(acquaint['first_name'])\n",
    "print(acquaint['second_name'])\n",
    "print(acquaint['age'])\n",
    "print(acquaint['city'])"
   ]
  },
  {
   "cell_type": "code",
   "execution_count": 57,
   "id": "24f7dae0-7c73-48d9-9002-77f403dcb2c4",
   "metadata": {
    "execution": {
     "iopub.execute_input": "2024-04-07T07:05:36.718318Z",
     "iopub.status.busy": "2024-04-07T07:05:36.718318Z",
     "iopub.status.idle": "2024-04-07T07:05:36.732430Z",
     "shell.execute_reply": "2024-04-07T07:05:36.730768Z",
     "shell.execute_reply.started": "2024-04-07T07:05:36.718318Z"
    }
   },
   "outputs": [
    {
     "name": "stdout",
     "output_type": "stream",
     "text": [
      "('Liu', 1)\n",
      "('Hu', 9)\n",
      "('Gu', 6)\n",
      "('Ding', 2)\n",
      "('Wu', 3)\n"
     ]
    }
   ],
   "source": [
    "like = {'Liu':1,'Hu':9,'Gu':6,'Ding':2,'Wu':3}\n",
    "for info in like.items():\n",
    "    print(info)"
   ]
  },
  {
   "cell_type": "code",
   "execution_count": 63,
   "id": "9534f352-2b67-4686-b388-323993dbf9e0",
   "metadata": {
    "execution": {
     "iopub.execute_input": "2024-04-07T07:17:20.664093Z",
     "iopub.status.busy": "2024-04-07T07:17:20.664093Z",
     "iopub.status.idle": "2024-04-07T07:17:20.680630Z",
     "shell.execute_reply": "2024-04-07T07:17:20.678384Z",
     "shell.execute_reply.started": "2024-04-07T07:17:20.664093Z"
    }
   },
   "outputs": [
    {
     "name": "stdout",
     "output_type": "stream",
     "text": [
      "变量:存储数据的标识符\n",
      "函数:用于执行特定任务的代码块\n",
      "列表:存储有序的元素集合\n",
      "字典:存储键值对\n",
      "循环:重复执行一段代码的结构\n"
     ]
    }
   ],
   "source": [
    "item = {'variable':'存储数据的标识符','function':'用于执行特定任务的代码块','list':'存储有序的元素集合','dictionary':'存储键值对','loop':'重复执行一段代码的结构'}\n",
    "print(f\"变量:{item['variable']}\")\n",
    "print(f\"函数:{item['function']}\")\n",
    "print(f\"列表:{item['list']}\")\n",
    "print(f\"字典:{item['dictionary']}\")\n",
    "print(f\"循环:{item['loop']}\")"
   ]
  },
  {
   "cell_type": "markdown",
   "id": "02724653-f900-4710-b5f6-81f1152c63ef",
   "metadata": {},
   "source": [
    "## 遍历字典"
   ]
  },
  {
   "cell_type": "markdown",
   "id": "a35faffe-bb62-4f62-87f4-772e0ff83f89",
   "metadata": {},
   "source": [
    "### 遍历所有键值对"
   ]
  },
  {
   "cell_type": "code",
   "execution_count": 74,
   "id": "04b8cc5a-ebe8-46da-8cf5-f66295b3748f",
   "metadata": {
    "execution": {
     "iopub.execute_input": "2024-04-07T07:35:42.747828Z",
     "iopub.status.busy": "2024-04-07T07:35:42.745723Z",
     "iopub.status.idle": "2024-04-07T07:35:42.759045Z",
     "shell.execute_reply": "2024-04-07T07:35:42.755823Z",
     "shell.execute_reply.started": "2024-04-07T07:35:42.747828Z"
    }
   },
   "outputs": [],
   "source": [
    "user_0 = {\n",
    "    'username': 'efermi',\n",
    "    'first': 'enrico',\n",
    "    'last': 'fermi',\n",
    "    }"
   ]
  },
  {
   "cell_type": "code",
   "execution_count": 66,
   "id": "df2289c9-cf8f-477d-92c5-d7f70a11a4fa",
   "metadata": {
    "execution": {
     "iopub.execute_input": "2024-04-07T07:22:57.116128Z",
     "iopub.status.busy": "2024-04-07T07:22:57.116128Z",
     "iopub.status.idle": "2024-04-07T07:22:57.131991Z",
     "shell.execute_reply": "2024-04-07T07:22:57.131991Z",
     "shell.execute_reply.started": "2024-04-07T07:22:57.116128Z"
    }
   },
   "outputs": [
    {
     "name": "stdout",
     "output_type": "stream",
     "text": [
      "\n",
      "Key: username\n",
      "Value: efermi\n",
      "\n",
      "Key: first\n",
      "Value: enrico\n",
      "\n",
      "Key: last\n",
      "Value: fermi\n"
     ]
    }
   ],
   "source": [
    "#声明两个变量，用于存储键值对中的键和值。这两个变量可以使用任意名称。\n",
    "for key, value in user_0.items():\n",
    "    print(f\"\\nKey: {key}\")\n",
    "    print(f\"Value: {value}\")"
   ]
  },
  {
   "cell_type": "code",
   "execution_count": 65,
   "id": "cca39a59-59b2-42c8-9ad4-92f1bebd5ee0",
   "metadata": {
    "execution": {
     "iopub.execute_input": "2024-04-07T07:18:24.846418Z",
     "iopub.status.busy": "2024-04-07T07:18:24.842378Z",
     "iopub.status.idle": "2024-04-07T07:18:24.861292Z",
     "shell.execute_reply": "2024-04-07T07:18:24.857419Z",
     "shell.execute_reply.started": "2024-04-07T07:18:24.846418Z"
    }
   },
   "outputs": [
    {
     "name": "stdout",
     "output_type": "stream",
     "text": [
      "\n",
      "键: username\n",
      "值: efermi\n",
      "\n",
      "键: first\n",
      "值: enrico\n",
      "\n",
      "键: last\n",
      "值: fermi\n"
     ]
    }
   ],
   "source": [
    "for k, v in user_0.items():\n",
    "    print(f\"\\n键: {k}\")\n",
    "    print(f\"值: {v}\")"
   ]
  },
  {
   "cell_type": "code",
   "execution_count": 75,
   "id": "5ec20fa6-420a-47d4-9907-5aee74165f71",
   "metadata": {
    "execution": {
     "iopub.execute_input": "2024-04-07T07:35:52.364312Z",
     "iopub.status.busy": "2024-04-07T07:35:52.360319Z",
     "iopub.status.idle": "2024-04-07T07:35:52.377120Z",
     "shell.execute_reply": "2024-04-07T07:35:52.374052Z",
     "shell.execute_reply.started": "2024-04-07T07:35:52.364312Z"
    }
   },
   "outputs": [],
   "source": [
    "favo= {\n",
    "    'jen': 'python',\n",
    "    'sarah': 'c',\n",
    "    'edward': 'ruby',\n",
    "    'phil': 'python',\n",
    "    }"
   ]
  },
  {
   "cell_type": "code",
   "execution_count": 33,
   "id": "466920db-6511-45f6-9ebc-bbb3ee496201",
   "metadata": {},
   "outputs": [
    {
     "name": "stdout",
     "output_type": "stream",
     "text": [
      "('jen', 'python')\n",
      "('sarah', 'c')\n",
      "('edward', 'ruby')\n",
      "('phil', 'python')\n"
     ]
    }
   ],
   "source": [
    "for sth in favo.items():\n",
    "    print(sth)"
   ]
  },
  {
   "cell_type": "code",
   "execution_count": 39,
   "id": "ab8fb534-7c89-4ff3-beb5-ba9a85ac36bd",
   "metadata": {},
   "outputs": [
    {
     "name": "stdout",
     "output_type": "stream",
     "text": [
      "jen python\n",
      "sarah c\n",
      "edward ruby\n",
      "phil python\n"
     ]
    }
   ],
   "source": [
    "for key, value in favo.items():\n",
    "    print(key, value)"
   ]
  },
  {
   "cell_type": "code",
   "execution_count": 69,
   "id": "66c41431-ea0e-49be-9f26-6fa820f27762",
   "metadata": {
    "execution": {
     "iopub.execute_input": "2024-04-07T07:27:45.620247Z",
     "iopub.status.busy": "2024-04-07T07:27:45.620247Z",
     "iopub.status.idle": "2024-04-07T07:27:45.634146Z",
     "shell.execute_reply": "2024-04-07T07:27:45.631109Z",
     "shell.execute_reply.started": "2024-04-07T07:27:45.620247Z"
    }
   },
   "outputs": [
    {
     "name": "stdout",
     "output_type": "stream",
     "text": [
      "Jen loves Python.\n",
      "Sarah loves C.\n",
      "Edward loves Ruby.\n",
      "Phil loves Python.\n"
     ]
    }
   ],
   "source": [
    "#方法一\n",
    "for name in favo.keys():\n",
    "    language = favo[name].title()\n",
    "    print(f\"{name.title()} loves {language}.\")"
   ]
  },
  {
   "cell_type": "code",
   "execution_count": 70,
   "id": "d78d5c48-a7b0-41f0-93d5-ae6bef602de4",
   "metadata": {
    "execution": {
     "iopub.execute_input": "2024-04-07T07:27:47.742890Z",
     "iopub.status.busy": "2024-04-07T07:27:47.738892Z",
     "iopub.status.idle": "2024-04-07T07:27:47.759063Z",
     "shell.execute_reply": "2024-04-07T07:27:47.755540Z",
     "shell.execute_reply.started": "2024-04-07T07:27:47.742890Z"
    }
   },
   "outputs": [
    {
     "name": "stdout",
     "output_type": "stream",
     "text": [
      "Jen loves Python.\n",
      "Sarah loves C.\n",
      "Edward loves Ruby.\n",
      "Phil loves Python.\n"
     ]
    }
   ],
   "source": [
    "#方法二\n",
    "for key, value in favo.items():\n",
    "    print(f\"{key.title()} loves {value.title()}.\")"
   ]
  },
  {
   "cell_type": "markdown",
   "id": "b6dd626c-523c-437f-b60d-0ff82fa5dd68",
   "metadata": {},
   "source": [
    "### 遍历字典中的所有键"
   ]
  },
  {
   "cell_type": "code",
   "execution_count": 86,
   "id": "1086e47e-721a-4da7-bcf2-02d559c042ee",
   "metadata": {
    "execution": {
     "iopub.execute_input": "2024-04-07T09:21:41.970575Z",
     "iopub.status.busy": "2024-04-07T09:21:41.970575Z",
     "iopub.status.idle": "2024-04-07T09:21:41.983720Z",
     "shell.execute_reply": "2024-04-07T09:21:41.981533Z",
     "shell.execute_reply.started": "2024-04-07T09:21:41.970575Z"
    }
   },
   "outputs": [
    {
     "name": "stdout",
     "output_type": "stream",
     "text": [
      "Jen\n",
      "Sarah\n",
      "Edward\n",
      "Phil\n"
     ]
    }
   ],
   "source": [
    "for name in favo.keys():\n",
    "    print(name.title())"
   ]
  },
  {
   "cell_type": "code",
   "execution_count": 87,
   "id": "183fb59f-70b4-4c9b-9b3f-642eec2c28e2",
   "metadata": {
    "execution": {
     "iopub.execute_input": "2024-04-07T09:21:49.087974Z",
     "iopub.status.busy": "2024-04-07T09:21:49.087974Z",
     "iopub.status.idle": "2024-04-07T09:21:49.101705Z",
     "shell.execute_reply": "2024-04-07T09:21:49.099420Z",
     "shell.execute_reply.started": "2024-04-07T09:21:49.087974Z"
    }
   },
   "outputs": [
    {
     "name": "stdout",
     "output_type": "stream",
     "text": [
      "Jen\n",
      "Sarah\n",
      "Edward\n",
      "Phil\n"
     ]
    }
   ],
   "source": [
    "#遍历字典时，会默认遍历所有的键\n",
    "for name in favo:\n",
    "    print(name.title())"
   ]
  },
  {
   "cell_type": "code",
   "execution_count": 88,
   "id": "8acad1ae-568a-4e55-bd3b-7b1673630051",
   "metadata": {
    "execution": {
     "iopub.execute_input": "2024-04-07T09:22:04.993547Z",
     "iopub.status.busy": "2024-04-07T09:22:04.989540Z",
     "iopub.status.idle": "2024-04-07T09:22:05.010068Z",
     "shell.execute_reply": "2024-04-07T09:22:05.008403Z",
     "shell.execute_reply.started": "2024-04-07T09:22:04.993547Z"
    }
   },
   "outputs": [
    {
     "name": "stdout",
     "output_type": "stream",
     "text": [
      "Hi Jen.\n",
      "Hi Sarah.\n",
      "\tSarah, I see you love C!\n",
      "Hi Edward.\n",
      "Hi Phil.\n",
      "\tPhil, I see you love Python!\n",
      "\n",
      "Erin, please take our poll!\n"
     ]
    }
   ],
   "source": [
    "friends = ['phil', 'sarah']\n",
    "favo = {\n",
    "    'jen': 'python',\n",
    "    'sarah': 'c',\n",
    "    'edward': 'ruby',\n",
    "    'phil': 'python',\n",
    "    }\n",
    "for name in favo.keys():\n",
    "    print(f\"Hi {name.title()}.\")\n",
    "    if name in friends:\n",
    "        language = favo[name].title()\n",
    "        print(f\"\\t{name.title()}, I see you love {language}!\")\n",
    "\n",
    "#keys()并非只能用于遍历\n",
    "if 'erin' not in favo.keys():\n",
    "    print(\"\\nErin, please take our poll!\")"
   ]
  },
  {
   "cell_type": "markdown",
   "id": "c2b11f61-87bf-4b22-a2ce-b7e6c4733e30",
   "metadata": {},
   "source": [
    "### 按特定顺序遍历字典中的所有键"
   ]
  },
  {
   "cell_type": "code",
   "execution_count": 84,
   "id": "56d8662b-c69f-4a9f-b2ea-f8a7e5d79806",
   "metadata": {
    "execution": {
     "iopub.execute_input": "2024-04-07T07:58:59.519659Z",
     "iopub.status.busy": "2024-04-07T07:58:59.519659Z",
     "iopub.status.idle": "2024-04-07T07:58:59.534771Z",
     "shell.execute_reply": "2024-04-07T07:58:59.532513Z",
     "shell.execute_reply.started": "2024-04-07T07:58:59.519659Z"
    }
   },
   "outputs": [
    {
     "name": "stdout",
     "output_type": "stream",
     "text": [
      "Edward, thank you for taking the poll.\n",
      "Jen, thank you for taking the poll.\n",
      "Phil, thank you for taking the poll.\n",
      "Sarah, thank you for taking the poll.\n"
     ]
    }
   ],
   "source": [
    "favo = {\n",
    "    'jen': 'python',\n",
    "    'sarah': 'c',\n",
    "    'edward': 'ruby',\n",
    "    'phil': 'python',\n",
    "    }\n",
    "#顺\n",
    "for name in sorted(favorite_languages.keys()):\n",
    "    print(f\"{name.title()}, thank you for taking the poll.\")"
   ]
  },
  {
   "cell_type": "code",
   "execution_count": 85,
   "id": "3347e507-099e-46b5-9edc-e285919844da",
   "metadata": {
    "execution": {
     "iopub.execute_input": "2024-04-07T07:59:01.464131Z",
     "iopub.status.busy": "2024-04-07T07:59:01.462612Z",
     "iopub.status.idle": "2024-04-07T07:59:01.476449Z",
     "shell.execute_reply": "2024-04-07T07:59:01.473697Z",
     "shell.execute_reply.started": "2024-04-07T07:59:01.464131Z"
    }
   },
   "outputs": [
    {
     "name": "stdout",
     "output_type": "stream",
     "text": [
      "Sarah, thank you for taking the poll.\n",
      "Phil, thank you for taking the poll.\n",
      "Jen, thank you for taking the poll.\n",
      "Edward, thank you for taking the poll.\n"
     ]
    }
   ],
   "source": [
    "#逆\n",
    "for name in sorted(favorite_languages.keys(),reverse=True):\n",
    "    print(f\"{name.title()}, thank you for taking the poll.\")"
   ]
  },
  {
   "cell_type": "markdown",
   "id": "4d4eafd1-a743-473d-9cc5-f69cc405bcf0",
   "metadata": {},
   "source": [
    "### 遍历字典中的所有值"
   ]
  },
  {
   "cell_type": "code",
   "execution_count": 91,
   "id": "50f5a42c-b3b8-400f-b71b-f87cd9fadb6c",
   "metadata": {
    "execution": {
     "iopub.execute_input": "2024-04-07T09:26:53.842554Z",
     "iopub.status.busy": "2024-04-07T09:26:53.842554Z",
     "iopub.status.idle": "2024-04-07T09:26:53.856639Z",
     "shell.execute_reply": "2024-04-07T09:26:53.854554Z",
     "shell.execute_reply.started": "2024-04-07T09:26:53.842554Z"
    }
   },
   "outputs": [
    {
     "name": "stdout",
     "output_type": "stream",
     "text": [
      "The following languages have been mentioned:\n",
      "Python\n",
      "C\n",
      "Ruby\n",
      "Python\n"
     ]
    }
   ],
   "source": [
    "print(\"The following languages have been mentioned:\")\n",
    "for language in favo.values():\n",
    "    print(language.title())"
   ]
  },
  {
   "cell_type": "code",
   "execution_count": 92,
   "id": "36239823-5cb4-4865-8c36-86f7ba775255",
   "metadata": {
    "execution": {
     "iopub.execute_input": "2024-04-07T09:26:56.503579Z",
     "iopub.status.busy": "2024-04-07T09:26:56.501553Z",
     "iopub.status.idle": "2024-04-07T09:26:56.517069Z",
     "shell.execute_reply": "2024-04-07T09:26:56.514181Z",
     "shell.execute_reply.started": "2024-04-07T09:26:56.503579Z"
    }
   },
   "outputs": [
    {
     "name": "stdout",
     "output_type": "stream",
     "text": [
      "The following languages have been mentioned:\n",
      "Python\n",
      "Ruby\n",
      "C\n"
     ]
    }
   ],
   "source": [
    "#这种做法提取字典中所有的值，而没有考虑是否重复。\n",
    "#为剔除重复项，可使用集合（set）。集合中的每个元素都必须是独一无二的：\n",
    "print(\"The following languages have been mentioned:\")\n",
    "for language in set(favo.values()):\n",
    "    print(language.title())"
   ]
  },
  {
   "cell_type": "code",
   "execution_count": 94,
   "id": "e45630da-7d9e-4fea-9711-b5ff3b44df35",
   "metadata": {
    "execution": {
     "iopub.execute_input": "2024-04-07T09:28:14.558421Z",
     "iopub.status.busy": "2024-04-07T09:28:14.557384Z",
     "iopub.status.idle": "2024-04-07T09:28:14.570344Z",
     "shell.execute_reply": "2024-04-07T09:28:14.567528Z",
     "shell.execute_reply.started": "2024-04-07T09:28:14.557384Z"
    }
   },
   "outputs": [],
   "source": [
    "#可使用一对花括号直接创建集合，并在其中用逗号分隔元素：\n",
    "languages = {'python', 'ruby', 'python', 'c'}\n",
    "#集合和字典很容易混淆，因为它们都是用一对花括号定义的。\n",
    "#当花括号内没有键值对时，定义的很可能是集合。\n",
    "#不同于列表和字典，集合不会以特定的顺序存储元素。"
   ]
  },
  {
   "cell_type": "markdown",
   "id": "90f723b6-f20c-4aeb-8cb8-7ce81ed12029",
   "metadata": {},
   "source": [
    "### 练习"
   ]
  },
  {
   "cell_type": "code",
   "execution_count": 104,
   "id": "d4f0bc5d-5af9-4615-aabb-a8d2d56a60f0",
   "metadata": {
    "execution": {
     "iopub.execute_input": "2024-04-07T09:45:46.301767Z",
     "iopub.status.busy": "2024-04-07T09:45:46.301767Z",
     "iopub.status.idle": "2024-04-07T09:45:46.319197Z",
     "shell.execute_reply": "2024-04-07T09:45:46.317560Z",
     "shell.execute_reply.started": "2024-04-07T09:45:46.301767Z"
    }
   },
   "outputs": [
    {
     "name": "stdout",
     "output_type": "stream",
     "text": [
      "variable:\n",
      "存储数据的标识符\n",
      "\n",
      "function:\n",
      "用于执行特定任务的代码块\n",
      "\n",
      "list:\n",
      "存储有序的元素集合\n",
      "\n",
      "dictionary:\n",
      "存储键值对\n",
      "\n",
      "loop:\n",
      "重复执行一段代码的结构\n",
      "\n",
      "set:\n",
      "每个元素都必须是独一无二的\n",
      "\n"
     ]
    }
   ],
   "source": [
    "item = {\n",
    "    'variable':'存储数据的标识符',\n",
    "    'function':'用于执行特定任务的代码块',\n",
    "    'list':'存储有序的元素集合',\n",
    "    'dictionary':'存储键值对',\n",
    "    'loop':'重复执行一段代码的结构',\n",
    "    'set':'每个元素都必须是独一无二的',\n",
    "    }\n",
    "for concept in item.keys():\n",
    "    print(f\"{concept}:\")\n",
    "    definition=item[concept]\n",
    "    print(definition)\n",
    "    print()"
   ]
  },
  {
   "cell_type": "code",
   "execution_count": 110,
   "id": "312380d9-acf7-4833-ab6a-614d959d910a",
   "metadata": {
    "execution": {
     "iopub.execute_input": "2024-04-07T09:54:45.053880Z",
     "iopub.status.busy": "2024-04-07T09:54:45.052635Z",
     "iopub.status.idle": "2024-04-07T09:54:45.071159Z",
     "shell.execute_reply": "2024-04-07T09:54:45.068147Z",
     "shell.execute_reply.started": "2024-04-07T09:54:45.053880Z"
    }
   },
   "outputs": [
    {
     "name": "stdout",
     "output_type": "stream",
     "text": [
      "The Yellow_river runs through China.\n",
      "The Nile runs through Eygpt.\n",
      "The Danube runs through Germany.\n",
      "\n",
      "Yellow_river\n",
      "Nile\n",
      "Danube\n",
      "\n",
      "China\n",
      "Eygpt\n",
      "Germany\n"
     ]
    }
   ],
   "source": [
    "basin = {\n",
    "    'Yellow_river':'China',\n",
    "    'Nile':'Eygpt',\n",
    "    'Danube':'Germany'\n",
    "    }\n",
    "for river,country in basin.items():\n",
    "    print(f\"The {river} runs through {country}.\")\n",
    "print()\n",
    "for river in basin.keys():\n",
    "    print(river)\n",
    "print()\n",
    "for country in basin.values():\n",
    "    print(country)"
   ]
  },
  {
   "cell_type": "code",
   "execution_count": 114,
   "id": "7b3780e4-2a70-44b2-b399-33ad057ffa34",
   "metadata": {
    "execution": {
     "iopub.execute_input": "2024-04-07T10:02:00.845359Z",
     "iopub.status.busy": "2024-04-07T10:02:00.843819Z",
     "iopub.status.idle": "2024-04-07T10:02:00.860691Z",
     "shell.execute_reply": "2024-04-07T10:02:00.857456Z",
     "shell.execute_reply.started": "2024-04-07T10:02:00.845359Z"
    }
   },
   "outputs": [
    {
     "name": "stdout",
     "output_type": "stream",
     "text": [
      "Sarah,Thanks for your participation!\n",
      "Edward,Thanks for your participation!\n",
      "Jen,Thanks for your participation!\n",
      "Roy,could you please join in our survey?\n",
      "Bera,could you please join in our survey?\n"
     ]
    }
   ],
   "source": [
    "favo= {\n",
    "    'jen': 'python',\n",
    "    'sarah': 'c',\n",
    "    'edward': 'ruby',\n",
    "    'phil': 'python',\n",
    "    }\n",
    "people =['sarah','edward','jen','roy','bera']\n",
    "for peo in people:\n",
    "    if peo in favo.keys():\n",
    "        print(f\"{peo.title()},Thanks for your participation!\")\n",
    "    else:\n",
    "        print(f\"{peo.title()},could you please join in our survey?\")\n"
   ]
  },
  {
   "cell_type": "markdown",
   "id": "86cf4fea-7b50-473b-a9eb-d90098cb6d00",
   "metadata": {},
   "source": [
    "## 嵌套\n",
    "可以在列表中嵌套字典、在字典中嵌套列表、在字典中嵌套字典"
   ]
  },
  {
   "cell_type": "markdown",
   "id": "a65a6a79-f0f5-4e66-a6fe-f9fa9cdbdca3",
   "metadata": {},
   "source": [
    "### 在列表中嵌套字典"
   ]
  },
  {
   "cell_type": "code",
   "execution_count": 115,
   "id": "7293ac06-7a95-4a04-b03f-e4e4919e3d74",
   "metadata": {
    "execution": {
     "iopub.execute_input": "2024-04-07T10:05:04.755536Z",
     "iopub.status.busy": "2024-04-07T10:05:04.755536Z",
     "iopub.status.idle": "2024-04-07T10:05:04.774364Z",
     "shell.execute_reply": "2024-04-07T10:05:04.771567Z",
     "shell.execute_reply.started": "2024-04-07T10:05:04.755536Z"
    }
   },
   "outputs": [
    {
     "name": "stdout",
     "output_type": "stream",
     "text": [
      "{'color': 'green', 'points': 5}\n",
      "{'color': 'yellow', 'points': 10}\n",
      "{'color': 'red', 'points': 15}\n"
     ]
    }
   ],
   "source": [
    "alien_0 = {'color': 'green', 'points': 5}\n",
    "alien_1 = {'color': 'yellow', 'points': 10}\n",
    "alien_2 = {'color': 'red', 'points': 15}\n",
    "aliens = [alien_0, alien_1, alien_2]\n",
    "for alien in aliens:\n",
    "    print(alien)"
   ]
  },
  {
   "cell_type": "code",
   "execution_count": 123,
   "id": "9679c10b-bbeb-496b-9f1a-e07fa5dfb595",
   "metadata": {
    "execution": {
     "iopub.execute_input": "2024-04-07T13:50:51.488446Z",
     "iopub.status.busy": "2024-04-07T13:50:51.488446Z",
     "iopub.status.idle": "2024-04-07T13:50:51.497049Z",
     "shell.execute_reply": "2024-04-07T13:50:51.496027Z",
     "shell.execute_reply.started": "2024-04-07T13:50:51.488446Z"
    }
   },
   "outputs": [
    {
     "name": "stdout",
     "output_type": "stream",
     "text": [
      "{'color': 'green', 'points': 5, 'speed': 'slow'}\n",
      "{'color': 'green', 'points': 5, 'speed': 'slow'}\n",
      "{'color': 'green', 'points': 5, 'speed': 'slow'}\n",
      "{'color': 'green', 'points': 5, 'speed': 'slow'}\n",
      "{'color': 'green', 'points': 5, 'speed': 'slow'}\n",
      "...\n",
      "Total number of aliens: 30\n"
     ]
    }
   ],
   "source": [
    "aliens = []\n",
    "#创建30个绿色的外星人。\n",
    "for alien_number in range(30):  #range()返回一系列数，唯一用途是告诉Python要重复循环多少次\n",
    "    new_alien = {'color': 'green', 'points': 5, 'speed': 'slow'}\n",
    "    aliens.append(new_alien)\n",
    "\n",
    "for alien in aliens[:5]:  #显示前5个外星人,切片在到达第二个索引之前的元素后停止\n",
    "    print(alien)\n",
    "\n",
    "print(\"...\")\n",
    "print(f\"Total number of aliens: {len(aliens)}\")"
   ]
  },
  {
   "cell_type": "code",
   "execution_count": 124,
   "id": "14647287-4fd4-4cba-81a4-1fbe4144b377",
   "metadata": {
    "execution": {
     "iopub.execute_input": "2024-04-07T13:51:24.785251Z",
     "iopub.status.busy": "2024-04-07T13:51:24.784210Z",
     "iopub.status.idle": "2024-04-07T13:51:24.793222Z",
     "shell.execute_reply": "2024-04-07T13:51:24.791620Z",
     "shell.execute_reply.started": "2024-04-07T13:51:24.785251Z"
    }
   },
   "outputs": [
    {
     "name": "stdout",
     "output_type": "stream",
     "text": [
      "{'color': 'yellow', 'points': 10, 'speed': 'medium'}\n",
      "{'color': 'yellow', 'points': 10, 'speed': 'medium'}\n",
      "{'color': 'yellow', 'points': 10, 'speed': 'medium'}\n",
      "{'color': 'green', 'points': 5, 'speed': 'slow'}\n",
      "{'color': 'green', 'points': 5, 'speed': 'slow'}\n",
      "...\n"
     ]
    }
   ],
   "source": [
    "aliens = []\n",
    "for alien_number in range(30):  \n",
    "    new_alien = {'color': 'green', 'points': 5, 'speed': 'slow'}\n",
    "    aliens.append(new_alien)\n",
    "    \n",
    "for alien in aliens[:3]:\n",
    "    if alien['color'] == 'green':\n",
    "        alien['color'] = 'yellow'\n",
    "        alien['speed'] = 'medium'\n",
    "        alien['points'] = 10\n",
    "\n",
    "for alien in aliens[:5]:\n",
    "    print(alien)\n",
    "print(\"...\")"
   ]
  },
  {
   "cell_type": "code",
   "execution_count": 125,
   "id": "3b9300b0-ba37-4657-bb5e-c2f88568e47d",
   "metadata": {
    "execution": {
     "iopub.execute_input": "2024-04-07T13:52:11.403400Z",
     "iopub.status.busy": "2024-04-07T13:52:11.403400Z",
     "iopub.status.idle": "2024-04-07T13:52:11.412201Z",
     "shell.execute_reply": "2024-04-07T13:52:11.410677Z",
     "shell.execute_reply.started": "2024-04-07T13:52:11.403400Z"
    }
   },
   "outputs": [
    {
     "name": "stdout",
     "output_type": "stream",
     "text": [
      "{'color': 'red', 'points': 15, 'speed': 'fast'}\n",
      "{'color': 'red', 'points': 15, 'speed': 'fast'}\n",
      "{'color': 'red', 'points': 15, 'speed': 'fast'}\n",
      "{'color': 'yellow', 'points': 10, 'speed': 'medium'}\n",
      "{'color': 'yellow', 'points': 10, 'speed': 'medium'}\n"
     ]
    }
   ],
   "source": [
    "for alien in aliens[0:5]:\n",
    "    if alien['color'] == 'green':\n",
    "        alien['color'] = 'yellow'\n",
    "        alien['speed'] = 'medium'\n",
    "        alien['points'] = 10\n",
    "    elif alien['color'] == 'yellow':\n",
    "        alien['color'] = 'red'\n",
    "        alien['speed'] = 'fast'\n",
    "        alien['points'] = 15\n",
    "for alien in aliens[:5]:\n",
    "    print(alien)"
   ]
  },
  {
   "cell_type": "markdown",
   "id": "baea547d-3e0c-4774-b6bf-b84a58cf4cbe",
   "metadata": {},
   "source": [
    "### 在字典中嵌套列表"
   ]
  },
  {
   "cell_type": "code",
   "execution_count": 153,
   "id": "2a06ad3f-7a1b-473c-8b2f-22c1735bf96b",
   "metadata": {
    "execution": {
     "iopub.execute_input": "2024-04-07T14:24:31.326193Z",
     "iopub.status.busy": "2024-04-07T14:24:31.326193Z",
     "iopub.status.idle": "2024-04-07T14:24:31.340111Z",
     "shell.execute_reply": "2024-04-07T14:24:31.339098Z",
     "shell.execute_reply.started": "2024-04-07T14:24:31.326193Z"
    }
   },
   "outputs": [
    {
     "name": "stdout",
     "output_type": "stream",
     "text": [
      "You ordered a thick-crust pizza with the following toppings:\n",
      "    mushrooms\n",
      "    extra cheese\n"
     ]
    }
   ],
   "source": [
    "pizza = {\n",
    "    'crust': 'thick',\n",
    "    'toppings': ['mushrooms', 'extra cheese'],\n",
    "    }\n",
    "print(f\"You ordered a {pizza['crust']}-crust pizza \"\n",
    "      \"with the following toppings:\")\n",
    "#当print中的字符串很长，可以分行。只需要在每行末尾都加上引号，其他各行行首加上引号并缩进\n",
    "for topping in pizza['toppings']:\n",
    "    #print(\"\\t\"+topping)\n",
    "    #print(f\"\\t{topping}\") \n",
    "    print(f\"    {topping}\")"
   ]
  },
  {
   "cell_type": "code",
   "execution_count": 152,
   "id": "fa88a03d-722a-49c2-ad2f-f2ba48920a20",
   "metadata": {
    "execution": {
     "iopub.execute_input": "2024-04-07T14:23:12.437469Z",
     "iopub.status.busy": "2024-04-07T14:23:12.436904Z",
     "iopub.status.idle": "2024-04-07T14:23:12.446157Z",
     "shell.execute_reply": "2024-04-07T14:23:12.444597Z",
     "shell.execute_reply.started": "2024-04-07T14:23:12.437469Z"
    }
   },
   "outputs": [
    {
     "name": "stdout",
     "output_type": "stream",
     "text": [
      "\n",
      "Jen's favorite languages are:\n",
      "\tPython\n",
      "\tRuby\n",
      "\n",
      "Sarah's favorite languages are:\n",
      "\tC\n",
      "\n",
      "Edward's favorite languages are:\n",
      "\tJava\n",
      "\tGo\n",
      "\n",
      "Phil's favorite languages are:\n",
      "\tPython\n",
      "\tHaskell\n"
     ]
    }
   ],
   "source": [
    "#当需要在字典中将一个键关联到多个值时，都可以在字典中嵌套一个列表\n",
    "#在这种情况下遍历字典时，与每个被调查者相关联的都是一个语言列表\n",
    "#因此，在遍历该字典的for循环中，需要再使用一个for循环来遍历与被调查者相关联的语言列表\n",
    "favo= {\n",
    "    'jen': ['python', 'ruby'],\n",
    "    'sarah': ['c'],\n",
    "    'edward': ['java', 'go'],\n",
    "    'phil': ['python', 'haskell'],\n",
    "    }\n",
    "for name, languages in favo.items():\n",
    "    print(f\"\\n{name.title()}'s favorite languages are:\")\n",
    "    for language in languages:\n",
    "        print(f\"\\t{language.title()}\")"
   ]
  },
  {
   "cell_type": "code",
   "execution_count": 155,
   "id": "b025cc2b-6242-4287-bb17-654064cd1244",
   "metadata": {
    "execution": {
     "iopub.execute_input": "2024-04-07T14:27:35.363572Z",
     "iopub.status.busy": "2024-04-07T14:27:35.363572Z",
     "iopub.status.idle": "2024-04-07T14:27:35.378757Z",
     "shell.execute_reply": "2024-04-07T14:27:35.377344Z",
     "shell.execute_reply.started": "2024-04-07T14:27:35.363572Z"
    }
   },
   "outputs": [
    {
     "name": "stdout",
     "output_type": "stream",
     "text": [
      "\n",
      "Jen's favorite languages are:\n",
      "\tPython\n",
      "\tRuby\n",
      "\n",
      "Sarah's favorite languages is:\n",
      "\tC\n",
      "\n",
      "Edward's favorite languages are:\n",
      "\tJava\n",
      "\tGo\n",
      "\n",
      "Phil's favorite languages are:\n",
      "\tPython\n",
      "\tHaskell\n"
     ]
    }
   ],
   "source": [
    "favo= {\n",
    "    'jen': ['python', 'ruby'],\n",
    "    'sarah': ['c'],\n",
    "    'edward': ['java', 'go'],\n",
    "    'phil': ['python', 'haskell'],\n",
    "    }\n",
    "for name, languages in favo.items():\n",
    "    if len(languages)>1:\n",
    "        print(f\"\\n{name.title()}'s favorite languages are:\")\n",
    "        for language in languages:\n",
    "            print(f\"\\t{language.title()}\")\n",
    "    else:\n",
    "        print(f\"\\n{name.title()}'s favorite languages is:\")\n",
    "        for language in languages:\n",
    "            print(f\"\\t{language.title()}\")"
   ]
  },
  {
   "cell_type": "markdown",
   "id": "0957fac7-687e-4df9-8bf2-c8cbbd75ffc0",
   "metadata": {},
   "source": [
    "### 在字典中存储字典"
   ]
  },
  {
   "cell_type": "code",
   "execution_count": 157,
   "id": "bfb89b3f-253c-41ec-b450-167ff872500a",
   "metadata": {
    "execution": {
     "iopub.execute_input": "2024-04-07T14:30:36.635395Z",
     "iopub.status.busy": "2024-04-07T14:30:36.635395Z",
     "iopub.status.idle": "2024-04-07T14:30:36.651370Z",
     "shell.execute_reply": "2024-04-07T14:30:36.649446Z",
     "shell.execute_reply.started": "2024-04-07T14:30:36.635395Z"
    }
   },
   "outputs": [
    {
     "name": "stdout",
     "output_type": "stream",
     "text": [
      "\n",
      "Username: aeinstein\n",
      "\tFull name: Albert Einstein\n",
      "\tLocation: Princeton\n",
      "\n",
      "Username: mcurie\n",
      "\tFull name: Marie Curie\n",
      "\tLocation: Paris\n"
     ]
    }
   ],
   "source": [
    "users = {\n",
    "    'aeinstein': {\n",
    "        'first': 'albert',\n",
    "        'last': 'einstein',\n",
    "        'location': 'princeton',\n",
    "        },\n",
    "    'mcurie': {\n",
    "        'first': 'marie',\n",
    "        'last': 'curie',\n",
    "        'location': 'paris',\n",
    "        },\n",
    "     }\n",
    "for username, user_info in users.items():\n",
    "    print(f\"\\nUsername: {username}\")\n",
    "    full_name = f\"{user_info['first']} {user_info['last']}\"\n",
    "    location = user_info['location']\n",
    "    print(f\"\\tFull name: {full_name.title()}\")\n",
    "    print(f\"\\tLocation: {location.title()}\")"
   ]
  },
  {
   "cell_type": "markdown",
   "id": "d05ae3b0-c1ae-42c3-866d-a41b19a41016",
   "metadata": {},
   "source": [
    "### 练习"
   ]
  },
  {
   "cell_type": "code",
   "execution_count": 158,
   "id": "8ab39775-2108-4616-b825-f5c4ddfe901f",
   "metadata": {
    "execution": {
     "iopub.execute_input": "2024-04-07T14:36:15.822882Z",
     "iopub.status.busy": "2024-04-07T14:36:15.822882Z",
     "iopub.status.idle": "2024-04-07T14:36:15.830987Z",
     "shell.execute_reply": "2024-04-07T14:36:15.830455Z",
     "shell.execute_reply.started": "2024-04-07T14:36:15.822882Z"
    }
   },
   "outputs": [
    {
     "name": "stdout",
     "output_type": "stream",
     "text": [
      "{'first_name': 'Rui', 'second_name': 'Wang', 'age': 20, 'city': 'HB'}\n",
      "{'first_name': 'Yu', 'second_name': 'Xiong', 'age': 16, 'city': 'NJ'}\n",
      "{'first_name': 'Li', 'second_name': 'Sheng', 'age': 27, 'city': 'LJ'}\n"
     ]
    }
   ],
   "source": [
    "friend_1 = {'first_name':'Rui','second_name':'Wang','age':20,'city':'HB'}\n",
    "friend_2 = {'first_name':'Yu','second_name':'Xiong','age':16,'city':'NJ'}\n",
    "friend_3 = {'first_name':'Li','second_name':'Sheng','age':27,'city':'LJ'}\n",
    "people = [friend_1,friend_2,friend_3]\n",
    "for friend in people:\n",
    "    print(friend)"
   ]
  },
  {
   "cell_type": "code",
   "execution_count": 164,
   "id": "f4bbbc51-a521-4b6c-ba2a-26a4bdfab74a",
   "metadata": {
    "execution": {
     "iopub.execute_input": "2024-04-07T14:47:32.357535Z",
     "iopub.status.busy": "2024-04-07T14:47:32.357535Z",
     "iopub.status.idle": "2024-04-07T14:47:32.365672Z",
     "shell.execute_reply": "2024-04-07T14:47:32.364568Z",
     "shell.execute_reply.started": "2024-04-07T14:47:32.357535Z"
    }
   },
   "outputs": [
    {
     "name": "stdout",
     "output_type": "stream",
     "text": [
      "Liu ['home', 'coffee']\n",
      "Fang ['Japan', 'Korea']\n",
      "Yue ['Yunnan']\n",
      "\n",
      "Liu's favorite places are ['home', 'coffee'].\n",
      "Fang's favorite places are ['Japan', 'Korea'].\n",
      "Yue's favorite place is ['Yunnan'].\n"
     ]
    }
   ],
   "source": [
    "favo_place ={\n",
    "    'Liu':['home','coffee'],\n",
    "    'Fang':['Japan','Korea'],\n",
    "    'Yue':['Yunnan'],\n",
    "    }\n",
    "for name, place in favo_place.items():\n",
    "    print(name,place)\n",
    "print()\n",
    "for name, place in favo_place.items():\n",
    "    if len(place)>1:\n",
    "        print(f\"{name}'s favorite places are {place}.\")\n",
    "    else:\n",
    "        print(f\"{name}'s favorite place is {place}.\")"
   ]
  },
  {
   "cell_type": "code",
   "execution_count": 169,
   "id": "422a3478-640f-414b-84bd-7aa417f8b131",
   "metadata": {
    "execution": {
     "iopub.execute_input": "2024-04-07T15:00:51.236857Z",
     "iopub.status.busy": "2024-04-07T15:00:51.236857Z",
     "iopub.status.idle": "2024-04-07T15:00:51.245498Z",
     "shell.execute_reply": "2024-04-07T15:00:51.244479Z",
     "shell.execute_reply.started": "2024-04-07T15:00:51.236857Z"
    }
   },
   "outputs": [
    {
     "name": "stdout",
     "output_type": "stream",
     "text": [
      "city's name:Beijing\n",
      "\tIt belongs to China,and with a population of 2100w,it is a capital_city.\n",
      "city's name:Tokyo\n",
      "\tIt belongs to Japan,and with a population of 1300w,it is a fasion_city.\n",
      "city's name:NewYork\n",
      "\tIt belongs to USA,and with a population of 800w,it is a finance_city.\n"
     ]
    }
   ],
   "source": [
    "cities = {\n",
    "    'Beijing':{\n",
    "        'country':'China',\n",
    "        'population':'2100w',\n",
    "        'fact':'capital_city'\n",
    "        },\n",
    "    'Tokyo':{\n",
    "        'country':'Japan',\n",
    "        'population':'1300w',\n",
    "        'fact':'fasion_city'\n",
    "        },\n",
    "    'NewYork':{\n",
    "        'country':'USA',\n",
    "        'population':'800w',\n",
    "        'fact':'finance_city',\n",
    "        },\n",
    "    }\n",
    "for city,info in cities.items():\n",
    "    print(f\"city's name:{city}\")\n",
    "    guo=info['country']\n",
    "    ren=info['population']\n",
    "    cheng=info['fact']\n",
    "    print(f\"\\tIt belongs to {guo},\"\n",
    "          f\"and with a population of {ren},it is a {cheng}.\")"
   ]
  }
 ],
 "metadata": {
  "kernelspec": {
   "display_name": "Python 3 (ipykernel)",
   "language": "python",
   "name": "python3"
  },
  "language_info": {
   "codemirror_mode": {
    "name": "ipython",
    "version": 3
   },
   "file_extension": ".py",
   "mimetype": "text/x-python",
   "name": "python",
   "nbconvert_exporter": "python",
   "pygments_lexer": "ipython3",
   "version": "3.11.5"
  }
 },
 "nbformat": 4,
 "nbformat_minor": 5
}
