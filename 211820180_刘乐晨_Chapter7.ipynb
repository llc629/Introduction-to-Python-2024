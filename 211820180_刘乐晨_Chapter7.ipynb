{
 "cells": [
  {
   "cell_type": "markdown",
   "id": "2533cdc7-caff-4e22-a2b3-d38a33e1ca7c",
   "metadata": {},
   "source": [
    "# 用户输入和while 循环"
   ]
  },
  {
   "cell_type": "markdown",
   "id": "6d7b6e36-91a9-4eb9-8746-692379e20d07",
   "metadata": {},
   "source": [
    "## 函数input() 的工作原理"
   ]
  },
  {
   "cell_type": "code",
   "execution_count": 11,
   "id": "ca2202fe-b501-4b8c-af45-a33b9080d076",
   "metadata": {
    "execution": {
     "iopub.execute_input": "2024-04-07T15:06:31.523774Z",
     "iopub.status.busy": "2024-04-07T15:06:31.523774Z",
     "iopub.status.idle": "2024-04-07T15:06:40.569916Z",
     "shell.execute_reply": "2024-04-07T15:06:40.569409Z",
     "shell.execute_reply.started": "2024-04-07T15:06:31.523774Z"
    }
   },
   "outputs": [
    {
     "name": "stdin",
     "output_type": "stream",
     "text": [
      "Tell me something, and I will repeat it back to you:  Good night!\n"
     ]
    },
    {
     "name": "stdout",
     "output_type": "stream",
     "text": [
      "Good night!\n"
     ]
    }
   ],
   "source": [
    "#函数input() 接受一个参数——要向用户显示的提示 （prompt）或说明，让用户知道该如何做\n",
    "#程序等待用户输入，并在用户按回车键后继续运行。\n",
    "message = input(\"Tell me something, and I will repeat it back to you: \")\n",
    "print(message)"
   ]
  },
  {
   "cell_type": "markdown",
   "id": "b90b73a2-e717-4009-937b-8078cad95eaa",
   "metadata": {},
   "source": [
    "###  编写清晰的程序\n",
    "在提示末尾（这里是冒号后面）包含一个空格，可将提示与用户输入分开"
   ]
  },
  {
   "cell_type": "code",
   "execution_count": 1,
   "id": "8bf67946-0cd6-4fda-b82b-5092b813d225",
   "metadata": {},
   "outputs": [
    {
     "name": "stdin",
     "output_type": "stream",
     "text": [
      "Please enter your name:  Ruby\n"
     ]
    },
    {
     "name": "stdout",
     "output_type": "stream",
     "text": [
      "\n",
      "Hello, Ruby!\n"
     ]
    }
   ],
   "source": [
    "name = input(\"Please enter your name: \")\n",
    "print(f\"\\nHello, {name}!\")"
   ]
  },
  {
   "cell_type": "markdown",
   "id": "6145e23b-09d8-4ed0-bf6b-91050bf89d3d",
   "metadata": {
    "execution": {
     "iopub.execute_input": "2024-04-07T15:11:56.253069Z",
     "iopub.status.busy": "2024-04-07T15:11:56.251920Z",
     "iopub.status.idle": "2024-04-07T15:11:56.258165Z",
     "shell.execute_reply": "2024-04-07T15:11:56.257134Z",
     "shell.execute_reply.started": "2024-04-07T15:11:56.253069Z"
    }
   },
   "source": [
    "### 自赋值运算符"
   ]
  },
  {
   "cell_type": "code",
   "execution_count": 1,
   "id": "cda9fe54-fcb5-42af-bb2c-3a4260bd445c",
   "metadata": {
    "execution": {
     "iopub.execute_input": "2024-04-12T02:15:46.902703Z",
     "iopub.status.busy": "2024-04-12T02:15:46.902703Z",
     "iopub.status.idle": "2024-04-12T02:15:46.919915Z",
     "shell.execute_reply": "2024-04-12T02:15:46.919915Z",
     "shell.execute_reply.started": "2024-04-12T02:15:46.902703Z"
    }
   },
   "outputs": [],
   "source": [
    "#x += y 相当于 x = x + y\n",
    "#x -= y 相当于 x = x - y\n",
    "#x *= y 相当于 x = x * y\n",
    "#x /= y 相当于 x = x / y\n",
    "#x //= y 相当于 x = x // y\n",
    "#x **= y 相当于 x = x ** y"
   ]
  },
  {
   "cell_type": "code",
   "execution_count": 14,
   "id": "5ea2919a-f072-4140-8b0b-0b091b243746",
   "metadata": {
    "execution": {
     "iopub.execute_input": "2024-04-07T15:12:31.642695Z",
     "iopub.status.busy": "2024-04-07T15:12:31.642174Z",
     "iopub.status.idle": "2024-04-07T15:12:39.742667Z",
     "shell.execute_reply": "2024-04-07T15:12:39.742667Z",
     "shell.execute_reply.started": "2024-04-07T15:12:31.642695Z"
    }
   },
   "outputs": [
    {
     "name": "stdin",
     "output_type": "stream",
     "text": [
      "If you tell us who you are, we can personalize the messages you see.\n",
      "What is your first name?  Ruby\n"
     ]
    },
    {
     "name": "stdout",
     "output_type": "stream",
     "text": [
      "\n",
      "Hello, Ruby!\n"
     ]
    }
   ],
   "source": [
    "#有时候，提示可能超过一行\n",
    "prompt = \"If you tell us who you are, we can personalize the messages you see.\"\n",
    "prompt += \"\\nWhat is your first name? \"\n",
    "name = input(prompt)\n",
    "print(f\"\\nHello, {name}!\")"
   ]
  },
  {
   "cell_type": "markdown",
   "id": "94b719bf-0621-4609-a4d6-59fe350fda9c",
   "metadata": {},
   "source": [
    "### 使用int() 来获取数值输入\n",
    "将数值输入用于计算和比较前，务必将其转换为数值表示"
   ]
  },
  {
   "cell_type": "code",
   "execution_count": 7,
   "id": "f675da55-69c5-49cd-9aa5-0ecf6ad59f60",
   "metadata": {
    "execution": {
     "iopub.execute_input": "2024-04-07T04:00:33.995782Z",
     "iopub.status.busy": "2024-04-07T04:00:33.995782Z",
     "iopub.status.idle": "2024-04-07T04:00:46.247971Z",
     "shell.execute_reply": "2024-04-07T04:00:46.246563Z",
     "shell.execute_reply.started": "2024-04-07T04:00:33.995782Z"
    }
   },
   "outputs": [
    {
     "name": "stdin",
     "output_type": "stream",
     "text": [
      "How old are you?  16\n"
     ]
    }
   ],
   "source": [
    "age = input(\"How old are you? \")\n"
   ]
  },
  {
   "cell_type": "code",
   "execution_count": 8,
   "id": "133b8375-40d0-4add-acc0-fa056b34e750",
   "metadata": {
    "execution": {
     "iopub.execute_input": "2024-04-07T04:00:50.043806Z",
     "iopub.status.busy": "2024-04-07T04:00:50.041651Z",
     "iopub.status.idle": "2024-04-07T04:00:50.094087Z",
     "shell.execute_reply": "2024-04-07T04:00:50.090342Z",
     "shell.execute_reply.started": "2024-04-07T04:00:50.043806Z"
    }
   },
   "outputs": [
    {
     "ename": "TypeError",
     "evalue": "'>=' not supported between instances of 'str' and 'int'",
     "output_type": "error",
     "traceback": [
      "\u001b[1;31m---------------------------------------------------------------------------\u001b[0m",
      "\u001b[1;31mTypeError\u001b[0m                                 Traceback (most recent call last)",
      "Cell \u001b[1;32mIn[8], line 1\u001b[0m\n\u001b[1;32m----> 1\u001b[0m \u001b[38;5;28mprint\u001b[39m(age \u001b[38;5;241m>\u001b[39m\u001b[38;5;241m=\u001b[39m \u001b[38;5;241m18\u001b[39m)\n",
      "\u001b[1;31mTypeError\u001b[0m: '>=' not supported between instances of 'str' and 'int'"
     ]
    }
   ],
   "source": [
    "print(age >= 18)"
   ]
  },
  {
   "cell_type": "code",
   "execution_count": 9,
   "id": "ee4f705d-d174-4e44-aa50-7b86bd8d2866",
   "metadata": {
    "execution": {
     "iopub.execute_input": "2024-04-07T04:00:53.099312Z",
     "iopub.status.busy": "2024-04-07T04:00:53.095032Z",
     "iopub.status.idle": "2024-04-07T04:00:53.112103Z",
     "shell.execute_reply": "2024-04-07T04:00:53.108896Z",
     "shell.execute_reply.started": "2024-04-07T04:00:53.099312Z"
    }
   },
   "outputs": [
    {
     "name": "stdout",
     "output_type": "stream",
     "text": [
      "False\n"
     ]
    }
   ],
   "source": [
    "#将数的字符串表示转换为数值表示\n",
    "print(int(age) >= 18)"
   ]
  },
  {
   "cell_type": "code",
   "execution_count": 15,
   "id": "ca3fb34f-5167-4088-a08e-24eed2900d75",
   "metadata": {
    "execution": {
     "iopub.execute_input": "2024-04-07T15:14:04.938654Z",
     "iopub.status.busy": "2024-04-07T15:14:04.937650Z",
     "iopub.status.idle": "2024-04-07T15:14:10.588832Z",
     "shell.execute_reply": "2024-04-07T15:14:10.587798Z",
     "shell.execute_reply.started": "2024-04-07T15:14:04.938654Z"
    }
   },
   "outputs": [
    {
     "name": "stdin",
     "output_type": "stream",
     "text": [
      "How tall are you, in inches?  60\n"
     ]
    },
    {
     "name": "stdout",
     "output_type": "stream",
     "text": [
      "\n",
      "You're tall enough to ride!\n"
     ]
    }
   ],
   "source": [
    "height = input(\"How tall are you, in inches? \")\n",
    "height = int(height)\n",
    "if height >= 48:\n",
    "    print(\"\\nYou're tall enough to ride!\")\n",
    "else:\n",
    "    print(\"\\nYou'll be able to ride when you're a little older.\")"
   ]
  },
  {
   "cell_type": "markdown",
   "id": "390d699b-aca4-43e9-af6c-e1d54208edaa",
   "metadata": {},
   "source": [
    "### 求模运算符\n",
    "将两个数相除并返回余\n",
    "，不会指出一个数是另一个数的多少倍，只指出余数是多少数"
   ]
  },
  {
   "cell_type": "code",
   "execution_count": 16,
   "id": "f9d7a19e-5174-4e0a-a41b-9c00c4488325",
   "metadata": {
    "execution": {
     "iopub.execute_input": "2024-04-07T15:15:40.539536Z",
     "iopub.status.busy": "2024-04-07T15:15:40.539536Z",
     "iopub.status.idle": "2024-04-07T15:15:40.558923Z",
     "shell.execute_reply": "2024-04-07T15:15:40.557425Z",
     "shell.execute_reply.started": "2024-04-07T15:15:40.539536Z"
    }
   },
   "outputs": [
    {
     "data": {
      "text/plain": [
       "0"
      ]
     },
     "execution_count": 16,
     "metadata": {},
     "output_type": "execute_result"
    }
   ],
   "source": [
    "#判断奇数/偶数\n",
    "6 % 2"
   ]
  },
  {
   "cell_type": "code",
   "execution_count": 17,
   "id": "3d2458c1-3bf6-479b-86e0-e8274cf5d076",
   "metadata": {
    "execution": {
     "iopub.execute_input": "2024-04-07T15:15:59.582385Z",
     "iopub.status.busy": "2024-04-07T15:15:59.582385Z",
     "iopub.status.idle": "2024-04-07T15:15:59.591899Z",
     "shell.execute_reply": "2024-04-07T15:15:59.590890Z",
     "shell.execute_reply.started": "2024-04-07T15:15:59.582385Z"
    }
   },
   "outputs": [
    {
     "data": {
      "text/plain": [
       "3"
      ]
     },
     "execution_count": 17,
     "metadata": {},
     "output_type": "execute_result"
    }
   ],
   "source": [
    "45678 % 7"
   ]
  },
  {
   "cell_type": "code",
   "execution_count": 18,
   "id": "7cb985f4-62de-484b-99d7-ca9fdcdd5584",
   "metadata": {
    "execution": {
     "iopub.execute_input": "2024-04-07T15:16:30.529185Z",
     "iopub.status.busy": "2024-04-07T15:16:30.528138Z",
     "iopub.status.idle": "2024-04-07T15:16:35.754032Z",
     "shell.execute_reply": "2024-04-07T15:16:35.754032Z",
     "shell.execute_reply.started": "2024-04-07T15:16:30.529185Z"
    }
   },
   "outputs": [
    {
     "name": "stdin",
     "output_type": "stream",
     "text": [
      "Enter a number, and I'll tell you if it's even or odd:  876543\n"
     ]
    },
    {
     "name": "stdout",
     "output_type": "stream",
     "text": [
      "\n",
      "The number 876543 is odd.\n"
     ]
    }
   ],
   "source": [
    "number = input(\"Enter a number, and I'll tell you if it's even or odd: \")\n",
    "number = int(number)\n",
    "if number % 2 == 0:\n",
    "    print(f\"\\nThe number {number} is even.\")\n",
    "else:\n",
    "    print(f\"\\nThe number {number} is odd.\")"
   ]
  },
  {
   "cell_type": "markdown",
   "id": "31b427eb-e686-4e82-b6d6-2a6dcf2e67c3",
   "metadata": {},
   "source": [
    "### 练习"
   ]
  },
  {
   "cell_type": "code",
   "execution_count": 21,
   "id": "a21fb6da-147d-450b-b2c9-63590aaa7f03",
   "metadata": {
    "execution": {
     "iopub.execute_input": "2024-04-07T15:19:21.085027Z",
     "iopub.status.busy": "2024-04-07T15:19:21.085027Z",
     "iopub.status.idle": "2024-04-07T15:19:22.763196Z",
     "shell.execute_reply": "2024-04-07T15:19:22.762066Z",
     "shell.execute_reply.started": "2024-04-07T15:19:21.085027Z"
    }
   },
   "outputs": [
    {
     "name": "stdin",
     "output_type": "stream",
     "text": [
      "Which kind of car do you want?  Subaru\n"
     ]
    },
    {
     "name": "stdout",
     "output_type": "stream",
     "text": [
      "\n",
      "OK,I will find one Subaru for you.\n"
     ]
    }
   ],
   "source": [
    "car= input(\"Which kind of car do you want? \")\n",
    "print(f\"\\nOK,I will find one {car} for you.\")"
   ]
  },
  {
   "cell_type": "code",
   "execution_count": 26,
   "id": "1469f14a-7c17-49e3-ad6e-0c6b0769593c",
   "metadata": {
    "execution": {
     "iopub.execute_input": "2024-04-07T15:24:36.772499Z",
     "iopub.status.busy": "2024-04-07T15:24:36.770857Z",
     "iopub.status.idle": "2024-04-07T15:24:38.190482Z",
     "shell.execute_reply": "2024-04-07T15:24:38.190482Z",
     "shell.execute_reply.started": "2024-04-07T15:24:36.772499Z"
    }
   },
   "outputs": [
    {
     "name": "stdin",
     "output_type": "stream",
     "text": [
      "How many of you are dining?  3\n"
     ]
    },
    {
     "name": "stdout",
     "output_type": "stream",
     "text": [
      "\n",
      "There are seats available.\n"
     ]
    }
   ],
   "source": [
    "person = input(\"How many of you are dining? \")\n",
    "person = int(person)\n",
    "if person > 8:\n",
    "    print(\"\\nThere's no more seats available.\")\n",
    "else:\n",
    "    print(\"\\nThere are seats available.\")"
   ]
  },
  {
   "cell_type": "code",
   "execution_count": 27,
   "id": "cd37ca95-7f29-4bde-8eef-fef0d4df8cbc",
   "metadata": {
    "execution": {
     "iopub.execute_input": "2024-04-07T15:24:41.927498Z",
     "iopub.status.busy": "2024-04-07T15:24:41.927498Z",
     "iopub.status.idle": "2024-04-07T15:24:46.263208Z",
     "shell.execute_reply": "2024-04-07T15:24:46.263208Z",
     "shell.execute_reply.started": "2024-04-07T15:24:41.927498Z"
    }
   },
   "outputs": [
    {
     "name": "stdin",
     "output_type": "stream",
     "text": [
      "please enter a number:  57650\n"
     ]
    },
    {
     "name": "stdout",
     "output_type": "stream",
     "text": [
      "\n",
      "It's divisible by 10.\n"
     ]
    }
   ],
   "source": [
    "num=input(\"please enter a number: \")\n",
    "num=int(num)\n",
    "if num % 10 == 0:\n",
    "    print(\"\\nIt's divisible by 10.\")\n",
    "else:\n",
    "    print(\"\\nIt's not divisible by 10.\")"
   ]
  },
  {
   "cell_type": "markdown",
   "id": "1a3fe5bf-cb34-4856-aff6-8fbc321c23b6",
   "metadata": {},
   "source": [
    "## while循环"
   ]
  },
  {
   "cell_type": "code",
   "execution_count": 2,
   "id": "8c326d6c-95e6-4f78-a7fc-a75871f52f4b",
   "metadata": {
    "execution": {
     "iopub.execute_input": "2024-04-12T02:16:00.998839Z",
     "iopub.status.busy": "2024-04-12T02:16:00.998320Z",
     "iopub.status.idle": "2024-04-12T02:16:01.030083Z",
     "shell.execute_reply": "2024-04-12T02:16:01.026420Z",
     "shell.execute_reply.started": "2024-04-12T02:16:00.998839Z"
    }
   },
   "outputs": [
    {
     "name": "stdout",
     "output_type": "stream",
     "text": [
      "1\n",
      "2\n",
      "3\n",
      "4\n",
      "5\n"
     ]
    }
   ],
   "source": [
    "current_number = 1\n",
    "while current_number <= 5:\n",
    "    print(current_number)\n",
    "    current_number += 1"
   ]
  },
  {
   "cell_type": "markdown",
   "id": "c1687587-a957-461b-a6e5-50db729cfe11",
   "metadata": {},
   "source": [
    "### 让用户选择何时退出"
   ]
  },
  {
   "cell_type": "code",
   "execution_count": 3,
   "id": "3d414057-0353-4d25-b0cf-54d861d99dd7",
   "metadata": {
    "execution": {
     "iopub.execute_input": "2024-04-12T02:19:42.405115Z",
     "iopub.status.busy": "2024-04-12T02:19:42.404036Z",
     "iopub.status.idle": "2024-04-12T02:21:02.681288Z",
     "shell.execute_reply": "2024-04-12T02:21:02.681288Z",
     "shell.execute_reply.started": "2024-04-12T02:19:42.405115Z"
    }
   },
   "outputs": [
    {
     "name": "stdin",
     "output_type": "stream",
     "text": [
      "\n",
      "Tell me something, and I will repeat it back to you:\n",
      "Enter 'quit' to end the program.  I hate rainy days\n"
     ]
    },
    {
     "name": "stdout",
     "output_type": "stream",
     "text": [
      "I hate rainy days\n"
     ]
    },
    {
     "name": "stdin",
     "output_type": "stream",
     "text": [
      "\n",
      "Tell me something, and I will repeat it back to you:\n",
      "Enter 'quit' to end the program.  I like sunny days\n"
     ]
    },
    {
     "name": "stdout",
     "output_type": "stream",
     "text": [
      "I like sunny days\n"
     ]
    },
    {
     "name": "stdin",
     "output_type": "stream",
     "text": [
      "\n",
      "Tell me something, and I will repeat it back to you:\n",
      "Enter 'quit' to end the program.  But today it is rainy and overcast\n"
     ]
    },
    {
     "name": "stdout",
     "output_type": "stream",
     "text": [
      "But today it is rainy and overcast\n"
     ]
    },
    {
     "name": "stdin",
     "output_type": "stream",
     "text": [
      "\n",
      "Tell me something, and I will repeat it back to you:\n",
      "Enter 'quit' to end the program.  What a pity\n"
     ]
    },
    {
     "name": "stdout",
     "output_type": "stream",
     "text": [
      "What a pity\n"
     ]
    },
    {
     "name": "stdin",
     "output_type": "stream",
     "text": [
      "\n",
      "Tell me something, and I will repeat it back to you:\n",
      "Enter 'quit' to end the program.  quit\n"
     ]
    },
    {
     "name": "stdout",
     "output_type": "stream",
     "text": [
      "quit\n"
     ]
    }
   ],
   "source": [
    "prompt = \"\\nTell me something, and I will repeat it back to you:\"\n",
    "prompt += \"\\nEnter 'quit' to end the program. \"\n",
    "message = \"\"\n",
    "while message != 'quit':\n",
    "    message = input(prompt)\n",
    "    print(message)"
   ]
  },
  {
   "cell_type": "code",
   "execution_count": 4,
   "id": "c85070bd-3f02-4bfe-a396-f9b5cda85a90",
   "metadata": {
    "execution": {
     "iopub.execute_input": "2024-04-12T02:26:40.098109Z",
     "iopub.status.busy": "2024-04-12T02:26:40.098109Z",
     "iopub.status.idle": "2024-04-12T02:26:55.011177Z",
     "shell.execute_reply": "2024-04-12T02:26:55.009116Z",
     "shell.execute_reply.started": "2024-04-12T02:26:40.098109Z"
    }
   },
   "outputs": [
    {
     "name": "stdin",
     "output_type": "stream",
     "text": [
      "\n",
      "Tell me something, and I will repeat it back to you:\n",
      "Enter 'quit' to end the program.  God bless me\n"
     ]
    },
    {
     "name": "stdout",
     "output_type": "stream",
     "text": [
      "God bless me\n"
     ]
    },
    {
     "name": "stdin",
     "output_type": "stream",
     "text": [
      "\n",
      "Tell me something, and I will repeat it back to you:\n",
      "Enter 'quit' to end the program.  quit\n"
     ]
    }
   ],
   "source": [
    "prompt = \"\\nTell me something, and I will repeat it back to you:\"\n",
    "prompt += \"\\nEnter 'quit' to end the program. \"\n",
    "message = \"\"\n",
    "while message != 'quit':\n",
    "    message = input(prompt)\n",
    "    if message !='quit':\n",
    "        print(message)"
   ]
  },
  {
   "cell_type": "markdown",
   "id": "fc4df39e-1e38-483b-bc92-c5c6d05abd65",
   "metadata": {},
   "source": [
    "### 使用标志（flag）\n",
    "让\n",
    "程序在标志为True 时继续运行，并在任何事件导致标志的值为False 时让程序\r\n",
    "止运行"
   ]
  },
  {
   "cell_type": "code",
   "execution_count": 13,
   "id": "7939a002-e6af-4b1e-800f-bb5c914b6255",
   "metadata": {
    "execution": {
     "iopub.execute_input": "2024-04-12T06:29:58.275085Z",
     "iopub.status.busy": "2024-04-12T06:29:58.275085Z",
     "iopub.status.idle": "2024-04-12T06:30:18.415620Z",
     "shell.execute_reply": "2024-04-12T06:30:18.411936Z",
     "shell.execute_reply.started": "2024-04-12T06:29:58.275085Z"
    }
   },
   "outputs": [
    {
     "name": "stdin",
     "output_type": "stream",
     "text": [
      "\n",
      "Tell me something, and I will repeat it back to you:\n",
      "Enter 'quit' to end the program.  OK\n"
     ]
    },
    {
     "name": "stdout",
     "output_type": "stream",
     "text": [
      "OK\n"
     ]
    },
    {
     "name": "stdin",
     "output_type": "stream",
     "text": [
      "\n",
      "Tell me something, and I will repeat it back to you:\n",
      "Enter 'quit' to end the program.  fine\n"
     ]
    },
    {
     "name": "stdout",
     "output_type": "stream",
     "text": [
      "fine\n"
     ]
    },
    {
     "name": "stdin",
     "output_type": "stream",
     "text": [
      "\n",
      "Tell me something, and I will repeat it back to you:\n",
      "Enter 'quit' to end the program.  quit\n"
     ]
    }
   ],
   "source": [
    "prompt = \"\\nTell me something, and I will repeat it back to you:\"\n",
    "prompt += \"\\nEnter 'quit' to end the program. \"\n",
    "active = True\n",
    "while active:\n",
    "    message = input(prompt)\n",
    "    if message == 'quit':\n",
    "        active = False\n",
    "    else:\n",
    "        print(message)"
   ]
  },
  {
   "cell_type": "markdown",
   "id": "538aaea3-1ce1-4e88-82fd-8d828f42b3bf",
   "metadata": {},
   "source": [
    "### 使用break 退出循环"
   ]
  },
  {
   "cell_type": "code",
   "execution_count": 14,
   "id": "00ccadad-7923-448e-883e-24569a36d67a",
   "metadata": {
    "execution": {
     "iopub.execute_input": "2024-04-12T06:33:19.434047Z",
     "iopub.status.busy": "2024-04-12T06:33:19.432515Z",
     "iopub.status.idle": "2024-04-12T06:39:29.905603Z",
     "shell.execute_reply": "2024-04-12T06:39:29.905089Z",
     "shell.execute_reply.started": "2024-04-12T06:33:19.434047Z"
    }
   },
   "outputs": [
    {
     "name": "stdin",
     "output_type": "stream",
     "text": [
      "\n",
      "Please enter the name of a city you have visited:\n",
      "(Enter 'quit' when you are finished.)  Taipei\n"
     ]
    },
    {
     "name": "stdout",
     "output_type": "stream",
     "text": [
      "I'd love to go to Taipei!\n"
     ]
    },
    {
     "name": "stdin",
     "output_type": "stream",
     "text": [
      "\n",
      "Please enter the name of a city you have visited:\n",
      "(Enter 'quit' when you are finished.)  Yangzhou\n"
     ]
    },
    {
     "name": "stdout",
     "output_type": "stream",
     "text": [
      "I'd love to go to Yangzhou!\n"
     ]
    },
    {
     "name": "stdin",
     "output_type": "stream",
     "text": [
      "\n",
      "Please enter the name of a city you have visited:\n",
      "(Enter 'quit' when you are finished.)  quit\n"
     ]
    }
   ],
   "source": [
    "prompt = \"\\nPlease enter the name of a city you have visited:\"\n",
    "prompt += \"\\n(Enter 'quit' when you are finished.) \"\n",
    "while True:\n",
    "    city = input(prompt)\n",
    "    if city == 'quit':\n",
    "        break\n",
    "    else:\n",
    "        print(f\"I'd love to go to {city.title()}!\")"
   ]
  },
  {
   "cell_type": "markdown",
   "id": "8d50dcc0-1b86-4dd6-95a3-ec27d8b3cf14",
   "metadata": {},
   "source": [
    "### 在循环中使用continue\n",
    "不像break 语句那样不再执行余下的代码并退出整个循环"
   ]
  },
  {
   "cell_type": "code",
   "execution_count": 15,
   "id": "8aa3f3c9-d495-48a0-abc5-7da00e516f31",
   "metadata": {
    "execution": {
     "iopub.execute_input": "2024-04-12T06:42:05.890172Z",
     "iopub.status.busy": "2024-04-12T06:42:05.888652Z",
     "iopub.status.idle": "2024-04-12T06:42:05.903582Z",
     "shell.execute_reply": "2024-04-12T06:42:05.901373Z",
     "shell.execute_reply.started": "2024-04-12T06:42:05.890172Z"
    }
   },
   "outputs": [
    {
     "name": "stdout",
     "output_type": "stream",
     "text": [
      "1\n",
      "3\n",
      "5\n",
      "7\n",
      "9\n"
     ]
    }
   ],
   "source": [
    "#从1数到10但只打印其中奇数\n",
    "\n",
    "current_number = 0\n",
    "while current_number < 10:\n",
    "    current_number += 1\n",
    "    if current_number % 2 == 0:\n",
    "        continue\n",
    "        \n",
    "    print(current_number)"
   ]
  },
  {
   "cell_type": "code",
   "execution_count": 6,
   "id": "39f62e10-3d89-4504-bee5-10b1c26fa1ec",
   "metadata": {
    "execution": {
     "iopub.execute_input": "2024-04-12T02:33:48.473084Z",
     "iopub.status.busy": "2024-04-12T02:33:48.473084Z",
     "iopub.status.idle": "2024-04-12T02:33:48.488942Z",
     "shell.execute_reply": "2024-04-12T02:33:48.486300Z",
     "shell.execute_reply.started": "2024-04-12T02:33:48.473084Z"
    }
   },
   "outputs": [
    {
     "name": "stdout",
     "output_type": "stream",
     "text": [
      "1\n",
      "3\n",
      "5\n"
     ]
    }
   ],
   "source": [
    "current_number = 0\n",
    "while True:\n",
    "    if current_number > 5:\n",
    "        break\n",
    "    current_number += 1\n",
    "    if current_number % 2 == 0:\n",
    "        continue\n",
    "        \n",
    "    print(current_number)"
   ]
  },
  {
   "cell_type": "markdown",
   "id": "0f90dbbd-2c27-4600-bf1a-7df13388f2a7",
   "metadata": {},
   "source": [
    "###  避免无限循环\n",
    "每个while 循环都必须有停止运行的途径，这样才不会没完没了地执行下去"
   ]
  },
  {
   "cell_type": "markdown",
   "id": "1f74718a-c665-4e25-80e8-ce9e112c83a1",
   "metadata": {},
   "source": [
    "如果程序陷入无限循环，可按Ctrl + C，也可关闭显示程序输出的终端窗口。"
   ]
  },
  {
   "cell_type": "markdown",
   "id": "5c793579-cce4-4fd0-b33f-be22c31f7436",
   "metadata": {},
   "source": [
    "### 练习"
   ]
  },
  {
   "cell_type": "code",
   "execution_count": 16,
   "id": "4c996070-ab0d-4678-b7f1-4669aa011b7d",
   "metadata": {
    "execution": {
     "iopub.execute_input": "2024-04-12T06:48:41.494289Z",
     "iopub.status.busy": "2024-04-12T06:48:41.493262Z",
     "iopub.status.idle": "2024-04-12T06:49:57.218177Z",
     "shell.execute_reply": "2024-04-12T06:49:57.215558Z",
     "shell.execute_reply.started": "2024-04-12T06:48:41.494289Z"
    }
   },
   "outputs": [
    {
     "name": "stdin",
     "output_type": "stream",
     "text": [
      "\n",
      "Please enter the toppings you want for your pizza:\n",
      "(Enter 'quit' when you are finished.)  mushrooms\n"
     ]
    },
    {
     "name": "stdout",
     "output_type": "stream",
     "text": [
      "Ok, we will add Mushrooms to your pizza.\n"
     ]
    },
    {
     "name": "stdin",
     "output_type": "stream",
     "text": [
      "\n",
      "Please enter the toppings you want for your pizza:\n",
      "(Enter 'quit' when you are finished.)  pepperoni\n"
     ]
    },
    {
     "name": "stdout",
     "output_type": "stream",
     "text": [
      "Ok, we will add Pepperoni to your pizza.\n"
     ]
    },
    {
     "name": "stdin",
     "output_type": "stream",
     "text": [
      "\n",
      "Please enter the toppings you want for your pizza:\n",
      "(Enter 'quit' when you are finished.)  cheese\n"
     ]
    },
    {
     "name": "stdout",
     "output_type": "stream",
     "text": [
      "Ok, we will add Cheese to your pizza.\n"
     ]
    },
    {
     "name": "stdin",
     "output_type": "stream",
     "text": [
      "\n",
      "Please enter the toppings you want for your pizza:\n",
      "(Enter 'quit' when you are finished.)  black pepper\n"
     ]
    },
    {
     "name": "stdout",
     "output_type": "stream",
     "text": [
      "Ok, we will add Black Pepper to your pizza.\n"
     ]
    },
    {
     "name": "stdin",
     "output_type": "stream",
     "text": [
      "\n",
      "Please enter the toppings you want for your pizza:\n",
      "(Enter 'quit' when you are finished.)  quit\n"
     ]
    }
   ],
   "source": [
    "prompt = \"\\nPlease enter the toppings you want for your pizza:\"\n",
    "prompt += \"\\n(Enter 'quit' when you are finished.) \"\n",
    "while True:\n",
    "    topping = input(prompt)\n",
    "    if topping == 'quit':\n",
    "        break\n",
    "    else:\n",
    "        print(f\"Ok, we will add {topping.title()} to your pizza.\")"
   ]
  },
  {
   "cell_type": "code",
   "execution_count": 18,
   "id": "db9b819b-81b6-4303-870b-41e24e3a0fe9",
   "metadata": {
    "execution": {
     "iopub.execute_input": "2024-04-12T06:59:37.466792Z",
     "iopub.status.busy": "2024-04-12T06:59:37.466792Z",
     "iopub.status.idle": "2024-04-12T06:59:39.126398Z",
     "shell.execute_reply": "2024-04-12T06:59:39.125342Z",
     "shell.execute_reply.started": "2024-04-12T06:59:37.466792Z"
    }
   },
   "outputs": [
    {
     "name": "stdin",
     "output_type": "stream",
     "text": [
      "Please enter your age:  21\n"
     ]
    },
    {
     "name": "stdout",
     "output_type": "stream",
     "text": [
      "Your ticket is $15.\n"
     ]
    }
   ],
   "source": [
    "prompt = \"Please enter your age: \"\n",
    "while True:\n",
    "    age = input(prompt)\n",
    "    if int(age) < 3:\n",
    "        print(\"Your ticket is free.\")\n",
    "        break\n",
    "    elif int(age) < 12:\n",
    "        print(\"Your ticket is $12.\")\n",
    "        break\n",
    "    else:\n",
    "        print(\"Your ticket is $15.\")\n",
    "        break"
   ]
  },
  {
   "cell_type": "code",
   "execution_count": 19,
   "id": "286fcc2b-5530-414e-9f97-f71c9b23f504",
   "metadata": {
    "execution": {
     "iopub.execute_input": "2024-04-12T07:02:42.907911Z",
     "iopub.status.busy": "2024-04-12T07:02:42.907911Z",
     "iopub.status.idle": "2024-04-12T07:02:50.005014Z",
     "shell.execute_reply": "2024-04-12T07:02:50.001577Z",
     "shell.execute_reply.started": "2024-04-12T07:02:42.907911Z"
    }
   },
   "outputs": [
    {
     "name": "stdin",
     "output_type": "stream",
     "text": [
      "\n",
      "Please enter the toppings you want for your pizza:\n",
      "(Enter 'quit' when you are finished.)  mushrooms\n"
     ]
    },
    {
     "name": "stdout",
     "output_type": "stream",
     "text": [
      "Ok, we will add Mushrooms to your pizza.\n"
     ]
    },
    {
     "name": "stdin",
     "output_type": "stream",
     "text": [
      "\n",
      "Please enter the toppings you want for your pizza:\n",
      "(Enter 'quit' when you are finished.)  quit\n"
     ]
    }
   ],
   "source": [
    "active = True\n",
    "prompt = \"\\nPlease enter the toppings you want for your pizza:\"\n",
    "prompt += \"\\n(Enter 'quit' when you are finished.) \"\n",
    "while active:\n",
    "    topping = input(prompt)\n",
    "    if topping == 'quit':\n",
    "        active = False\n",
    "    else:\n",
    "        print(f\"Ok, we will add {topping.title()} to your pizza.\")"
   ]
  },
  {
   "cell_type": "markdown",
   "id": "beed128e-5121-40ab-8f90-f8af533539d2",
   "metadata": {},
   "source": [
    "## 使用while 循环处理列表和字典"
   ]
  },
  {
   "cell_type": "markdown",
   "id": "48449bbc-a757-4bca-9f65-2b83905de5e0",
   "metadata": {},
   "source": [
    "### 在列表之间移动元素"
   ]
  },
  {
   "cell_type": "code",
   "execution_count": 8,
   "id": "003e2579-7f61-4963-8c29-81c439f79af6",
   "metadata": {
    "execution": {
     "iopub.execute_input": "2024-04-12T02:43:05.032687Z",
     "iopub.status.busy": "2024-04-12T02:43:05.030139Z",
     "iopub.status.idle": "2024-04-12T02:43:05.049607Z",
     "shell.execute_reply": "2024-04-12T02:43:05.046768Z",
     "shell.execute_reply.started": "2024-04-12T02:43:05.032687Z"
    }
   },
   "outputs": [
    {
     "name": "stdout",
     "output_type": "stream",
     "text": [
      "Verifying user: Candace\n",
      "Verifying user: Brian\n",
      "Verifying user: Alice\n",
      "\n",
      "The following users have been confirmed:\n",
      "Candace\n",
      "Brian\n",
      "Alice\n"
     ]
    }
   ],
   "source": [
    "unconfirmed_users = ['alice', 'brian', 'candace']\n",
    "confirmed_users = []\n",
    "\n",
    " # 验证每个用户，直到没有未验证用户为止。\n",
    " # 将每个经过验证的用户都移到已验证用户列表中。\n",
    "while unconfirmed_users:\n",
    "    current_user = unconfirmed_users.pop()\n",
    "    print(f\"Verifying user: {current_user.title()}\")\n",
    "    confirmed_users.append(current_user)\n",
    "    \n",
    " # 显示所有已验证的用户。\n",
    "print(\"\\nThe following users have been confirmed:\")\n",
    "for confirmed_user in confirmed_users:\n",
    "    print(confirmed_user.title())"
   ]
  },
  {
   "cell_type": "markdown",
   "id": "23e048f5-abfd-4779-93a2-5a16746aa53c",
   "metadata": {},
   "source": [
    "### 删除为特定值的所有列表元素值"
   ]
  },
  {
   "cell_type": "code",
   "execution_count": 20,
   "id": "01f2bc02-3020-4134-a40b-48ad4197dd80",
   "metadata": {
    "execution": {
     "iopub.execute_input": "2024-04-12T07:16:16.736774Z",
     "iopub.status.busy": "2024-04-12T07:16:16.736774Z",
     "iopub.status.idle": "2024-04-12T07:16:16.753626Z",
     "shell.execute_reply": "2024-04-12T07:16:16.750927Z",
     "shell.execute_reply.started": "2024-04-12T07:16:16.736774Z"
    }
   },
   "outputs": [
    {
     "name": "stdout",
     "output_type": "stream",
     "text": [
      "['dog', 'cat', 'dog', 'goldfish', 'cat', 'rabbit', 'cat']\n",
      "['dog', 'dog', 'goldfish', 'rabbit']\n"
     ]
    }
   ],
   "source": [
    "#删除所有为特定值的元素，直到列表中不再包含该值\n",
    "\n",
    "pets = ['dog', 'cat', 'dog', 'goldfish', 'cat', 'rabbit', 'cat']\n",
    "print(pets)\n",
    "\n",
    "while 'cat' in pets:\n",
    "    pets.remove('cat')\n",
    "print(pets)"
   ]
  },
  {
   "cell_type": "markdown",
   "id": "5edfc854-c1de-415f-813e-87f0403f1e3c",
   "metadata": {},
   "source": [
    "### 使用用户输入来填充字典"
   ]
  },
  {
   "cell_type": "code",
   "execution_count": 11,
   "id": "9b40fa8f-2a9b-4d6c-aa92-d9d2651ce604",
   "metadata": {
    "execution": {
     "iopub.execute_input": "2024-04-12T02:49:30.103814Z",
     "iopub.status.busy": "2024-04-12T02:49:30.103814Z",
     "iopub.status.idle": "2024-04-12T02:50:15.221586Z",
     "shell.execute_reply": "2024-04-12T02:50:15.219065Z",
     "shell.execute_reply.started": "2024-04-12T02:49:30.103814Z"
    }
   },
   "outputs": [
    {
     "name": "stdin",
     "output_type": "stream",
     "text": [
      "\n",
      "What is your name?  Ruby\n",
      "Which mountain would you like to climb someday?  Tai Mountain\n",
      "Would you like to let another person respond? (yes/ no)  yes\n",
      "\n",
      "What is your name?  Roy\n",
      "Which mountain would you like to climb someday?  Lu Mountain\n",
      "Would you like to let another person respond? (yes/ no)  no\n"
     ]
    },
    {
     "name": "stdout",
     "output_type": "stream",
     "text": [
      "\n",
      "--- Poll Results ---\n",
      "Ruby would like to climb Tai Mountain.\n",
      "Roy would like to climb Lu Mountain.\n"
     ]
    }
   ],
   "source": [
    "responses = {}\n",
    "\n",
    "polling_active = True\n",
    "\n",
    "while polling_active:\n",
    "    name = input(\"\\nWhat is your name? \")\n",
    "    response = input(\"Which mountain would you like to climb someday? \")\n",
    "    responses[name] = response\n",
    "    \n",
    "    repeat = input(\"Would you like to let another person respond? (yes/ no) \")\n",
    "    if repeat == 'no':\n",
    "        polling_active = False\n",
    "\n",
    "print(\"\\n--- Poll Results ---\")\n",
    "for name, response in responses.items():\n",
    "    print(f\"{name} would like to climb {response}.\")"
   ]
  },
  {
   "cell_type": "markdown",
   "id": "e50e9392-1f09-4fe1-9e4e-fdc95ebe7292",
   "metadata": {},
   "source": [
    "### 练习"
   ]
  },
  {
   "cell_type": "code",
   "execution_count": 24,
   "id": "9a9cb060-3256-481d-9a84-024eac700d9e",
   "metadata": {
    "execution": {
     "iopub.execute_input": "2024-04-12T07:32:32.617640Z",
     "iopub.status.busy": "2024-04-12T07:32:32.613166Z",
     "iopub.status.idle": "2024-04-12T07:32:32.631777Z",
     "shell.execute_reply": "2024-04-12T07:32:32.630177Z",
     "shell.execute_reply.started": "2024-04-12T07:32:32.617640Z"
    }
   },
   "outputs": [
    {
     "name": "stdout",
     "output_type": "stream",
     "text": [
      "Your Ham and Cheese Sandwich has been made.\n",
      "Your Turkey Club Sandwich has been made.\n",
      "Your Tuna Salad Sandwich has been made.\n",
      "Your Veggie Delight Sandwich has been made.\n",
      "\n",
      "['Ham and Cheese', 'Turkey Club', 'Tuna Salad', 'Veggie Delight']\n"
     ]
    }
   ],
   "source": [
    "sandwich_orders = ['Ham and Cheese','Turkey Club','Tuna Salad','Veggie Delight']\n",
    "finished_sandwiches = []\n",
    "while sandwich_orders:\n",
    "    order = sandwich_orders.pop(0)\n",
    "    print(f\"Your {order} Sandwich has been made.\")\n",
    "    finished_sandwiches.append(order)\n",
    "print()\n",
    "print(finished_sandwiches)"
   ]
  },
  {
   "cell_type": "code",
   "execution_count": 25,
   "id": "662941d9-b5fb-4fc7-b3c9-30c06a2ec8d4",
   "metadata": {
    "execution": {
     "iopub.execute_input": "2024-04-12T07:37:34.595234Z",
     "iopub.status.busy": "2024-04-12T07:37:34.595234Z",
     "iopub.status.idle": "2024-04-12T07:37:34.611631Z",
     "shell.execute_reply": "2024-04-12T07:37:34.608104Z",
     "shell.execute_reply.started": "2024-04-12T07:37:34.595234Z"
    }
   },
   "outputs": [
    {
     "name": "stdout",
     "output_type": "stream",
     "text": [
      "The deli ran out of pastrami.\n",
      "['Ham', 'Turkey Club', 'Tuna', 'Veggie Delight']\n"
     ]
    }
   ],
   "source": [
    "sandwich_orders = ['Pastrami','Ham','Pastrami','Turkey Club','Tuna','Pastrami','Veggie Delight']\n",
    "print(\"The deli ran out of pastrami.\")\n",
    "while 'Pastrami' in sandwich_orders:\n",
    "    sandwich_orders.remove('Pastrami')\n",
    "print(sandwich_orders)"
   ]
  },
  {
   "cell_type": "code",
   "execution_count": 28,
   "id": "4ed29ae6-9af3-4ad9-856e-35a401c22e91",
   "metadata": {
    "execution": {
     "iopub.execute_input": "2024-04-12T07:45:06.409815Z",
     "iopub.status.busy": "2024-04-12T07:45:06.409815Z",
     "iopub.status.idle": "2024-04-12T07:45:49.727460Z",
     "shell.execute_reply": "2024-04-12T07:45:49.724834Z",
     "shell.execute_reply.started": "2024-04-12T07:45:06.409815Z"
    }
   },
   "outputs": [
    {
     "name": "stdin",
     "output_type": "stream",
     "text": [
      "What is your name?  ruby\n",
      "If you could visit one place in the world, where would you go?  The Republic of Iceland\n"
     ]
    },
    {
     "name": "stdout",
     "output_type": "stream",
     "text": [
      "Here are the results.\n",
      "Ruby wants to go to The Republic Of Iceland.\n"
     ]
    }
   ],
   "source": [
    "poll = {}\n",
    "while True:\n",
    "    name=input(\"What is your name? \")\n",
    "    resort=input(\"If you could visit one place in the world, where would you go? \")\n",
    "    poll[name]=resort\n",
    "    break\n",
    "\n",
    "print(\"Here are the results.\")\n",
    "for name,resort in poll.items():\n",
    "    print(f\"{name.title()} wants to go to {resort.title()}.\")"
   ]
  }
 ],
 "metadata": {
  "kernelspec": {
   "display_name": "Python 3 (ipykernel)",
   "language": "python",
   "name": "python3"
  },
  "language_info": {
   "codemirror_mode": {
    "name": "ipython",
    "version": 3
   },
   "file_extension": ".py",
   "mimetype": "text/x-python",
   "name": "python",
   "nbconvert_exporter": "python",
   "pygments_lexer": "ipython3",
   "version": "3.11.5"
  }
 },
 "nbformat": 4,
 "nbformat_minor": 5
}
