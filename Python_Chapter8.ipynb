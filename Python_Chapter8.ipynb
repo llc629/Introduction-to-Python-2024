{
 "cells": [
  {
   "cell_type": "markdown",
   "id": "7c694c2e-ab72-4198-b556-0620ce6abf60",
   "metadata": {},
   "source": [
    "# 函数\n",
    "面向过程程序设计"
   ]
  },
  {
   "cell_type": "markdown",
   "id": "25c6f13f-255b-40f8-8604-0e18faa5c088",
   "metadata": {},
   "source": [
    "## 定义函数"
   ]
  },
  {
   "cell_type": "code",
   "execution_count": 3,
   "id": "1b203683-21ed-441e-9718-c4080f5b17cf",
   "metadata": {
    "execution": {
     "iopub.execute_input": "2024-04-12T03:14:21.225009Z",
     "iopub.status.busy": "2024-04-12T03:14:21.225009Z",
     "iopub.status.idle": "2024-04-12T03:14:21.241107Z",
     "shell.execute_reply": "2024-04-12T03:14:21.238571Z",
     "shell.execute_reply.started": "2024-04-12T03:14:21.225009Z"
    }
   },
   "outputs": [
    {
     "name": "stdout",
     "output_type": "stream",
     "text": [
      "Hello!\n"
     ]
    }
   ],
   "source": [
    "def greet_user():      #在圆括号内指出函数为完成任务需要什么信息,函数定义以冒号结尾\n",
    "    \"\"\"显示简单的问候语。\"\"\"   #文档字符串 （docstring）：描述函数是做什么的,用三引号括起\n",
    "    print(\"Hello!\")\n",
    "greet_user()  #函数调用:依次指定函数名以及用圆括号括起的必要信息"
   ]
  },
  {
   "cell_type": "markdown",
   "id": "6f9c78ec-c236-4acc-a292-f00adc9843f7",
   "metadata": {},
   "source": [
    "### 向函数传递信息"
   ]
  },
  {
   "cell_type": "code",
   "execution_count": 5,
   "id": "b6dd43c9-4442-4483-9fd5-030f4da6deba",
   "metadata": {
    "execution": {
     "iopub.execute_input": "2024-04-12T03:29:02.583478Z",
     "iopub.status.busy": "2024-04-12T03:29:02.583478Z",
     "iopub.status.idle": "2024-04-12T03:29:02.597620Z",
     "shell.execute_reply": "2024-04-12T03:29:02.594352Z",
     "shell.execute_reply.started": "2024-04-12T03:29:02.583478Z"
    }
   },
   "outputs": [
    {
     "name": "stdout",
     "output_type": "stream",
     "text": [
      "Hello, Jesse!\n"
     ]
    }
   ],
   "source": [
    "def greet_user(username):\n",
    "    \"\"\"显示简单的问候语。\"\"\"\n",
    "    print(f\"Hello, {username.title()}!\")\n",
    "greet_user('jesse')"
   ]
  },
  {
   "cell_type": "markdown",
   "id": "fb5c0399-1a84-4f92-8320-1f23ed8926f3",
   "metadata": {},
   "source": [
    "### 实参和形参"
   ]
  },
  {
   "cell_type": "code",
   "execution_count": 25,
   "id": "e0dd877c-d92d-4645-8c22-659da9399b72",
   "metadata": {
    "execution": {
     "iopub.execute_input": "2024-04-12T07:52:41.368125Z",
     "iopub.status.busy": "2024-04-12T07:52:41.366942Z",
     "iopub.status.idle": "2024-04-12T07:52:41.379637Z",
     "shell.execute_reply": "2024-04-12T07:52:41.376802Z",
     "shell.execute_reply.started": "2024-04-12T07:52:41.368125Z"
    }
   },
   "outputs": [],
   "source": [
    "#变量username:形参（parameter），即函数完成工作所需的信息\n",
    "#值jess:实参（argument），即调用函数时传递给函数的信息。\n",
    "#大家有时候会形参、实参不分"
   ]
  },
  {
   "cell_type": "markdown",
   "id": "7a7c41a7-1ba2-4b5c-8630-d9570ca54732",
   "metadata": {},
   "source": [
    "### 练习"
   ]
  },
  {
   "cell_type": "code",
   "execution_count": 26,
   "id": "79226f4f-2613-4327-af9d-72ed80ec6c20",
   "metadata": {
    "execution": {
     "iopub.execute_input": "2024-04-12T07:56:03.435224Z",
     "iopub.status.busy": "2024-04-12T07:56:03.435224Z",
     "iopub.status.idle": "2024-04-12T07:56:03.451310Z",
     "shell.execute_reply": "2024-04-12T07:56:03.448788Z",
     "shell.execute_reply.started": "2024-04-12T07:56:03.435224Z"
    }
   },
   "outputs": [
    {
     "name": "stdout",
     "output_type": "stream",
     "text": [
      "This chapter is about Function.\n"
     ]
    }
   ],
   "source": [
    "def display_message(content):\n",
    "    \"\"\"本章学习的内容\"\"\"\n",
    "    print(f\"This chapter is about {content}.\")\n",
    "display_message('Function')"
   ]
  },
  {
   "cell_type": "code",
   "execution_count": 27,
   "id": "f6ae703b-afb0-4fe8-90d8-4a6fd569ad3f",
   "metadata": {
    "execution": {
     "iopub.execute_input": "2024-04-12T07:58:06.209042Z",
     "iopub.status.busy": "2024-04-12T07:58:06.209042Z",
     "iopub.status.idle": "2024-04-12T07:58:06.228341Z",
     "shell.execute_reply": "2024-04-12T07:58:06.225935Z",
     "shell.execute_reply.started": "2024-04-12T07:58:06.209042Z"
    }
   },
   "outputs": [
    {
     "name": "stdout",
     "output_type": "stream",
     "text": [
      "One of my favorite books is The Old and the Sea\n"
     ]
    }
   ],
   "source": [
    "def favorite_book(title):\n",
    "    \"\"\"喜欢的书名\"\"\"\n",
    "    print(f\"One of my favorite books is {title}\")\n",
    "favorite_book('The Old and the Sea')"
   ]
  },
  {
   "cell_type": "markdown",
   "id": "0b5d8c90-621d-428f-8d8d-c72d1bfd9cd6",
   "metadata": {},
   "source": [
    "## 传递实参"
   ]
  },
  {
   "cell_type": "markdown",
   "id": "a452c621-2d36-41b0-9481-fe9224db93c0",
   "metadata": {},
   "source": [
    "向函数传递实参的方式很多：\n",
    "\n",
    "可使用位置实参，这要求实参的顺序与形参的顺序相同；\n",
    "\n",
    "可使用关键字实参，每个实参都由变量名和值组成；\n",
    "\n",
    "还可使用列表和字典。"
   ]
  },
  {
   "cell_type": "markdown",
   "id": "33c1b3e2-ffcb-45d9-9046-ebd26828cc54",
   "metadata": {},
   "source": [
    "### 位置实参"
   ]
  },
  {
   "cell_type": "code",
   "execution_count": 6,
   "id": "64c3e98e-e969-47bc-a228-ad2c6d779c9d",
   "metadata": {
    "execution": {
     "iopub.execute_input": "2024-04-12T03:31:42.443707Z",
     "iopub.status.busy": "2024-04-12T03:31:42.440436Z",
     "iopub.status.idle": "2024-04-12T03:31:42.457719Z",
     "shell.execute_reply": "2024-04-12T03:31:42.454543Z",
     "shell.execute_reply.started": "2024-04-12T03:31:42.443707Z"
    }
   },
   "outputs": [
    {
     "name": "stdout",
     "output_type": "stream",
     "text": [
      "\n",
      "I have a hamster.\n",
      "My hamster's name is Harry.\n"
     ]
    }
   ],
   "source": [
    "def describe_pet(animal_type, pet_name):\n",
    "    \"\"\"显示宠物的信息。\"\"\"\n",
    "    print(f\"\\nI have a {animal_type}.\")\n",
    "    print(f\"My {animal_type}'s name is {pet_name.title()}.\")\n",
    "describe_pet('hamster', 'harry')\n",
    "#顺序很重要"
   ]
  },
  {
   "cell_type": "code",
   "execution_count": 7,
   "id": "78193e45-bda1-4e3c-ad4f-cd77da7a6d55",
   "metadata": {
    "execution": {
     "iopub.execute_input": "2024-04-12T03:33:30.132291Z",
     "iopub.status.busy": "2024-04-12T03:33:30.132291Z",
     "iopub.status.idle": "2024-04-12T03:33:30.148761Z",
     "shell.execute_reply": "2024-04-12T03:33:30.146029Z",
     "shell.execute_reply.started": "2024-04-12T03:33:30.132291Z"
    }
   },
   "outputs": [
    {
     "name": "stdout",
     "output_type": "stream",
     "text": [
      "\n",
      "I have a hamster.\n",
      "My hamster's name is Harry.\n",
      "\n",
      "I have a dog.\n",
      "My dog's name is Willie.\n"
     ]
    }
   ],
   "source": [
    "#多次调用函数\n",
    "\n",
    "def describe_pet(animal_type, pet_name):\n",
    "    \"\"\"显示宠物的信息。\"\"\"\n",
    "    print(f\"\\nI have a {animal_type}.\")\n",
    "    print(f\"My {animal_type}'s name is {pet_name.title()}.\")\n",
    "describe_pet('hamster', 'harry')\n",
    "describe_pet('dog', 'willie')"
   ]
  },
  {
   "cell_type": "markdown",
   "id": "93175590-c15b-4469-af14-c9bda812ff39",
   "metadata": {},
   "source": [
    "### 关键字实参"
   ]
  },
  {
   "cell_type": "code",
   "execution_count": 28,
   "id": "02f6ae4c-9c07-4cf7-ab99-109df6cd2f6f",
   "metadata": {
    "execution": {
     "iopub.execute_input": "2024-04-12T08:25:09.392298Z",
     "iopub.status.busy": "2024-04-12T08:25:09.390767Z",
     "iopub.status.idle": "2024-04-12T08:25:09.407539Z",
     "shell.execute_reply": "2024-04-12T08:25:09.405025Z",
     "shell.execute_reply.started": "2024-04-12T08:25:09.392298Z"
    }
   },
   "outputs": [
    {
     "name": "stdout",
     "output_type": "stream",
     "text": [
      "\n",
      "I have a hamster.\n",
      "My hamster's name is Harry.\n",
      "\n",
      "I have a hamster.\n",
      "My hamster's name is Harry.\n"
     ]
    }
   ],
   "source": [
    "def describe_pet(animal_type, pet_name):\n",
    "    \"\"\"显示宠物的信息。\"\"\"\n",
    "    print(f\"\\nI have a {animal_type}.\")\n",
    "    print(f\"My {animal_type}'s name is {pet_name.title()}.\")\n",
    "describe_pet(animal_type='hamster', pet_name='harry')\n",
    "describe_pet(pet_name='harry', animal_type='hamster')   #关键字实参的顺序无关紧要\n",
    "\n",
    "#务必准确指定函数定义中的形参名"
   ]
  },
  {
   "cell_type": "markdown",
   "id": "7319f528-b8a9-4288-a3a7-cb8f97743428",
   "metadata": {},
   "source": [
    "### 默认值。"
   ]
  },
  {
   "cell_type": "code",
   "execution_count": 29,
   "id": "0550e6e4-ab9f-4b5e-b030-f279487c2e7b",
   "metadata": {
    "execution": {
     "iopub.execute_input": "2024-04-12T08:27:43.206419Z",
     "iopub.status.busy": "2024-04-12T08:27:43.203600Z",
     "iopub.status.idle": "2024-04-12T08:27:43.224957Z",
     "shell.execute_reply": "2024-04-12T08:27:43.219396Z",
     "shell.execute_reply.started": "2024-04-12T08:27:43.206419Z"
    }
   },
   "outputs": [
    {
     "name": "stdout",
     "output_type": "stream",
     "text": [
      "\n",
      "I have a dog.\n",
      "My dog's name is Dudu.\n"
     ]
    }
   ],
   "source": [
    "#将形参animal_type 的默认值设置为'dog'\n",
    "#需要将pet_name 放在形参列表开头。\n",
    "\n",
    "def describe_pet(pet_name,animal_type='dog'):\n",
    "    \"\"\"显示宠物的信息。\"\"\"\n",
    "    print(f\"\\nI have a {animal_type}.\")\n",
    "    print(f\"My {animal_type}'s name is {pet_name.title()}.\")\n",
    "describe_pet(pet_name='dudu')\n",
    "\n",
    "#使用默认值时，必须先在形参列表中列出没有默认值的形参，再列出有默认值的实参。这让Python依然能够正确地解读位置实参。"
   ]
  },
  {
   "cell_type": "code",
   "execution_count": 30,
   "id": "ca3fae85-8de9-4f36-af38-feff301fc679",
   "metadata": {
    "execution": {
     "iopub.execute_input": "2024-04-12T08:28:01.447485Z",
     "iopub.status.busy": "2024-04-12T08:28:01.447485Z",
     "iopub.status.idle": "2024-04-12T08:28:01.463419Z",
     "shell.execute_reply": "2024-04-12T08:28:01.461319Z",
     "shell.execute_reply.started": "2024-04-12T08:28:01.447485Z"
    }
   },
   "outputs": [
    {
     "name": "stdout",
     "output_type": "stream",
     "text": [
      "\n",
      "I have a dog.\n",
      "My dog's name is Willie.\n"
     ]
    }
   ],
   "source": [
    "def describe_pet(pet_name,animal_type='dog'):\n",
    "    \"\"\"显示宠物的信息。\"\"\"\n",
    "    print(f\"\\nI have a {animal_type}.\")\n",
    "    print(f\"My {animal_type}'s name is {pet_name.title()}.\")\n",
    "describe_pet('willie') #最简略的调用"
   ]
  },
  {
   "cell_type": "code",
   "execution_count": 31,
   "id": "15fefc3a-10c5-4f80-b295-65f073e25a7c",
   "metadata": {
    "execution": {
     "iopub.execute_input": "2024-04-12T08:29:14.876740Z",
     "iopub.status.busy": "2024-04-12T08:29:14.876740Z",
     "iopub.status.idle": "2024-04-12T08:29:14.892157Z",
     "shell.execute_reply": "2024-04-12T08:29:14.890065Z",
     "shell.execute_reply.started": "2024-04-12T08:29:14.876740Z"
    }
   },
   "outputs": [
    {
     "name": "stdout",
     "output_type": "stream",
     "text": [
      "\n",
      "I have a cat.\n",
      "My cat's name is Mimi.\n"
     ]
    }
   ],
   "source": [
    "def describe_pet(pet_name,animal_type='dog'):\n",
    "    \"\"\"显示宠物的信息。\"\"\"\n",
    "    print(f\"\\nI have a {animal_type}.\")\n",
    "    print(f\"My {animal_type}'s name is {pet_name.title()}.\")\n",
    "#如果不是狗\n",
    "describe_pet(pet_name='mimi',animal_type='cat')"
   ]
  },
  {
   "cell_type": "markdown",
   "id": "84d894e1-0073-45b1-a621-556bd0ef8ed1",
   "metadata": {},
   "source": [
    "### 等效的函数调用"
   ]
  },
  {
   "cell_type": "code",
   "execution_count": 22,
   "id": "d8c00fbb-0146-4de9-9659-a1b6de250bb2",
   "metadata": {
    "execution": {
     "iopub.execute_input": "2024-04-12T03:45:42.116676Z",
     "iopub.status.busy": "2024-04-12T03:45:42.116676Z",
     "iopub.status.idle": "2024-04-12T03:45:42.145786Z",
     "shell.execute_reply": "2024-04-12T03:45:42.143385Z",
     "shell.execute_reply.started": "2024-04-12T03:45:42.116676Z"
    }
   },
   "outputs": [
    {
     "name": "stdout",
     "output_type": "stream",
     "text": [
      "\n",
      "I have a dog.\n",
      "My dog's name is Willie.\n",
      "\n",
      "I have a dog.\n",
      "My dog's name is Willie.\n",
      "\n",
      "I have a hamster.\n",
      "My hamster's name is Harry.\n",
      "\n",
      "I have a hamster.\n",
      "My hamster's name is Harry.\n",
      "\n",
      "I have a hamster.\n",
      "My hamster's name is Harry.\n"
     ]
    }
   ],
   "source": [
    "def describe_pet(pet_name, animal_type='dog'):\n",
    "    \"\"\"显示宠物的信息。\"\"\"\n",
    "    print(f\"\\nI have a {animal_type}.\")\n",
    "    print(f\"My {animal_type}'s name is {pet_name.title()}.\")\n",
    "    \n",
    "# 一条名为Willie的小狗。\n",
    "describe_pet('willie')\n",
    "describe_pet(pet_name='willie')\n",
    "\n",
    "# 一只名为Harry的仓鼠。\n",
    "describe_pet('harry', 'hamster')\n",
    "describe_pet(pet_name='harry', animal_type='hamster')\n",
    "describe_pet(animal_type='hamster', pet_name='harry')"
   ]
  },
  {
   "cell_type": "markdown",
   "id": "b957b412-6a38-4dfa-a8d9-910a706e3890",
   "metadata": {},
   "source": [
    "### 避免实参错误"
   ]
  },
  {
   "cell_type": "markdown",
   "id": "64812996-a7cb-4892-ac37-954595fe3a4f",
   "metadata": {},
   "source": [
    "### 练习"
   ]
  },
  {
   "cell_type": "code",
   "execution_count": 33,
   "id": "82e15d3b-98d5-4603-83e5-c0a031201fb7",
   "metadata": {
    "execution": {
     "iopub.execute_input": "2024-04-12T08:35:55.195818Z",
     "iopub.status.busy": "2024-04-12T08:35:55.191816Z",
     "iopub.status.idle": "2024-04-12T08:35:55.209590Z",
     "shell.execute_reply": "2024-04-12T08:35:55.207509Z",
     "shell.execute_reply.started": "2024-04-12T08:35:55.195818Z"
    }
   },
   "outputs": [
    {
     "name": "stdout",
     "output_type": "stream",
     "text": [
      "The T-shirt is a small size with the words 'Ok' on it.\n",
      "The T-shirt is a medium size with the words 'Bye' on it.\n"
     ]
    }
   ],
   "source": [
    "def make_shirt(size,text):\n",
    "    \"\"\"说明尺码以及T恤上的字样\"\"\"\n",
    "    print(f\"The T-shirt is a {size} size with the words '{text}' on it.\")\n",
    "make_shirt('small','Ok')\n",
    "make_shirt(size='medium',text='Bye')"
   ]
  },
  {
   "cell_type": "code",
   "execution_count": 34,
   "id": "2baa6979-19f6-40ec-b679-741858233425",
   "metadata": {
    "execution": {
     "iopub.execute_input": "2024-04-12T08:37:41.515115Z",
     "iopub.status.busy": "2024-04-12T08:37:41.515115Z",
     "iopub.status.idle": "2024-04-12T08:37:41.531902Z",
     "shell.execute_reply": "2024-04-12T08:37:41.528154Z",
     "shell.execute_reply.started": "2024-04-12T08:37:41.515115Z"
    }
   },
   "outputs": [
    {
     "name": "stdout",
     "output_type": "stream",
     "text": [
      "The T-shirt is a big size with the words 'I love Python' on it.\n",
      "The T-shirt is a medium size with the words 'I love Python' on it.\n",
      "The T-shirt is a medium size with the words 'others' on it.\n"
     ]
    }
   ],
   "source": [
    "def make_shirt(size,text='I love Python'):\n",
    "    \"\"\"说明尺码以及T恤上的字样\"\"\"\n",
    "    print(f\"The T-shirt is a {size} size with the words '{text}' on it.\")\n",
    "make_shirt('big')\n",
    "make_shirt(size='medium')\n",
    "make_shirt(text='others',size='medium')"
   ]
  },
  {
   "cell_type": "code",
   "execution_count": 37,
   "id": "75c69da5-c34d-4f2d-af1a-a0b8d1351d63",
   "metadata": {
    "execution": {
     "iopub.execute_input": "2024-04-12T08:40:53.524854Z",
     "iopub.status.busy": "2024-04-12T08:40:53.520846Z",
     "iopub.status.idle": "2024-04-12T08:40:53.540892Z",
     "shell.execute_reply": "2024-04-12T08:40:53.538026Z",
     "shell.execute_reply.started": "2024-04-12T08:40:53.524854Z"
    }
   },
   "outputs": [
    {
     "name": "stdout",
     "output_type": "stream",
     "text": [
      "Nanjing is in China.\n",
      "Beijing is in China.\n",
      "Tokyo is in Japan.\n"
     ]
    }
   ],
   "source": [
    "def describe_city(city,country='china'):\n",
    "    \"\"\"城市的名字以及该城市所属的国家\"\"\"\n",
    "    print(f\"{city.title()} is in {country.title()}.\")\n",
    "describe_city('nanjing')\n",
    "describe_city('beijing')\n",
    "describe_city('tokyo',country='Japan')"
   ]
  },
  {
   "cell_type": "markdown",
   "id": "f3d80f8c-6231-42f3-a5bd-ec2a196368d4",
   "metadata": {},
   "source": [
    "## 返回值"
   ]
  },
  {
   "cell_type": "markdown",
   "id": "f612f4e4-8685-4958-bbbb-ec6ee1c3d2a6",
   "metadata": {},
   "source": [
    "### 返回简单值"
   ]
  },
  {
   "cell_type": "code",
   "execution_count": 23,
   "id": "7c38c4b7-ce9a-4965-a50a-6a47b76d05d0",
   "metadata": {
    "execution": {
     "iopub.execute_input": "2024-04-12T03:50:32.600953Z",
     "iopub.status.busy": "2024-04-12T03:50:32.600953Z",
     "iopub.status.idle": "2024-04-12T03:50:32.616152Z",
     "shell.execute_reply": "2024-04-12T03:50:32.614511Z",
     "shell.execute_reply.started": "2024-04-12T03:50:32.600953Z"
    }
   },
   "outputs": [
    {
     "name": "stdout",
     "output_type": "stream",
     "text": [
      "Jimi Hendrix\n"
     ]
    }
   ],
   "source": [
    "def get_formatted_name(first_name, last_name):\n",
    "    \"\"\"返回整洁的姓名。\"\"\"\n",
    "    full_name = f\"{first_name} {last_name}\"\n",
    "    return full_name.title()\n",
    "musician = get_formatted_name('jimi', 'hendrix')\n",
    "print(musician)"
   ]
  },
  {
   "cell_type": "markdown",
   "id": "0ea2c9a3-58e5-4293-9d47-0c4a0199e2ce",
   "metadata": {},
   "source": [
    "### 让实参变成可选的"
   ]
  },
  {
   "cell_type": "code",
   "execution_count": 41,
   "id": "0f1e9124-b1a3-4346-a0cf-b065c5eedf5d",
   "metadata": {
    "execution": {
     "iopub.execute_input": "2024-04-12T08:45:59.527746Z",
     "iopub.status.busy": "2024-04-12T08:45:59.523890Z",
     "iopub.status.idle": "2024-04-12T08:45:59.544369Z",
     "shell.execute_reply": "2024-04-12T08:45:59.541203Z",
     "shell.execute_reply.started": "2024-04-12T08:45:59.527746Z"
    }
   },
   "outputs": [
    {
     "name": "stdout",
     "output_type": "stream",
     "text": [
      "John Lee Hooker\n"
     ]
    }
   ],
   "source": [
    "def get_formatted_name(first_name, middle_name, last_name):\n",
    "    \"\"\"返回整洁的姓名。\"\"\"\n",
    "    full_name = f\"{first_name} {middle_name} {last_name}\"\n",
    "    return full_name.title()\n",
    "musician = get_formatted_name('john', 'lee', 'hooker')\n",
    "print(musician)"
   ]
  },
  {
   "cell_type": "code",
   "execution_count": 42,
   "id": "d63a4c46-416b-49db-b65e-b4504c7801e9",
   "metadata": {
    "execution": {
     "iopub.execute_input": "2024-04-12T08:47:55.047610Z",
     "iopub.status.busy": "2024-04-12T08:47:55.043301Z",
     "iopub.status.idle": "2024-04-12T08:47:55.064566Z",
     "shell.execute_reply": "2024-04-12T08:47:55.062423Z",
     "shell.execute_reply.started": "2024-04-12T08:47:55.047610Z"
    }
   },
   "outputs": [
    {
     "name": "stdout",
     "output_type": "stream",
     "text": [
      "Jimi Hendrix\n",
      "John Lee Hooker\n"
     ]
    }
   ],
   "source": [
    "def get_formatted_name(first_name, last_name, middle_name=''):\n",
    "    \"\"\"返回整洁的姓名。\"\"\"\n",
    "    if middle_name: #将非空字符串middle_name解读为True\n",
    "        full_name = f\"{first_name} {middle_name} {last_name}\"\n",
    "    else:\n",
    "        full_name = f\"{first_name} {last_name}\"\n",
    "    return full_name.title()\n",
    "    \n",
    "musician = get_formatted_name('jimi', 'hendrix')\n",
    "print(musician)\n",
    "musician = get_formatted_name('john', 'hooker', 'lee')\n",
    "print(musician)"
   ]
  },
  {
   "cell_type": "markdown",
   "id": "7f42d7d5-2413-422e-a4bf-cc2aa2480c20",
   "metadata": {},
   "source": [
    "### 返回字典"
   ]
  },
  {
   "cell_type": "code",
   "execution_count": 43,
   "id": "9fedd20a-0c36-41b1-bbc0-03f3564d0c35",
   "metadata": {
    "execution": {
     "iopub.execute_input": "2024-04-12T08:50:04.366431Z",
     "iopub.status.busy": "2024-04-12T08:50:04.365914Z",
     "iopub.status.idle": "2024-04-12T08:50:04.380035Z",
     "shell.execute_reply": "2024-04-12T08:50:04.379005Z",
     "shell.execute_reply.started": "2024-04-12T08:50:04.366431Z"
    }
   },
   "outputs": [
    {
     "name": "stdout",
     "output_type": "stream",
     "text": [
      "{'first': 'jimi', 'last': 'hendrix'}\n"
     ]
    }
   ],
   "source": [
    "def build_person(first_name, last_name):\n",
    "    \"\"\"返回一个字典，其中包含有关一个人的信息。\"\"\"\n",
    "    person = {'first': first_name, 'last': last_name}\n",
    "    return person\n",
    "musician = build_person('jimi', 'hendrix')\n",
    "print(musician)"
   ]
  },
  {
   "cell_type": "code",
   "execution_count": 44,
   "id": "867b2212-e037-47cb-9ce5-6dfa5ea33fc1",
   "metadata": {
    "execution": {
     "iopub.execute_input": "2024-04-12T08:52:11.470567Z",
     "iopub.status.busy": "2024-04-12T08:52:11.470567Z",
     "iopub.status.idle": "2024-04-12T08:52:11.490170Z",
     "shell.execute_reply": "2024-04-12T08:52:11.486044Z",
     "shell.execute_reply.started": "2024-04-12T08:52:11.470567Z"
    }
   },
   "outputs": [
    {
     "name": "stdout",
     "output_type": "stream",
     "text": [
      "{'first': 'jimi', 'last': 'hendrix', 'age': 27}\n"
     ]
    }
   ],
   "source": [
    "#新增可选形参age ，将其默认值设置为特殊值None（表示变量没有值）\n",
    "def build_person(first_name, last_name, age=None):\n",
    "    \"\"\"返回一个字典，其中包含有关一个人的信息。\"\"\"\n",
    "    person = {'first': first_name, 'last': last_name}\n",
    "    if age:                #可将None视为占位值,在条件测试中相当于False\n",
    "        person['age'] = age\n",
    "    return person\n",
    "musician = build_person('jimi', 'hendrix', age=27)\n",
    "print(musician)"
   ]
  },
  {
   "cell_type": "markdown",
   "id": "2c681f91-98e1-4c88-8bad-4ca6845a6515",
   "metadata": {},
   "source": [
    "### 结合使用函数和while 循环"
   ]
  },
  {
   "cell_type": "code",
   "execution_count": 49,
   "id": "71093b0d-2e8d-42ce-a1c4-3bb34dd775f0",
   "metadata": {
    "execution": {
     "iopub.execute_input": "2024-04-12T09:00:08.794798Z",
     "iopub.status.busy": "2024-04-12T09:00:08.794798Z",
     "iopub.status.idle": "2024-04-12T09:00:12.263642Z",
     "shell.execute_reply": "2024-04-12T09:00:12.262109Z",
     "shell.execute_reply.started": "2024-04-12T09:00:08.794798Z"
    }
   },
   "outputs": [
    {
     "name": "stdout",
     "output_type": "stream",
     "text": [
      "Please tell me your name:\n"
     ]
    },
    {
     "name": "stdin",
     "output_type": "stream",
     "text": [
      "First name:  ruby\n",
      "Last name:  lowe\n"
     ]
    },
    {
     "name": "stdout",
     "output_type": "stream",
     "text": [
      "\n",
      "Hello, Ruby Lowe!\n"
     ]
    }
   ],
   "source": [
    "def get_formatted_name(first_name, last_name):\n",
    "    \"\"\"返回整洁的姓名。\"\"\"\n",
    "    full_name = f\"{first_name} {last_name}\"\n",
    "    return full_name.title()\n",
    "\n",
    "while True:\n",
    "    print(\"Please tell me your name:\")\n",
    "    f_name = input(\"First name: \")\n",
    "    l_name = input(\"Last name: \")\n",
    "    break\n",
    "formatted_name = get_formatted_name(f_name, l_name)\n",
    "print(f\"\\nHello, {formatted_name}!\")"
   ]
  },
  {
   "cell_type": "code",
   "execution_count": 47,
   "id": "401c9aa7-9af6-4278-9441-489cd5da4b9f",
   "metadata": {
    "execution": {
     "iopub.execute_input": "2024-04-12T08:58:43.291609Z",
     "iopub.status.busy": "2024-04-12T08:58:43.291609Z",
     "iopub.status.idle": "2024-04-12T08:59:02.769208Z",
     "shell.execute_reply": "2024-04-12T08:59:02.766992Z",
     "shell.execute_reply.started": "2024-04-12T08:58:43.291609Z"
    }
   },
   "outputs": [
    {
     "name": "stdout",
     "output_type": "stream",
     "text": [
      "\n",
      "Please tell me your name:\n",
      "(enter 'q' at any time to quit)\n"
     ]
    },
    {
     "name": "stdin",
     "output_type": "stream",
     "text": [
      "First name:  ruby\n",
      "Last name:  lowe\n"
     ]
    },
    {
     "name": "stdout",
     "output_type": "stream",
     "text": [
      "\n",
      "Hello, Ruby Lowe!\n",
      "\n",
      "Please tell me your name:\n",
      "(enter 'q' at any time to quit)\n"
     ]
    },
    {
     "name": "stdin",
     "output_type": "stream",
     "text": [
      "First name:  q\n"
     ]
    }
   ],
   "source": [
    "def get_formatted_name(first_name, last_name):\n",
    "    \"\"\"返回整洁的姓名。\"\"\"\n",
    "    full_name = f\"{first_name} {last_name}\"\n",
    "    return full_name.title()\n",
    "while True:\n",
    "    print(\"\\nPlease tell me your name:\")\n",
    "    print(\"(enter 'q' at any time to quit)\")\n",
    "    \n",
    "    f_name = input(\"First name: \")\n",
    "    if f_name == 'q':\n",
    "        break\n",
    "    \n",
    "    l_name = input(\"Last name: \")\n",
    "    if l_name == 'q':\n",
    "        break\n",
    "    \n",
    "    formatted_name = get_formatted_name(f_name, l_name)\n",
    "    print(f\"\\nHello, {formatted_name}!\")"
   ]
  },
  {
   "cell_type": "markdown",
   "id": "f6f7941f-5d19-4bd3-93f4-cbe4d1cba746",
   "metadata": {},
   "source": [
    "### 练习"
   ]
  },
  {
   "cell_type": "code",
   "execution_count": 51,
   "id": "1cf0bb43-3fad-4b07-b6f4-d4da2ae87f1d",
   "metadata": {
    "execution": {
     "iopub.execute_input": "2024-04-12T09:25:21.990026Z",
     "iopub.status.busy": "2024-04-12T09:25:21.989006Z",
     "iopub.status.idle": "2024-04-12T09:25:21.996582Z",
     "shell.execute_reply": "2024-04-12T09:25:21.996065Z",
     "shell.execute_reply.started": "2024-04-12T09:25:21.990026Z"
    }
   },
   "outputs": [
    {
     "name": "stdout",
     "output_type": "stream",
     "text": [
      "Xian,China\n",
      "Shanghai,China\n",
      "Changchun,China\n"
     ]
    }
   ],
   "source": [
    "def city_country(city,country):\n",
    "    \"\"\"返回城市的名称及其所属的国家\"\"\"\n",
    "    str=f\"{city},{country}\"\n",
    "    return str.title()\n",
    "str1=city_country('xian','china')\n",
    "print(str1)\n",
    "str2=city_country('shanghai','china')\n",
    "print(str2)\n",
    "str3=city_country('changchun','china')\n",
    "print(str3)"
   ]
  },
  {
   "cell_type": "code",
   "execution_count": 52,
   "id": "4c7f900f-726a-4da6-b176-567fc49aa627",
   "metadata": {
    "execution": {
     "iopub.execute_input": "2024-04-12T09:31:36.210126Z",
     "iopub.status.busy": "2024-04-12T09:31:36.210126Z",
     "iopub.status.idle": "2024-04-12T09:31:36.219139Z",
     "shell.execute_reply": "2024-04-12T09:31:36.217568Z",
     "shell.execute_reply.started": "2024-04-12T09:31:36.210126Z"
    }
   },
   "outputs": [
    {
     "name": "stdout",
     "output_type": "stream",
     "text": [
      "{'singer_name': 'Taylor Swift', 'album_name': '1989'}\n",
      "{'singer_name': 'Taylor Swift', 'album_name': 'Evermore'}\n",
      "{'singer_name': 'Taylor Swift', 'album_name': 'Folklore'}\n"
     ]
    }
   ],
   "source": [
    "def make_album(singer,album):\n",
    "    \"\"\"返回包含歌手名和专辑名的字典\"\"\"\n",
    "    music={'singer_name':singer,'album_name':album}\n",
    "    return music\n",
    "popular=make_album('Taylor Swift','1989')\n",
    "print(popular)\n",
    "popular=make_album('Taylor Swift','Evermore')\n",
    "print(popular)\n",
    "popular=make_album('Taylor Swift','Folklore')\n",
    "print(popular)"
   ]
  },
  {
   "cell_type": "code",
   "execution_count": 55,
   "id": "370abc09-73ec-4653-b701-05ac6e01bb16",
   "metadata": {
    "execution": {
     "iopub.execute_input": "2024-04-12T09:34:32.651528Z",
     "iopub.status.busy": "2024-04-12T09:34:32.651528Z",
     "iopub.status.idle": "2024-04-12T09:34:32.660780Z",
     "shell.execute_reply": "2024-04-12T09:34:32.659670Z",
     "shell.execute_reply.started": "2024-04-12T09:34:32.651528Z"
    }
   },
   "outputs": [
    {
     "name": "stdout",
     "output_type": "stream",
     "text": [
      "{'singer_name': 'Taylor Swift', 'album_name': '1989', 'songs_num': '10'}\n",
      "{'singer_name': 'Taylor Swift', 'album_name': 'Evermore', 'songs_num': 15}\n",
      "{'singer_name': 'Taylor Swift', 'album_name': 'Folklore'}\n"
     ]
    }
   ],
   "source": [
    "def make_album(singer,album,song=None):\n",
    "    \"\"\"返回包含歌手名和专辑名的字典\"\"\"\n",
    "    music={'singer_name':singer,'album_name':album}\n",
    "    if song:\n",
    "        music['songs_num']=song\n",
    "    return music\n",
    "popular=make_album('Taylor Swift','1989','10')\n",
    "print(popular)\n",
    "popular=make_album('Taylor Swift','Evermore',song=15)\n",
    "print(popular)\n",
    "popular=make_album('Taylor Swift','Folklore')\n",
    "print(popular)"
   ]
  },
  {
   "cell_type": "code",
   "execution_count": 12,
   "id": "ddf942c3-6e91-49f1-ae1e-350112a35662",
   "metadata": {
    "execution": {
     "iopub.execute_input": "2024-04-13T03:19:40.330709Z",
     "iopub.status.busy": "2024-04-13T03:19:40.330709Z",
     "iopub.status.idle": "2024-04-13T03:22:06.914442Z",
     "shell.execute_reply": "2024-04-13T03:22:06.913409Z",
     "shell.execute_reply.started": "2024-04-13T03:19:40.330709Z"
    }
   },
   "outputs": [
    {
     "name": "stdin",
     "output_type": "stream",
     "text": [
      "Please enter the name of the singer:  Taylor Swift\n",
      "Please enter the name of the album:  Speak Now\n"
     ]
    },
    {
     "name": "stdout",
     "output_type": "stream",
     "text": [
      "{'singer_name': 'Taylor Swift', 'album_name': 'Speak Now'}\n"
     ]
    },
    {
     "name": "stdin",
     "output_type": "stream",
     "text": [
      "Would you like to add another? (yes/ no)  yes\n",
      "Please enter the name of the singer:  G.E.M.\n",
      "Please enter the name of the album:  Xposed\n"
     ]
    },
    {
     "name": "stdout",
     "output_type": "stream",
     "text": [
      "{'singer_name': 'G.E.M.', 'album_name': 'Xposed'}\n"
     ]
    },
    {
     "name": "stdin",
     "output_type": "stream",
     "text": [
      "Would you like to add another? (yes/ no)  no\n"
     ]
    }
   ],
   "source": [
    "#方法一  依次打印\n",
    "def make_album(singer,album):\n",
    "    \"\"\"返回包含歌手名和专辑名的字典\"\"\"\n",
    "    music={'singer_name':singer,'album_name':album}\n",
    "    return music\n",
    "signal=True\n",
    "while signal:\n",
    "    singer=input(\"Please enter the name of the singer: \")\n",
    "    album=input(\"Please enter the name of the album: \")\n",
    "    song=make_album(singer,album)\n",
    "    print(song)\n",
    "    reply = input(\"Would you like to add another? (yes/ no) \")\n",
    "    if reply == 'no':\n",
    "         signal = False "
   ]
  },
  {
   "cell_type": "code",
   "execution_count": 14,
   "id": "ab5e5037-fd99-4806-9b8f-b4efcd7d246c",
   "metadata": {
    "execution": {
     "iopub.execute_input": "2024-04-13T03:26:33.416705Z",
     "iopub.status.busy": "2024-04-13T03:26:33.416705Z",
     "iopub.status.idle": "2024-04-13T03:26:55.956448Z",
     "shell.execute_reply": "2024-04-13T03:26:55.956448Z",
     "shell.execute_reply.started": "2024-04-13T03:26:33.416705Z"
    }
   },
   "outputs": [
    {
     "name": "stdin",
     "output_type": "stream",
     "text": [
      "Please enter the name of the singer:  T.S.\n",
      "Please enter the name of the album:  1989\n",
      "Would you like to add another? (yes/ no)  yes\n",
      "Please enter the name of the singer:  G.E.M.\n",
      "Please enter the name of the album:  Xposed\n",
      "Would you like to add another? (yes/ no)  no\n"
     ]
    },
    {
     "name": "stdout",
     "output_type": "stream",
     "text": [
      "[{'singer_name': 'T.S.', 'album_name': '1989'}, {'singer_name': 'G.E.M.', 'album_name': 'Xposed'}]\n"
     ]
    }
   ],
   "source": [
    "#方法二  列表嵌套字典\n",
    "def make_album(singer,album):\n",
    "    \"\"\"返回包含歌手名和专辑名的字典\"\"\"\n",
    "    music={'singer_name':singer,'album_name':album}\n",
    "    return music\n",
    "\n",
    "results=[]\n",
    "signal=True\n",
    "while signal:\n",
    "    singer=input(\"Please enter the name of the singer: \")\n",
    "    album=input(\"Please enter the name of the album: \")\n",
    "    song=make_album(singer,album)\n",
    "    results.append(song)\n",
    "    \n",
    "    reply = input(\"Would you like to add another? (yes/ no) \")\n",
    "    if reply == 'no':\n",
    "         signal = False \n",
    "        \n",
    "print(results)\n",
    "#或者\n",
    "#for result in results:\n",
    "   # print(result)"
   ]
  },
  {
   "cell_type": "markdown",
   "id": "4303e732-5e4b-436b-b7aa-7a7a853ecda4",
   "metadata": {},
   "source": [
    "## 传递列表"
   ]
  },
  {
   "cell_type": "code",
   "execution_count": null,
   "id": "ffa773e4-bc87-4a09-b318-d9976b5e4c5b",
   "metadata": {},
   "outputs": [],
   "source": []
  },
  {
   "cell_type": "markdown",
   "id": "b142fac8-d560-4a40-a736-f79bba181444",
   "metadata": {},
   "source": [
    "### 在函数中修改列表"
   ]
  },
  {
   "cell_type": "code",
   "execution_count": null,
   "id": "b16fe895-7236-4391-8ff6-e6ef801a3e18",
   "metadata": {},
   "outputs": [],
   "source": []
  },
  {
   "cell_type": "markdown",
   "id": "580b2538-7a97-4c1f-aafc-7f7c21c4f92e",
   "metadata": {},
   "source": [
    "### 禁止函数修改列表"
   ]
  },
  {
   "cell_type": "code",
   "execution_count": null,
   "id": "ec764bcf-edae-4b87-84c0-4afb5fc9d971",
   "metadata": {},
   "outputs": [],
   "source": []
  },
  {
   "cell_type": "markdown",
   "id": "9611dfdb-b865-4bc8-8674-9fd9603550d5",
   "metadata": {},
   "source": [
    "### 练习"
   ]
  },
  {
   "cell_type": "code",
   "execution_count": null,
   "id": "c74de7af-9643-457e-a5a7-a35473c91561",
   "metadata": {},
   "outputs": [],
   "source": []
  },
  {
   "cell_type": "markdown",
   "id": "d6a20136-3f77-4f17-9082-5ced9be08a27",
   "metadata": {},
   "source": [
    "## 传递任意数量的实参"
   ]
  },
  {
   "cell_type": "code",
   "execution_count": null,
   "id": "a9c64201-8371-47dc-86ef-002c329ec777",
   "metadata": {},
   "outputs": [],
   "source": [
    "def make_pizza(*toppings):\n",
    "    \"\"\"打印顾客点的所有配料。\"\"\"\n",
    "    print(toppings)\n",
    "make_pizza('pepperoni')\n",
    "make_pizza('mushrooms', 'green peppers', 'extra cheese')"
   ]
  }
 ],
 "metadata": {
  "kernelspec": {
   "display_name": "Python 3 (ipykernel)",
   "language": "python",
   "name": "python3"
  },
  "language_info": {
   "codemirror_mode": {
    "name": "ipython",
    "version": 3
   },
   "file_extension": ".py",
   "mimetype": "text/x-python",
   "name": "python",
   "nbconvert_exporter": "python",
   "pygments_lexer": "ipython3",
   "version": "3.11.5"
  }
 },
 "nbformat": 4,
 "nbformat_minor": 5
}
