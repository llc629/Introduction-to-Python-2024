{
 "cells": [
  {
   "cell_type": "code",
   "execution_count": 1,
   "id": "8200d528",
   "metadata": {},
   "outputs": [
    {
     "name": "stdout",
     "output_type": "stream",
     "text": [
      "Hello Python world!\n",
      "Hello Python Crash Course world!\n"
     ]
    }
   ],
   "source": [
    "message = \"Hello Python world!\"\n",
    "print (message)\n",
    "\n",
    "message = \"Hello Python Crash Course world!\"\n",
    "print (message)"
   ]
  },
  {
   "cell_type": "code",
   "execution_count": 2,
   "id": "ce8d76a9",
   "metadata": {},
   "outputs": [
    {
     "name": "stdout",
     "output_type": "stream",
     "text": [
      "Ada Lovelace\n"
     ]
    }
   ],
   "source": [
    "name = \"ada lovelace\"\n",
    "print (name.title())"
   ]
  },
  {
   "cell_type": "code",
   "execution_count": 3,
   "id": "40226f62",
   "metadata": {},
   "outputs": [
    {
     "name": "stdout",
     "output_type": "stream",
     "text": [
      "ada lovelace\n",
      "ADA LOVELACE\n"
     ]
    }
   ],
   "source": [
    "name = \"ada lovelace\"\n",
    "print (name.lower())\n",
    "print (name.upper())"
   ]
  },
  {
   "cell_type": "code",
   "execution_count": 5,
   "id": "1a38eab2",
   "metadata": {},
   "outputs": [
    {
     "name": "stdout",
     "output_type": "stream",
     "text": [
      "ada lovelace\n"
     ]
    }
   ],
   "source": [
    "first_name = \"ada\"\n",
    "last_name = \"lovelace\"\n",
    "full_name = f\"{first_name} {last_name}\"\n",
    "print (full_name)"
   ]
  },
  {
   "cell_type": "code",
   "execution_count": 9,
   "id": "0ea9d370",
   "metadata": {},
   "outputs": [
    {
     "name": "stdout",
     "output_type": "stream",
     "text": [
      "Hello, Ada Lovelace!\n"
     ]
    }
   ],
   "source": [
    "first_name = \"ada\"\n",
    "last_name = \"lovelace\"\n",
    "full_name = f\"{first_name} {last_name}\"\n",
    "print(f\"Hello, {full_name.title()}!\") \n",
    "#f后面不要空格，除了引号里面，不要轻易空格"
   ]
  },
  {
   "cell_type": "code",
   "execution_count": 10,
   "id": "d70cf34e",
   "metadata": {},
   "outputs": [
    {
     "name": "stdout",
     "output_type": "stream",
     "text": [
      "Hello,Ada Lovelace!\n"
     ]
    }
   ],
   "source": [
    "first_name = \"ada\"\n",
    "last_name = \"lovelace\"\n",
    "full_name = f\"{first_name} {last_name}\"\n",
    "message_1=f\"Hello,{full_name.title()}!\"\n",
    "print(message_1) "
   ]
  },
  {
   "cell_type": "code",
   "execution_count": 12,
   "id": "ef4eaf47",
   "metadata": {},
   "outputs": [
    {
     "name": "stdout",
     "output_type": "stream",
     "text": [
      "Python\n"
     ]
    }
   ],
   "source": [
    "print(\"Python\")"
   ]
  },
  {
   "cell_type": "code",
   "execution_count": 13,
   "id": "2303e511",
   "metadata": {},
   "outputs": [
    {
     "name": "stdout",
     "output_type": "stream",
     "text": [
      "\tPython\n"
     ]
    }
   ],
   "source": [
    "print(\"\\tPython\")"
   ]
  },
  {
   "cell_type": "code",
   "execution_count": 14,
   "id": "aa6dd313",
   "metadata": {},
   "outputs": [
    {
     "name": "stdout",
     "output_type": "stream",
     "text": [
      "Language:\n",
      "Python\n",
      "C\n",
      "JavaScript\n"
     ]
    }
   ],
   "source": [
    "print(\"Language:\\nPython\\nC\\nJavaScript\")"
   ]
  },
  {
   "cell_type": "code",
   "execution_count": 15,
   "id": "777368c3",
   "metadata": {},
   "outputs": [
    {
     "name": "stdout",
     "output_type": "stream",
     "text": [
      "Language:\n",
      "\tPython\n",
      "\tC\n",
      "\tJavaScript\n"
     ]
    }
   ],
   "source": [
    "print(\"Language:\\n\\tPython\\n\\tC\\n\\tJavaScript\")"
   ]
  },
  {
   "cell_type": "code",
   "execution_count": 22,
   "id": "d48e7b3d",
   "metadata": {
    "scrolled": true
   },
   "outputs": [
    {
     "data": {
      "text/plain": [
       "'Python '"
      ]
     },
     "execution_count": 22,
     "metadata": {},
     "output_type": "execute_result"
    }
   ],
   "source": [
    "favorite_language = 'Python '\n",
    "favorite_language"
   ]
  },
  {
   "cell_type": "code",
   "execution_count": 23,
   "id": "3b376050",
   "metadata": {},
   "outputs": [
    {
     "data": {
      "text/plain": [
       "'Python'"
      ]
     },
     "execution_count": 23,
     "metadata": {},
     "output_type": "execute_result"
    }
   ],
   "source": [
    "favorite_language = 'Python '\n",
    "favorite_language = favorite_language.rstrip()\n",
    "favorite_language"
   ]
  },
  {
   "cell_type": "code",
   "execution_count": 25,
   "id": "23bd7525",
   "metadata": {},
   "outputs": [
    {
     "data": {
      "text/plain": [
       "'Python'"
      ]
     },
     "execution_count": 25,
     "metadata": {},
     "output_type": "execute_result"
    }
   ],
   "source": [
    "fav_language = ' Python '\n",
    "fav_language.strip()"
   ]
  },
  {
   "cell_type": "code",
   "execution_count": 26,
   "id": "968c7a45",
   "metadata": {},
   "outputs": [
    {
     "data": {
      "text/plain": [
       "'Python '"
      ]
     },
     "execution_count": 26,
     "metadata": {},
     "output_type": "execute_result"
    }
   ],
   "source": [
    "fav_language = ' Python '\n",
    "fav_language.lstrip()"
   ]
  },
  {
   "cell_type": "code",
   "execution_count": 27,
   "id": "7082cf5a",
   "metadata": {},
   "outputs": [
    {
     "name": "stdout",
     "output_type": "stream",
     "text": [
      "One of Python's strengths is its diverse community.\n"
     ]
    }
   ],
   "source": [
    "message2 = \"One of Python's strengths is its diverse community.\" \n",
    "print(message2) "
   ]
  },
  {
   "cell_type": "code",
   "execution_count": 28,
   "id": "340cddb5",
   "metadata": {},
   "outputs": [
    {
     "name": "stdout",
     "output_type": "stream",
     "text": [
      "Hello,Cascades!\n"
     ]
    }
   ],
   "source": [
    "nickname = \"Cascades\"\n",
    "print(f\"Hello,{nickname}!\")"
   ]
  },
  {
   "cell_type": "code",
   "execution_count": 29,
   "id": "7bc5bd95",
   "metadata": {},
   "outputs": [
    {
     "name": "stdout",
     "output_type": "stream",
     "text": [
      "Cascades Cookie\n",
      "cascades cookie\n",
      "CASCADES COOKIE\n"
     ]
    }
   ],
   "source": [
    "honeyname = \"cascades cookie\"\n",
    "print(honeyname.title())\n",
    "print(honeyname.lower())\n",
    "print(honeyname.upper())"
   ]
  },
  {
   "cell_type": "code",
   "execution_count": 30,
   "id": "aade94de",
   "metadata": {},
   "outputs": [
    {
     "name": "stdout",
     "output_type": "stream",
     "text": [
      "Taylor Swift once said,\" You are what you love.\"\n"
     ]
    }
   ],
   "source": [
    "saying = 'Taylor Swift once said,\" You are what you love.\"'\n",
    "print(saying)"
   ]
  },
  {
   "cell_type": "code",
   "execution_count": 32,
   "id": "b5b16ecc",
   "metadata": {},
   "outputs": [
    {
     "name": "stdout",
     "output_type": "stream",
     "text": [
      "Taylor Swiftonce said,\"You are what you love.\"\n"
     ]
    }
   ],
   "source": [
    "famous_person = \"Taylor Swift\"\n",
    "message3 = '\"You are what you love.\"'\n",
    "print(f\"{famous_person}once said,{message3}\")"
   ]
  },
  {
   "cell_type": "code",
   "execution_count": 46,
   "id": "f0ccbb79",
   "metadata": {},
   "outputs": [
    {
     "name": "stdout",
     "output_type": "stream",
     "text": [
      "  Ruby\n",
      "\tLowe     \n",
      "Ruby\n",
      "\tLowe     \n",
      "  Ruby\n",
      "\tLowe\n",
      "Ruby\n",
      "\tLowe\n"
     ]
    }
   ],
   "source": [
    "queen = \"  Ruby\\n\\tLowe     \"\n",
    "print(queen)\n",
    "queen_1 = queen.lstrip()\n",
    "print(queen_1)\n",
    "queen_2 = queen.rstrip()\n",
    "print(queen_2)\n",
    "queen_3 = queen.strip()\n",
    "print(queen_3)"
   ]
  },
  {
   "cell_type": "code",
   "execution_count": null,
   "id": "9020e307",
   "metadata": {},
   "outputs": [],
   "source": []
  }
 ],
 "metadata": {
  "kernelspec": {
   "display_name": "Python 3 (ipykernel)",
   "language": "python",
   "name": "python3"
  },
  "language_info": {
   "codemirror_mode": {
    "name": "ipython",
    "version": 3
   },
   "file_extension": ".py",
   "mimetype": "text/x-python",
   "name": "python",
   "nbconvert_exporter": "python",
   "pygments_lexer": "ipython3",
   "version": "3.11.5"
  }
 },
 "nbformat": 4,
 "nbformat_minor": 5
}
