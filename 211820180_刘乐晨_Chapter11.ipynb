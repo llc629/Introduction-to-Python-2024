{
 "cells": [
  {
   "cell_type": "markdown",
   "id": "f9301891-e526-4ff8-b9c8-c40791d4b30c",
   "metadata": {},
   "source": [
    "# 测试代码"
   ]
  },
  {
   "cell_type": "markdown",
   "id": "fe8c6bf0-33f0-4ae3-8973-4f5d7777c764",
   "metadata": {},
   "source": [
    "## 测试函数"
   ]
  },
  {
   "cell_type": "code",
   "execution_count": 1,
   "id": "c166ef47-b801-43ac-bb0e-c4d1cf61ba27",
   "metadata": {
    "execution": {
     "iopub.execute_input": "2024-05-24T03:00:14.269625Z",
     "iopub.status.busy": "2024-05-24T03:00:14.267758Z",
     "iopub.status.idle": "2024-05-24T03:00:14.337029Z",
     "shell.execute_reply": "2024-05-24T03:00:14.329980Z",
     "shell.execute_reply.started": "2024-05-24T03:00:14.269625Z"
    }
   },
   "outputs": [],
   "source": [
    "def get_formatted_name(first, last):\n",
    "    \"\"\"生成整洁的姓名。\"\"\"\n",
    "    full_name = f\"{first} {last}\"\n",
    "    return full_name.title()"
   ]
  },
  {
   "cell_type": "code",
   "execution_count": 4,
   "id": "050c4255-7624-4ea9-a5dd-5d216a482177",
   "metadata": {
    "execution": {
     "iopub.execute_input": "2024-05-29T07:41:36.126314Z",
     "iopub.status.busy": "2024-05-29T07:41:36.126314Z",
     "iopub.status.idle": "2024-05-29T07:41:42.301645Z",
     "shell.execute_reply": "2024-05-29T07:41:42.300745Z",
     "shell.execute_reply.started": "2024-05-29T07:41:36.126314Z"
    }
   },
   "outputs": [
    {
     "name": "stdout",
     "output_type": "stream",
     "text": [
      "Enter 'q' at any time to quit.\n"
     ]
    },
    {
     "name": "stdin",
     "output_type": "stream",
     "text": [
      "\n",
      "Please give me a first name:  Ruby\n",
      "Please give me a last name:  Lowe\n"
     ]
    },
    {
     "name": "stdout",
     "output_type": "stream",
     "text": [
      "\tNeatly formatted name: Ruby Lowe.\n"
     ]
    },
    {
     "name": "stdin",
     "output_type": "stream",
     "text": [
      "\n",
      "Please give me a first name:  q\n"
     ]
    }
   ],
   "source": [
    "from name_function import get_formatted_name\n",
    "\n",
    "print(\"Enter 'q' at any time to quit.\")\n",
    "while True:\n",
    "    first = input(\"\\nPlease give me a first name: \")\n",
    "    if first == 'q':\n",
    "        break\n",
    "    last = input(\"Please give me a last name: \")\n",
    "    if last == 'q':\n",
    "        break\n",
    "        \n",
    "    formatted_name = get_formatted_name(first, last)\n",
    "    print(f\"\\tNeatly formatted name: {formatted_name}.\")"
   ]
  },
  {
   "cell_type": "markdown",
   "id": "79106c81-c14f-4d61-acf0-9a81f0bbdf30",
   "metadata": {},
   "source": [
    "### 单元测试和测试用例"
   ]
  },
  {
   "cell_type": "code",
   "execution_count": null,
   "id": "c340e9c2-0839-408f-9768-374872506ddb",
   "metadata": {},
   "outputs": [],
   "source": [
    "#模块unittest 提供了代码测试工具。\n",
    "\n",
    "#单元测试 用于核实函数的某个方面没有问题。\n",
    "\n",
    "#测试用例 是一组单元测试，它们一道核实函数在各种情形下的行为都符合要求。\n",
    "#良好的测试用例考虑到了函数可能收到的各种输入，包含针对所有这些情形的测试。\n",
    "\n",
    "#全覆盖 的测试用例包含一整套单元测试，涵盖了各种可能的函数使用方式。\n",
    "#对于大型项目，要进行全覆盖测试可能很难。通常，最初只要针对代码的重要行为编写测试即可，等项目被广泛使用时再考虑全覆盖。"
   ]
  },
  {
   "cell_type": "markdown",
   "id": "f6abe441-751c-4ec6-a270-62b818a718c5",
   "metadata": {},
   "source": [
    "### 可通过的测试"
   ]
  },
  {
   "cell_type": "code",
   "execution_count": 8,
   "id": "7be0323a-ddc7-4af2-9e91-273822ae763f",
   "metadata": {
    "execution": {
     "iopub.execute_input": "2024-05-29T08:09:01.172551Z",
     "iopub.status.busy": "2024-05-29T08:09:01.172551Z",
     "iopub.status.idle": "2024-05-29T08:09:01.185679Z",
     "shell.execute_reply": "2024-05-29T08:09:01.184540Z",
     "shell.execute_reply.started": "2024-05-29T08:09:01.172551Z"
    }
   },
   "outputs": [
    {
     "name": "stderr",
     "output_type": "stream",
     "text": [
      ".\n",
      "----------------------------------------------------------------------\n",
      "Ran 1 test in 0.001s\n",
      "\n",
      "OK\n"
     ]
    }
   ],
   "source": [
    "#为函数编写测试用例:先导入模块unittest和函数,再创建继承unittest.TestCase 的类、编写测试方法\n",
    "\n",
    "#下面的测试用例只包含一个方法，检查函数get_formatted_name() 在给定名和姓时能否正确工作：\n",
    "import unittest\n",
    "from name_function import get_formatted_name\n",
    "\n",
    "class NamesTestCase(unittest.TestCase):  #这个类必须继承unittest.TestCase类，让Python知道如何运行测试\n",
    "    \"\"\"测试name_function.py。\"\"\"\n",
    "    \n",
    "    def test_first_last_name(self):\n",
    "        \"\"\"能够正确地处理像Janis Joplin这样的姓名吗？\"\"\"\n",
    "        formatted_name = get_formatted_name('janis', 'joplin')\n",
    "        self.assertEqual(formatted_name, 'Janis Joplin')\n",
    "                #unittest类最有用的功能之一：断言 方法。核实得到的结果是否与期望的结果一致\n",
    "                #意思:将formatted_name的值与字符串'Janis Joplin'比较。如果它们不相等，知会我\n",
    "\n",
    "if __name__ == '__main__':\n",
    "    unittest.main(argv=[''], exit=False)\n",
    "#检查特殊变量__name__,这个变量是在程序执行时设置的。如果文件作为主程序执行,变量__name__将被设置为'__main__' \n",
    "#调用unittest.main()来运行测试用例。如果这个文件被测试框架导入,变量__name__的值将不是'__main__'，因此不会调用unittest.main()\n",
    "#(argv=[']，exit=False)会避免Jupyter解析命令行参数并且防止`unittest`调用`sys.exit()`  vscode不用加，()即可"
   ]
  },
  {
   "cell_type": "markdown",
   "id": "92aee9f7-835d-40bd-828a-a7ae8d05db63",
   "metadata": {},
   "source": [
    "### 未通过的测试\n"
   ]
  },
  {
   "cell_type": "code",
   "execution_count": null,
   "id": "40a51321-8761-4057-a980-d03d168e9fb1",
   "metadata": {},
   "outputs": [],
   "source": [
    "def get_formatted_name(first, middle, last):\n",
    "    \"\"\"生成整洁的姓名。\"\"\"\n",
    "    full_name = f\"{first} {middle} {last}\"\n",
    "    return full_name.title()"
   ]
  },
  {
   "cell_type": "code",
   "execution_count": 11,
   "id": "d09f8b42-8180-4b8c-8567-41884dd7382b",
   "metadata": {
    "execution": {
     "iopub.execute_input": "2024-05-29T08:16:11.813994Z",
     "iopub.status.busy": "2024-05-29T08:16:11.813994Z",
     "iopub.status.idle": "2024-05-29T08:16:11.829977Z",
     "shell.execute_reply": "2024-05-29T08:16:11.829452Z",
     "shell.execute_reply.started": "2024-05-29T08:16:11.813994Z"
    }
   },
   "outputs": [
    {
     "name": "stderr",
     "output_type": "stream",
     "text": [
      "E\n",
      "======================================================================\n",
      "ERROR: C:\\Users\\RubyLowe\\AppData\\Roaming\\jupyter\\runtime\\kernel-e72e8cec-36ef-4ea7-ad84-1c311b68c1b4 (unittest.loader._FailedTest.C:\\Users\\RubyLowe\\AppData\\Roaming\\jupyter\\runtime\\kernel-e72e8cec-36ef-4ea7-ad84-1c311b68c1b4)\n",
      "----------------------------------------------------------------------\n",
      "AttributeError: module '__main__' has no attribute 'C:\\Users\\RubyLowe\\AppData\\Roaming\\jupyter\\runtime\\kernel-e72e8cec-36ef-4ea7-ad84-1c311b68c1b4'\n",
      "\n",
      "----------------------------------------------------------------------\n",
      "Ran 1 test in 0.002s\n",
      "\n",
      "FAILED (errors=1)\n"
     ]
    },
    {
     "ename": "SystemExit",
     "evalue": "True",
     "output_type": "error",
     "traceback": [
      "An exception has occurred, use %tb to see the full traceback.\n",
      "\u001b[1;31mSystemExit\u001b[0m\u001b[1;31m:\u001b[0m True\n"
     ]
    },
    {
     "name": "stderr",
     "output_type": "stream",
     "text": [
      "D:\\aSoftware\\anaconda3\\Lib\\site-packages\\IPython\\core\\interactiveshell.py:3561: UserWarning: To exit: use 'exit', 'quit', or Ctrl-D.\n",
      "  warn(\"To exit: use 'exit', 'quit', or Ctrl-D.\", stacklevel=1)\n"
     ]
    }
   ],
   "source": [
    "import unittest\n",
    "from name_function import get_formatted_name\n",
    "\n",
    "class NamesTestCase(unittest.TestCase):  \n",
    "    \"\"\"测试name_function.py。\"\"\"\n",
    "    \n",
    "    def test_first_last_name(self):\n",
    "        \"\"\"能够正确地处理像Janis Joplin这样的姓名吗？\"\"\"\n",
    "        formatted_name = get_formatted_name('janis', 'joplin')\n",
    "        self.assertEqual(formatted_name, 'Janis Joplin')\n",
    "              \n",
    "if __name__ == '__main__':\n",
    "    unittest.main()"
   ]
  },
  {
   "cell_type": "markdown",
   "id": "9ea9b1d0-cc21-4dfb-b8b4-0879a4743d34",
   "metadata": {},
   "source": [
    "### 测试未通过时怎么办"
   ]
  },
  {
   "cell_type": "code",
   "execution_count": null,
   "id": "68246de2-3c89-4063-996b-abfcbc740fc6",
   "metadata": {},
   "outputs": [],
   "source": [
    "#如果检查的条件没错，测试通过意味着函数行为对，而测试未通过意味着编写的新代码有错。\n",
    "#因此未通过时不要修改测试，而应修复导致测试不能通过的代码：检查对函数所做的修改，找出导致函数行为不符合预期的修改。\n",
    "\n",
    "#最佳的选择是让中间名变为可选的。在函数定义中将形参middle移到形参列表末尾，并将其默认值指定为一个空字符串。\n",
    "#还需要添加一个if 测试，以便根据是否提供了中间名相应地创建姓名：\n",
    "def get_formatted_name(first, last, middle=''):\n",
    "    \"\"\"生成整洁的姓名。\"\"\"\n",
    "    if middle:\n",
    "        full_name = f\"{first} {middle} {last}\"\n",
    "    else:\n",
    "        full_name = f\"{first} {last}\"\n",
    "        return full_name.title()"
   ]
  },
  {
   "cell_type": "markdown",
   "id": "bc6c5d57-8e7b-43c8-8f41-422d485750ec",
   "metadata": {},
   "source": [
    "### 添加新测试"
   ]
  },
  {
   "cell_type": "code",
   "execution_count": 16,
   "id": "12ebfc14-4e77-4bbb-b48e-b9ab25b17a9d",
   "metadata": {
    "execution": {
     "iopub.execute_input": "2024-05-29T08:33:12.513407Z",
     "iopub.status.busy": "2024-05-29T08:33:12.512272Z",
     "iopub.status.idle": "2024-05-29T08:33:12.528682Z",
     "shell.execute_reply": "2024-05-29T08:33:12.527880Z",
     "shell.execute_reply.started": "2024-05-29T08:33:12.513407Z"
    }
   },
   "outputs": [
    {
     "name": "stderr",
     "output_type": "stream",
     "text": [
      "E\n",
      "======================================================================\n",
      "ERROR: C:\\Users\\RubyLowe\\AppData\\Roaming\\jupyter\\runtime\\kernel-e72e8cec-36ef-4ea7-ad84-1c311b68c1b4 (unittest.loader._FailedTest.C:\\Users\\RubyLowe\\AppData\\Roaming\\jupyter\\runtime\\kernel-e72e8cec-36ef-4ea7-ad84-1c311b68c1b4)\n",
      "----------------------------------------------------------------------\n",
      "AttributeError: module '__main__' has no attribute 'C:\\Users\\RubyLowe\\AppData\\Roaming\\jupyter\\runtime\\kernel-e72e8cec-36ef-4ea7-ad84-1c311b68c1b4'\n",
      "\n",
      "----------------------------------------------------------------------\n",
      "Ran 1 test in 0.001s\n",
      "\n",
      "FAILED (errors=1)\n"
     ]
    },
    {
     "ename": "SystemExit",
     "evalue": "True",
     "output_type": "error",
     "traceback": [
      "An exception has occurred, use %tb to see the full traceback.\n",
      "\u001b[1;31mSystemExit\u001b[0m\u001b[1;31m:\u001b[0m True\n"
     ]
    },
    {
     "name": "stderr",
     "output_type": "stream",
     "text": [
      "D:\\aSoftware\\anaconda3\\Lib\\site-packages\\IPython\\core\\interactiveshell.py:3561: UserWarning: To exit: use 'exit', 'quit', or Ctrl-D.\n",
      "  warn(\"To exit: use 'exit', 'quit', or Ctrl-D.\", stacklevel=1)\n"
     ]
    }
   ],
   "source": [
    "#再编写一个测试，用于测试包含中间名的姓名。为此，在NamesTestCase 类中再添加一个方法：\n",
    "import unittest\n",
    "from name_function import get_formatted_name\n",
    "\n",
    "class NamesTestCase(unittest.TestCase):\n",
    "    \"\"\"测试name_function.py。\"\"\"\n",
    "    \n",
    "    def test_first_last_name(self):\n",
    "        \"\"\"能够正确地处理像Janis Joplin这样的姓名吗？\"\"\"\n",
    "        formatted_name = get_formatted_name('janis', 'joplin')\n",
    "        self.assertEqual(formatted_name, 'Janis Joplin')\n",
    "    def test_first_last_middle_name(self):\n",
    "        \"\"\"能够正确地处理像Wolfgang Amadeus Mozart这样的姓名吗？\"\"\"\n",
    "        formatted_name = get_formatted_name('wolfgang', 'mozart', 'amadeus')\n",
    "        self.assertEqual(formatted_name, 'Wolfgang Amadeus Mozart')\n",
    "    \n",
    "if __name__ == '__main__':\n",
    "    unittest.main()"
   ]
  },
  {
   "cell_type": "code",
   "execution_count": null,
   "id": "c9b30763-41f4-44a6-9905-4a603045e45d",
   "metadata": {},
   "outputs": [],
   "source": [
    "#(base) C:\\Users\\RubyLowe>python Desktop/python_work/test_name_function.py\n",
    "#..\n",
    "#----------------------------------------------------------------------\n",
    "#Ran 2 tests in 0.000s\n",
    "\n",
    "#OK\n",
    "\n",
    "#以上展示的是anaconda prompt运行的命令和结果"
   ]
  },
  {
   "cell_type": "markdown",
   "id": "2c279c19-a7e7-4455-8de6-ceb0a2dd951d",
   "metadata": {},
   "source": [
    "### 练习"
   ]
  },
  {
   "cell_type": "code",
   "execution_count": null,
   "id": "06ef283e-3696-4584-947e-569e25360a13",
   "metadata": {},
   "outputs": [],
   "source": [
    "# city_functions.py\n",
    "\n",
    "def geo(city, country):\n",
    "    \"\"\"Generate a formatted string for city and country.\"\"\"\n",
    "    return f\"{city.title()}, {country.title()}\""
   ]
  },
  {
   "cell_type": "code",
   "execution_count": null,
   "id": "6f2b9c46-1309-41fc-83a5-8184be4257b0",
   "metadata": {},
   "outputs": [],
   "source": [
    "# test_cities.py\n",
    "import unittest\n",
    "from city_functions import geo\n",
    "\n",
    "class TestGeoFunction(unittest.TestCase):\n",
    "\n",
    "    def test_city_country(self):\n",
    "        \"\"\"Test the geo function with city and country.\"\"\"\n",
    "        formatted_name = geo('santiago', 'chile')\n",
    "        self.assertEqual(formatted_name, 'Santiago, Chile')\n",
    "\n",
    "if __name__ == '__main__':\n",
    "    unittest.main()"
   ]
  },
  {
   "cell_type": "code",
   "execution_count": null,
   "id": "0fcc3b47-79d6-46ea-b679-fee08bcafa2c",
   "metadata": {},
   "outputs": [],
   "source": [
    "# city_functions.py\n",
    "\n",
    "def geo(city, country, population=None):\n",
    "    \"\"\"Generate a formatted string for city, country, and optionally population.\"\"\"\n",
    "    if population:\n",
    "        return f\"{city.title()}, {country.title()} – population {population}\"\n",
    "    else:\n",
    "        return f\"{city.title()}, {country.title()}\""
   ]
  },
  {
   "cell_type": "code",
   "execution_count": null,
   "id": "daf8a104-6b35-4a15-9915-e0c94757b2ac",
   "metadata": {},
   "outputs": [],
   "source": [
    "# test_cities.py\n",
    "import unittest\n",
    "from city_functions import geo\n",
    "\n",
    "class TestGeoFunction(unittest.TestCase):\n",
    "\n",
    "    def test_city_country(self):\n",
    "        \"\"\"Test the geo function with city and country.\"\"\"\n",
    "        formatted_name = geo('santiago', 'chile')\n",
    "        self.assertEqual(formatted_name, 'Santiago, Chile')\n",
    "\n",
    "    def test_city_country_population(self):\n",
    "        \"\"\"Test the geo function with city, country, and population.\"\"\"\n",
    "        formatted_name = geo('santiago', 'chile', 5000000)\n",
    "        self.assertEqual(formatted_name, 'Santiago, Chile – population 5000000')\n",
    "\n",
    "if __name__ == '__main__':\n",
    "    unittest.main()"
   ]
  },
  {
   "cell_type": "markdown",
   "id": "1b9a26b3-3955-4934-8baa-e706bd4db420",
   "metadata": {},
   "source": [
    "## 测试类"
   ]
  },
  {
   "cell_type": "markdown",
   "id": "c586161e-f8e8-4bfa-ab99-5022d8876af3",
   "metadata": {},
   "source": [
    "### 各种断言方法"
   ]
  },
  {
   "cell_type": "code",
   "execution_count": null,
   "id": "3a60fd03-41f1-4522-badd-14889fef424e",
   "metadata": {},
   "outputs": [],
   "source": [
    "#断言方法检查你认为应该满足的条件是否确实满足。\n",
    "#如果确实满足，对程序行为的假设就得到了确认。\n",
    "#如果不满足，将引发异常。\n",
    "\n",
    "#表11-1unittest模块中6个常用的断言方法。\n",
    "#使用这些方法可核实返回的值等于或不等于预期的值，返回的值为True或False，以及返回的值在列表中或不在列表中。\n",
    "\n",
    "#只能在继承unittest.TestCase 的类中使用\n",
    "\n",
    "#  方法                                                    用途\n",
    "#assertEqual(a, b)                                     核实a == b\n",
    "#assertNotEqual(a, b)                                  核实a != b\n",
    "#assertTrue(x)                                         核实x 为True\n",
    "#assertFalse(x)                                        核实x 为False\n",
    "#assertIn(item , list )                                核实 item 在 list 中\n",
    "#assertNotIn(item , list )                             核实 item 不在 list 中"
   ]
  },
  {
   "cell_type": "markdown",
   "id": "ed0ad96d-d208-4bb8-a8ce-edcf7b11fcab",
   "metadata": {},
   "source": [
    "### 一个要测试的类"
   ]
  },
  {
   "cell_type": "code",
   "execution_count": 2,
   "id": "fccd90bd-d783-4243-8dba-9edff4a5c94c",
   "metadata": {
    "execution": {
     "iopub.execute_input": "2024-05-29T11:20:59.277796Z",
     "iopub.status.busy": "2024-05-29T11:20:59.277796Z",
     "iopub.status.idle": "2024-05-29T11:20:59.303121Z",
     "shell.execute_reply": "2024-05-29T11:20:59.303121Z",
     "shell.execute_reply.started": "2024-05-29T11:20:59.277796Z"
    }
   },
   "outputs": [],
   "source": [
    "class AnonymousSurvey:\n",
    "    \"\"\"收集匿名调查问卷的答案。\"\"\"\n",
    "    \n",
    "    def __init__(self, question):\n",
    "        \"\"\"存储一个问题，并为存储答案做准备。\"\"\"\n",
    "        self.question = question\n",
    "        self.responses = []\n",
    "        \n",
    "    def show_question(self):\n",
    "        \"\"\"显示调查问卷。\"\"\"\n",
    "        print(self.question)\n",
    "        \n",
    "    def store_response(self, new_response):\n",
    "        \"\"\"存储单份调查答卷。\"\"\"\n",
    "        self.responses.append(new_response)\n",
    "        \n",
    "    def show_results(self):\n",
    "        \"\"\"显示收集到的所有答卷。\"\"\"\n",
    "        print(\"Survey results:\")\n",
    "        for response in self.responses:\n",
    "            print(f\"- {response}\")"
   ]
  },
  {
   "cell_type": "code",
   "execution_count": 4,
   "id": "1248ef10-baad-4357-94e4-0f84fda7657e",
   "metadata": {
    "execution": {
     "iopub.execute_input": "2024-05-29T11:21:38.262224Z",
     "iopub.status.busy": "2024-05-29T11:21:38.259467Z",
     "iopub.status.idle": "2024-05-29T11:22:44.471344Z",
     "shell.execute_reply": "2024-05-29T11:22:44.468674Z",
     "shell.execute_reply.started": "2024-05-29T11:21:38.262224Z"
    }
   },
   "outputs": [
    {
     "name": "stdout",
     "output_type": "stream",
     "text": [
      "What language did you first learn to speak?\n",
      "Enter 'q' at any time to quit.\n",
      "\n"
     ]
    },
    {
     "name": "stdin",
     "output_type": "stream",
     "text": [
      "Language:  Mandarin\n",
      "Language:  English\n",
      "Language:  French\n",
      "Language:  Japanese\n",
      "Language:  Korean\n",
      "Language:  Spanish\n",
      "Language:  German\n",
      "Language:  Russian\n",
      "Language:  q\n"
     ]
    },
    {
     "name": "stdout",
     "output_type": "stream",
     "text": [
      "\n",
      "Thank you to everyone who participated in the survey!\n",
      "Survey results:\n",
      "- Mandarin\n",
      "- English\n",
      "- French\n",
      "- Japanese\n",
      "- Korean\n",
      "- Spanish\n",
      "- German\n",
      "- Russian\n"
     ]
    }
   ],
   "source": [
    "from survey import AnonymousSurvey\n",
    "\n",
    "# 定义一个问题，并创建一个调查。\n",
    "question = \"What language did you first learn to speak?\"\n",
    "my_survey = AnonymousSurvey(question)\n",
    "\n",
    "# 显示问题并存储答案。\n",
    "my_survey.show_question()\n",
    "print(\"Enter 'q' at any time to quit.\\n\")\n",
    "while True:\n",
    "    response = input(\"Language: \")\n",
    "    if response == 'q':\n",
    "        break\n",
    "    my_survey.store_response(response)\n",
    "\n",
    "# 显示调查结果。\n",
    "print(\"\\nThank you to everyone who participated in the survey!\")\n",
    "my_survey.show_results()"
   ]
  },
  {
   "cell_type": "markdown",
   "id": "f026b55f-0f1b-4560-a924-fe3112707052",
   "metadata": {},
   "source": [
    "### 测试AnonymousSurvey 类"
   ]
  },
  {
   "cell_type": "code",
   "execution_count": null,
   "id": "ee047178-7b38-4141-80b5-438dd483492a",
   "metadata": {},
   "outputs": [],
   "source": [
    "import unittest\n",
    "from survey import AnonymousSurvey\n",
    "\n",
    "class TestAnonymousSurvey(unittest.TestCase):\n",
    "    \"\"\"针对AnonymousSurvey类的测试。\"\"\"\n",
    "    \n",
    "    def test_store_single_response(self):\n",
    "        \"\"\"测试单个答案会被妥善地存储。\"\"\"\n",
    "        question = \"What language did you first learn to speak?\"\n",
    "        my_survey = AnonymousSurvey(question)\n",
    "        my_survey.store_response('English')\n",
    "        self.assertIn('English', my_survey.responses)\n",
    "    \n",
    "if __name__ == '__main__':\n",
    "    unittest.main()"
   ]
  },
  {
   "cell_type": "code",
   "execution_count": null,
   "id": "4ec6d504-e55b-4282-a582-158f69422a8b",
   "metadata": {},
   "outputs": [],
   "source": [
    "import unittest\n",
    "from survey import AnonymousSurvey\n",
    "\n",
    "class TestAnonymousSurvey(unittest.TestCase):\n",
    "    \"\"\"针对AnonymousSurvey类的测试。\"\"\"\n",
    "    \n",
    "    def test_store_single_response(self):\n",
    "        \"\"\"测试单个答案会被妥善地存储。\"\"\"\n",
    "        question = \"What language did you first learn to speak?\"\n",
    "        my_survey = AnonymousSurvey(question)\n",
    "        my_survey.store_response('English')\n",
    "        self.assertIn('English', my_survey.responses)\n",
    "    \n",
    "    def test_store_three_responses(self):\n",
    "        \"\"\"测试三个答案会被妥善地存储。\"\"\"\n",
    "        question = \"What language did you first learn to speak?\"\n",
    "        my_survey = AnonymousSurvey(question)\n",
    "        responses = ['English', 'Spanish', 'Mandarin']\n",
    "        for response in responses:\n",
    "            my_survey.store_response(response)\n",
    "        for response in responses:\n",
    "            self.assertIn(response, my_survey.responses)\n",
    "    \n",
    "if __name__ == '__main__':\n",
    "    unittest.main()"
   ]
  },
  {
   "cell_type": "markdown",
   "id": "bd326202-9da4-4b5f-a59e-4f229a0d6faa",
   "metadata": {},
   "source": [
    "### 方法setUp()"
   ]
  },
  {
   "cell_type": "code",
   "execution_count": null,
   "id": "11c46de0-c93d-478e-9441-b552437681e8",
   "metadata": {},
   "outputs": [],
   "source": [
    "#前述做法的效果很好，但这些测试有些重复的地方\n",
    "#方法setUp()让我们只需创建这些对象一次，就能在每个测试方法中使用\n",
    "#如果在TestCase类中包含了方法setUp()，Python将先运行它，再运行各个以test_打头的方法\n",
    "\n",
    "import unittest\n",
    "from survey import AnonymousSurvey\n",
    "\n",
    "class TestAnonymousSurvey(unittest.TestCase):\n",
    "    \"\"\"针对AnonymousSurvey类的测试。\"\"\"\n",
    "    \n",
    "    def setUp(self):\n",
    "        \"\"\"\n",
    "        创建一个调查对象和一组答案，供使用的测试方法使用。\n",
    "        \"\"\"\n",
    "        question = \"What language did you first learn to speak?\"\n",
    "        self.my_survey = AnonymousSurvey(question)\n",
    "        self.responses = ['English', 'Spanish', 'Mandarin']\n",
    "#方法setUp()做了两件事情：创建一个调查对象，以及创建一个答案列表\n",
    "#存储这两样东西的变量名包含前缀self（即存储在属性中），因此可在这个类的任何地方使用\n",
    "#这让两个测试方法都更简单，因为它们都不用创建调查对象和答案了。\n",
    "        \n",
    "    def test_store_single_response(self):\n",
    "        \"\"\"测试单个答案会被妥善地存储。\"\"\"\n",
    "        self.my_survey.store_response(self.responses[0])\n",
    "        self.assertIn(self.responses[0], self.my_survey.responses)\n",
    "        \n",
    "    def test_store_three_responses(self):\n",
    "        \"\"\"测试三个答案会被妥善地存储。\"\"\"\n",
    "        for response in self.responses:\n",
    "            self.my_survey.store_response(response)\n",
    "        for response in self.responses:\n",
    "            self.assertIn(response, self.my_survey.responses)\n",
    "            \n",
    "if __name__ == '__main__':\n",
    "    unittest.main()"
   ]
  },
  {
   "cell_type": "code",
   "execution_count": null,
   "id": "acdc2b58-e202-45ab-8ccb-8bddd9819bae",
   "metadata": {},
   "outputs": [],
   "source": [
    "#注意 　\n",
    "#运行测试用例时，每完成一个单元测试，Python都打印一个字符：\n",
    "#测试通过时打印一个句点，测试引发错误时打印一个E ，而测试导致断言失败时则打印一个F 。\n",
    "#如果测试用例包含很多单元测试，需要运行很长时间，就可通过观察这些结果来获悉有多少个测试通过了。"
   ]
  },
  {
   "cell_type": "markdown",
   "id": "38fcd179-9928-4915-b335-ba01b34b6cd2",
   "metadata": {},
   "source": [
    "### 练习"
   ]
  },
  {
   "cell_type": "code",
   "execution_count": null,
   "id": "e594cec5-5b6d-46bf-a05d-b97b0c9ffa38",
   "metadata": {},
   "outputs": [],
   "source": [
    "# employee.py\n",
    "\n",
    "class Employee:\n",
    "    def __init__(self, first_name, last_name, annual_salary):\n",
    "        \"\"\"Initialize the employee with first name, last name, and annual salary.\"\"\"\n",
    "        self.first_name = first_name\n",
    "        self.last_name = last_name\n",
    "        self.annual_salary = annual_salary\n",
    "\n",
    "    def give_raise(self, raise_amount=5000):\n",
    "        \"\"\"Add the given amount to the annual salary, default is 5000.\"\"\"\n",
    "        self.annual_salary += raise_amount"
   ]
  },
  {
   "cell_type": "code",
   "execution_count": null,
   "id": "c72d40b7-912e-46da-95dc-b03311a2cef7",
   "metadata": {},
   "outputs": [],
   "source": [
    "# test_employee.py\n",
    "import unittest\n",
    "from employee import Employee\n",
    "\n",
    "class TestEmployee(unittest.TestCase):\n",
    "\n",
    "    def setUp(self):\n",
    "        \"\"\"\n",
    "        Create an employee instance for use in all test methods.\n",
    "        \"\"\"\n",
    "        self.employee = Employee('John', 'Doe', 50000)\n",
    "\n",
    "    def test_give_default_raise(self):\n",
    "        \"\"\"\n",
    "        Test giving a default raise of 5000.\n",
    "        \"\"\"\n",
    "        self.employee.give_raise()\n",
    "        self.assertEqual(self.employee.annual_salary, 55000)\n",
    "\n",
    "    def test_give_custom_raise(self):\n",
    "        \"\"\"\n",
    "        Test giving a custom raise.\n",
    "        \"\"\"\n",
    "        self.employee.give_raise(10000)\n",
    "        self.assertEqual(self.employee.annual_salary, 60000)\n",
    "\n",
    "if __name__ == '__main__':\n",
    "    unittest.main()"
   ]
  }
 ],
 "metadata": {
  "kernelspec": {
   "display_name": "Python 3 (ipykernel)",
   "language": "python",
   "name": "python3"
  },
  "language_info": {
   "codemirror_mode": {
    "name": "ipython",
    "version": 3
   },
   "file_extension": ".py",
   "mimetype": "text/x-python",
   "name": "python",
   "nbconvert_exporter": "python",
   "pygments_lexer": "ipython3",
   "version": "3.11.5"
  }
 },
 "nbformat": 4,
 "nbformat_minor": 5
}
