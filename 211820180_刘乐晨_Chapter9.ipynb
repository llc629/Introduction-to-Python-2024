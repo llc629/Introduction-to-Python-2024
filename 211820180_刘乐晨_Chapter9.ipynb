{
 "cells": [
  {
   "cell_type": "markdown",
   "id": "b4f00205-7b64-4387-8ce6-897d8ff224ec",
   "metadata": {},
   "source": [
    "# 类(Class)\n",
    "\n",
    "面向对象编程\n",
    "定义一大类对象都有的通用行为\n",
    "\n",
    "根据类来创建对象(object)称为实例化，并在代码中使用类的实例(instance)对象"
   ]
  },
  {
   "cell_type": "markdown",
   "id": "37b6f6ed-21dd-4b33-933b-b6446b0f70f2",
   "metadata": {},
   "source": [
    "## 创建和使用类"
   ]
  },
  {
   "cell_type": "markdown",
   "id": "b40e231a-bf66-4cbe-9326-d30a8a763324",
   "metadata": {},
   "source": [
    "### 创建Dog 类"
   ]
  },
  {
   "cell_type": "code",
   "execution_count": 1,
   "id": "a373f810-a9c7-46a1-8bab-397dff04b2e4",
   "metadata": {
    "execution": {
     "iopub.execute_input": "2024-04-26T02:40:58.842233Z",
     "iopub.status.busy": "2024-04-26T02:40:58.842233Z",
     "iopub.status.idle": "2024-04-26T02:40:58.880095Z",
     "shell.execute_reply": "2024-04-26T02:40:58.877217Z",
     "shell.execute_reply.started": "2024-04-26T02:40:58.842233Z"
    }
   },
   "outputs": [],
   "source": [
    "class Dog:\n",
    "    \"\"\"一次模拟小狗的简单尝试。\"\"\"   #类的名称首字母大写\n",
    "\n",
    "                                    #类中的函数称为方法  确保__init__()的两边都有两个下划线\n",
    "    \n",
    "    def __init__(self, name, age): #形参self必不可少，且必须位于其他形参的前面\n",
    "        \"\"\"初始化属性name和age。\"\"\" #每个与实例相关联的方法调用都【自动】传递实参self，它是一个指向实例本身的引用\n",
    "        self.name = name\n",
    "        self.age = age\n",
    "#self.name = name 获取与形参name相关联的值，并将其赋给变量name ，然后该变量被关联到当前创建的实例 \n",
    "#可通过实例访问的变量称为属性\n",
    "    \n",
    "    def sit(self):\n",
    "        \"\"\"模拟小狗收到命令时蹲下。\"\"\"\n",
    "        print(f\"{self.name} is now sitting.\")\n",
    "        \n",
    "    def roll_over(self):\n",
    "        \"\"\"模拟小狗收到命令时打滚。\"\"\"\n",
    "        print(f\"{self.name} rolled over!\")"
   ]
  },
  {
   "cell_type": "markdown",
   "id": "2966dad6-2cf1-4557-b629-7e39ab63c44f",
   "metadata": {},
   "source": [
    "### 根据类创建实例"
   ]
  },
  {
   "cell_type": "code",
   "execution_count": 12,
   "id": "4e5863bb-ee04-490b-bf86-2e5b4e3f1f8e",
   "metadata": {
    "execution": {
     "iopub.execute_input": "2024-04-26T02:57:31.994973Z",
     "iopub.status.busy": "2024-04-26T02:57:31.993785Z",
     "iopub.status.idle": "2024-04-26T02:57:32.014323Z",
     "shell.execute_reply": "2024-04-26T02:57:32.010765Z",
     "shell.execute_reply.started": "2024-04-26T02:57:31.994973Z"
    }
   },
   "outputs": [
    {
     "name": "stdout",
     "output_type": "stream",
     "text": [
      "My dog's name is Willie.\n",
      "My dog is 6 years old.\n",
      "Willie is now sitting.\n",
      "Willie rolled over!\n",
      "\n",
      "Your dog's name is Lucy.\n",
      "Your dog is 3 years old.\n",
      "Lucy is now sitting.\n",
      "Lucy rolled over!\n"
     ]
    }
   ],
   "source": [
    "#可将类视为有关如何创建实例的说明\n",
    "#下面来创建一个表示特定小狗的实例\n",
    "class Dog:\n",
    "    \"\"\"一次模拟小狗的简单尝试。\"\"\"  \n",
    "    \n",
    "    def __init__(self, name, age): \n",
    "        \"\"\"初始化属性name和age。\"\"\"\n",
    "        self.name = name\n",
    "        self.age = age\n",
    "    \n",
    "    def sit(self):\n",
    "        \"\"\"模拟小狗收到命令时蹲下。\"\"\"\n",
    "        print(f\"{self.name} is now sitting.\")\n",
    "        \n",
    "    def roll_over(self):\n",
    "        \"\"\"模拟小狗收到命令时打滚。\"\"\"\n",
    "        print(f\"{self.name} rolled over!\")\n",
    "\n",
    "\n",
    "my_dog = Dog('Willie', 6)\n",
    "\n",
    "#a.访问属性 使用句点表示法:  my_dog.name   my_dog.age\n",
    "\n",
    "print(f\"My dog's name is {my_dog.name}.\")   \n",
    "print(f\"My dog is {my_dog.age} years old.\")\n",
    "\n",
    "#b.调用方法 指定实例的名称和要调用的方法，并用句点分隔\n",
    "\n",
    "my_dog.sit()\n",
    "my_dog.roll_over()\n",
    "\n",
    "\n",
    "#c.创建多个实例\n",
    "\n",
    "your_dog = Dog('Lucy', 3)\n",
    "\n",
    "print(f\"\\nYour dog's name is {your_dog.name}.\")\n",
    "print(f\"Your dog is {your_dog.age} years old.\")\n",
    "\n",
    "your_dog.sit()\n",
    "your_dog.roll_over()"
   ]
  },
  {
   "cell_type": "markdown",
   "id": "a04cb788-d797-464e-9c2f-51b930fbf733",
   "metadata": {},
   "source": [
    "### 练习"
   ]
  },
  {
   "cell_type": "code",
   "execution_count": 57,
   "id": "2a71c944-ff68-4ac1-b67e-9e7514c6c54a",
   "metadata": {
    "execution": {
     "iopub.execute_input": "2024-04-26T07:58:16.312597Z",
     "iopub.status.busy": "2024-04-26T07:58:16.309976Z",
     "iopub.status.idle": "2024-04-26T07:58:16.329487Z",
     "shell.execute_reply": "2024-04-26T07:58:16.327081Z",
     "shell.execute_reply.started": "2024-04-26T07:58:16.312597Z"
    }
   },
   "outputs": [
    {
     "name": "stdout",
     "output_type": "stream",
     "text": [
      "The name:haochi dish;The type:chinese\n",
      "Haochi Dish  Chinese\n",
      "The restaurant is opening.\n"
     ]
    }
   ],
   "source": [
    "class Restaurant:\n",
    "    \"\"\"模拟餐馆\"\"\"\n",
    "    def __init__(self,restaurant_name,cuisine_type):\n",
    "        \"\"\"初始化描述餐馆的属性\"\"\"\n",
    "        self.restaurant_name=restaurant_name\n",
    "        self.cuisine_type=cuisine_type\n",
    "\n",
    "    def describe_restaurant(self):\n",
    "        \"\"\"打印前述信息\"\"\"\n",
    "        info=f\"{self.restaurant_name}  {self.cuisine_type}\"\n",
    "        return info.title()\n",
    "\n",
    "    def open_restaurant(self):\n",
    "        \"\"\"指出餐馆在营业\"\"\"\n",
    "        print(\"The restaurant is opening.\")\n",
    "\n",
    "restaurant=Restaurant('haochi dish','chinese')\n",
    "print(f\"The name:{restaurant.restaurant_name};The type:{restaurant.cuisine_type}\")\n",
    "print(restaurant.describe_restaurant())\n",
    "restaurant.open_restaurant()"
   ]
  },
  {
   "cell_type": "code",
   "execution_count": 58,
   "id": "8feb2a4a-e9d6-4332-8587-a3fbc0058d9a",
   "metadata": {
    "execution": {
     "iopub.execute_input": "2024-04-26T07:59:50.193409Z",
     "iopub.status.busy": "2024-04-26T07:59:50.193409Z",
     "iopub.status.idle": "2024-04-26T07:59:50.210732Z",
     "shell.execute_reply": "2024-04-26T07:59:50.208055Z",
     "shell.execute_reply.started": "2024-04-26T07:59:50.193409Z"
    }
   },
   "outputs": [
    {
     "name": "stdout",
     "output_type": "stream",
     "text": [
      "Haochi Dish  Chinese\n",
      "Kfc  Fast Food\n",
      "Miss Dai  Pizza\n"
     ]
    }
   ],
   "source": [
    "restaurant_1=Restaurant('haochi dish','chinese')\n",
    "print(restaurant_1.describe_restaurant())\n",
    "\n",
    "restaurant_2=Restaurant('KFC','fast food')\n",
    "print(restaurant_2.describe_restaurant())\n",
    "\n",
    "restaurant_3=Restaurant('miss Dai','pizza')\n",
    "print(restaurant_3.describe_restaurant())"
   ]
  },
  {
   "cell_type": "code",
   "execution_count": 72,
   "id": "d79969d4-35ea-458f-a779-0b793e1cf07b",
   "metadata": {
    "execution": {
     "iopub.execute_input": "2024-04-26T08:17:15.548876Z",
     "iopub.status.busy": "2024-04-26T08:17:15.547292Z",
     "iopub.status.idle": "2024-04-26T08:17:15.571188Z",
     "shell.execute_reply": "2024-04-26T08:17:15.571188Z",
     "shell.execute_reply.started": "2024-04-26T08:17:15.548876Z"
    }
   },
   "outputs": [
    {
     "name": "stdout",
     "output_type": "stream",
     "text": [
      "Ruby Lowe Female 21\n",
      "Hello, Ruby Lowe!Have a nice day!\n",
      "Amy White Female 28\n",
      "Hello, Amy White!Have a nice day!\n",
      "John Green Male 40\n",
      "Hello, John Green!Have a nice day!\n"
     ]
    }
   ],
   "source": [
    "class User:\n",
    "    \"\"\"模拟用户信息\"\"\"\n",
    "    def __init__(self,first_name,last_name,gender,age):\n",
    "        \"\"\"初始化描述用户信息\"\"\"\n",
    "        self.first_name=first_name\n",
    "        self.last_name=last_name\n",
    "        self.gender=gender\n",
    "        self.age=age\n",
    "\n",
    "    def describe_user(self):\n",
    "        \"\"\"打印用户信息摘要\"\"\"\n",
    "        info=f\"{self.first_name} {self.last_name} {self.gender} {self.age}\"\n",
    "        return info.title()\n",
    "\n",
    "    def greet_user(self):\n",
    "        \"\"\"发出个性化问候\"\"\"\n",
    "        print(f\"Hello, {self.first_name.title()} {self.last_name.title()}!Have a nice day!\")\n",
    "\n",
    "user1=User('ruby','lowe','female','21')\n",
    "print(user1.describe_user())\n",
    "user1.greet_user()\n",
    "\n",
    "user2=User('amy','white','female','28')\n",
    "print(user2.describe_user())\n",
    "user2.greet_user()\n",
    "\n",
    "user3=User('john','green','male','40')\n",
    "print(user3.describe_user())\n",
    "user3.greet_user()"
   ]
  },
  {
   "cell_type": "markdown",
   "id": "add69b46-eb4e-444d-8ce6-91d21a0621d1",
   "metadata": {},
   "source": [
    "## 使用类和实例"
   ]
  },
  {
   "cell_type": "markdown",
   "id": "5ef1573b-b853-412c-b628-e9b5827f818d",
   "metadata": {},
   "source": [
    "### Car 类"
   ]
  },
  {
   "cell_type": "code",
   "execution_count": 13,
   "id": "9763808b-c16d-4a6f-94d3-1d4b7b5a7df2",
   "metadata": {
    "execution": {
     "iopub.execute_input": "2024-04-26T03:07:38.093180Z",
     "iopub.status.busy": "2024-04-26T03:07:38.093180Z",
     "iopub.status.idle": "2024-04-26T03:07:38.113949Z",
     "shell.execute_reply": "2024-04-26T03:07:38.108903Z",
     "shell.execute_reply.started": "2024-04-26T03:07:38.093180Z"
    }
   },
   "outputs": [
    {
     "name": "stdout",
     "output_type": "stream",
     "text": [
      "2019 Audi A4\n"
     ]
    }
   ],
   "source": [
    "class Car:\n",
    "    \"\"\"一次模拟汽车的简单尝试。\"\"\"\n",
    "    \n",
    "    def __init__(self, make, model, year):\n",
    "        \"\"\"初始化描述汽车的属性。\"\"\"\n",
    "        self.make = make\n",
    "        self.model = model\n",
    "        self.year = year\n",
    "\n",
    "    def get_descriptive_name(self):\n",
    "        \"\"\"返回整洁的描述性信息。\"\"\"\n",
    "        long_name = f\"{self.year} {self.make} {self.model}\"\n",
    "        return long_name.title()\n",
    "\n",
    "my_new_car = Car('audi', 'a4', 2019)\n",
    "print(my_new_car.get_descriptive_name())"
   ]
  },
  {
   "cell_type": "markdown",
   "id": "6a2d4cdc-a429-4341-a1ec-a1cee99cdb66",
   "metadata": {},
   "source": [
    "### 给属性指定默认值"
   ]
  },
  {
   "cell_type": "code",
   "execution_count": 15,
   "id": "4b4ca989-6374-4e05-818f-199ca9cb936b",
   "metadata": {
    "execution": {
     "iopub.execute_input": "2024-04-26T03:12:28.098915Z",
     "iopub.status.busy": "2024-04-26T03:12:28.098915Z",
     "iopub.status.idle": "2024-04-26T03:12:28.117855Z",
     "shell.execute_reply": "2024-04-26T03:12:28.115100Z",
     "shell.execute_reply.started": "2024-04-26T03:12:28.098915Z"
    }
   },
   "outputs": [
    {
     "name": "stdout",
     "output_type": "stream",
     "text": [
      "2019 Audi A4\n",
      "This car has 0 miles on it.\n"
     ]
    }
   ],
   "source": [
    "class Car:\n",
    "    \"\"\"一次模拟汽车的简单尝试。\"\"\"\n",
    "    \n",
    "    def __init__(self, make, model, year):\n",
    "        \"\"\"初始化描述汽车的属性。\"\"\"\n",
    "        self.make = make\n",
    "        self.model = model\n",
    "        self.year = year\n",
    "        self.odometer_reading = 0\n",
    "\n",
    "    def get_descriptive_name(self):\n",
    "        \"\"\"返回整洁的描述性信息。\"\"\"\n",
    "        long_name = f\"{self.year} {self.make} {self.model}\"\n",
    "        return long_name.title()\n",
    "        \n",
    "    def read_odometer(self):\n",
    "        \"\"\"打印一条指出汽车里程的消息。\"\"\"\n",
    "        print(f\"This car has {self.odometer_reading} miles on it.\")\n",
    "\n",
    "my_new_car = Car('audi', 'a4', 2019)\n",
    "print(my_new_car.get_descriptive_name())\n",
    "my_new_car.read_odometer()"
   ]
  },
  {
   "cell_type": "markdown",
   "id": "68865f54-5b83-4556-98f4-1532a90e3f91",
   "metadata": {},
   "source": [
    "### 修改属性的值"
   ]
  },
  {
   "cell_type": "code",
   "execution_count": 16,
   "id": "267de5fa-c18e-4a52-b891-d0bf5f5d53ed",
   "metadata": {
    "execution": {
     "iopub.execute_input": "2024-04-26T03:13:55.857209Z",
     "iopub.status.busy": "2024-04-26T03:13:55.855675Z",
     "iopub.status.idle": "2024-04-26T03:13:55.871480Z",
     "shell.execute_reply": "2024-04-26T03:13:55.868337Z",
     "shell.execute_reply.started": "2024-04-26T03:13:55.857209Z"
    }
   },
   "outputs": [
    {
     "name": "stdout",
     "output_type": "stream",
     "text": [
      "2019 Audi A4\n",
      "This car has 23 miles on it.\n"
     ]
    }
   ],
   "source": [
    "#a. 直接修改属性的值\n",
    "my_new_car = Car('audi', 'a4', 2019)\n",
    "\n",
    "print(my_new_car.get_descriptive_name())\n",
    "\n",
    "my_new_car.odometer_reading = 23\n",
    "my_new_car.read_odometer()"
   ]
  },
  {
   "cell_type": "code",
   "execution_count": 80,
   "id": "c314f797-6fd9-46b5-a8d5-1a8a9650ab6f",
   "metadata": {
    "execution": {
     "iopub.execute_input": "2024-04-26T08:56:10.598602Z",
     "iopub.status.busy": "2024-04-26T08:56:10.594278Z",
     "iopub.status.idle": "2024-04-26T08:56:10.614545Z",
     "shell.execute_reply": "2024-04-26T08:56:10.614545Z",
     "shell.execute_reply.started": "2024-04-26T08:56:10.598602Z"
    }
   },
   "outputs": [
    {
     "name": "stdout",
     "output_type": "stream",
     "text": [
      "2019 Audi A4\n",
      "This car has 23 miles on it.\n"
     ]
    }
   ],
   "source": [
    "#b. 通过方法修改属性的值\n",
    "class Car:  \n",
    "    \"\"\"一次模拟汽车的简单尝试。\"\"\"\n",
    "    def __init__(self, make, model, year):\n",
    "        \"\"\"初始化描述汽车的属性。\"\"\"\n",
    "        self.make = make\n",
    "        self.model = model\n",
    "        self.year = year\n",
    "        self.odometer_reading = 0\n",
    "\n",
    "    def get_descriptive_name(self):\n",
    "        \"\"\"返回整洁的描述性信息。\"\"\"\n",
    "        long_name = f\"{self.year} {self.make} {self.model}\"\n",
    "        return long_name.title()\n",
    "        \n",
    "    def read_odometer(self):\n",
    "        \"\"\"打印一条指出汽车里程的消息。\"\"\"\n",
    "        print(f\"This car has {self.odometer_reading} miles on it.\")\n",
    "\n",
    "    def update_odometer(self, mileage):\n",
    "        \"\"\"将里程表读数设置为指定的值。\"\"\"\n",
    "        self.odometer_reading = mileage\n",
    "\n",
    "my_new_car = Car('audi', 'a4', 2019)\n",
    "print(my_new_car.get_descriptive_name())\n",
    "\n",
    "my_new_car.update_odometer(23)\n",
    "my_new_car.read_odometer()"
   ]
  },
  {
   "cell_type": "code",
   "execution_count": 79,
   "id": "be6cc32b-59b1-4ff9-b39e-583a07eefff2",
   "metadata": {
    "execution": {
     "iopub.execute_input": "2024-04-26T08:56:05.735386Z",
     "iopub.status.busy": "2024-04-26T08:56:05.734364Z",
     "iopub.status.idle": "2024-04-26T08:56:05.753486Z",
     "shell.execute_reply": "2024-04-26T08:56:05.752941Z",
     "shell.execute_reply.started": "2024-04-26T08:56:05.735386Z"
    }
   },
   "outputs": [
    {
     "name": "stdout",
     "output_type": "stream",
     "text": [
      "2019 Audi A4\n",
      "You can't roll back an odometer!\n",
      "This car has 30 miles on it.\n"
     ]
    }
   ],
   "source": [
    "#对方法update_odometer() 进行扩展\n",
    "\n",
    "class Car:  \n",
    "    \"\"\"一次模拟汽车的简单尝试。\"\"\"\n",
    "    def __init__(self, make, model, year):\n",
    "        \"\"\"初始化描述汽车的属性。\"\"\"\n",
    "        self.make = make\n",
    "        self.model = model\n",
    "        self.year = year\n",
    "        self.odometer_reading = 30\n",
    "\n",
    "    def get_descriptive_name(self):\n",
    "        \"\"\"返回整洁的描述性信息。\"\"\"\n",
    "        long_name = f\"{self.year} {self.make} {self.model}\"\n",
    "        return long_name.title()\n",
    "        \n",
    "    def read_odometer(self):\n",
    "        \"\"\"打印一条指出汽车里程的消息。\"\"\"\n",
    "        print(f\"This car has {self.odometer_reading} miles on it.\")\n",
    "\n",
    "    def update_odometer(self, mileage):\n",
    "        \"\"\"\n",
    "        将里程表读数设置为指定的值。\n",
    "        禁止将里程表读数往回调。\n",
    "        \"\"\"\n",
    "        if mileage >= self.odometer_reading:\n",
    "            self.odometer_reading = mileage\n",
    "        else:\n",
    "            print(\"You can't roll back an odometer!\")\n",
    "\n",
    "my_new_car = Car('audi', 'a4', 2019)\n",
    "print(my_new_car.get_descriptive_name())\n",
    "\n",
    "my_new_car.update_odometer(23)\n",
    "my_new_car.read_odometer()"
   ]
  },
  {
   "cell_type": "code",
   "execution_count": 78,
   "id": "0510b33f-094d-4f37-9a78-5a30c96ef212",
   "metadata": {
    "execution": {
     "iopub.execute_input": "2024-04-26T08:56:01.400314Z",
     "iopub.status.busy": "2024-04-26T08:56:01.399791Z",
     "iopub.status.idle": "2024-04-26T08:56:01.424338Z",
     "shell.execute_reply": "2024-04-26T08:56:01.421032Z",
     "shell.execute_reply.started": "2024-04-26T08:56:01.400314Z"
    }
   },
   "outputs": [
    {
     "name": "stdout",
     "output_type": "stream",
     "text": [
      "2015 Subaru Outback\n",
      "This car has 23500 miles on it.\n",
      "This car has 23600 miles on it.\n"
     ]
    }
   ],
   "source": [
    "#c. 通过方法对属性的值进行递增\n",
    "\n",
    "class Car:  \n",
    "    \"\"\"一次模拟汽车的简单尝试。\"\"\"\n",
    "    def __init__(self, make, model, year):\n",
    "        \"\"\"初始化描述汽车的属性。\"\"\"\n",
    "        self.make = make\n",
    "        self.model = model\n",
    "        self.year = year\n",
    "        self.odometer_reading = 0\n",
    "\n",
    "    def get_descriptive_name(self):\n",
    "        \"\"\"返回整洁的描述性信息。\"\"\"\n",
    "        long_name = f\"{self.year} {self.make} {self.model}\"\n",
    "        return long_name.title()\n",
    "        \n",
    "    def read_odometer(self):\n",
    "        \"\"\"打印一条指出汽车里程的消息。\"\"\"\n",
    "        print(f\"This car has {self.odometer_reading} miles on it.\")\n",
    "\n",
    "    def update_odometer(self, mileage):\n",
    "        \"\"\"\n",
    "        将里程表读数设置为指定的值。\n",
    "        禁止将里程表读数往回调。\n",
    "        \"\"\"\n",
    "        if mileage >= self.odometer_reading:\n",
    "            self.odometer_reading = mileage\n",
    "        else:\n",
    "            print(\"You can't roll back an odometer!\")\n",
    "\n",
    "    def increment_odometer(self, miles):\n",
    "        \"\"\"将里程表读数增加指定的量。\"\"\"\n",
    "        self.odometer_reading += miles\n",
    "        \n",
    "my_used_car = Car('subaru', 'outback', 2015)\n",
    "print(my_used_car.get_descriptive_name())\n",
    "\n",
    "my_used_car.update_odometer(23_500)\n",
    "my_used_car.read_odometer()\n",
    "\n",
    "my_used_car.increment_odometer(100)\n",
    "my_used_car.read_odometer()"
   ]
  },
  {
   "cell_type": "markdown",
   "id": "6c855dca-04cb-4111-99fe-1155bb9bb42d",
   "metadata": {},
   "source": [
    "### 练习"
   ]
  },
  {
   "cell_type": "code",
   "execution_count": 76,
   "id": "3accab02-0a3b-4756-8303-b9df3d3f3353",
   "metadata": {
    "execution": {
     "iopub.execute_input": "2024-04-26T08:27:44.782848Z",
     "iopub.status.busy": "2024-04-26T08:27:44.782848Z",
     "iopub.status.idle": "2024-04-26T08:27:44.798907Z",
     "shell.execute_reply": "2024-04-26T08:27:44.797273Z",
     "shell.execute_reply.started": "2024-04-26T08:27:44.782848Z"
    }
   },
   "outputs": [
    {
     "name": "stdout",
     "output_type": "stream",
     "text": [
      "The number of people eating here is 0.\n"
     ]
    }
   ],
   "source": [
    "class Restaurant:\n",
    "    \"\"\"模拟餐馆\"\"\"\n",
    "    def __init__(self,restaurant_name,cuisine_type):\n",
    "        \"\"\"初始化描述餐馆的属性\"\"\"\n",
    "        self.restaurant_name=restaurant_name\n",
    "        self.cuisine_type=cuisine_type\n",
    "        self.number_served=0\n",
    "\n",
    "    def read_number_served(self):\n",
    "        \"\"\"打印就餐人数\"\"\"\n",
    "        print(f\"The number of people eating here is {self.number_served}.\")\n",
    "        \n",
    "restaurant=Restaurant('haochi dish','chinese')\n",
    "restaurant.read_number_served()"
   ]
  },
  {
   "cell_type": "code",
   "execution_count": 82,
   "id": "6f58a90c-874d-4177-a3b4-c70ba6572a88",
   "metadata": {
    "execution": {
     "iopub.execute_input": "2024-04-26T08:59:44.110784Z",
     "iopub.status.busy": "2024-04-26T08:59:44.110784Z",
     "iopub.status.idle": "2024-04-26T08:59:44.130161Z",
     "shell.execute_reply": "2024-04-26T08:59:44.126675Z",
     "shell.execute_reply.started": "2024-04-26T08:59:44.110784Z"
    }
   },
   "outputs": [
    {
     "name": "stdout",
     "output_type": "stream",
     "text": [
      "The number of people eating here is 100.\n"
     ]
    }
   ],
   "source": [
    "class Restaurant:\n",
    "    \"\"\"模拟餐馆\"\"\"\n",
    "    def __init__(self,restaurant_name,cuisine_type):\n",
    "        \"\"\"初始化描述餐馆的属性\"\"\"\n",
    "        self.restaurant_name=restaurant_name\n",
    "        self.cuisine_type=cuisine_type\n",
    "        self.number_served=0\n",
    "        \n",
    "    def set_number_served(self,number):\n",
    "        \"\"\"设置就餐人数\"\"\"\n",
    "        self.number_served=number\n",
    "\n",
    "    def read_number_served(self):\n",
    "        \"\"\"打印就餐人数\"\"\"\n",
    "        print(f\"The number of people eating here is {self.number_served}.\")\n",
    "    \n",
    "restaurant=Restaurant('haochi dish','chinese')\n",
    "restaurant.set_number_served(100)\n",
    "restaurant.read_number_served()"
   ]
  },
  {
   "cell_type": "code",
   "execution_count": 84,
   "id": "be52a7f0-ba17-43ee-a2a0-e736db293613",
   "metadata": {
    "execution": {
     "iopub.execute_input": "2024-04-26T09:00:19.336557Z",
     "iopub.status.busy": "2024-04-26T09:00:19.335322Z",
     "iopub.status.idle": "2024-04-26T09:00:19.355377Z",
     "shell.execute_reply": "2024-04-26T09:00:19.353209Z",
     "shell.execute_reply.started": "2024-04-26T09:00:19.336557Z"
    }
   },
   "outputs": [
    {
     "name": "stdout",
     "output_type": "stream",
     "text": [
      "The number of people eating here is 150.\n"
     ]
    }
   ],
   "source": [
    "class Restaurant:\n",
    "    \"\"\"模拟餐馆\"\"\"\n",
    "    def __init__(self,restaurant_name,cuisine_type):\n",
    "        \"\"\"初始化描述餐馆的属性\"\"\"\n",
    "        self.restaurant_name=restaurant_name\n",
    "        self.cuisine_type=cuisine_type\n",
    "        self.number_served=0\n",
    "        \n",
    "    def set_number_served(self,number):\n",
    "        \"\"\"设置就餐人数\"\"\"\n",
    "        self.number_served=number\n",
    "\n",
    "    def read_number_served(self):\n",
    "        \"\"\"打印就餐人数\"\"\"\n",
    "        print(f\"The number of people eating here is {self.number_served}.\")\n",
    "\n",
    "    def increment_number_served(self,increase):\n",
    "        \"\"\"将就餐人数递增\"\"\"\n",
    "        self.number_served+=increase\n",
    "    \n",
    "restaurant=Restaurant('haochi dish','chinese')\n",
    "restaurant.set_number_served(100)\n",
    "restaurant.increment_number_served(50)\n",
    "restaurant.read_number_served()"
   ]
  },
  {
   "cell_type": "code",
   "execution_count": 86,
   "id": "fe4b96e0-6fc2-4f06-8f3e-608ff92acf3f",
   "metadata": {
    "execution": {
     "iopub.execute_input": "2024-04-26T09:21:06.219456Z",
     "iopub.status.busy": "2024-04-26T09:21:06.218435Z",
     "iopub.status.idle": "2024-04-26T09:21:06.237154Z",
     "shell.execute_reply": "2024-04-26T09:21:06.234229Z",
     "shell.execute_reply.started": "2024-04-26T09:21:06.219456Z"
    }
   },
   "outputs": [
    {
     "name": "stdout",
     "output_type": "stream",
     "text": [
      "1\n",
      "0\n"
     ]
    }
   ],
   "source": [
    "class User:\n",
    "    \"\"\"模拟用户信息\"\"\"\n",
    "    def __init__(self,first_name,last_name,gender):\n",
    "        \"\"\"初始化描述用户信息\"\"\"\n",
    "        self.first_name=first_name\n",
    "        self.last_name=last_name\n",
    "        self.gender=gender\n",
    "        self.login_attempts=0\n",
    "\n",
    "    def increment_login_attempts(self):\n",
    "        \"\"\"增加登录次数\"\"\"\n",
    "        self.login_attempts+=1\n",
    "\n",
    "    def reset_login_attempts(self):\n",
    "        \"\"\"重置登录次数\"\"\"\n",
    "        self.login_attempts=0\n",
    "\n",
    "user1=User('ruby','lowe','female')\n",
    "\n",
    "user1.increment_login_attempts()\n",
    "print(user1.login_attempts)\n",
    "      \n",
    "user1.reset_login_attempts()\n",
    "print(user1.login_attempts)"
   ]
  },
  {
   "cell_type": "markdown",
   "id": "60e976ce-caa8-44a2-976b-ddcc218272c6",
   "metadata": {},
   "source": [
    "## 继承\n",
    "\n",
    "如果要编写的类是另一个现成类的特殊版本，可使用继承 \n",
    "\n",
    "一个类【继承】另一个类时，将自动获得另一个类的所有属性和方法\n",
    "\n",
    "原有的类称为父类 ，而新类称为子类"
   ]
  },
  {
   "cell_type": "markdown",
   "id": "d68bd6c4-5375-4d76-b423-1a0689d59a90",
   "metadata": {},
   "source": [
    "### 子类的方法__init__()"
   ]
  },
  {
   "cell_type": "code",
   "execution_count": 23,
   "id": "73fd6be5-45f6-43ec-8d32-3a40c2b508a4",
   "metadata": {
    "execution": {
     "iopub.execute_input": "2024-04-26T03:46:27.953009Z",
     "iopub.status.busy": "2024-04-26T03:46:27.951599Z",
     "iopub.status.idle": "2024-04-26T03:46:27.972996Z",
     "shell.execute_reply": "2024-04-26T03:46:27.970855Z",
     "shell.execute_reply.started": "2024-04-26T03:46:27.953009Z"
    }
   },
   "outputs": [
    {
     "name": "stdout",
     "output_type": "stream",
     "text": [
      "2019 Tesla Model S\n"
     ]
    }
   ],
   "source": [
    "                        #创建子类时，父类必须包含在当前文件中，且位于子类前面\n",
    "class Car:  \n",
    "    \"\"\"一次模拟汽车的简单尝试。\"\"\"\n",
    "    def __init__(self, make, model, year):\n",
    "        \"\"\"初始化描述汽车的属性。\"\"\"\n",
    "        self.make = make\n",
    "        self.model = model\n",
    "        self.year = year\n",
    "        self.odometer_reading = 0\n",
    "\n",
    "    def get_descriptive_name(self):\n",
    "        \"\"\"返回整洁的描述性信息。\"\"\"\n",
    "        long_name = f\"{self.year} {self.make} {self.model}\"\n",
    "        return long_name.title()\n",
    "        \n",
    "    def read_odometer(self):\n",
    "        \"\"\"打印一条指出汽车里程的消息。\"\"\"\n",
    "        print(f\"This car has {self.odometer_reading} miles on it.\")\n",
    "\n",
    "    def update_odometer(self, mileage):\n",
    "        \"\"\"\n",
    "        将里程表读数设置为指定的值。\n",
    "        禁止将里程表读数往回调。\n",
    "        \"\"\"\n",
    "        if mileage >= self.odometer_reading:\n",
    "            self.odometer_reading = mileage\n",
    "        else:\n",
    "            print(\"You can't roll back an odometer!\")\n",
    "\n",
    "    def increment_odometer(self, miles):\n",
    "        \"\"\"将里程表读数增加指定的量。\"\"\"\n",
    "        self.odometer_reading += miles\n",
    "\n",
    "                        #定义子类时，必须在圆括号内指定父类的名称\n",
    "class ElectricCar(Car):\n",
    "    \"\"\"电动汽车的独特之处。\"\"\"\n",
    "    def __init__(self, make, model, year):\n",
    "        \"\"\"初始化父类的属性。\"\"\"\n",
    "        super().__init__(make, model, year)\n",
    "    #super()函数：调用Car类的方法__init__()，让ElectricCar实例包含这个方法中定义的所有属性\n",
    "    #父类也称为超类（superclass），名称super由此而来。\n",
    "\n",
    "my_tesla = ElectricCar('tesla', 'model s', 2019)\n",
    "print(my_tesla.get_descriptive_name())"
   ]
  },
  {
   "cell_type": "markdown",
   "id": "11700308-0c1b-4bf9-bd19-229ce4001430",
   "metadata": {},
   "source": [
    "### 给子类定义属性和方法"
   ]
  },
  {
   "cell_type": "code",
   "execution_count": 24,
   "id": "8485d657-97f7-4d54-8b56-cfce95cb24d8",
   "metadata": {
    "execution": {
     "iopub.execute_input": "2024-04-26T03:51:14.750530Z",
     "iopub.status.busy": "2024-04-26T03:51:14.750530Z",
     "iopub.status.idle": "2024-04-26T03:51:14.777989Z",
     "shell.execute_reply": "2024-04-26T03:51:14.775252Z",
     "shell.execute_reply.started": "2024-04-26T03:51:14.750530Z"
    }
   },
   "outputs": [
    {
     "name": "stdout",
     "output_type": "stream",
     "text": [
      "2019 Tesla Model S\n",
      "This car has a 75-kWh battery.\n"
     ]
    }
   ],
   "source": [
    "#添加一个电动汽车特有的属性（电瓶），以及一个描述该属性的方法\n",
    "class Car:  \n",
    "    \"\"\"一次模拟汽车的简单尝试。\"\"\"\n",
    "    def __init__(self, make, model, year):\n",
    "        \"\"\"初始化描述汽车的属性。\"\"\"\n",
    "        self.make = make\n",
    "        self.model = model\n",
    "        self.year = year\n",
    "        self.odometer_reading = 0\n",
    "\n",
    "    def get_descriptive_name(self):\n",
    "        \"\"\"返回整洁的描述性信息。\"\"\"\n",
    "        long_name = f\"{self.year} {self.make} {self.model}\"\n",
    "        return long_name.title()\n",
    "        \n",
    "    def read_odometer(self):\n",
    "        \"\"\"打印一条指出汽车里程的消息。\"\"\"\n",
    "        print(f\"This car has {self.odometer_reading} miles on it.\")\n",
    "\n",
    "    def update_odometer(self, mileage):\n",
    "        \"\"\"\n",
    "        将里程表读数设置为指定的值。\n",
    "        禁止将里程表读数往回调。\n",
    "        \"\"\"\n",
    "        if mileage >= self.odometer_reading:\n",
    "            self.odometer_reading = mileage\n",
    "        else:\n",
    "            print(\"You can't roll back an odometer!\")\n",
    "\n",
    "    def increment_odometer(self, miles):\n",
    "        \"\"\"将里程表读数增加指定的量。\"\"\"\n",
    "        self.odometer_reading += miles\n",
    "\n",
    "\n",
    "class ElectricCar(Car):\n",
    "    \"\"\"电动汽车的独特之处。\"\"\"\n",
    "    \n",
    "    def __init__(self, make, model, year):\n",
    "        \"\"\"\n",
    "        初始化父类的属性。\n",
    "        再初始化电动汽车特有的属性。\n",
    "        \"\"\"\n",
    "        super().__init__(make, model, year)\n",
    "        self.battery_size = 75\n",
    "        \n",
    "    def describe_battery(self):\n",
    "        \"\"\"打印一条描述电瓶容量的消息。\"\"\"\n",
    "        print(f\"This car has a {self.battery_size}-kWh battery.\")\n",
    "\n",
    "my_tesla = ElectricCar('tesla', 'model s', 2019)\n",
    "print(my_tesla.get_descriptive_name())\n",
    "my_tesla.describe_battery()"
   ]
  },
  {
   "cell_type": "markdown",
   "id": "ec6a43ac-95e8-42ff-8f6e-3e9efa65f4b7",
   "metadata": {},
   "source": [
    "### 重写父类的方法"
   ]
  },
  {
   "cell_type": "code",
   "execution_count": 25,
   "id": "bac8868d-b71a-4c89-90dc-bac3cdd86941",
   "metadata": {
    "execution": {
     "iopub.execute_input": "2024-04-26T05:18:37.864011Z",
     "iopub.status.busy": "2024-04-26T05:18:37.864011Z",
     "iopub.status.idle": "2024-04-26T05:18:37.871834Z",
     "shell.execute_reply": "2024-04-26T05:18:37.871834Z",
     "shell.execute_reply.started": "2024-04-26T05:18:37.864011Z"
    }
   },
   "outputs": [
    {
     "name": "stdout",
     "output_type": "stream",
     "text": [
      "This car doesn't need a gas tank!\n"
     ]
    }
   ],
   "source": [
    "class ElectricCar(Car):\n",
    "    \"\"\"电动汽车的独特之处。\"\"\"\n",
    "    \n",
    "    def __init__(self, make, model, year):\n",
    "        \"\"\"\n",
    "        初始化父类的属性。\n",
    "        再初始化电动汽车特有的属性。\n",
    "        \"\"\"\n",
    "        super().__init__(make, model, year)\n",
    "        self.battery_size = 75\n",
    "        \n",
    "    def describe_battery(self):\n",
    "        \"\"\"打印一条描述电瓶容量的消息。\"\"\"\n",
    "        print(f\"This car has a {self.battery_size}-kWh battery.\")\n",
    "        \n",
    "    def fill_gas_tank(self):\n",
    "        \"\"\"电动汽车没有油箱。\"\"\"\n",
    "        print(\"This car doesn't need a gas tank!\")\n",
    "\n",
    "my_tesla = ElectricCar('tesla', 'model s', 2019)\n",
    "my_tesla.fill_gas_tank()\n",
    "\n",
    "#不建议使用"
   ]
  },
  {
   "cell_type": "markdown",
   "id": "7477532b-a8db-48af-bedc-0c8c8ec00399",
   "metadata": {},
   "source": [
    "### 将实例用作属性"
   ]
  },
  {
   "cell_type": "code",
   "execution_count": 26,
   "id": "25bdd3f1-dbf6-4dee-b355-9b72ebea7a27",
   "metadata": {
    "execution": {
     "iopub.execute_input": "2024-04-26T05:40:40.049458Z",
     "iopub.status.busy": "2024-04-26T05:40:40.048467Z",
     "iopub.status.idle": "2024-04-26T05:40:40.060816Z",
     "shell.execute_reply": "2024-04-26T05:40:40.059618Z",
     "shell.execute_reply.started": "2024-04-26T05:40:40.049458Z"
    }
   },
   "outputs": [
    {
     "name": "stdout",
     "output_type": "stream",
     "text": [
      "2019 Tesla Model S\n",
      "This car has a 75-kWh battery.\n"
     ]
    }
   ],
   "source": [
    "#将大型类拆分成多个协同工作的小类\n",
    "\n",
    "class Car:  \n",
    "    \"\"\"一次模拟汽车的简单尝试。\"\"\"\n",
    "    def __init__(self, make, model, year):\n",
    "        \"\"\"初始化描述汽车的属性。\"\"\"\n",
    "        self.make = make\n",
    "        self.model = model\n",
    "        self.year = year\n",
    "        self.odometer_reading = 0\n",
    "\n",
    "    def get_descriptive_name(self):\n",
    "        \"\"\"返回整洁的描述性信息。\"\"\"\n",
    "        long_name = f\"{self.year} {self.make} {self.model}\"\n",
    "        return long_name.title()\n",
    "        \n",
    "    def read_odometer(self):\n",
    "        \"\"\"打印一条指出汽车里程的消息。\"\"\"\n",
    "        print(f\"This car has {self.odometer_reading} miles on it.\")\n",
    "\n",
    "    def update_odometer(self, mileage):\n",
    "        \"\"\"\n",
    "        将里程表读数设置为指定的值。\n",
    "        禁止将里程表读数往回调。\n",
    "        \"\"\"\n",
    "        if mileage >= self.odometer_reading:\n",
    "            self.odometer_reading = mileage\n",
    "        else:\n",
    "            print(\"You can't roll back an odometer!\")\n",
    "\n",
    "    def increment_odometer(self, miles):\n",
    "        \"\"\"将里程表读数增加指定的量。\"\"\"\n",
    "        self.odometer_reading += miles\n",
    "\n",
    "\n",
    "class Battery:\n",
    "    \"\"\"一次模拟电动汽车电瓶的简单尝试。\"\"\"\n",
    "    def __init__(self, battery_size=75):  #这个形参是可选的：如果没有给它提供值，电瓶容量将被设置为75\n",
    "        \"\"\"初始化电瓶的属性。\"\"\"\n",
    "        self.battery_size = battery_size\n",
    "        \n",
    "    def describe_battery(self):\n",
    "        \"\"\"打印一条描述电瓶容量的消息。\"\"\"\n",
    "        print(f\"This car has a {self.battery_size}-kWh battery.\")\n",
    "\n",
    "\n",
    "class ElectricCar(Car):\n",
    "    \"\"\"电动汽车的独特之处。\"\"\"\n",
    "    def __init__(self, make, model, year):\n",
    "        \"\"\"\n",
    "        初始化父类的属性。\n",
    "        再初始化电动汽车特有的属性。\n",
    "        \"\"\"\n",
    "        super().__init__(make, model, year)\n",
    "        self.battery = Battery()   #创建一个新的Battery 实例，并将该实例赋给属性self.battery\n",
    "                  #每当__init__()被调用时都将执行该操作，因此每个ElectricCar实例都包含一个自动创建的Battery实例\n",
    "                  #由于已经设置了默认的唯一形参battery_size，所以括号里不用填，否则要指明参数\n",
    "\n",
    "my_tesla = ElectricCar('tesla', 'model s', 2019)\n",
    "print(my_tesla.get_descriptive_name())\n",
    "\n",
    "#battery小写：调用实例属性的方法，而不是直接调用 Privileges类的方法\n",
    "my_tesla.battery.describe_battery()"
   ]
  },
  {
   "cell_type": "code",
   "execution_count": 112,
   "id": "ecbdd1ee-451a-4a32-b99c-2afab7cafbd1",
   "metadata": {
    "execution": {
     "iopub.execute_input": "2024-04-26T10:30:48.461257Z",
     "iopub.status.busy": "2024-04-26T10:30:48.461257Z",
     "iopub.status.idle": "2024-04-26T10:30:48.489934Z",
     "shell.execute_reply": "2024-04-26T10:30:48.488404Z",
     "shell.execute_reply.started": "2024-04-26T10:30:48.461257Z"
    }
   },
   "outputs": [
    {
     "name": "stdout",
     "output_type": "stream",
     "text": [
      "2019 Tesla Model S\n",
      "This car has a 75-kWh battery.\n",
      "This car can go about 260 miles on a full charge.\n"
     ]
    }
   ],
   "source": [
    "class Car:  \n",
    "    \"\"\"一次模拟汽车的简单尝试。\"\"\"\n",
    "    def __init__(self, make, model, year):\n",
    "        \"\"\"初始化描述汽车的属性。\"\"\"\n",
    "        self.make = make\n",
    "        self.model = model\n",
    "        self.year = year\n",
    "        self.odometer_reading = 0\n",
    "\n",
    "    def get_descriptive_name(self):\n",
    "        \"\"\"返回整洁的描述性信息。\"\"\"\n",
    "        long_name = f\"{self.year} {self.make} {self.model}\"\n",
    "        return long_name.title()\n",
    "        \n",
    "    def read_odometer(self):\n",
    "        \"\"\"打印一条指出汽车里程的消息。\"\"\"\n",
    "        print(f\"This car has {self.odometer_reading} miles on it.\")\n",
    "\n",
    "    def update_odometer(self, mileage):\n",
    "        \"\"\"\n",
    "        将里程表读数设置为指定的值。\n",
    "        禁止将里程表读数往回调。\n",
    "        \"\"\"\n",
    "        if mileage >= self.odometer_reading:\n",
    "            self.odometer_reading = mileage\n",
    "        else:\n",
    "            print(\"You can't roll back an odometer!\")\n",
    "\n",
    "    def increment_odometer(self, miles):\n",
    "        \"\"\"将里程表读数增加指定的量。\"\"\"\n",
    "        self.odometer_reading += miles\n",
    "\n",
    "\n",
    "class Battery:\n",
    "    \"\"\"一次模拟电动汽车电瓶的简单尝试。\"\"\"\n",
    "    def __init__(self, battery_size=75):  #这个形参是可选的：如果没有给它提供值，电瓶容量将被设置为75\n",
    "        \"\"\"初始化电瓶的属性。\"\"\"\n",
    "        self.battery_size = battery_size\n",
    "        \n",
    "    def describe_battery(self):\n",
    "        \"\"\"打印一条描述电瓶容量的消息。\"\"\"\n",
    "        print(f\"This car has a {self.battery_size}-kWh battery.\")\n",
    "\n",
    "    def get_range(self):\n",
    "        \"\"\"打印一条消息，指出电瓶的续航里程。\"\"\"\n",
    "        if self.battery_size == 75:\n",
    "            range = 260\n",
    "        elif self.battery_size == 100:\n",
    "            range = 315\n",
    "        print(f\"This car can go about {range} miles on a full charge.\")\n",
    "\n",
    "\n",
    "class ElectricCar(Car):\n",
    "    \"\"\"电动汽车的独特之处。\"\"\"\n",
    "    def __init__(self, make, model, year):\n",
    "        \"\"\"\n",
    "        初始化父类的属性。\n",
    "        再初始化电动汽车特有的属性。\n",
    "        \"\"\"\n",
    "        super().__init__(make, model, year)\n",
    "        self.battery = Battery() \n",
    "\n",
    "my_tesla = ElectricCar('tesla', 'model s', 2019)\n",
    "print(my_tesla.get_descriptive_name())\n",
    "\n",
    "my_tesla.battery.describe_battery()\n",
    "my_tesla.battery.get_range()"
   ]
  },
  {
   "cell_type": "markdown",
   "id": "d5173f51-ade4-4fce-bbdd-c77aea961cbf",
   "metadata": {},
   "source": [
    "### 模拟实物\n"
   ]
  },
  {
   "cell_type": "code",
   "execution_count": 34,
   "id": "03950018-c308-42e4-97e9-e59e2174dd0c",
   "metadata": {
    "execution": {
     "iopub.execute_input": "2024-04-26T06:33:49.348441Z",
     "iopub.status.busy": "2024-04-26T06:33:49.348441Z",
     "iopub.status.idle": "2024-04-26T06:33:49.360785Z",
     "shell.execute_reply": "2024-04-26T06:33:49.358709Z",
     "shell.execute_reply.started": "2024-04-26T06:33:49.348441Z"
    }
   },
   "outputs": [],
   "source": [
    "#如果只描述一辆汽车，将方法get_range() 放在Battery 类中也许是合适的，但如果要描述一家汽车制造商的整个产品线，也许应该将方法get_range() 移到ElectricCar 类中。在这种情况下，get_range()依然根据电瓶容量来确定续航里程，但报告的是一款汽车的续航里程。也可以这样做：仍将方法get_range() 留在Battery 类中，但向它传递一个参数，如car_model 。在这种情况下，方法get_range() 将根据电瓶容量和汽车型号报告续航里程。"
   ]
  },
  {
   "cell_type": "markdown",
   "id": "3af43237-ffab-4eea-82a2-b74ce1f79e06",
   "metadata": {},
   "source": [
    "### 练习"
   ]
  },
  {
   "cell_type": "code",
   "execution_count": 103,
   "id": "8e9e2c92-641e-43a5-9419-f21e34f8448c",
   "metadata": {
    "execution": {
     "iopub.execute_input": "2024-04-26T09:57:07.470117Z",
     "iopub.status.busy": "2024-04-26T09:57:07.468332Z",
     "iopub.status.idle": "2024-04-26T09:57:07.489162Z",
     "shell.execute_reply": "2024-04-26T09:57:07.486345Z",
     "shell.execute_reply.started": "2024-04-26T09:57:07.470117Z"
    }
   },
   "outputs": [
    {
     "name": "stdout",
     "output_type": "stream",
     "text": [
      "The flavors available are:\n",
      "-apple\n",
      "-mango\n",
      "-blueberry\n",
      "-banana\n"
     ]
    }
   ],
   "source": [
    "class Restaurant:\n",
    "    \"\"\"模拟餐馆\"\"\"\n",
    "    def __init__(self,restaurant_name,cuisine_type):\n",
    "        \"\"\"初始化描述餐馆的属性\"\"\"\n",
    "        self.restaurant_name=restaurant_name\n",
    "        self.cuisine_type=cuisine_type\n",
    "        self.number_served=0\n",
    "\n",
    "    def read_number_served(self):\n",
    "        \"\"\"打印就餐人数\"\"\"\n",
    "        print(f\"The number of people eating here is {self.number_served}.\")\n",
    "\n",
    "\n",
    "class IceCreamStand(Restaurant):\n",
    "    \"\"\"冰淇凌小店的独特之处\"\"\"\n",
    "    def __init__(self, restaurant_name,cuisine_type,flavors):\n",
    "        \"\"\"\n",
    "        初始化父类的属性。\n",
    "        再初始化子类特有的属性。\n",
    "        \"\"\"\n",
    "        super().__init__(restaurant_name,cuisine_type)\n",
    "        self.flavors=flavors\n",
    "\n",
    "    def icecream_kinds(self):\n",
    "        \"\"\"显示冰淇淋种类\"\"\"\n",
    "        print(f\"The flavors available are:\")\n",
    "        for flavor in self.flavors:\n",
    "            print(f\"-{flavor}\")\n",
    "\n",
    "shop=IceCreamStand('sweet_shop','dessert',['apple','mango','blueberry','banana'])\n",
    "shop.icecream_kinds()"
   ]
  },
  {
   "cell_type": "code",
   "execution_count": 104,
   "id": "38ce3a0e-4d24-4620-9f8e-24bd282da259",
   "metadata": {
    "execution": {
     "iopub.execute_input": "2024-04-26T09:58:48.930592Z",
     "iopub.status.busy": "2024-04-26T09:58:48.930592Z",
     "iopub.status.idle": "2024-04-26T09:58:48.952291Z",
     "shell.execute_reply": "2024-04-26T09:58:48.951278Z",
     "shell.execute_reply.started": "2024-04-26T09:58:48.930592Z"
    }
   },
   "outputs": [
    {
     "name": "stdout",
     "output_type": "stream",
     "text": [
      "The privileges of the administrater are:\n",
      "-can add post\n",
      "-candelete post\n",
      "-can ban user\n"
     ]
    }
   ],
   "source": [
    "class User:\n",
    "    \"\"\"模拟用户信息\"\"\"\n",
    "    def __init__(self,first_name,last_name,gender):\n",
    "        \"\"\"初始化描述用户信息\"\"\"\n",
    "        self.first_name=first_name\n",
    "        self.last_name=last_name\n",
    "        self.gender=gender\n",
    "        self.login_attempts=0\n",
    "\n",
    "    def increment_login_attempts(self):\n",
    "        \"\"\"增加登录次数\"\"\"\n",
    "        self.login_attempts+=1\n",
    "\n",
    "\n",
    "class Admin(User):\n",
    "    \"\"\"管理员的特殊之处\"\"\"\n",
    "    def __init__(self,first_name,last_name,gender,privileges):\n",
    "        \"\"\"\n",
    "        初始化父类的属性。\n",
    "        再初始化子类特有的属性。\n",
    "        \"\"\"\n",
    "        super().__init__(first_name,last_name,gender)\n",
    "        self.privileges=privileges\n",
    "\n",
    "    def show_privileges(self):\n",
    "        \"\"\"显示admin权限\"\"\"\n",
    "        print(f\"The privileges of the administrater are:\")\n",
    "        for privilege in self.privileges:\n",
    "            print(f\"-{privilege}\")\n",
    "\n",
    "admin=Admin('ruby','lowe','female',[\"can add post\",\"candelete post\",\"can ban user\"])\n",
    "admin.show_privileges()"
   ]
  },
  {
   "cell_type": "code",
   "execution_count": 111,
   "id": "118a58f2-10a1-4b9f-a9e8-74afef0ecbe4",
   "metadata": {
    "execution": {
     "iopub.execute_input": "2024-04-26T10:26:17.340452Z",
     "iopub.status.busy": "2024-04-26T10:26:17.340452Z",
     "iopub.status.idle": "2024-04-26T10:26:17.364835Z",
     "shell.execute_reply": "2024-04-26T10:26:17.363212Z",
     "shell.execute_reply.started": "2024-04-26T10:26:17.340452Z"
    }
   },
   "outputs": [
    {
     "name": "stdout",
     "output_type": "stream",
     "text": [
      "The privileges of the administrater are:\n",
      "-can add post\n",
      "-candelete post\n",
      "-can ban user\n"
     ]
    }
   ],
   "source": [
    "class User:\n",
    "    \"\"\"模拟用户信息\"\"\"\n",
    "    def __init__(self,first_name,last_name,gender):\n",
    "        \"\"\"初始化描述用户信息\"\"\"\n",
    "        self.first_name=first_name\n",
    "        self.last_name=last_name\n",
    "        self.gender=gender\n",
    "        self.login_attempts=0\n",
    "\n",
    "    def increment_login_attempts(self):\n",
    "        \"\"\"增加登录次数\"\"\"\n",
    "        self.login_attempts+=1\n",
    "\n",
    "\n",
    "class Privileges:\n",
    "    \"\"\"模拟管理员的权限\"\"\"\n",
    "    def __init__(self,privileges):\n",
    "        \"\"\"初始化管理员权限\"\"\"\n",
    "        self.privileges=privileges\n",
    "    \n",
    "    def show_privileges(self):\n",
    "        \"\"\"显示权限\"\"\"\n",
    "        print(f\"The privileges of the administrater are:\")\n",
    "        for privilege in self.privileges:\n",
    "            print(f\"-{privilege}\")\n",
    "\n",
    "\n",
    "class Admin(User):\n",
    "    \"\"\"管理员的特殊之处\"\"\"\n",
    "    def __init__(self,first_name,last_name,gender,privileges):\n",
    "        \"\"\"\n",
    "        初始化父类的属性。\n",
    "        再初始化子类特有的属性。\n",
    "        \"\"\"\n",
    "        super().__init__(first_name,last_name,gender)\n",
    "        self.privileges=Privileges(privileges)\n",
    "\n",
    "\n",
    "admin=Admin('ruby','lowe','female',[\"can add post\",\"candelete post\",\"can ban user\"])\n",
    "admin.privileges.show_privileges()"
   ]
  },
  {
   "cell_type": "code",
   "execution_count": 119,
   "id": "d560e025-c213-4347-811f-9c32d526b2cc",
   "metadata": {
    "execution": {
     "iopub.execute_input": "2024-04-26T10:44:19.436047Z",
     "iopub.status.busy": "2024-04-26T10:44:19.436047Z",
     "iopub.status.idle": "2024-04-26T10:44:19.461309Z",
     "shell.execute_reply": "2024-04-26T10:44:19.459224Z",
     "shell.execute_reply.started": "2024-04-26T10:44:19.436047Z"
    }
   },
   "outputs": [
    {
     "name": "stdout",
     "output_type": "stream",
     "text": [
      "This car can go about 260 miles on a full charge.\n",
      "\n",
      "The battery has been upgraded to 100 kWh.\n",
      "This car can go about 315 miles on a full charge.\n"
     ]
    }
   ],
   "source": [
    "class Car:  \n",
    "    \"\"\"一次模拟汽车的简单尝试。\"\"\"\n",
    "    def __init__(self, make, model, year):\n",
    "        \"\"\"初始化描述汽车的属性。\"\"\"\n",
    "        self.make = make\n",
    "        self.model = model\n",
    "        self.year = year\n",
    "        self.odometer_reading = 0\n",
    "\n",
    "    def get_descriptive_name(self):\n",
    "        \"\"\"返回整洁的描述性信息。\"\"\"\n",
    "        long_name = f\"{self.year} {self.make} {self.model}\"\n",
    "        return long_name.title()\n",
    "\n",
    "\n",
    "class Battery:\n",
    "    \"\"\"一次模拟电动汽车电瓶的简单尝试。\"\"\"\n",
    "    def __init__(self, battery_size=75):  #这个形参是可选的：如果没有给它提供值，电瓶容量将被设置为75\n",
    "        \"\"\"初始化电瓶的属性。\"\"\"\n",
    "        self.battery_size = battery_size\n",
    "        \n",
    "    def describe_battery(self):\n",
    "        \"\"\"打印一条描述电瓶容量的消息。\"\"\"\n",
    "        print(f\"This car has a {self.battery_size}-kWh battery.\")\n",
    "\n",
    "    def get_range(self):\n",
    "        \"\"\"打印一条消息，指出电瓶的续航里程。\"\"\"\n",
    "        if self.battery_size == 75:\n",
    "            range = 260\n",
    "        elif self.battery_size == 100:\n",
    "            range = 315\n",
    "        print(f\"This car can go about {range} miles on a full charge.\")\n",
    "\n",
    "    def upgrade_battery(self):\n",
    "        \"\"\"检查电瓶容量\"\"\"\n",
    "        if self.battery_size != 100:\n",
    "            self.battery_size = 100\n",
    "            print(\"\\nThe battery has been upgraded to 100 kWh.\")\n",
    "\n",
    "\n",
    "class ElectricCar(Car):\n",
    "    \"\"\"电动汽车的独特之处。\"\"\"\n",
    "    def __init__(self, make, model, year):\n",
    "        \"\"\"\n",
    "        初始化父类的属性。\n",
    "        再初始化电动汽车特有的属性。\n",
    "        \"\"\"\n",
    "        super().__init__(make, model, year)\n",
    "        self.battery = Battery() \n",
    "\n",
    "my_tesla = ElectricCar('tesla', 'model s', 2019)\n",
    "my_tesla.battery.get_range()\n",
    "\n",
    "my_tesla.battery.upgrade_battery()\n",
    "my_tesla.battery.get_range()"
   ]
  },
  {
   "cell_type": "markdown",
   "id": "c02e536b-cd68-4cd5-aadb-34dfd248275f",
   "metadata": {},
   "source": [
    "## 导入类"
   ]
  },
  {
   "cell_type": "markdown",
   "id": "8368c8be-f2c9-4965-9672-57ac17deef3e",
   "metadata": {},
   "source": [
    "### 导入单个类"
   ]
  },
  {
   "cell_type": "code",
   "execution_count": 41,
   "id": "835f306f-bd3c-4c67-86fd-bf952340999f",
   "metadata": {
    "execution": {
     "iopub.execute_input": "2024-04-26T06:58:39.307636Z",
     "iopub.status.busy": "2024-04-26T06:58:39.307636Z",
     "iopub.status.idle": "2024-04-26T06:58:39.323376Z",
     "shell.execute_reply": "2024-04-26T06:58:39.320349Z",
     "shell.execute_reply.started": "2024-04-26T06:58:39.307636Z"
    }
   },
   "outputs": [
    {
     "name": "stdout",
     "output_type": "stream",
     "text": [
      "2019 Audi A4\n",
      "This car has 23 miles on it.\n"
     ]
    }
   ],
   "source": [
    "from car import Car   #打开模块car 并导入其中的Car类。\n",
    "my_new_car = Car('audi', 'a4', 2019)\n",
    "print(my_new_car.get_descriptive_name())\n",
    "my_new_car.odometer_reading = 23\n",
    "my_new_car.read_odometer()"
   ]
  },
  {
   "cell_type": "markdown",
   "id": "199ece1f-2a7a-443c-85b1-0f502f104c9f",
   "metadata": {},
   "source": [
    "### 在一个模块中存储多个类"
   ]
  },
  {
   "cell_type": "code",
   "execution_count": 43,
   "id": "8f69bab0-0c40-4048-a904-3a412799ae2f",
   "metadata": {
    "execution": {
     "iopub.execute_input": "2024-04-26T07:00:02.448315Z",
     "iopub.status.busy": "2024-04-26T07:00:02.448315Z",
     "iopub.status.idle": "2024-04-26T07:00:02.471688Z",
     "shell.execute_reply": "2024-04-26T07:00:02.471688Z",
     "shell.execute_reply.started": "2024-04-26T07:00:02.448315Z"
    }
   },
   "outputs": [
    {
     "name": "stdout",
     "output_type": "stream",
     "text": [
      "2019 Tesla Model S\n",
      "This car has a 75-kWh battery.\n",
      "This car can go about 260 miles on a full charge.\n"
     ]
    }
   ],
   "source": [
    "from car_v2 import ElectricCar\n",
    "my_tesla = ElectricCar('tesla', 'model s', 2019)\n",
    "print(my_tesla.get_descriptive_name())\n",
    "\n",
    "my_tesla.battery.describe_battery()\n",
    "my_tesla.battery.get_range()"
   ]
  },
  {
   "cell_type": "markdown",
   "id": "c934f0a6-363b-4a70-916e-7060241e6476",
   "metadata": {},
   "source": [
    "### 从一个模块中导入多个类"
   ]
  },
  {
   "cell_type": "code",
   "execution_count": 45,
   "id": "eda97d94-6a38-4f17-9639-f648d6fac617",
   "metadata": {
    "execution": {
     "iopub.execute_input": "2024-04-26T07:02:31.245631Z",
     "iopub.status.busy": "2024-04-26T07:02:31.245631Z",
     "iopub.status.idle": "2024-04-26T07:02:31.260155Z",
     "shell.execute_reply": "2024-04-26T07:02:31.258162Z",
     "shell.execute_reply.started": "2024-04-26T07:02:31.245631Z"
    }
   },
   "outputs": [
    {
     "name": "stdout",
     "output_type": "stream",
     "text": [
      "2019 Volkswagen Beetle\n",
      "2019 Tesla Roadster\n"
     ]
    }
   ],
   "source": [
    "from car_v2 import Car, ElectricCar   #从一个模块中导入多个类时，用逗号分隔了各个类\n",
    "#导入必要的类后，就可根据需要创建每个类的任意数量实例\n",
    "\n",
    "my_beetle = Car('volkswagen', 'beetle', 2019)\n",
    "print(my_beetle.get_descriptive_name())\n",
    "\n",
    "my_tesla = ElectricCar('tesla', 'roadster', 2019)\n",
    "print(my_tesla.get_descriptive_name())"
   ]
  },
  {
   "cell_type": "markdown",
   "id": "7a19771f-0f89-43fa-9482-fad77c3c2398",
   "metadata": {},
   "source": [
    "### 导入整个模块"
   ]
  },
  {
   "cell_type": "code",
   "execution_count": 48,
   "id": "e5073f69-c4bd-4303-86a0-aa01fb3e8877",
   "metadata": {
    "execution": {
     "iopub.execute_input": "2024-04-26T07:04:46.725416Z",
     "iopub.status.busy": "2024-04-26T07:04:46.722890Z",
     "iopub.status.idle": "2024-04-26T07:04:46.737689Z",
     "shell.execute_reply": "2024-04-26T07:04:46.736664Z",
     "shell.execute_reply.started": "2024-04-26T07:04:46.722890Z"
    }
   },
   "outputs": [
    {
     "name": "stdout",
     "output_type": "stream",
     "text": [
      "2019 Volkswagen Beetle\n",
      "2019 Tesla Roadster\n"
     ]
    }
   ],
   "source": [
    "#使用句点表示法访问需要的类\n",
    "import car_v2\n",
    "my_beetle = car_v2.Car('volkswagen', 'beetle', 2019)\n",
    "print(my_beetle.get_descriptive_name())\n",
    "\n",
    "my_tesla = car_v2.ElectricCar('tesla', 'roadster', 2019)\n",
    "print(my_tesla.get_descriptive_name())"
   ]
  },
  {
   "cell_type": "markdown",
   "id": "0a353708-b827-4615-a5d8-52436b55417b",
   "metadata": {},
   "source": [
    "### 导入模块中的所有类"
   ]
  },
  {
   "cell_type": "code",
   "execution_count": null,
   "id": "1aa32058-7a1a-4296-a7d4-fd56b1643c03",
   "metadata": {},
   "outputs": [],
   "source": [
    "#  from module_name import *\n",
    "#不建议使用\n",
    "\n",
    "#需要从一个模块中导入很多类时，最好导入整个模块，并使用module_name.ClassName 语法来访问类。\n",
    "#虽然文件开头并没有列出用到的所有类，但你清楚地知道在程序的哪些地方使用了导入的模块。\n",
    "#这也避免了导入模块中的每个类可能引发的名称冲突。"
   ]
  },
  {
   "cell_type": "markdown",
   "id": "606f4f51-d91a-4d77-b892-38d715b4414e",
   "metadata": {},
   "source": [
    "### 在一个模块中导入另一个模块"
   ]
  },
  {
   "cell_type": "code",
   "execution_count": 50,
   "id": "db86066f-49fc-4a3a-8ebe-71ed42dd3676",
   "metadata": {
    "execution": {
     "iopub.execute_input": "2024-04-26T07:10:56.436097Z",
     "iopub.status.busy": "2024-04-26T07:10:56.436097Z",
     "iopub.status.idle": "2024-04-26T07:10:56.492884Z",
     "shell.execute_reply": "2024-04-26T07:10:56.490348Z",
     "shell.execute_reply.started": "2024-04-26T07:10:56.436097Z"
    }
   },
   "outputs": [
    {
     "name": "stdout",
     "output_type": "stream",
     "text": [
      "2019 Volkswagen Beetle\n",
      "2019 Tesla Roadster\n"
     ]
    }
   ],
   "source": [
    "from car_v3 import Car\n",
    "from car_v4 import ElectricCar\n",
    "\n",
    "my_beetle = Car('volkswagen', 'beetle', 2019)\n",
    "print(my_beetle.get_descriptive_name())\n",
    "\n",
    "my_tesla = ElectricCar('tesla', 'roadster', 2019)\n",
    "print(my_tesla.get_descriptive_name())"
   ]
  },
  {
   "cell_type": "markdown",
   "id": "d19210ec-bb13-40fd-bf09-0e7237bfde8b",
   "metadata": {},
   "source": [
    "### 使用别名"
   ]
  },
  {
   "cell_type": "code",
   "execution_count": 51,
   "id": "6faa0e9b-e2a4-4bca-8c54-df903263b050",
   "metadata": {
    "execution": {
     "iopub.execute_input": "2024-04-26T07:11:51.668937Z",
     "iopub.status.busy": "2024-04-26T07:11:51.668937Z",
     "iopub.status.idle": "2024-04-26T07:11:51.682475Z",
     "shell.execute_reply": "2024-04-26T07:11:51.680294Z",
     "shell.execute_reply.started": "2024-04-26T07:11:51.668937Z"
    }
   },
   "outputs": [
    {
     "name": "stdout",
     "output_type": "stream",
     "text": [
      "2019 Tesla Roadster\n"
     ]
    }
   ],
   "source": [
    "from car_v4 import ElectricCar as EC\n",
    "my_tesla = EC('tesla', 'roadster', 2019)\n",
    "print(my_tesla.get_descriptive_name())"
   ]
  },
  {
   "cell_type": "markdown",
   "id": "737022f9-e2e8-40f0-a571-327db7346835",
   "metadata": {},
   "source": [
    "### 自定义工作流程\n",
    "\n",
    "一开始应让代码结构尽可能简单。先尽可能在一个文件中完成所有的工作，确定一\n",
    "切都能正确运行后，再将类移到独立的模块中。"
   ]
  },
  {
   "cell_type": "markdown",
   "id": "247d385a-5b07-48c1-88d5-20cba37142d7",
   "metadata": {},
   "source": [
    "### 练习"
   ]
  },
  {
   "cell_type": "code",
   "execution_count": 120,
   "id": "8bb8abd1-96bd-422a-b2fe-3b0ca0baf4eb",
   "metadata": {
    "execution": {
     "iopub.execute_input": "2024-04-26T11:54:33.679066Z",
     "iopub.status.busy": "2024-04-26T11:54:33.679066Z",
     "iopub.status.idle": "2024-04-26T11:54:33.733095Z",
     "shell.execute_reply": "2024-04-26T11:54:33.730509Z",
     "shell.execute_reply.started": "2024-04-26T11:54:33.679066Z"
    }
   },
   "outputs": [
    {
     "name": "stdout",
     "output_type": "stream",
     "text": [
      "The number of people eating here is 200.\n"
     ]
    }
   ],
   "source": [
    "import resta\n",
    "diner=resta.Restaurant('Garden','cafe')\n",
    "diner.number_served=200\n",
    "diner.read_number_served()"
   ]
  },
  {
   "cell_type": "code",
   "execution_count": 121,
   "id": "c2e6e83f-7bec-4054-9768-af9f598b756b",
   "metadata": {
    "execution": {
     "iopub.execute_input": "2024-04-26T12:01:00.398554Z",
     "iopub.status.busy": "2024-04-26T12:01:00.397458Z",
     "iopub.status.idle": "2024-04-26T12:01:00.439465Z",
     "shell.execute_reply": "2024-04-26T12:01:00.438444Z",
     "shell.execute_reply.started": "2024-04-26T12:01:00.398554Z"
    }
   },
   "outputs": [
    {
     "name": "stdout",
     "output_type": "stream",
     "text": [
      "The privileges of the administrater are:\n",
      "-can add post\n",
      "-candelete post\n",
      "-can ban user\n"
     ]
    }
   ],
   "source": [
    "import user\n",
    "admin=user.Admin('ruby','lowe','female',[\"can add post\",\"candelete post\",\"can ban user\"])\n",
    "admin.privileges.show_privileges()"
   ]
  },
  {
   "cell_type": "code",
   "execution_count": 123,
   "id": "a23c0041-db09-4b9d-91d0-4fc9d1c6c5dd",
   "metadata": {
    "execution": {
     "iopub.execute_input": "2024-04-26T12:04:18.895589Z",
     "iopub.status.busy": "2024-04-26T12:04:18.895589Z",
     "iopub.status.idle": "2024-04-26T12:04:18.943474Z",
     "shell.execute_reply": "2024-04-26T12:04:18.943474Z",
     "shell.execute_reply.started": "2024-04-26T12:04:18.895589Z"
    }
   },
   "outputs": [
    {
     "name": "stdout",
     "output_type": "stream",
     "text": [
      "The privileges of the administrater are:\n",
      "-can add post\n",
      "-candelete post\n",
      "-can ban user\n"
     ]
    }
   ],
   "source": [
    "from user import User\n",
    "from admin import Admin\n",
    "\n",
    "admin=user.User('ruby','lowe','female')\n",
    "admin=user.Admin('ruby','lowe','female',[\"can add post\",\"candelete post\",\"can ban user\"])\n",
    "admin.privileges.show_privileges()"
   ]
  },
  {
   "cell_type": "markdown",
   "id": "2df721d2-c61e-47dd-a825-f2a7f279e9b8",
   "metadata": {},
   "source": [
    "## Python标准库"
   ]
  },
  {
   "cell_type": "code",
   "execution_count": 52,
   "id": "64d808e1-bd50-40dd-95ed-809beedad172",
   "metadata": {
    "execution": {
     "iopub.execute_input": "2024-04-26T07:15:22.812801Z",
     "iopub.status.busy": "2024-04-26T07:15:22.808766Z",
     "iopub.status.idle": "2024-04-26T07:15:22.833975Z",
     "shell.execute_reply": "2024-04-26T07:15:22.832453Z",
     "shell.execute_reply.started": "2024-04-26T07:15:22.812801Z"
    }
   },
   "outputs": [
    {
     "data": {
      "text/plain": [
       "6"
      ]
     },
     "execution_count": 52,
     "metadata": {},
     "output_type": "execute_result"
    }
   ],
   "source": [
    "#Python标准库 是一组模块 其他程序员编写好了\n",
    "\n",
    "#模块random\n",
    "#randint()函数将两个整数作为参数，并随机返回一个位于这两个整数之间（含）的整数\n",
    "\n",
    "from random import randint\n",
    "randint(1, 6)"
   ]
  },
  {
   "cell_type": "code",
   "execution_count": 53,
   "id": "7b567f4f-550f-435b-8e72-d26e95c3a943",
   "metadata": {
    "execution": {
     "iopub.execute_input": "2024-04-26T07:16:12.715624Z",
     "iopub.status.busy": "2024-04-26T07:16:12.714568Z",
     "iopub.status.idle": "2024-04-26T07:16:12.735860Z",
     "shell.execute_reply": "2024-04-26T07:16:12.734343Z",
     "shell.execute_reply.started": "2024-04-26T07:16:12.715624Z"
    }
   },
   "outputs": [
    {
     "data": {
      "text/plain": [
       "'michael'"
      ]
     },
     "execution_count": 53,
     "metadata": {},
     "output_type": "execute_result"
    }
   ],
   "source": [
    "#choice() 函数将一个列表或元组作为参数，并随机返回其中的一个元素\n",
    "from random import choice\n",
    "players = ['charles', 'martina', 'michael', 'florence', 'eli']\n",
    "first_up = choice(players)\n",
    "first_up"
   ]
  },
  {
   "cell_type": "code",
   "execution_count": null,
   "id": "ca91dd7d-6d4d-4f3b-92e7-948c5bc46e16",
   "metadata": {},
   "outputs": [],
   "source": [
    "#创建与安全相关的应用程序时，请不要使用模块random\n",
    "#还可以从其他地方下载外部模块"
   ]
  },
  {
   "cell_type": "markdown",
   "id": "a0ab2651-f755-4054-b521-8806ba83065e",
   "metadata": {},
   "source": [
    "### 练习"
   ]
  },
  {
   "cell_type": "code",
   "execution_count": 144,
   "id": "fba6ed86-1a6e-44c0-a3a2-ddd2cb0a938f",
   "metadata": {
    "execution": {
     "iopub.execute_input": "2024-04-26T12:44:10.648435Z",
     "iopub.status.busy": "2024-04-26T12:44:10.648435Z",
     "iopub.status.idle": "2024-04-26T12:44:10.670539Z",
     "shell.execute_reply": "2024-04-26T12:44:10.667825Z",
     "shell.execute_reply.started": "2024-04-26T12:44:10.648435Z"
    }
   },
   "outputs": [
    {
     "name": "stdout",
     "output_type": "stream",
     "text": [
      "4\n",
      "3\n",
      "6\n",
      "2\n",
      "6\n",
      "5\n",
      "5\n",
      "5\n",
      "3\n",
      "3\n",
      "\n",
      "6\n",
      "3\n",
      "2\n",
      "6\n",
      "1\n",
      "9\n",
      "10\n",
      "3\n",
      "10\n",
      "4\n",
      "\n",
      "13\n",
      "17\n",
      "10\n",
      "12\n",
      "20\n",
      "19\n",
      "17\n",
      "3\n",
      "18\n",
      "11\n"
     ]
    }
   ],
   "source": [
    "from random import randint\n",
    "\n",
    "class Die:\n",
    "    \"\"\"模拟掷骰子\"\"\"\n",
    "    def __init__(self,sides=6):\n",
    "        \"\"\"初始化属性\"\"\"\n",
    "        self.sides=sides\n",
    "\n",
    "    def roll_die(self):\n",
    "        \"\"\"掷骰子\"\"\"\n",
    "        result=randint(1,self.sides)\n",
    "        print(result)\n",
    "\n",
    "dice=Die()\n",
    "count = 0\n",
    "while count < 10:\n",
    "    dice.roll_die()  \n",
    "    count += 1\n",
    "\n",
    "#for _ in range(10):\n",
    "#    dice.roll_die()\n",
    "print()\n",
    "dice2=Die(10)\n",
    "count2 = 0\n",
    "while count2 < 10:\n",
    "    dice2.roll_die()  \n",
    "    count2 += 1\n",
    "    \n",
    "print()\n",
    "dice3=Die(20)\n",
    "count3 = 0\n",
    "while count3 < 10:\n",
    "    dice3.roll_die()  \n",
    "    count3 += 1"
   ]
  },
  {
   "cell_type": "code",
   "execution_count": 153,
   "id": "7d1fdff1-3091-456c-bc89-eb4e8af7f3d6",
   "metadata": {
    "execution": {
     "iopub.execute_input": "2024-04-26T13:17:42.831785Z",
     "iopub.status.busy": "2024-04-26T13:17:42.830355Z",
     "iopub.status.idle": "2024-04-26T13:17:42.849494Z",
     "shell.execute_reply": "2024-04-26T13:17:42.845738Z",
     "shell.execute_reply.started": "2024-04-26T13:17:42.831785Z"
    }
   },
   "outputs": [
    {
     "name": "stdout",
     "output_type": "stream",
     "text": [
      "You win the prize when the result is:\n",
      "\t10\n",
      "\tt\n",
      "\t2\n",
      "\t6\n"
     ]
    }
   ],
   "source": [
    "from random import choice\n",
    "\n",
    "lucky=[]\n",
    "msgs=('1','2','3','4','5','6','7','8','9','10','q','w','e','r','t')\n",
    "count=0\n",
    "while count < 4:\n",
    "    pick=choice(msgs)\n",
    "    lucky.append(pick)\n",
    "    count +=1\n",
    "\n",
    "#lucky = random.sample(msgs, 4)\n",
    "\n",
    "print(\"You win the prize when the result is:\")\n",
    "for luck in lucky:\n",
    "    print(f\"\\t{luck}\")"
   ]
  },
  {
   "cell_type": "code",
   "execution_count": 167,
   "id": "9428278a-0522-4d0e-8f43-716bd8da4256",
   "metadata": {
    "execution": {
     "iopub.execute_input": "2024-04-26T13:30:36.487797Z",
     "iopub.status.busy": "2024-04-26T13:30:36.483781Z",
     "iopub.status.idle": "2024-04-26T13:30:36.521722Z",
     "shell.execute_reply": "2024-04-26T13:30:36.521722Z",
     "shell.execute_reply.started": "2024-04-26T13:30:36.483781Z"
    }
   },
   "outputs": [
    {
     "name": "stdout",
     "output_type": "stream",
     "text": [
      "1231 次才中了奖。\n"
     ]
    }
   ],
   "source": [
    "import random\n",
    "\n",
    "lottery_numbers = ('1','2','3','4','5','6','7','8','9','10','q','w','e','r','t')\n",
    "winning_combination = ['2','6','10','t']\n",
    "\n",
    "my_ticket = random.sample(lottery_numbers, 4)\n",
    "\n",
    "def check_lottery(ticket):\n",
    "    for item in winning_combination:\n",
    "        if item not in ticket:\n",
    "            return False\n",
    "    return True\n",
    "\n",
    "num_attempts = 0\n",
    "while True:\n",
    "    num_attempts += 1\n",
    "    random_ticket = random.sample(lottery_numbers, 4)\n",
    "    if check_lottery(random_ticket):\n",
    "        break\n",
    "\n",
    "print(num_attempts, \"次才中了奖。\")"
   ]
  },
  {
   "cell_type": "markdown",
   "id": "6379b5ed-ca98-4aa0-bd40-cd745dfe8d74",
   "metadata": {},
   "source": [
    "## 类编码风格"
   ]
  },
  {
   "cell_type": "markdown",
   "id": "3426af12-f896-4850-b165-7beccd7f3e23",
   "metadata": {},
   "source": [
    "### 类编码风格"
   ]
  },
  {
   "cell_type": "code",
   "execution_count": null,
   "id": "d5bf6d8b-39be-4672-8f4f-bac2fd0162a6",
   "metadata": {},
   "outputs": [],
   "source": [
    "#类名应采用驼峰命名法 ，即将类名中的每个单词的首字母都大写，而不使用下划线。\n",
    "#实例名和模块名都采用小写格式，并在单词之间加上下划线。\n",
    "\n",
    "#对于每个类，都应紧跟在类定义后面包含一个文档字符串。\n",
    "#这种文档字符串简要地描述类的功能，并遵循编写函数的文档字符串时采用的格式约定。\n",
    "\n",
    "#每个模块也都应包含一个文档字符串，对其中的类可用于做什么进行描述。\n",
    "\n",
    "#可使用空行来组织代码，但不要滥用。在类中，可使用一个空行来分隔方法；而在模块中，可使用两个空行来分隔类。\n",
    "\n",
    "#需要同时导入标准库中的模块和你编写的模块时，先导入标准库模块的，再添加一个空行，导入自己编写的模块\n",
    "#在包含多条import语句的程序中，这种做法让人更容易明白程序使用的各个模块都来自何处"
   ]
  }
 ],
 "metadata": {
  "kernelspec": {
   "display_name": "Python 3 (ipykernel)",
   "language": "python",
   "name": "python3"
  },
  "language_info": {
   "codemirror_mode": {
    "name": "ipython",
    "version": 3
   },
   "file_extension": ".py",
   "mimetype": "text/x-python",
   "name": "python",
   "nbconvert_exporter": "python",
   "pygments_lexer": "ipython3",
   "version": "3.11.5"
  }
 },
 "nbformat": 4,
 "nbformat_minor": 5
}
