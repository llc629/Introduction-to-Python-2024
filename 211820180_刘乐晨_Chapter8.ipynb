{
 "cells": [
  {
   "cell_type": "markdown",
   "id": "7c694c2e-ab72-4198-b556-0620ce6abf60",
   "metadata": {},
   "source": [
    "# 函数\n",
    "面向过程程序设计"
   ]
  },
  {
   "cell_type": "markdown",
   "id": "25c6f13f-255b-40f8-8604-0e18faa5c088",
   "metadata": {},
   "source": [
    "## 定义函数"
   ]
  },
  {
   "cell_type": "code",
   "execution_count": 3,
   "id": "1b203683-21ed-441e-9718-c4080f5b17cf",
   "metadata": {
    "execution": {
     "iopub.execute_input": "2024-04-12T03:14:21.225009Z",
     "iopub.status.busy": "2024-04-12T03:14:21.225009Z",
     "iopub.status.idle": "2024-04-12T03:14:21.241107Z",
     "shell.execute_reply": "2024-04-12T03:14:21.238571Z",
     "shell.execute_reply.started": "2024-04-12T03:14:21.225009Z"
    }
   },
   "outputs": [
    {
     "name": "stdout",
     "output_type": "stream",
     "text": [
      "Hello!\n"
     ]
    }
   ],
   "source": [
    "def greet_user():      #在圆括号内指出函数为完成任务需要什么信息,函数定义以冒号结尾\n",
    "    \"\"\"显示简单的问候语。\"\"\"   #文档字符串 （docstring）：描述函数是做什么的,用三引号括起\n",
    "    print(\"Hello!\")\n",
    "greet_user()  #函数调用:依次指定函数名以及用圆括号括起的必要信息"
   ]
  },
  {
   "cell_type": "markdown",
   "id": "6f9c78ec-c236-4acc-a292-f00adc9843f7",
   "metadata": {},
   "source": [
    "### 向函数传递信息"
   ]
  },
  {
   "cell_type": "code",
   "execution_count": 5,
   "id": "b6dd43c9-4442-4483-9fd5-030f4da6deba",
   "metadata": {
    "execution": {
     "iopub.execute_input": "2024-04-12T03:29:02.583478Z",
     "iopub.status.busy": "2024-04-12T03:29:02.583478Z",
     "iopub.status.idle": "2024-04-12T03:29:02.597620Z",
     "shell.execute_reply": "2024-04-12T03:29:02.594352Z",
     "shell.execute_reply.started": "2024-04-12T03:29:02.583478Z"
    }
   },
   "outputs": [
    {
     "name": "stdout",
     "output_type": "stream",
     "text": [
      "Hello, Jesse!\n"
     ]
    }
   ],
   "source": [
    "def greet_user(username):\n",
    "    \"\"\"显示简单的问候语。\"\"\"\n",
    "    print(f\"Hello, {username.title()}!\")\n",
    "greet_user('jesse')"
   ]
  },
  {
   "cell_type": "markdown",
   "id": "fb5c0399-1a84-4f92-8320-1f23ed8926f3",
   "metadata": {},
   "source": [
    "### 实参和形参"
   ]
  },
  {
   "cell_type": "code",
   "execution_count": 25,
   "id": "e0dd877c-d92d-4645-8c22-659da9399b72",
   "metadata": {
    "execution": {
     "iopub.execute_input": "2024-04-12T07:52:41.368125Z",
     "iopub.status.busy": "2024-04-12T07:52:41.366942Z",
     "iopub.status.idle": "2024-04-12T07:52:41.379637Z",
     "shell.execute_reply": "2024-04-12T07:52:41.376802Z",
     "shell.execute_reply.started": "2024-04-12T07:52:41.368125Z"
    }
   },
   "outputs": [],
   "source": [
    "#变量username:形参（parameter），即函数完成工作所需的信息\n",
    "#值jess:实参（argument），即调用函数时传递给函数的信息。\n",
    "#大家有时候会形参、实参不分"
   ]
  },
  {
   "cell_type": "markdown",
   "id": "7a7c41a7-1ba2-4b5c-8630-d9570ca54732",
   "metadata": {},
   "source": [
    "### 练习"
   ]
  },
  {
   "cell_type": "code",
   "execution_count": 26,
   "id": "79226f4f-2613-4327-af9d-72ed80ec6c20",
   "metadata": {
    "execution": {
     "iopub.execute_input": "2024-04-12T07:56:03.435224Z",
     "iopub.status.busy": "2024-04-12T07:56:03.435224Z",
     "iopub.status.idle": "2024-04-12T07:56:03.451310Z",
     "shell.execute_reply": "2024-04-12T07:56:03.448788Z",
     "shell.execute_reply.started": "2024-04-12T07:56:03.435224Z"
    }
   },
   "outputs": [
    {
     "name": "stdout",
     "output_type": "stream",
     "text": [
      "This chapter is about Function.\n"
     ]
    }
   ],
   "source": [
    "def display_message(content):\n",
    "    \"\"\"本章学习的内容\"\"\"\n",
    "    print(f\"This chapter is about {content}.\")\n",
    "display_message('Function')"
   ]
  },
  {
   "cell_type": "code",
   "execution_count": 27,
   "id": "f6ae703b-afb0-4fe8-90d8-4a6fd569ad3f",
   "metadata": {
    "execution": {
     "iopub.execute_input": "2024-04-12T07:58:06.209042Z",
     "iopub.status.busy": "2024-04-12T07:58:06.209042Z",
     "iopub.status.idle": "2024-04-12T07:58:06.228341Z",
     "shell.execute_reply": "2024-04-12T07:58:06.225935Z",
     "shell.execute_reply.started": "2024-04-12T07:58:06.209042Z"
    }
   },
   "outputs": [
    {
     "name": "stdout",
     "output_type": "stream",
     "text": [
      "One of my favorite books is The Old and the Sea\n"
     ]
    }
   ],
   "source": [
    "def favorite_book(title):\n",
    "    \"\"\"喜欢的书名\"\"\"\n",
    "    print(f\"One of my favorite books is {title}\")\n",
    "favorite_book('The Old and the Sea')"
   ]
  },
  {
   "cell_type": "markdown",
   "id": "0b5d8c90-621d-428f-8d8d-c72d1bfd9cd6",
   "metadata": {},
   "source": [
    "## 传递实参"
   ]
  },
  {
   "cell_type": "markdown",
   "id": "a452c621-2d36-41b0-9481-fe9224db93c0",
   "metadata": {},
   "source": [
    "向函数传递实参的方式很多：\n",
    "\n",
    "可使用位置实参，这要求实参的顺序与形参的顺序相同；\n",
    "\n",
    "可使用关键字实参，每个实参都由变量名和值组成；\n",
    "\n",
    "还可使用列表和字典。"
   ]
  },
  {
   "cell_type": "markdown",
   "id": "33c1b3e2-ffcb-45d9-9046-ebd26828cc54",
   "metadata": {},
   "source": [
    "### 位置实参"
   ]
  },
  {
   "cell_type": "code",
   "execution_count": 6,
   "id": "64c3e98e-e969-47bc-a228-ad2c6d779c9d",
   "metadata": {
    "execution": {
     "iopub.execute_input": "2024-04-12T03:31:42.443707Z",
     "iopub.status.busy": "2024-04-12T03:31:42.440436Z",
     "iopub.status.idle": "2024-04-12T03:31:42.457719Z",
     "shell.execute_reply": "2024-04-12T03:31:42.454543Z",
     "shell.execute_reply.started": "2024-04-12T03:31:42.443707Z"
    }
   },
   "outputs": [
    {
     "name": "stdout",
     "output_type": "stream",
     "text": [
      "\n",
      "I have a hamster.\n",
      "My hamster's name is Harry.\n"
     ]
    }
   ],
   "source": [
    "def describe_pet(animal_type, pet_name):\n",
    "    \"\"\"显示宠物的信息。\"\"\"\n",
    "    print(f\"\\nI have a {animal_type}.\")\n",
    "    print(f\"My {animal_type}'s name is {pet_name.title()}.\")\n",
    "describe_pet('hamster', 'harry')\n",
    "#顺序很重要"
   ]
  },
  {
   "cell_type": "code",
   "execution_count": 7,
   "id": "78193e45-bda1-4e3c-ad4f-cd77da7a6d55",
   "metadata": {
    "execution": {
     "iopub.execute_input": "2024-04-12T03:33:30.132291Z",
     "iopub.status.busy": "2024-04-12T03:33:30.132291Z",
     "iopub.status.idle": "2024-04-12T03:33:30.148761Z",
     "shell.execute_reply": "2024-04-12T03:33:30.146029Z",
     "shell.execute_reply.started": "2024-04-12T03:33:30.132291Z"
    }
   },
   "outputs": [
    {
     "name": "stdout",
     "output_type": "stream",
     "text": [
      "\n",
      "I have a hamster.\n",
      "My hamster's name is Harry.\n",
      "\n",
      "I have a dog.\n",
      "My dog's name is Willie.\n"
     ]
    }
   ],
   "source": [
    "#多次调用函数\n",
    "\n",
    "def describe_pet(animal_type, pet_name):\n",
    "    \"\"\"显示宠物的信息。\"\"\"\n",
    "    print(f\"\\nI have a {animal_type}.\")\n",
    "    print(f\"My {animal_type}'s name is {pet_name.title()}.\")\n",
    "describe_pet('hamster', 'harry')\n",
    "describe_pet('dog', 'willie')"
   ]
  },
  {
   "cell_type": "markdown",
   "id": "93175590-c15b-4469-af14-c9bda812ff39",
   "metadata": {},
   "source": [
    "### 关键字实参"
   ]
  },
  {
   "cell_type": "code",
   "execution_count": 28,
   "id": "02f6ae4c-9c07-4cf7-ab99-109df6cd2f6f",
   "metadata": {
    "execution": {
     "iopub.execute_input": "2024-04-12T08:25:09.392298Z",
     "iopub.status.busy": "2024-04-12T08:25:09.390767Z",
     "iopub.status.idle": "2024-04-12T08:25:09.407539Z",
     "shell.execute_reply": "2024-04-12T08:25:09.405025Z",
     "shell.execute_reply.started": "2024-04-12T08:25:09.392298Z"
    }
   },
   "outputs": [
    {
     "name": "stdout",
     "output_type": "stream",
     "text": [
      "\n",
      "I have a hamster.\n",
      "My hamster's name is Harry.\n",
      "\n",
      "I have a hamster.\n",
      "My hamster's name is Harry.\n"
     ]
    }
   ],
   "source": [
    "def describe_pet(animal_type, pet_name):\n",
    "    \"\"\"显示宠物的信息。\"\"\"\n",
    "    print(f\"\\nI have a {animal_type}.\")\n",
    "    print(f\"My {animal_type}'s name is {pet_name.title()}.\")\n",
    "describe_pet(animal_type='hamster', pet_name='harry')\n",
    "describe_pet(pet_name='harry', animal_type='hamster')   #关键字实参的顺序无关紧要\n",
    "\n",
    "#务必准确指定函数定义中的形参名"
   ]
  },
  {
   "cell_type": "markdown",
   "id": "7319f528-b8a9-4288-a3a7-cb8f97743428",
   "metadata": {},
   "source": [
    "### 默认值。"
   ]
  },
  {
   "cell_type": "code",
   "execution_count": 29,
   "id": "0550e6e4-ab9f-4b5e-b030-f279487c2e7b",
   "metadata": {
    "execution": {
     "iopub.execute_input": "2024-04-12T08:27:43.206419Z",
     "iopub.status.busy": "2024-04-12T08:27:43.203600Z",
     "iopub.status.idle": "2024-04-12T08:27:43.224957Z",
     "shell.execute_reply": "2024-04-12T08:27:43.219396Z",
     "shell.execute_reply.started": "2024-04-12T08:27:43.206419Z"
    }
   },
   "outputs": [
    {
     "name": "stdout",
     "output_type": "stream",
     "text": [
      "\n",
      "I have a dog.\n",
      "My dog's name is Dudu.\n"
     ]
    }
   ],
   "source": [
    "#将形参animal_type 的默认值设置为'dog'\n",
    "#需要将pet_name 放在形参列表开头。\n",
    "\n",
    "def describe_pet(pet_name,animal_type='dog'):\n",
    "    \"\"\"显示宠物的信息。\"\"\"\n",
    "    print(f\"\\nI have a {animal_type}.\")\n",
    "    print(f\"My {animal_type}'s name is {pet_name.title()}.\")\n",
    "describe_pet(pet_name='dudu')\n",
    "\n",
    "#使用默认值时，必须先在形参列表中列出没有默认值的形参，再列出有默认值的实参。这让Python依然能够正确地解读位置实参。"
   ]
  },
  {
   "cell_type": "code",
   "execution_count": 30,
   "id": "ca3fae85-8de9-4f36-af38-feff301fc679",
   "metadata": {
    "execution": {
     "iopub.execute_input": "2024-04-12T08:28:01.447485Z",
     "iopub.status.busy": "2024-04-12T08:28:01.447485Z",
     "iopub.status.idle": "2024-04-12T08:28:01.463419Z",
     "shell.execute_reply": "2024-04-12T08:28:01.461319Z",
     "shell.execute_reply.started": "2024-04-12T08:28:01.447485Z"
    }
   },
   "outputs": [
    {
     "name": "stdout",
     "output_type": "stream",
     "text": [
      "\n",
      "I have a dog.\n",
      "My dog's name is Willie.\n"
     ]
    }
   ],
   "source": [
    "def describe_pet(pet_name,animal_type='dog'):\n",
    "    \"\"\"显示宠物的信息。\"\"\"\n",
    "    print(f\"\\nI have a {animal_type}.\")\n",
    "    print(f\"My {animal_type}'s name is {pet_name.title()}.\")\n",
    "describe_pet('willie') #最简略的调用"
   ]
  },
  {
   "cell_type": "code",
   "execution_count": 31,
   "id": "15fefc3a-10c5-4f80-b295-65f073e25a7c",
   "metadata": {
    "execution": {
     "iopub.execute_input": "2024-04-12T08:29:14.876740Z",
     "iopub.status.busy": "2024-04-12T08:29:14.876740Z",
     "iopub.status.idle": "2024-04-12T08:29:14.892157Z",
     "shell.execute_reply": "2024-04-12T08:29:14.890065Z",
     "shell.execute_reply.started": "2024-04-12T08:29:14.876740Z"
    }
   },
   "outputs": [
    {
     "name": "stdout",
     "output_type": "stream",
     "text": [
      "\n",
      "I have a cat.\n",
      "My cat's name is Mimi.\n"
     ]
    }
   ],
   "source": [
    "def describe_pet(pet_name,animal_type='dog'):\n",
    "    \"\"\"显示宠物的信息。\"\"\"\n",
    "    print(f\"\\nI have a {animal_type}.\")\n",
    "    print(f\"My {animal_type}'s name is {pet_name.title()}.\")\n",
    "#如果不是狗\n",
    "describe_pet(pet_name='mimi',animal_type='cat')"
   ]
  },
  {
   "cell_type": "markdown",
   "id": "84d894e1-0073-45b1-a621-556bd0ef8ed1",
   "metadata": {},
   "source": [
    "### 等效的函数调用"
   ]
  },
  {
   "cell_type": "code",
   "execution_count": 22,
   "id": "d8c00fbb-0146-4de9-9659-a1b6de250bb2",
   "metadata": {
    "execution": {
     "iopub.execute_input": "2024-04-12T03:45:42.116676Z",
     "iopub.status.busy": "2024-04-12T03:45:42.116676Z",
     "iopub.status.idle": "2024-04-12T03:45:42.145786Z",
     "shell.execute_reply": "2024-04-12T03:45:42.143385Z",
     "shell.execute_reply.started": "2024-04-12T03:45:42.116676Z"
    }
   },
   "outputs": [
    {
     "name": "stdout",
     "output_type": "stream",
     "text": [
      "\n",
      "I have a dog.\n",
      "My dog's name is Willie.\n",
      "\n",
      "I have a dog.\n",
      "My dog's name is Willie.\n",
      "\n",
      "I have a hamster.\n",
      "My hamster's name is Harry.\n",
      "\n",
      "I have a hamster.\n",
      "My hamster's name is Harry.\n",
      "\n",
      "I have a hamster.\n",
      "My hamster's name is Harry.\n"
     ]
    }
   ],
   "source": [
    "def describe_pet(pet_name, animal_type='dog'):\n",
    "    \"\"\"显示宠物的信息。\"\"\"\n",
    "    print(f\"\\nI have a {animal_type}.\")\n",
    "    print(f\"My {animal_type}'s name is {pet_name.title()}.\")\n",
    "    \n",
    "# 一条名为Willie的小狗。\n",
    "describe_pet('willie')\n",
    "describe_pet(pet_name='willie')\n",
    "\n",
    "# 一只名为Harry的仓鼠。\n",
    "describe_pet('harry', 'hamster')\n",
    "describe_pet(pet_name='harry', animal_type='hamster')\n",
    "describe_pet(animal_type='hamster', pet_name='harry')"
   ]
  },
  {
   "cell_type": "markdown",
   "id": "b957b412-6a38-4dfa-a8d9-910a706e3890",
   "metadata": {},
   "source": [
    "### 避免实参错误"
   ]
  },
  {
   "cell_type": "markdown",
   "id": "64812996-a7cb-4892-ac37-954595fe3a4f",
   "metadata": {},
   "source": [
    "### 练习"
   ]
  },
  {
   "cell_type": "code",
   "execution_count": 33,
   "id": "82e15d3b-98d5-4603-83e5-c0a031201fb7",
   "metadata": {
    "execution": {
     "iopub.execute_input": "2024-04-12T08:35:55.195818Z",
     "iopub.status.busy": "2024-04-12T08:35:55.191816Z",
     "iopub.status.idle": "2024-04-12T08:35:55.209590Z",
     "shell.execute_reply": "2024-04-12T08:35:55.207509Z",
     "shell.execute_reply.started": "2024-04-12T08:35:55.195818Z"
    }
   },
   "outputs": [
    {
     "name": "stdout",
     "output_type": "stream",
     "text": [
      "The T-shirt is a small size with the words 'Ok' on it.\n",
      "The T-shirt is a medium size with the words 'Bye' on it.\n"
     ]
    }
   ],
   "source": [
    "def make_shirt(size,text):\n",
    "    \"\"\"说明尺码以及T恤上的字样\"\"\"\n",
    "    print(f\"The T-shirt is a {size} size with the words '{text}' on it.\")\n",
    "make_shirt('small','Ok')\n",
    "make_shirt(size='medium',text='Bye')"
   ]
  },
  {
   "cell_type": "code",
   "execution_count": 34,
   "id": "2baa6979-19f6-40ec-b679-741858233425",
   "metadata": {
    "execution": {
     "iopub.execute_input": "2024-04-12T08:37:41.515115Z",
     "iopub.status.busy": "2024-04-12T08:37:41.515115Z",
     "iopub.status.idle": "2024-04-12T08:37:41.531902Z",
     "shell.execute_reply": "2024-04-12T08:37:41.528154Z",
     "shell.execute_reply.started": "2024-04-12T08:37:41.515115Z"
    }
   },
   "outputs": [
    {
     "name": "stdout",
     "output_type": "stream",
     "text": [
      "The T-shirt is a big size with the words 'I love Python' on it.\n",
      "The T-shirt is a medium size with the words 'I love Python' on it.\n",
      "The T-shirt is a medium size with the words 'others' on it.\n"
     ]
    }
   ],
   "source": [
    "def make_shirt(size,text='I love Python'):\n",
    "    \"\"\"说明尺码以及T恤上的字样\"\"\"\n",
    "    print(f\"The T-shirt is a {size} size with the words '{text}' on it.\")\n",
    "make_shirt('big')\n",
    "make_shirt(size='medium')\n",
    "make_shirt(text='others',size='medium')"
   ]
  },
  {
   "cell_type": "code",
   "execution_count": 37,
   "id": "75c69da5-c34d-4f2d-af1a-a0b8d1351d63",
   "metadata": {
    "execution": {
     "iopub.execute_input": "2024-04-12T08:40:53.524854Z",
     "iopub.status.busy": "2024-04-12T08:40:53.520846Z",
     "iopub.status.idle": "2024-04-12T08:40:53.540892Z",
     "shell.execute_reply": "2024-04-12T08:40:53.538026Z",
     "shell.execute_reply.started": "2024-04-12T08:40:53.524854Z"
    }
   },
   "outputs": [
    {
     "name": "stdout",
     "output_type": "stream",
     "text": [
      "Nanjing is in China.\n",
      "Beijing is in China.\n",
      "Tokyo is in Japan.\n"
     ]
    }
   ],
   "source": [
    "def describe_city(city,country='china'):\n",
    "    \"\"\"城市的名字以及该城市所属的国家\"\"\"\n",
    "    print(f\"{city.title()} is in {country.title()}.\")\n",
    "describe_city('nanjing')\n",
    "describe_city('beijing')\n",
    "describe_city('tokyo',country='Japan')"
   ]
  },
  {
   "cell_type": "markdown",
   "id": "f3d80f8c-6231-42f3-a5bd-ec2a196368d4",
   "metadata": {},
   "source": [
    "## 返回值"
   ]
  },
  {
   "cell_type": "markdown",
   "id": "f612f4e4-8685-4958-bbbb-ec6ee1c3d2a6",
   "metadata": {},
   "source": [
    "### 返回简单值"
   ]
  },
  {
   "cell_type": "code",
   "execution_count": 23,
   "id": "7c38c4b7-ce9a-4965-a50a-6a47b76d05d0",
   "metadata": {
    "execution": {
     "iopub.execute_input": "2024-04-12T03:50:32.600953Z",
     "iopub.status.busy": "2024-04-12T03:50:32.600953Z",
     "iopub.status.idle": "2024-04-12T03:50:32.616152Z",
     "shell.execute_reply": "2024-04-12T03:50:32.614511Z",
     "shell.execute_reply.started": "2024-04-12T03:50:32.600953Z"
    }
   },
   "outputs": [
    {
     "name": "stdout",
     "output_type": "stream",
     "text": [
      "Jimi Hendrix\n"
     ]
    }
   ],
   "source": [
    "def get_formatted_name(first_name, last_name):\n",
    "    \"\"\"返回整洁的姓名。\"\"\"\n",
    "    full_name = f\"{first_name} {last_name}\"\n",
    "    return full_name.title()\n",
    "musician = get_formatted_name('jimi', 'hendrix')\n",
    "print(musician)"
   ]
  },
  {
   "cell_type": "markdown",
   "id": "0ea2c9a3-58e5-4293-9d47-0c4a0199e2ce",
   "metadata": {},
   "source": [
    "### 让实参变成可选的"
   ]
  },
  {
   "cell_type": "code",
   "execution_count": 41,
   "id": "0f1e9124-b1a3-4346-a0cf-b065c5eedf5d",
   "metadata": {
    "execution": {
     "iopub.execute_input": "2024-04-12T08:45:59.527746Z",
     "iopub.status.busy": "2024-04-12T08:45:59.523890Z",
     "iopub.status.idle": "2024-04-12T08:45:59.544369Z",
     "shell.execute_reply": "2024-04-12T08:45:59.541203Z",
     "shell.execute_reply.started": "2024-04-12T08:45:59.527746Z"
    }
   },
   "outputs": [
    {
     "name": "stdout",
     "output_type": "stream",
     "text": [
      "John Lee Hooker\n"
     ]
    }
   ],
   "source": [
    "def get_formatted_name(first_name, middle_name, last_name):\n",
    "    \"\"\"返回整洁的姓名。\"\"\"\n",
    "    full_name = f\"{first_name} {middle_name} {last_name}\"\n",
    "    return full_name.title()\n",
    "musician = get_formatted_name('john', 'lee', 'hooker')\n",
    "print(musician)"
   ]
  },
  {
   "cell_type": "code",
   "execution_count": 42,
   "id": "d63a4c46-416b-49db-b65e-b4504c7801e9",
   "metadata": {
    "execution": {
     "iopub.execute_input": "2024-04-12T08:47:55.047610Z",
     "iopub.status.busy": "2024-04-12T08:47:55.043301Z",
     "iopub.status.idle": "2024-04-12T08:47:55.064566Z",
     "shell.execute_reply": "2024-04-12T08:47:55.062423Z",
     "shell.execute_reply.started": "2024-04-12T08:47:55.047610Z"
    }
   },
   "outputs": [
    {
     "name": "stdout",
     "output_type": "stream",
     "text": [
      "Jimi Hendrix\n",
      "John Lee Hooker\n"
     ]
    }
   ],
   "source": [
    "def get_formatted_name(first_name, last_name, middle_name=''):\n",
    "    \"\"\"返回整洁的姓名。\"\"\"\n",
    "    if middle_name: #将非空字符串middle_name解读为True\n",
    "        full_name = f\"{first_name} {middle_name} {last_name}\"\n",
    "    else:\n",
    "        full_name = f\"{first_name} {last_name}\"\n",
    "    return full_name.title()\n",
    "    \n",
    "musician = get_formatted_name('jimi', 'hendrix')\n",
    "print(musician)\n",
    "musician = get_formatted_name('john', 'hooker', 'lee')\n",
    "print(musician)"
   ]
  },
  {
   "cell_type": "markdown",
   "id": "7f42d7d5-2413-422e-a4bf-cc2aa2480c20",
   "metadata": {},
   "source": [
    "### 返回字典"
   ]
  },
  {
   "cell_type": "code",
   "execution_count": 43,
   "id": "9fedd20a-0c36-41b1-bbc0-03f3564d0c35",
   "metadata": {
    "execution": {
     "iopub.execute_input": "2024-04-12T08:50:04.366431Z",
     "iopub.status.busy": "2024-04-12T08:50:04.365914Z",
     "iopub.status.idle": "2024-04-12T08:50:04.380035Z",
     "shell.execute_reply": "2024-04-12T08:50:04.379005Z",
     "shell.execute_reply.started": "2024-04-12T08:50:04.366431Z"
    }
   },
   "outputs": [
    {
     "name": "stdout",
     "output_type": "stream",
     "text": [
      "{'first': 'jimi', 'last': 'hendrix'}\n"
     ]
    }
   ],
   "source": [
    "def build_person(first_name, last_name):\n",
    "    \"\"\"返回一个字典，其中包含有关一个人的信息。\"\"\"\n",
    "    person = {'first': first_name, 'last': last_name}\n",
    "    return person\n",
    "musician = build_person('jimi', 'hendrix')\n",
    "print(musician)"
   ]
  },
  {
   "cell_type": "code",
   "execution_count": 44,
   "id": "867b2212-e037-47cb-9ce5-6dfa5ea33fc1",
   "metadata": {
    "execution": {
     "iopub.execute_input": "2024-04-12T08:52:11.470567Z",
     "iopub.status.busy": "2024-04-12T08:52:11.470567Z",
     "iopub.status.idle": "2024-04-12T08:52:11.490170Z",
     "shell.execute_reply": "2024-04-12T08:52:11.486044Z",
     "shell.execute_reply.started": "2024-04-12T08:52:11.470567Z"
    }
   },
   "outputs": [
    {
     "name": "stdout",
     "output_type": "stream",
     "text": [
      "{'first': 'jimi', 'last': 'hendrix', 'age': 27}\n"
     ]
    }
   ],
   "source": [
    "#新增可选形参age ，将其默认值设置为特殊值None（表示变量没有值）\n",
    "def build_person(first_name, last_name, age=None):\n",
    "    \"\"\"返回一个字典，其中包含有关一个人的信息。\"\"\"\n",
    "    person = {'first': first_name, 'last': last_name}\n",
    "    if age:                #可将None视为占位值,在条件测试中相当于False\n",
    "        person['age'] = age\n",
    "    return person\n",
    "musician = build_person('jimi', 'hendrix', age=27)\n",
    "print(musician)"
   ]
  },
  {
   "cell_type": "markdown",
   "id": "2c681f91-98e1-4c88-8bad-4ca6845a6515",
   "metadata": {},
   "source": [
    "### 结合使用函数和while 循环"
   ]
  },
  {
   "cell_type": "code",
   "execution_count": 49,
   "id": "71093b0d-2e8d-42ce-a1c4-3bb34dd775f0",
   "metadata": {
    "execution": {
     "iopub.execute_input": "2024-04-12T09:00:08.794798Z",
     "iopub.status.busy": "2024-04-12T09:00:08.794798Z",
     "iopub.status.idle": "2024-04-12T09:00:12.263642Z",
     "shell.execute_reply": "2024-04-12T09:00:12.262109Z",
     "shell.execute_reply.started": "2024-04-12T09:00:08.794798Z"
    }
   },
   "outputs": [
    {
     "name": "stdout",
     "output_type": "stream",
     "text": [
      "Please tell me your name:\n"
     ]
    },
    {
     "name": "stdin",
     "output_type": "stream",
     "text": [
      "First name:  ruby\n",
      "Last name:  lowe\n"
     ]
    },
    {
     "name": "stdout",
     "output_type": "stream",
     "text": [
      "\n",
      "Hello, Ruby Lowe!\n"
     ]
    }
   ],
   "source": [
    "def get_formatted_name(first_name, last_name):\n",
    "    \"\"\"返回整洁的姓名。\"\"\"\n",
    "    full_name = f\"{first_name} {last_name}\"\n",
    "    return full_name.title()\n",
    "\n",
    "while True:\n",
    "    print(\"Please tell me your name:\")\n",
    "    f_name = input(\"First name: \")\n",
    "    l_name = input(\"Last name: \")\n",
    "    break\n",
    "formatted_name = get_formatted_name(f_name, l_name)\n",
    "print(f\"\\nHello, {formatted_name}!\")"
   ]
  },
  {
   "cell_type": "code",
   "execution_count": 47,
   "id": "401c9aa7-9af6-4278-9441-489cd5da4b9f",
   "metadata": {
    "execution": {
     "iopub.execute_input": "2024-04-12T08:58:43.291609Z",
     "iopub.status.busy": "2024-04-12T08:58:43.291609Z",
     "iopub.status.idle": "2024-04-12T08:59:02.769208Z",
     "shell.execute_reply": "2024-04-12T08:59:02.766992Z",
     "shell.execute_reply.started": "2024-04-12T08:58:43.291609Z"
    }
   },
   "outputs": [
    {
     "name": "stdout",
     "output_type": "stream",
     "text": [
      "\n",
      "Please tell me your name:\n",
      "(enter 'q' at any time to quit)\n"
     ]
    },
    {
     "name": "stdin",
     "output_type": "stream",
     "text": [
      "First name:  ruby\n",
      "Last name:  lowe\n"
     ]
    },
    {
     "name": "stdout",
     "output_type": "stream",
     "text": [
      "\n",
      "Hello, Ruby Lowe!\n",
      "\n",
      "Please tell me your name:\n",
      "(enter 'q' at any time to quit)\n"
     ]
    },
    {
     "name": "stdin",
     "output_type": "stream",
     "text": [
      "First name:  q\n"
     ]
    }
   ],
   "source": [
    "def get_formatted_name(first_name, last_name):\n",
    "    \"\"\"返回整洁的姓名。\"\"\"\n",
    "    full_name = f\"{first_name} {last_name}\"\n",
    "    return full_name.title()\n",
    "while True:\n",
    "    print(\"\\nPlease tell me your name:\")\n",
    "    print(\"(enter 'q' at any time to quit)\")\n",
    "    \n",
    "    f_name = input(\"First name: \")\n",
    "    if f_name == 'q':\n",
    "        break\n",
    "    \n",
    "    l_name = input(\"Last name: \")\n",
    "    if l_name == 'q':\n",
    "        break\n",
    "    \n",
    "    formatted_name = get_formatted_name(f_name, l_name)\n",
    "    print(f\"\\nHello, {formatted_name}!\")"
   ]
  },
  {
   "cell_type": "markdown",
   "id": "f6f7941f-5d19-4bd3-93f4-cbe4d1cba746",
   "metadata": {},
   "source": [
    "### 练习"
   ]
  },
  {
   "cell_type": "code",
   "execution_count": 51,
   "id": "1cf0bb43-3fad-4b07-b6f4-d4da2ae87f1d",
   "metadata": {
    "execution": {
     "iopub.execute_input": "2024-04-12T09:25:21.990026Z",
     "iopub.status.busy": "2024-04-12T09:25:21.989006Z",
     "iopub.status.idle": "2024-04-12T09:25:21.996582Z",
     "shell.execute_reply": "2024-04-12T09:25:21.996065Z",
     "shell.execute_reply.started": "2024-04-12T09:25:21.990026Z"
    }
   },
   "outputs": [
    {
     "name": "stdout",
     "output_type": "stream",
     "text": [
      "Xian,China\n",
      "Shanghai,China\n",
      "Changchun,China\n"
     ]
    }
   ],
   "source": [
    "def city_country(city,country):\n",
    "    \"\"\"返回城市的名称及其所属的国家\"\"\"\n",
    "    str=f\"{city},{country}\"\n",
    "    return str.title()\n",
    "str1=city_country('xian','china')\n",
    "print(str1)\n",
    "str2=city_country('shanghai','china')\n",
    "print(str2)\n",
    "str3=city_country('changchun','china')\n",
    "print(str3)"
   ]
  },
  {
   "cell_type": "code",
   "execution_count": 52,
   "id": "4c7f900f-726a-4da6-b176-567fc49aa627",
   "metadata": {
    "execution": {
     "iopub.execute_input": "2024-04-12T09:31:36.210126Z",
     "iopub.status.busy": "2024-04-12T09:31:36.210126Z",
     "iopub.status.idle": "2024-04-12T09:31:36.219139Z",
     "shell.execute_reply": "2024-04-12T09:31:36.217568Z",
     "shell.execute_reply.started": "2024-04-12T09:31:36.210126Z"
    }
   },
   "outputs": [
    {
     "name": "stdout",
     "output_type": "stream",
     "text": [
      "{'singer_name': 'Taylor Swift', 'album_name': '1989'}\n",
      "{'singer_name': 'Taylor Swift', 'album_name': 'Evermore'}\n",
      "{'singer_name': 'Taylor Swift', 'album_name': 'Folklore'}\n"
     ]
    }
   ],
   "source": [
    "def make_album(singer,album):\n",
    "    \"\"\"返回包含歌手名和专辑名的字典\"\"\"\n",
    "    music={'singer_name':singer,'album_name':album}\n",
    "    return music\n",
    "popular=make_album('Taylor Swift','1989')\n",
    "print(popular)\n",
    "popular=make_album('Taylor Swift','Evermore')\n",
    "print(popular)\n",
    "popular=make_album('Taylor Swift','Folklore')\n",
    "print(popular)"
   ]
  },
  {
   "cell_type": "code",
   "execution_count": 55,
   "id": "370abc09-73ec-4653-b701-05ac6e01bb16",
   "metadata": {
    "execution": {
     "iopub.execute_input": "2024-04-12T09:34:32.651528Z",
     "iopub.status.busy": "2024-04-12T09:34:32.651528Z",
     "iopub.status.idle": "2024-04-12T09:34:32.660780Z",
     "shell.execute_reply": "2024-04-12T09:34:32.659670Z",
     "shell.execute_reply.started": "2024-04-12T09:34:32.651528Z"
    }
   },
   "outputs": [
    {
     "name": "stdout",
     "output_type": "stream",
     "text": [
      "{'singer_name': 'Taylor Swift', 'album_name': '1989', 'songs_num': '10'}\n",
      "{'singer_name': 'Taylor Swift', 'album_name': 'Evermore', 'songs_num': 15}\n",
      "{'singer_name': 'Taylor Swift', 'album_name': 'Folklore'}\n"
     ]
    }
   ],
   "source": [
    "def make_album(singer,album,song=None):\n",
    "    \"\"\"返回包含歌手名和专辑名的字典\"\"\"\n",
    "    music={'singer_name':singer,'album_name':album}\n",
    "    if song:\n",
    "        music['songs_num']=song\n",
    "    return music\n",
    "popular=make_album('Taylor Swift','1989','10')\n",
    "print(popular)\n",
    "popular=make_album('Taylor Swift','Evermore',song=15)\n",
    "print(popular)\n",
    "popular=make_album('Taylor Swift','Folklore')\n",
    "print(popular)"
   ]
  },
  {
   "cell_type": "code",
   "execution_count": 12,
   "id": "ddf942c3-6e91-49f1-ae1e-350112a35662",
   "metadata": {
    "execution": {
     "iopub.execute_input": "2024-04-13T03:19:40.330709Z",
     "iopub.status.busy": "2024-04-13T03:19:40.330709Z",
     "iopub.status.idle": "2024-04-13T03:22:06.914442Z",
     "shell.execute_reply": "2024-04-13T03:22:06.913409Z",
     "shell.execute_reply.started": "2024-04-13T03:19:40.330709Z"
    }
   },
   "outputs": [
    {
     "name": "stdin",
     "output_type": "stream",
     "text": [
      "Please enter the name of the singer:  Taylor Swift\n",
      "Please enter the name of the album:  Speak Now\n"
     ]
    },
    {
     "name": "stdout",
     "output_type": "stream",
     "text": [
      "{'singer_name': 'Taylor Swift', 'album_name': 'Speak Now'}\n"
     ]
    },
    {
     "name": "stdin",
     "output_type": "stream",
     "text": [
      "Would you like to add another? (yes/ no)  yes\n",
      "Please enter the name of the singer:  G.E.M.\n",
      "Please enter the name of the album:  Xposed\n"
     ]
    },
    {
     "name": "stdout",
     "output_type": "stream",
     "text": [
      "{'singer_name': 'G.E.M.', 'album_name': 'Xposed'}\n"
     ]
    },
    {
     "name": "stdin",
     "output_type": "stream",
     "text": [
      "Would you like to add another? (yes/ no)  no\n"
     ]
    }
   ],
   "source": [
    "#方法一  依次打印\n",
    "def make_album(singer,album):\n",
    "    \"\"\"返回包含歌手名和专辑名的字典\"\"\"\n",
    "    music={'singer_name':singer,'album_name':album}\n",
    "    return music\n",
    "signal=True\n",
    "while signal:\n",
    "    singer=input(\"Please enter the name of the singer: \")\n",
    "    album=input(\"Please enter the name of the album: \")\n",
    "    song=make_album(singer,album)\n",
    "    print(song)\n",
    "    reply = input(\"Would you like to add another? (yes/ no) \")\n",
    "    if reply == 'no':\n",
    "         signal = False "
   ]
  },
  {
   "cell_type": "code",
   "execution_count": 14,
   "id": "ab5e5037-fd99-4806-9b8f-b4efcd7d246c",
   "metadata": {
    "execution": {
     "iopub.execute_input": "2024-04-13T03:26:33.416705Z",
     "iopub.status.busy": "2024-04-13T03:26:33.416705Z",
     "iopub.status.idle": "2024-04-13T03:26:55.956448Z",
     "shell.execute_reply": "2024-04-13T03:26:55.956448Z",
     "shell.execute_reply.started": "2024-04-13T03:26:33.416705Z"
    }
   },
   "outputs": [
    {
     "name": "stdin",
     "output_type": "stream",
     "text": [
      "Please enter the name of the singer:  T.S.\n",
      "Please enter the name of the album:  1989\n",
      "Would you like to add another? (yes/ no)  yes\n",
      "Please enter the name of the singer:  G.E.M.\n",
      "Please enter the name of the album:  Xposed\n",
      "Would you like to add another? (yes/ no)  no\n"
     ]
    },
    {
     "name": "stdout",
     "output_type": "stream",
     "text": [
      "[{'singer_name': 'T.S.', 'album_name': '1989'}, {'singer_name': 'G.E.M.', 'album_name': 'Xposed'}]\n"
     ]
    }
   ],
   "source": [
    "#方法二  列表嵌套字典\n",
    "def make_album(singer,album):\n",
    "    \"\"\"返回包含歌手名和专辑名的字典\"\"\"\n",
    "    music={'singer_name':singer,'album_name':album}\n",
    "    return music\n",
    "\n",
    "results=[]\n",
    "signal=True\n",
    "while signal:\n",
    "    singer=input(\"Please enter the name of the singer: \")\n",
    "    album=input(\"Please enter the name of the album: \")\n",
    "    song=make_album(singer,album)\n",
    "    results.append(song)\n",
    "    \n",
    "    reply = input(\"Would you like to add another? (yes/ no) \")\n",
    "    if reply == 'no':\n",
    "         signal = False \n",
    "        \n",
    "print(results)\n",
    "#或者\n",
    "#for result in results:\n",
    "   # print(result)"
   ]
  },
  {
   "cell_type": "markdown",
   "id": "4303e732-5e4b-436b-b7aa-7a7a853ecda4",
   "metadata": {},
   "source": [
    "## 传递列表"
   ]
  },
  {
   "cell_type": "code",
   "execution_count": 2,
   "id": "ffa773e4-bc87-4a09-b318-d9976b5e4c5b",
   "metadata": {
    "execution": {
     "iopub.execute_input": "2024-04-19T02:33:47.043140Z",
     "iopub.status.busy": "2024-04-19T02:33:47.039107Z",
     "iopub.status.idle": "2024-04-19T02:33:47.084227Z",
     "shell.execute_reply": "2024-04-19T02:33:47.072188Z",
     "shell.execute_reply.started": "2024-04-19T02:33:47.043140Z"
    }
   },
   "outputs": [
    {
     "name": "stdout",
     "output_type": "stream",
     "text": [
      "Hello, Hannah!\n",
      "Hello, Ty!\n",
      "Hello, Margot!\n"
     ]
    }
   ],
   "source": [
    "#将包含名字的列表传递给greet_users() 函数，问候列表中的每个人\n",
    "def greet_users(names):\n",
    "    \"\"\"向列表中的每位用户发出简单的问候。\"\"\"\n",
    "    for name in names:\n",
    "        msg = f\"Hello, {name.title()}!\"\n",
    "        print(msg)\n",
    "\n",
    "usernames = ['hannah', 'ty', 'margot']\n",
    "greet_users(usernames)"
   ]
  },
  {
   "cell_type": "markdown",
   "id": "b142fac8-d560-4a40-a736-f79bba181444",
   "metadata": {},
   "source": [
    "### 在函数中修改列表"
   ]
  },
  {
   "cell_type": "code",
   "execution_count": 13,
   "id": "b16fe895-7236-4391-8ff6-e6ef801a3e18",
   "metadata": {
    "execution": {
     "iopub.execute_input": "2024-04-19T03:01:16.343578Z",
     "iopub.status.busy": "2024-04-19T03:01:16.343578Z",
     "iopub.status.idle": "2024-04-19T03:01:16.361254Z",
     "shell.execute_reply": "2024-04-19T03:01:16.358489Z",
     "shell.execute_reply.started": "2024-04-19T03:01:16.343578Z"
    }
   },
   "outputs": [
    {
     "name": "stdout",
     "output_type": "stream",
     "text": [
      "Printing model: dodecahedron\n",
      "Printing model: robot pendant\n",
      "Printing model: phone case\n",
      "\n",
      "The following models have been printed:\n",
      "dodecahedron\n",
      "robot pendant\n",
      "phone case\n"
     ]
    }
   ],
   "source": [
    "#不用函数\n",
    "\n",
    "# 首先创建一个列表，其中包含一些要打印的设计。\n",
    "unprinted_designs = ['phone case', 'robot pendant', 'dodecahedron']\n",
    "completed_models = []\n",
    "# 模拟打印每个设计，直到没有未打印的设计为止。\n",
    "# 打印每个设计后，都将其移到列表completed_models中。\n",
    "while unprinted_designs:\n",
    "    current_design = unprinted_designs.pop()\n",
    "    print(f\"Printing model: {current_design}\")\n",
    "    completed_models.append(current_design)\n",
    "# 显示打印好的所有模型。\n",
    "print(\"\\nThe following models have been printed:\")\n",
    "for completed_model in completed_models:\n",
    "    print(completed_model)"
   ]
  },
  {
   "cell_type": "code",
   "execution_count": 21,
   "id": "97e8924d-5670-4e2b-9553-b76e07fccbd1",
   "metadata": {
    "execution": {
     "iopub.execute_input": "2024-04-19T03:18:53.635881Z",
     "iopub.status.busy": "2024-04-19T03:18:53.635881Z",
     "iopub.status.idle": "2024-04-19T03:18:53.657026Z",
     "shell.execute_reply": "2024-04-19T03:18:53.654628Z",
     "shell.execute_reply.started": "2024-04-19T03:18:53.635881Z"
    }
   },
   "outputs": [
    {
     "name": "stdout",
     "output_type": "stream",
     "text": [
      "Printing model: dodecahedron\n",
      "Printing model: robot pendant\n",
      "Printing model: phone case\n",
      "\n",
      "The following models have been printed:\n",
      "dodecahedron\n",
      "robot pendant\n",
      "phone case\n"
     ]
    }
   ],
   "source": [
    "#浅拷贝\n",
    "\n",
    "def print_models(unprinted_designs, completed_models):\n",
    "    \"\"\"\n",
    "    模拟打印每个设计，直到没有未打印的设计为止。\n",
    "    打印每个设计后，都将其移到列表completed_models中。\n",
    "    \"\"\"\n",
    "    while unprinted_designs:\n",
    "        current_design = unprinted_designs.pop()\n",
    "        print(f\"Printing model: {current_design}\")\n",
    "        completed_models.append(current_design)\n",
    "def show_completed_models(completed_models):\n",
    "    \"\"\"显示打印好的所有模型。\"\"\"\n",
    "    print(\"\\nThe following models have been printed:\")\n",
    "    for completed_model in completed_models:\n",
    "        print(completed_model)\n",
    "        \n",
    "unprinted_designs = ['phone case', 'robot pendant', 'dodecahedron']\n",
    "completed_models = []\n",
    "\n",
    "print_models(unprinted_designs, completed_models)\n",
    "show_completed_models(completed_models)\n",
    "\n",
    "#相比于没有使用函数的版本，更容易扩展和维护。\n",
    "#如果以后需要打印其他设计，只需再次调用print_models()。\n",
    "#如果发现需要对打印代码进行修改，只需修改这些代码一次，就能影响所有调用该函数的地方。"
   ]
  },
  {
   "cell_type": "markdown",
   "id": "580b2538-7a97-4c1f-aafc-7f7c21c4f92e",
   "metadata": {},
   "source": [
    "### 禁止函数修改列表"
   ]
  },
  {
   "cell_type": "code",
   "execution_count": 19,
   "id": "ec764bcf-edae-4b87-84c0-4afb5fc9d971",
   "metadata": {
    "execution": {
     "iopub.execute_input": "2024-04-19T03:04:59.972334Z",
     "iopub.status.busy": "2024-04-19T03:04:59.972334Z",
     "iopub.status.idle": "2024-04-19T03:04:59.991809Z",
     "shell.execute_reply": "2024-04-19T03:04:59.988754Z",
     "shell.execute_reply.started": "2024-04-19T03:04:59.972334Z"
    }
   },
   "outputs": [
    {
     "name": "stdout",
     "output_type": "stream",
     "text": [
      "Printing model: dodecahedron\n",
      "Printing model: robot pendant\n",
      "Printing model: phone case\n",
      "\n",
      "The following models have been printed:\n",
      "dodecahedron\n",
      "robot pendant\n",
      "phone case\n",
      "\n",
      "['phone case', 'robot pendant', 'dodecahedron']\n"
     ]
    }
   ],
   "source": [
    "#深拷贝\n",
    "\n",
    "#使用切片，向函数传递列表的副本而非原件，函数所做的任何修改都只影响副本\n",
    "def print_models(unprinted_designs, completed_models):\n",
    "    \"\"\"\n",
    "    模拟打印每个设计，直到没有未打印的设计为止。\n",
    "    打印每个设计后，都将其移到列表completed_models中。\n",
    "    \"\"\"\n",
    "    while unprinted_designs:\n",
    "        current_design = unprinted_designs.pop()\n",
    "        print(f\"Printing model: {current_design}\")\n",
    "        completed_models.append(current_design)\n",
    "def show_completed_models(completed_models):\n",
    "    \"\"\"显示打印好的所有模型。\"\"\"\n",
    "    print(\"\\nThe following models have been printed:\")\n",
    "    for completed_model in completed_models:\n",
    "        print(completed_model)\n",
    "        \n",
    "unprinted_designs = ['phone case', 'robot pendant', 'dodecahedron']\n",
    "completed_models = []\n",
    "\n",
    "print_models(unprinted_designs[:], completed_models)\n",
    "show_completed_models(completed_models)\n",
    "print()\n",
    "print(unprinted_designs)"
   ]
  },
  {
   "cell_type": "code",
   "execution_count": 20,
   "id": "a1e9a256-bed7-4412-b95c-66e3f974373c",
   "metadata": {
    "execution": {
     "iopub.execute_input": "2024-04-19T03:05:02.399171Z",
     "iopub.status.busy": "2024-04-19T03:05:02.399171Z",
     "iopub.status.idle": "2024-04-19T03:05:02.418326Z",
     "shell.execute_reply": "2024-04-19T03:05:02.415432Z",
     "shell.execute_reply.started": "2024-04-19T03:05:02.399171Z"
    }
   },
   "outputs": [
    {
     "name": "stdout",
     "output_type": "stream",
     "text": [
      "Printing model: phone case\n",
      "Printing model: robot pendant\n",
      "Printing model: dodecahedron\n",
      "\n",
      "The following models have been printed:\n",
      "phone case\n",
      "robot pendant\n",
      "dodecahedron\n",
      "\n",
      "['phone case', 'robot pendant', 'dodecahedron']\n"
     ]
    }
   ],
   "source": [
    "#不用pop和while，用for，便不需要切片\n",
    "\n",
    "def print_models(unprinted_designs, completed_models):\n",
    "    \"\"\"\n",
    "    模拟打印每个设计，直到没有未打印的设计为止。\n",
    "    打印每个设计后，都将其移到列表completed_models中。\n",
    "    \"\"\"\n",
    "    for unprinted_design in unprinted_designs:\n",
    "        print(f\"Printing model: {unprinted_design}\")\n",
    "        completed_models.append(unprinted_design)\n",
    "        \n",
    "def show_completed_models(completed_models):\n",
    "    \"\"\"显示打印好的所有模型。\"\"\"\n",
    "    print(\"\\nThe following models have been printed:\")\n",
    "    for completed_model in completed_models:\n",
    "        print(completed_model)\n",
    "        \n",
    "unprinted_designs = ['phone case', 'robot pendant', 'dodecahedron']\n",
    "completed_models = []\n",
    "\n",
    "print_models(unprinted_designs, completed_models)\n",
    "show_completed_models(completed_models)\n",
    "print()\n",
    "print(unprinted_designs)"
   ]
  },
  {
   "cell_type": "markdown",
   "id": "634b210e-b058-4558-ae76-f19a2bd7c839",
   "metadata": {},
   "source": [
    "上传变量到函数中都是深拷贝\n",
    "\n",
    "上传list到函数中都是浅拷贝"
   ]
  },
  {
   "cell_type": "markdown",
   "id": "9611dfdb-b865-4bc8-8674-9fd9603550d5",
   "metadata": {},
   "source": [
    "### 练习"
   ]
  },
  {
   "cell_type": "code",
   "execution_count": 41,
   "id": "c74de7af-9643-457e-a5a7-a35473c91561",
   "metadata": {
    "execution": {
     "iopub.execute_input": "2024-04-19T06:49:57.720605Z",
     "iopub.status.busy": "2024-04-19T06:49:57.720605Z",
     "iopub.status.idle": "2024-04-19T06:49:57.734268Z",
     "shell.execute_reply": "2024-04-19T06:49:57.734268Z",
     "shell.execute_reply.started": "2024-04-19T06:49:57.720605Z"
    }
   },
   "outputs": [
    {
     "name": "stdout",
     "output_type": "stream",
     "text": [
      "Hello\n",
      "Great woman\n",
      "Genius\n"
     ]
    }
   ],
   "source": [
    "def show_messages(messages):\n",
    "    \"\"\"打印列表中的每条文本消息\"\"\"\n",
    "    for message in messages:\n",
    "        print(message)\n",
    "brief_msg=['Hello','Great woman','Genius']\n",
    "\n",
    "show_messages(brief_msg)"
   ]
  },
  {
   "cell_type": "code",
   "execution_count": 53,
   "id": "6b237916-bd46-4048-b3a8-8d7085d9cf24",
   "metadata": {
    "execution": {
     "iopub.execute_input": "2024-04-19T07:14:11.441161Z",
     "iopub.status.busy": "2024-04-19T07:14:11.441161Z",
     "iopub.status.idle": "2024-04-19T07:14:11.458895Z",
     "shell.execute_reply": "2024-04-19T07:14:11.456663Z",
     "shell.execute_reply.started": "2024-04-19T07:14:11.441161Z"
    }
   },
   "outputs": [
    {
     "name": "stdout",
     "output_type": "stream",
     "text": [
      "Hello\n",
      "Great woman\n",
      "Genius\n",
      "\n",
      "Genius\n",
      "Great woman\n",
      "Hello\n",
      "['Genius', 'Great woman', 'Hello']\n",
      "\n",
      "[]\n",
      "['Genius', 'Great woman', 'Hello']\n"
     ]
    }
   ],
   "source": [
    "def show_messages(messages):\n",
    "    \"\"\"打印列表中的每条文本消息\"\"\"\n",
    "    for message in messages:\n",
    "        print(message)\n",
    "\n",
    "\n",
    "def send_messages(original_msgs,move_msgs):\n",
    "    \"\"\"将每条消息都打印出来并移动\"\"\"\n",
    "    while original_msgs:\n",
    "        original_msg=original_msgs.pop()\n",
    "        print(original_msg)\n",
    "        move_msgs.append(original_msg)\n",
    "    print(move_msgs)\n",
    "\n",
    "brief_msg=['Hello','Great woman','Genius']\n",
    "show_messages(brief_msg)\n",
    "print()\n",
    "\n",
    "sent_messages=[]\n",
    "send_messages(brief_msg,sent_messages)\n",
    "\n",
    "print()\n",
    "print(brief_msg)\n",
    "print(sent_messages)"
   ]
  },
  {
   "cell_type": "code",
   "execution_count": 55,
   "id": "41953e1d-febc-4487-ad08-3869b1ae8a94",
   "metadata": {
    "execution": {
     "iopub.execute_input": "2024-04-19T07:15:08.368693Z",
     "iopub.status.busy": "2024-04-19T07:15:08.368176Z",
     "iopub.status.idle": "2024-04-19T07:15:08.386763Z",
     "shell.execute_reply": "2024-04-19T07:15:08.384278Z",
     "shell.execute_reply.started": "2024-04-19T07:15:08.368693Z"
    }
   },
   "outputs": [
    {
     "name": "stdout",
     "output_type": "stream",
     "text": [
      "Hello\n",
      "Great woman\n",
      "Genius\n",
      "\n",
      "Genius\n",
      "Great woman\n",
      "Hello\n",
      "['Genius', 'Great woman', 'Hello']\n",
      "\n",
      "['Hello', 'Great woman', 'Genius']\n",
      "['Genius', 'Great woman', 'Hello']\n"
     ]
    }
   ],
   "source": [
    "def show_messages(messages):\n",
    "    \"\"\"打印列表中的每条文本消息\"\"\"\n",
    "    for message in messages:\n",
    "        print(message)\n",
    "\n",
    "\n",
    "def send_messages(original_msgs,move_msgs):\n",
    "    \"\"\"将每条消息都打印出来并移动\"\"\"\n",
    "    while original_msgs:\n",
    "        original_msg=original_msgs.pop()\n",
    "        print(original_msg)\n",
    "        move_msgs.append(original_msg)\n",
    "    print(move_msgs)\n",
    "\n",
    "brief_msg=['Hello','Great woman','Genius']\n",
    "show_messages(brief_msg[:])\n",
    "print()\n",
    "\n",
    "sent_messages=[]\n",
    "send_messages(brief_msg[:],sent_messages)\n",
    "\n",
    "print()\n",
    "print(brief_msg)\n",
    "print(sent_messages)"
   ]
  },
  {
   "cell_type": "code",
   "execution_count": 54,
   "id": "b3384888-f0b6-4ff1-8c6a-6dec516d6111",
   "metadata": {
    "execution": {
     "iopub.execute_input": "2024-04-19T07:14:35.572949Z",
     "iopub.status.busy": "2024-04-19T07:14:35.572949Z",
     "iopub.status.idle": "2024-04-19T07:14:35.589454Z",
     "shell.execute_reply": "2024-04-19T07:14:35.588441Z",
     "shell.execute_reply.started": "2024-04-19T07:14:35.572949Z"
    }
   },
   "outputs": [
    {
     "name": "stdout",
     "output_type": "stream",
     "text": [
      "Hello\n",
      "Great woman\n",
      "Genius\n",
      "\n",
      "Hello\n",
      "Great woman\n",
      "Genius\n",
      "['Hello', 'Great woman', 'Genius']\n",
      "\n",
      "['Hello', 'Great woman', 'Genius']\n",
      "['Hello', 'Great woman', 'Genius']\n"
     ]
    }
   ],
   "source": [
    "def show_messages(messages):\n",
    "    \"\"\"打印列表中的每条文本消息\"\"\"\n",
    "    for message in messages:\n",
    "        print(message)\n",
    "\n",
    "\n",
    "def send_messages(original_msgs,move_msgs):\n",
    "    \"\"\"将每条消息都打印出来并移动\"\"\"\n",
    "    for original_msg in original_msgs:\n",
    "        print(original_msg)\n",
    "        move_msgs.append(original_msg)\n",
    "    print(move_msgs)\n",
    "\n",
    "brief_msg=['Hello','Great woman','Genius']\n",
    "show_messages(brief_msg)\n",
    "print()\n",
    "\n",
    "sent_messages=[]\n",
    "send_messages(brief_msg,sent_messages)\n",
    "\n",
    "print()\n",
    "print(brief_msg)\n",
    "print(sent_messages)"
   ]
  },
  {
   "cell_type": "markdown",
   "id": "d6a20136-3f77-4f17-9082-5ced9be08a27",
   "metadata": {},
   "source": [
    "## 传递任意数量的实参"
   ]
  },
  {
   "cell_type": "code",
   "execution_count": 22,
   "id": "a9c64201-8371-47dc-86ef-002c329ec777",
   "metadata": {
    "execution": {
     "iopub.execute_input": "2024-04-19T03:26:57.634559Z",
     "iopub.status.busy": "2024-04-19T03:26:57.630528Z",
     "iopub.status.idle": "2024-04-19T03:26:57.647933Z",
     "shell.execute_reply": "2024-04-19T03:26:57.644162Z",
     "shell.execute_reply.started": "2024-04-19T03:26:57.634559Z"
    }
   },
   "outputs": [
    {
     "name": "stdout",
     "output_type": "stream",
     "text": [
      "('pepperoni',)\n",
      "('mushrooms', 'green peppers', 'extra cheese')\n"
     ]
    }
   ],
   "source": [
    "#有时候，预先不知道函数需要接受多少个实参\n",
    "#星号让Python创建一个名为toppings 的空元组，将收到的所有值都封装到这个元组中\n",
    "\n",
    "def make_pizza(*toppings):\n",
    "    \"\"\"打印顾客点的所有配料。\"\"\"\n",
    "    print(toppings)\n",
    "make_pizza('pepperoni')\n",
    "make_pizza('mushrooms', 'green peppers', 'extra cheese')"
   ]
  },
  {
   "cell_type": "code",
   "execution_count": 24,
   "id": "917223c5-a908-4f5d-b9f4-babe505d4c7f",
   "metadata": {
    "execution": {
     "iopub.execute_input": "2024-04-19T03:29:26.309065Z",
     "iopub.status.busy": "2024-04-19T03:29:26.309065Z",
     "iopub.status.idle": "2024-04-19T03:29:26.323909Z",
     "shell.execute_reply": "2024-04-19T03:29:26.321691Z",
     "shell.execute_reply.started": "2024-04-19T03:29:26.309065Z"
    }
   },
   "outputs": [
    {
     "name": "stdout",
     "output_type": "stream",
     "text": [
      "\n",
      "Making a pizza with the following toppings:\n",
      "- pepperoni\n",
      "\n",
      "Making a pizza with the following toppings:\n",
      "- mushrooms\n",
      "- green peppers\n",
      "- extra cheese\n"
     ]
    }
   ],
   "source": [
    "def make_pizza(*toppings):\n",
    "    \"\"\"概述要制作的比萨。\"\"\"\n",
    "    print(\"\\nMaking a pizza with the following toppings:\")\n",
    "    for topping in toppings:\n",
    "        print(f\"- {topping}\")\n",
    "make_pizza('pepperoni')\n",
    "make_pizza('mushrooms', 'green peppers', 'extra cheese')"
   ]
  },
  {
   "cell_type": "markdown",
   "id": "ed8a3658-8957-4043-bdde-409994bb9b94",
   "metadata": {},
   "source": [
    "### 结合使用位置实参和任意数量实参"
   ]
  },
  {
   "cell_type": "code",
   "execution_count": 28,
   "id": "28878231-99e0-45c8-b574-575eff9fe36a",
   "metadata": {
    "execution": {
     "iopub.execute_input": "2024-04-19T03:35:19.741033Z",
     "iopub.status.busy": "2024-04-19T03:35:19.741033Z",
     "iopub.status.idle": "2024-04-19T03:35:19.754917Z",
     "shell.execute_reply": "2024-04-19T03:35:19.753213Z",
     "shell.execute_reply.started": "2024-04-19T03:35:19.741033Z"
    }
   },
   "outputs": [
    {
     "name": "stdout",
     "output_type": "stream",
     "text": [
      "\n",
      "Making a 16-inch pizza with the following toppings:\n",
      "- pepperoni\n",
      "\n",
      "Making a 12-inch pizza with the following toppings:\n",
      "- mushrooms\n",
      "- green peppers\n",
      "- extra cheese\n"
     ]
    }
   ],
   "source": [
    "#如果要让函数接受不同类型的实参，必须将接纳任意数量实参的形参放在最后。\n",
    "#Python先匹配位置实参和关键字实参，再将余下的实参都收集到最后一个形参中。\n",
    "\n",
    "#将收到的第一个值赋给形参size ，并将其他所有值都存储在元组toppings 中。\n",
    "def make_pizza(size, *toppings):\n",
    "    \"\"\"概述要制作的比萨。\"\"\"\n",
    "    print(f\"\\nMaking a {size}-inch pizza with the following toppings:\")\n",
    "    for topping in toppings:\n",
    "        print(f\"- {topping}\")\n",
    "make_pizza(16, 'pepperoni')\n",
    "make_pizza(12, 'mushrooms', 'green peppers', 'extra cheese')\n",
    "\n",
    "\n",
    "#你经常会看到通用形参名*args ，它也收集任意数量的位置实参"
   ]
  },
  {
   "cell_type": "markdown",
   "id": "9624fef8-4f73-46d4-b6aa-5b6be79178b7",
   "metadata": {},
   "source": [
    "### 使用任意数量的关键字实参"
   ]
  },
  {
   "cell_type": "code",
   "execution_count": 26,
   "id": "fe95d682-f498-41d6-8a95-0deb68ec8fcc",
   "metadata": {
    "execution": {
     "iopub.execute_input": "2024-04-19T03:34:29.947404Z",
     "iopub.status.busy": "2024-04-19T03:34:29.946303Z",
     "iopub.status.idle": "2024-04-19T03:34:29.962781Z",
     "shell.execute_reply": "2024-04-19T03:34:29.959263Z",
     "shell.execute_reply.started": "2024-04-19T03:34:29.947404Z"
    }
   },
   "outputs": [
    {
     "name": "stdout",
     "output_type": "stream",
     "text": [
      "{'location': 'princeton', 'field': 'physics', 'first_name': 'albert', 'last_name': 'einstein'}\n"
     ]
    }
   ],
   "source": [
    "#有时候，需要接受任意数量的实参，但预先不知道传递给函数的会是什么样的信息\n",
    "#可将函数编写成能够接受任意数量的键值对\n",
    "#接受名和姓，还接受任意数量的关键字实参\n",
    "\n",
    "#两个星号**创建名为user_info的空字典，将收到的所有名称值对都放到这个字典中。\n",
    "#在 build_profile()的函数体内，将名和姓加入了字典\n",
    "\n",
    "def build_profile(first, last, **user_info):\n",
    "     \"\"\"创建一个字典，其中包含我们知道的有关用户的一切。\"\"\"\n",
    "     user_info['first_name'] = first\n",
    "     user_info['last_name'] = last\n",
    "     return user_info\n",
    "user_profile = build_profile('albert', 'einstein',\n",
    "         location='princeton',\n",
    "         field='physics')\n",
    "print(user_profile)"
   ]
  },
  {
   "cell_type": "markdown",
   "id": "abe811eb-1e2b-4d47-a54a-4d7500f08dff",
   "metadata": {},
   "source": [
    "### 练习"
   ]
  },
  {
   "cell_type": "code",
   "execution_count": 58,
   "id": "c3dff1ee-7658-460d-ad7b-90b38a6bb068",
   "metadata": {
    "execution": {
     "iopub.execute_input": "2024-04-19T07:25:17.157836Z",
     "iopub.status.busy": "2024-04-19T07:25:17.157836Z",
     "iopub.status.idle": "2024-04-19T07:25:17.172238Z",
     "shell.execute_reply": "2024-04-19T07:25:17.170604Z",
     "shell.execute_reply.started": "2024-04-19T07:25:17.157836Z"
    }
   },
   "outputs": [
    {
     "name": "stdout",
     "output_type": "stream",
     "text": [
      "\n",
      "The sandwich contains:\n",
      "-egg\n",
      "\n",
      "The sandwich contains:\n",
      "-egg\n",
      "-bacon\n",
      "\n",
      "The sandwich contains:\n",
      "-egg\n",
      "-bacon\n",
      "-chichen\n",
      "-bread\n"
     ]
    }
   ],
   "source": [
    "def ingredient(*food):\n",
    "    \"\"\"在三明治中添加的一系列食材\"\"\"\n",
    "    print(\"\\nThe sandwich contains:\")\n",
    "    for fo in food:\n",
    "         print(f\"-{fo}\")\n",
    "\n",
    "ingredient('egg')\n",
    "ingredient('egg','bacon')\n",
    "ingredient('egg','bacon','chichen','bread')"
   ]
  },
  {
   "cell_type": "code",
   "execution_count": 59,
   "id": "b9e1eed2-d14b-43e8-aa8f-500fa1de7d32",
   "metadata": {
    "execution": {
     "iopub.execute_input": "2024-04-19T07:28:06.725481Z",
     "iopub.status.busy": "2024-04-19T07:28:06.723945Z",
     "iopub.status.idle": "2024-04-19T07:28:06.739903Z",
     "shell.execute_reply": "2024-04-19T07:28:06.736835Z",
     "shell.execute_reply.started": "2024-04-19T07:28:06.725481Z"
    }
   },
   "outputs": [
    {
     "name": "stdout",
     "output_type": "stream",
     "text": [
      "{'age': '21', 'major': 'sociology', 'gender': 'female', 'first_name': 'Ruby', 'last_name': 'Lowe'}\n"
     ]
    }
   ],
   "source": [
    "def build_profile(first, last, **user_info):\n",
    "     \"\"\"创建一个字典，包含有关用户的一切。\"\"\"\n",
    "     user_info['first_name'] = first\n",
    "     user_info['last_name'] = last\n",
    "     return user_info\n",
    "user_profile = build_profile('Ruby', 'Lowe',\n",
    "         age='21',\n",
    "         major='sociology',\n",
    "         gender='female'\n",
    "                        )\n",
    "print(user_profile)"
   ]
  },
  {
   "cell_type": "code",
   "execution_count": 60,
   "id": "b834cd8b-14bc-415e-a15c-c363de1a3adc",
   "metadata": {
    "execution": {
     "iopub.execute_input": "2024-04-19T07:28:41.718437Z",
     "iopub.status.busy": "2024-04-19T07:28:41.718437Z",
     "iopub.status.idle": "2024-04-19T07:28:41.747555Z",
     "shell.execute_reply": "2024-04-19T07:28:41.743976Z",
     "shell.execute_reply.started": "2024-04-19T07:28:41.718437Z"
    }
   },
   "outputs": [
    {
     "data": {
      "text/plain": [
       "{'age': '21',\n",
       " 'major': 'sociology',\n",
       " 'gender': 'female',\n",
       " 'first_name': 'Ruby',\n",
       " 'last_name': 'Lowe'}"
      ]
     },
     "execution_count": 60,
     "metadata": {},
     "output_type": "execute_result"
    }
   ],
   "source": [
    "def build_profile(first, last, **user_info):\n",
    "     \"\"\"创建一个字典，包含有关用户的一切。\"\"\"\n",
    "     user_info['first_name'] = first\n",
    "     user_info['last_name'] = last\n",
    "     return user_info\n",
    "build_profile('Ruby', 'Lowe',\n",
    "         age='21',\n",
    "         major='sociology',\n",
    "         gender='female'\n",
    "                        )"
   ]
  },
  {
   "cell_type": "code",
   "execution_count": 65,
   "id": "0df86f09-51c0-4fa2-a2fb-d22e86a602b8",
   "metadata": {
    "execution": {
     "iopub.execute_input": "2024-04-19T07:47:53.925510Z",
     "iopub.status.busy": "2024-04-19T07:47:53.923817Z",
     "iopub.status.idle": "2024-04-19T07:47:53.938189Z",
     "shell.execute_reply": "2024-04-19T07:47:53.936588Z",
     "shell.execute_reply.started": "2024-04-19T07:47:53.925510Z"
    }
   },
   "outputs": [
    {
     "name": "stdout",
     "output_type": "stream",
     "text": [
      "{'color': 'blue', 'tow_package': True, 'Manufact': 'subaru', 'mode': 'outback'}\n"
     ]
    }
   ],
   "source": [
    "def make_car(Manufacturer, Model,**car_info):\n",
    "    \"\"\"创建一个字典，包含有关骑车的一切。\"\"\"\n",
    "    car_info['Manufact']=Manufacturer\n",
    "    car_info['mode']=Model\n",
    "    return car_info\n",
    "car=make_car('subaru', 'outback', \n",
    "         color='blue', tow_package=True)\n",
    "print(car)"
   ]
  },
  {
   "cell_type": "markdown",
   "id": "ee8fbbc4-f96b-4cdd-8e37-7595e272e183",
   "metadata": {},
   "source": [
    "## 将函数存储在模块中"
   ]
  },
  {
   "cell_type": "markdown",
   "id": "17c38817-cc9e-47c6-92f0-85f3f06b0a1f",
   "metadata": {},
   "source": [
    "### 导入整个模块"
   ]
  },
  {
   "cell_type": "code",
   "execution_count": 35,
   "id": "742ae584-a9dd-4a6d-bdd0-ce8e22f5d9dd",
   "metadata": {
    "execution": {
     "iopub.execute_input": "2024-04-19T06:08:45.823620Z",
     "iopub.status.busy": "2024-04-19T06:08:45.823620Z",
     "iopub.status.idle": "2024-04-19T06:08:45.840116Z",
     "shell.execute_reply": "2024-04-19T06:08:45.837164Z",
     "shell.execute_reply.started": "2024-04-19T06:08:45.823620Z"
    }
   },
   "outputs": [
    {
     "name": "stdout",
     "output_type": "stream",
     "text": [
      "\n",
      "Making a 16-inch pizza with the following toppings:\n",
      "- pepperoni\n",
      "\n",
      "Making a 12-inch pizza with the following toppings:\n",
      "- mushrooms\n",
      "- green peppers\n",
      "- extra cheese\n"
     ]
    }
   ],
   "source": [
    "#编写一条import 语句并在其中指定模块名\n",
    "#需要在同一个目录路径（文件夹）中\n",
    "#如果使用这种import 语句导入了名为module_name.py的整个模块，就可使用下面的语法来使用其中任何一个函数\n",
    "#  module_name.function_name()\n",
    "\n",
    "#指定被导入模块的名称pizza 和函数名make_pizza() ，并用句点分隔\n",
    "import pizza\n",
    "pizza.make_pizza(16, 'pepperoni')\n",
    "pizza.make_pizza(12, 'mushrooms', 'green peppers', 'extra cheese')"
   ]
  },
  {
   "cell_type": "markdown",
   "id": "cd346dbd-dc96-4905-a5e8-66450a45a918",
   "metadata": {},
   "source": [
    "### 导入特定的函数"
   ]
  },
  {
   "cell_type": "code",
   "execution_count": 33,
   "id": "26553c37-716f-4543-88fe-a04bc3d03dfb",
   "metadata": {
    "execution": {
     "iopub.execute_input": "2024-04-19T06:07:56.538570Z",
     "iopub.status.busy": "2024-04-19T06:07:56.538570Z",
     "iopub.status.idle": "2024-04-19T06:07:56.552268Z",
     "shell.execute_reply": "2024-04-19T06:07:56.548914Z",
     "shell.execute_reply.started": "2024-04-19T06:07:56.538570Z"
    }
   },
   "outputs": [
    {
     "name": "stdout",
     "output_type": "stream",
     "text": [
      "\n",
      "Making a 16-inch pizza with the following toppings:\n",
      "- pepperoni\n",
      "\n",
      "Making a 12-inch pizza with the following toppings:\n",
      "- mushrooms\n",
      "- green peppers\n",
      "- extra cheese\n"
     ]
    }
   ],
   "source": [
    "#   from module_name import function_name\n",
    "\n",
    "#通过用逗号分隔函数名，可根据需要从模块中导入任意数量的函数：\n",
    "#   from module_name import function_0, function_1, function_2\n",
    "\n",
    "from pizza import make_pizza\n",
    "make_pizza(16, 'pepperoni')\n",
    "make_pizza(12, 'mushrooms', 'green peppers', 'extra cheese')"
   ]
  },
  {
   "cell_type": "markdown",
   "id": "6a0cb17c-4d65-4bf2-9b87-b181aba46bf7",
   "metadata": {},
   "source": [
    "###  使用as 给函数指定别名"
   ]
  },
  {
   "cell_type": "code",
   "execution_count": 34,
   "id": "c4bf87f9-e284-4c3e-bb18-a4e28c2619cd",
   "metadata": {
    "execution": {
     "iopub.execute_input": "2024-04-19T06:08:00.861715Z",
     "iopub.status.busy": "2024-04-19T06:08:00.860441Z",
     "iopub.status.idle": "2024-04-19T06:08:00.877223Z",
     "shell.execute_reply": "2024-04-19T06:08:00.875113Z",
     "shell.execute_reply.started": "2024-04-19T06:08:00.861715Z"
    }
   },
   "outputs": [
    {
     "name": "stdout",
     "output_type": "stream",
     "text": [
      "\n",
      "Making a 16-inch pizza with the following toppings:\n",
      "- pepperoni\n",
      "\n",
      "Making a 12-inch pizza with the following toppings:\n",
      "- mushrooms\n",
      "- green peppers\n",
      "- extra cheese\n"
     ]
    }
   ],
   "source": [
    "#如果要导入函数的名称可能与程序中现有的名称冲突，或者函数的名称太长，可指定简短而独一无二的别名\n",
    "#在导入它时指定\n",
    "#   from module_name import function_name as fn\n",
    "\n",
    "from pizza import make_pizza as mp\n",
    "mp(16, 'pepperoni')\n",
    "mp(12, 'mushrooms', 'green peppers', 'extra cheese')"
   ]
  },
  {
   "cell_type": "markdown",
   "id": "65819c9f-4f48-41c2-ac36-7cfff6b5e76a",
   "metadata": {},
   "source": [
    "### 使用as 给模块指定别名"
   ]
  },
  {
   "cell_type": "code",
   "execution_count": 37,
   "id": "0e27c850-fd5c-4210-87c5-8f6822a97da3",
   "metadata": {
    "execution": {
     "iopub.execute_input": "2024-04-19T06:10:38.327052Z",
     "iopub.status.busy": "2024-04-19T06:10:38.327052Z",
     "iopub.status.idle": "2024-04-19T06:10:38.341946Z",
     "shell.execute_reply": "2024-04-19T06:10:38.338189Z",
     "shell.execute_reply.started": "2024-04-19T06:10:38.327052Z"
    }
   },
   "outputs": [
    {
     "name": "stdout",
     "output_type": "stream",
     "text": [
      "\n",
      "Making a 16-inch pizza with the following toppings:\n",
      "- pepperoni\n",
      "\n",
      "Making a 12-inch pizza with the following toppings:\n",
      "- mushrooms\n",
      "- green peppers\n",
      "- extra cheese\n"
     ]
    }
   ],
   "source": [
    "#  import module_name as mn\n",
    "\n",
    "import pizza as p\n",
    "p.make_pizza(16, 'pepperoni')\n",
    "p.make_pizza(12, 'mushrooms', 'green peppers', 'extra cheese')"
   ]
  },
  {
   "cell_type": "markdown",
   "id": "384fc58a-08e0-4997-ba67-452a27221f53",
   "metadata": {},
   "source": [
    "### 导入模块中的所有函数"
   ]
  },
  {
   "cell_type": "code",
   "execution_count": 38,
   "id": "f4e83dab-88bc-4755-8c91-74046acd102c",
   "metadata": {
    "execution": {
     "iopub.execute_input": "2024-04-19T06:29:35.707764Z",
     "iopub.status.busy": "2024-04-19T06:29:35.704731Z",
     "iopub.status.idle": "2024-04-19T06:29:35.720592Z",
     "shell.execute_reply": "2024-04-19T06:29:35.718074Z",
     "shell.execute_reply.started": "2024-04-19T06:29:35.707764Z"
    }
   },
   "outputs": [
    {
     "name": "stdout",
     "output_type": "stream",
     "text": [
      "\n",
      "Making a 16-inch pizza with the following toppings:\n",
      "- pepperoni\n",
      "\n",
      "Making a 12-inch pizza with the following toppings:\n",
      "- mushrooms\n",
      "- green peppers\n",
      "- extra cheese\n"
     ]
    }
   ],
   "source": [
    "#使用星号（*）运算符可导入模块中的所有函数：\n",
    "#  from module_name import *\n",
    "\n",
    "from pizza import *\n",
    "make_pizza(16, 'pepperoni')\n",
    "make_pizza(12, 'mushrooms', 'green peppers', 'extra cheese')\n",
    "\n",
    "#由于导入了每个函数，可通过名称来调用每个函数，而无须使用句点表示法。\n",
    "\n",
    "#使用并非自己编写的大型模块时，最好不要采用这种导入方法。\n",
    "#因为如果模块中有函数的名称与当前项目中使用的名称相同，Python可能覆盖函数，而不是分别导入所有的函数\n",
    "#最佳的做法是，要么只导入需要使用的函数，要么导入整个模块并使用句点表示法。"
   ]
  },
  {
   "cell_type": "markdown",
   "id": "18227edc-d497-416e-8bd0-6acafd78e781",
   "metadata": {},
   "source": [
    "## 函数编写指南"
   ]
  },
  {
   "cell_type": "code",
   "execution_count": null,
   "id": "67901510-89d7-4c92-8f70-66a2278cf922",
   "metadata": {},
   "outputs": [],
   "source": [
    "#1应给函数指定描述性名称，且只在其中使用小写字母和下划线\n",
    "#2给模块命名时也应如此\n",
    "#3每个函数都应包含简要地阐述其功能的注释\n",
    "#4给形参指定默认值时，等号两边不要有空格：\n",
    "#  def function_name(parameter_0, parameter_1='default value')\n",
    "#5对于函数调用中的关键字实参，也应遵循这种约定：\n",
    "#  function_name(value_0, parameter_1='value')\n",
    "#6如果形参很多，可在函数定义中输入左括号后按回车键，并在下一行按两次Tab键：\n",
    "# def function_name(\n",
    "          parameter_0, parameter_1, parameter_2,\n",
    "          parameter_3, parameter_4, parameter_5):\n",
    "  function body...\n",
    "#7如果程序或模块包含多个函数，可使用两个空行将相邻的函数分开\n",
    "#8所有import 语句都应放在文件开头"
   ]
  },
  {
   "cell_type": "markdown",
   "id": "40442ab3-68d3-47a0-8a3a-08e32e3c9c5d",
   "metadata": {},
   "source": [
    "### 练习"
   ]
  },
  {
   "cell_type": "code",
   "execution_count": 66,
   "id": "8ef2e4b2-bbc6-4e67-9109-fce84fa2b8b2",
   "metadata": {
    "execution": {
     "iopub.execute_input": "2024-04-19T08:19:54.392326Z",
     "iopub.status.busy": "2024-04-19T08:19:54.390792Z",
     "iopub.status.idle": "2024-04-19T08:19:54.414999Z",
     "shell.execute_reply": "2024-04-19T08:19:54.413482Z",
     "shell.execute_reply.started": "2024-04-19T08:19:54.392326Z"
    }
   },
   "outputs": [
    {
     "name": "stdout",
     "output_type": "stream",
     "text": [
      "\n",
      "The following models have been printed:\n",
      "phone case\n",
      "robot pendant\n",
      "dodecahedron\n"
     ]
    }
   ],
   "source": [
    "from printing_functions import show_completed_models\n",
    "info= ['phone case', 'robot pendant', 'dodecahedron']\n",
    "show_completed_models(info)"
   ]
  },
  {
   "cell_type": "code",
   "execution_count": 67,
   "id": "f6a80b39-af0a-47c8-a55b-ac29c3201fc2",
   "metadata": {
    "execution": {
     "iopub.execute_input": "2024-04-19T08:24:30.613487Z",
     "iopub.status.busy": "2024-04-19T08:24:30.612457Z",
     "iopub.status.idle": "2024-04-19T08:24:30.641957Z",
     "shell.execute_reply": "2024-04-19T08:24:30.639387Z",
     "shell.execute_reply.started": "2024-04-19T08:24:30.613487Z"
    }
   },
   "outputs": [
    {
     "data": {
      "text/plain": [
       "{'singer_name': 'Taylor Swift',\n",
       " 'album_name': 'The Tortured Poets Department',\n",
       " 'songs_num': '16'}"
      ]
     },
     "execution_count": 67,
     "metadata": {},
     "output_type": "execute_result"
    }
   ],
   "source": [
    "import new_album\n",
    "new_album.make_album('Taylor Swift','The Tortured Poets Department','16')"
   ]
  },
  {
   "cell_type": "code",
   "execution_count": 68,
   "id": "050dc19a-4d28-440e-89f8-8e56f30ddd65",
   "metadata": {
    "execution": {
     "iopub.execute_input": "2024-04-19T08:25:59.843241Z",
     "iopub.status.busy": "2024-04-19T08:25:59.840197Z",
     "iopub.status.idle": "2024-04-19T08:25:59.856745Z",
     "shell.execute_reply": "2024-04-19T08:25:59.856745Z",
     "shell.execute_reply.started": "2024-04-19T08:25:59.843241Z"
    }
   },
   "outputs": [
    {
     "data": {
      "text/plain": [
       "{'singer_name': 'Taylor Swift',\n",
       " 'album_name': 'The Tortured Poets Department:Anthology',\n",
       " 'songs_num': '31'}"
      ]
     },
     "execution_count": 68,
     "metadata": {},
     "output_type": "execute_result"
    }
   ],
   "source": [
    "from new_album import make_album\n",
    "make_album('Taylor Swift','The Tortured Poets Department:Anthology','31')"
   ]
  },
  {
   "cell_type": "code",
   "execution_count": 69,
   "id": "6ff5ad78-83c5-42b8-834f-42fc8b3cc25b",
   "metadata": {
    "execution": {
     "iopub.execute_input": "2024-04-19T08:26:40.966535Z",
     "iopub.status.busy": "2024-04-19T08:26:40.965432Z",
     "iopub.status.idle": "2024-04-19T08:26:40.980554Z",
     "shell.execute_reply": "2024-04-19T08:26:40.980554Z",
     "shell.execute_reply.started": "2024-04-19T08:26:40.966535Z"
    }
   },
   "outputs": [
    {
     "data": {
      "text/plain": [
       "{'singer_name': 'Taylor Swift', 'album_name': 'Midnights'}"
      ]
     },
     "execution_count": 69,
     "metadata": {},
     "output_type": "execute_result"
    }
   ],
   "source": [
    "from new_album import make_album as ma\n",
    "ma('Taylor Swift','Midnights')"
   ]
  },
  {
   "cell_type": "code",
   "execution_count": 70,
   "id": "143ef7ef-0b5e-4835-927f-590b4214342f",
   "metadata": {
    "execution": {
     "iopub.execute_input": "2024-04-19T08:27:49.497620Z",
     "iopub.status.busy": "2024-04-19T08:27:49.497620Z",
     "iopub.status.idle": "2024-04-19T08:27:49.512277Z",
     "shell.execute_reply": "2024-04-19T08:27:49.512277Z",
     "shell.execute_reply.started": "2024-04-19T08:27:49.497620Z"
    }
   },
   "outputs": [
    {
     "data": {
      "text/plain": [
       "{'singer_name': 'Taylor Swift', 'album_name': 'Midnights', 'songs_num': '21'}"
      ]
     },
     "execution_count": 70,
     "metadata": {},
     "output_type": "execute_result"
    }
   ],
   "source": [
    "import new_album as na\n",
    "na.make_album('Taylor Swift','Midnights','21')"
   ]
  },
  {
   "cell_type": "code",
   "execution_count": 71,
   "id": "c11ddfa4-740a-453f-81a4-ad74658ae36f",
   "metadata": {
    "execution": {
     "iopub.execute_input": "2024-04-19T08:28:44.996173Z",
     "iopub.status.busy": "2024-04-19T08:28:44.994949Z",
     "iopub.status.idle": "2024-04-19T08:28:45.011849Z",
     "shell.execute_reply": "2024-04-19T08:28:45.008787Z",
     "shell.execute_reply.started": "2024-04-19T08:28:44.996173Z"
    }
   },
   "outputs": [
    {
     "data": {
      "text/plain": [
       "{'singer_name': 'Taylor Swift',\n",
       " 'album_name': 'The Tortured Poets Department:Anthology',\n",
       " 'songs_num': '31'}"
      ]
     },
     "execution_count": 71,
     "metadata": {},
     "output_type": "execute_result"
    }
   ],
   "source": [
    "from new_album import *\n",
    "make_album('Taylor Swift','The Tortured Poets Department:Anthology','31')"
   ]
  }
 ],
 "metadata": {
  "kernelspec": {
   "display_name": "Python 3 (ipykernel)",
   "language": "python",
   "name": "python3"
  },
  "language_info": {
   "codemirror_mode": {
    "name": "ipython",
    "version": 3
   },
   "file_extension": ".py",
   "mimetype": "text/x-python",
   "name": "python",
   "nbconvert_exporter": "python",
   "pygments_lexer": "ipython3",
   "version": "3.11.5"
  }
 },
 "nbformat": 4,
 "nbformat_minor": 5
}
