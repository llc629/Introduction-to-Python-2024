{
 "cells": [
  {
   "cell_type": "markdown",
   "id": "194394c0",
   "metadata": {},
   "source": [
    "# 变量和简单数据类型"
   ]
  },
  {
   "cell_type": "markdown",
   "id": "2ef698e6",
   "metadata": {},
   "source": [
    "## 2.2变量"
   ]
  },
  {
   "cell_type": "code",
   "execution_count": 1,
   "id": "8200d528",
   "metadata": {},
   "outputs": [
    {
     "name": "stdout",
     "output_type": "stream",
     "text": [
      "Hello Python world!\n",
      "Hello Python Crash Course world!\n"
     ]
    }
   ],
   "source": [
    "message = \"Hello Python world!\"\n",
    "print (message)\n",
    "\n",
    "message = \"Hello Python Crash Course world!\"\n",
    "print (message)"
   ]
  },
  {
   "cell_type": "markdown",
   "id": "5b1a8259",
   "metadata": {},
   "source": [
    "## 2.3字符串"
   ]
  },
  {
   "cell_type": "markdown",
   "id": "c84d3cbf",
   "metadata": {},
   "source": [
    "### 2.3.1　使用方法修改字符串的大小写"
   ]
  },
  {
   "cell_type": "code",
   "execution_count": 2,
   "id": "ce8d76a9",
   "metadata": {},
   "outputs": [
    {
     "name": "stdout",
     "output_type": "stream",
     "text": [
      "Ada Lovelace\n"
     ]
    }
   ],
   "source": [
    "name = \"ada lovelace\"\n",
    "print (name.title())"
   ]
  },
  {
   "cell_type": "code",
   "execution_count": 3,
   "id": "40226f62",
   "metadata": {},
   "outputs": [
    {
     "name": "stdout",
     "output_type": "stream",
     "text": [
      "ada lovelace\n",
      "ADA LOVELACE\n"
     ]
    }
   ],
   "source": [
    "name = \"ada lovelace\"\n",
    "print (name.lower())\n",
    "print (name.upper())"
   ]
  },
  {
   "cell_type": "markdown",
   "id": "774dc0fe",
   "metadata": {},
   "source": [
    "### 2.3.2　在字符串中使用变量"
   ]
  },
  {
   "cell_type": "code",
   "execution_count": 5,
   "id": "1a38eab2",
   "metadata": {},
   "outputs": [
    {
     "name": "stdout",
     "output_type": "stream",
     "text": [
      "ada lovelace\n"
     ]
    }
   ],
   "source": [
    "first_name = \"ada\"\n",
    "last_name = \"lovelace\"\n",
    "full_name = f\"{first_name} {last_name}\"\n",
    "print (full_name)"
   ]
  },
  {
   "cell_type": "code",
   "execution_count": 9,
   "id": "0ea9d370",
   "metadata": {},
   "outputs": [
    {
     "name": "stdout",
     "output_type": "stream",
     "text": [
      "Hello, Ada Lovelace!\n"
     ]
    }
   ],
   "source": [
    "first_name = \"ada\"\n",
    "last_name = \"lovelace\"\n",
    "full_name = f\"{first_name} {last_name}\"\n",
    "print(f\"Hello, {full_name.title()}!\") \n",
    "#f后面不要空格，除了引号里面，不要轻易空格"
   ]
  },
  {
   "cell_type": "code",
   "execution_count": 10,
   "id": "d70cf34e",
   "metadata": {},
   "outputs": [
    {
     "name": "stdout",
     "output_type": "stream",
     "text": [
      "Hello,Ada Lovelace!\n"
     ]
    }
   ],
   "source": [
    "first_name = \"ada\"\n",
    "last_name = \"lovelace\"\n",
    "full_name = f\"{first_name} {last_name}\"\n",
    "message_1=f\"Hello,{full_name.title()}!\"\n",
    "print(message_1) "
   ]
  },
  {
   "cell_type": "markdown",
   "id": "dd25a37d",
   "metadata": {},
   "source": [
    "### 2.3.3　使用制表符或换行符来添加空白"
   ]
  },
  {
   "cell_type": "code",
   "execution_count": 12,
   "id": "ef4eaf47",
   "metadata": {},
   "outputs": [
    {
     "name": "stdout",
     "output_type": "stream",
     "text": [
      "Python\n"
     ]
    }
   ],
   "source": [
    "print(\"Python\")"
   ]
  },
  {
   "cell_type": "code",
   "execution_count": 13,
   "id": "2303e511",
   "metadata": {},
   "outputs": [
    {
     "name": "stdout",
     "output_type": "stream",
     "text": [
      "\tPython\n"
     ]
    }
   ],
   "source": [
    "print(\"\\tPython\")"
   ]
  },
  {
   "cell_type": "code",
   "execution_count": 14,
   "id": "aa6dd313",
   "metadata": {},
   "outputs": [
    {
     "name": "stdout",
     "output_type": "stream",
     "text": [
      "Language:\n",
      "Python\n",
      "C\n",
      "JavaScript\n"
     ]
    }
   ],
   "source": [
    "print(\"Language:\\nPython\\nC\\nJavaScript\")"
   ]
  },
  {
   "cell_type": "code",
   "execution_count": 15,
   "id": "777368c3",
   "metadata": {},
   "outputs": [
    {
     "name": "stdout",
     "output_type": "stream",
     "text": [
      "Language:\n",
      "\tPython\n",
      "\tC\n",
      "\tJavaScript\n"
     ]
    }
   ],
   "source": [
    "print(\"Language:\\n\\tPython\\n\\tC\\n\\tJavaScript\")"
   ]
  },
  {
   "cell_type": "markdown",
   "id": "4d803a2b",
   "metadata": {},
   "source": [
    "### 2.3.4　删除空白"
   ]
  },
  {
   "cell_type": "code",
   "execution_count": 1,
   "id": "9020e307",
   "metadata": {},
   "outputs": [
    {
     "data": {
      "text/plain": [
       "'iTuring'"
      ]
     },
     "execution_count": 1,
     "metadata": {},
     "output_type": "execute_result"
    }
   ],
   "source": [
    "\"     iTuring\".strip()"
   ]
  },
  {
   "cell_type": "code",
   "execution_count": 2,
   "id": "722097a4",
   "metadata": {},
   "outputs": [
    {
     "data": {
      "text/plain": [
       "'iTuring'"
      ]
     },
     "execution_count": 2,
     "metadata": {},
     "output_type": "execute_result"
    }
   ],
   "source": [
    "\"iTuring    \".rstrip()"
   ]
  },
  {
   "cell_type": "code",
   "execution_count": 3,
   "id": "f32d55ec",
   "metadata": {},
   "outputs": [
    {
     "data": {
      "text/plain": [
       "'ITUUuu'"
      ]
     },
     "execution_count": 3,
     "metadata": {},
     "output_type": "execute_result"
    }
   ],
   "source": [
    "\"   I    T    UUuu\".replace(\" \",\"\")"
   ]
  },
  {
   "cell_type": "code",
   "execution_count": 11,
   "id": "d48e7b3d",
   "metadata": {
    "scrolled": true
   },
   "outputs": [
    {
     "data": {
      "text/plain": [
       "'Python '"
      ]
     },
     "execution_count": 11,
     "metadata": {},
     "output_type": "execute_result"
    }
   ],
   "source": [
    "favorite_language = 'Python '\n",
    "favorite_language"
   ]
  },
  {
   "cell_type": "code",
   "execution_count": 23,
   "id": "3b376050",
   "metadata": {},
   "outputs": [
    {
     "data": {
      "text/plain": [
       "'Python'"
      ]
     },
     "execution_count": 23,
     "metadata": {},
     "output_type": "execute_result"
    }
   ],
   "source": [
    "favorite_language = 'Python '\n",
    "favorite_language = favorite_language.rstrip()\n",
    "favorite_language"
   ]
  },
  {
   "cell_type": "code",
   "execution_count": 25,
   "id": "23bd7525",
   "metadata": {},
   "outputs": [
    {
     "data": {
      "text/plain": [
       "'Python'"
      ]
     },
     "execution_count": 25,
     "metadata": {},
     "output_type": "execute_result"
    }
   ],
   "source": [
    "fav_language = ' Python '\n",
    "fav_language.strip()"
   ]
  },
  {
   "cell_type": "code",
   "execution_count": 26,
   "id": "968c7a45",
   "metadata": {},
   "outputs": [
    {
     "data": {
      "text/plain": [
       "'Python '"
      ]
     },
     "execution_count": 26,
     "metadata": {},
     "output_type": "execute_result"
    }
   ],
   "source": [
    "fav_language = ' Python '\n",
    "fav_language.lstrip()"
   ]
  },
  {
   "cell_type": "markdown",
   "id": "24d3a7d7",
   "metadata": {},
   "source": [
    "### 2.3.5　使用字符串时避免语法错误"
   ]
  },
  {
   "cell_type": "code",
   "execution_count": 27,
   "id": "7082cf5a",
   "metadata": {},
   "outputs": [
    {
     "name": "stdout",
     "output_type": "stream",
     "text": [
      "One of Python's strengths is its diverse community.\n"
     ]
    }
   ],
   "source": [
    "message2 = \"One of Python's strengths is its diverse community.\" \n",
    "print(message2) "
   ]
  },
  {
   "cell_type": "code",
   "execution_count": 6,
   "id": "fa7c70ae",
   "metadata": {},
   "outputs": [
    {
     "name": "stdout",
     "output_type": "stream",
     "text": [
      "Let's go!\n"
     ]
    }
   ],
   "source": [
    "#转义字符 \\\n",
    "mess=\"Let\\'s go!\"\n",
    "print(mess)"
   ]
  },
  {
   "cell_type": "markdown",
   "id": "8eaa3313",
   "metadata": {},
   "source": [
    "### 练习"
   ]
  },
  {
   "cell_type": "code",
   "execution_count": 28,
   "id": "340cddb5",
   "metadata": {},
   "outputs": [
    {
     "name": "stdout",
     "output_type": "stream",
     "text": [
      "Hello,Cascades!\n"
     ]
    }
   ],
   "source": [
    "nickname = \"Cascades\"\n",
    "print(f\"Hello,{nickname}!\")"
   ]
  },
  {
   "cell_type": "code",
   "execution_count": 29,
   "id": "7bc5bd95",
   "metadata": {},
   "outputs": [
    {
     "name": "stdout",
     "output_type": "stream",
     "text": [
      "Cascades Cookie\n",
      "cascades cookie\n",
      "CASCADES COOKIE\n"
     ]
    }
   ],
   "source": [
    "honeyname = \"cascades cookie\"\n",
    "print(honeyname.title())\n",
    "print(honeyname.lower())\n",
    "print(honeyname.upper())"
   ]
  },
  {
   "cell_type": "code",
   "execution_count": 9,
   "id": "aade94de",
   "metadata": {},
   "outputs": [
    {
     "name": "stdout",
     "output_type": "stream",
     "text": [
      "Taylor Swift once said,\" You are what you love.\"\n"
     ]
    }
   ],
   "source": [
    "saying = 'Taylor Swift once said,\" You are what you love.\"'\n",
    "print(saying)"
   ]
  },
  {
   "cell_type": "code",
   "execution_count": 32,
   "id": "b5b16ecc",
   "metadata": {},
   "outputs": [
    {
     "name": "stdout",
     "output_type": "stream",
     "text": [
      "Taylor Swiftonce said,\"You are what you love.\"\n"
     ]
    }
   ],
   "source": [
    "famous_person = \"Taylor Swift\"\n",
    "message3 = '\"You are what you love.\"'\n",
    "print(f\"{famous_person}once said,{message3}\")"
   ]
  },
  {
   "cell_type": "code",
   "execution_count": 46,
   "id": "f0ccbb79",
   "metadata": {},
   "outputs": [
    {
     "name": "stdout",
     "output_type": "stream",
     "text": [
      "  Ruby\n",
      "\tLowe     \n",
      "Ruby\n",
      "\tLowe     \n",
      "  Ruby\n",
      "\tLowe\n",
      "Ruby\n",
      "\tLowe\n"
     ]
    }
   ],
   "source": [
    "queen = \"  Ruby\\n\\tLowe     \"\n",
    "print(queen)\n",
    "queen_1 = queen.lstrip()\n",
    "print(queen_1)\n",
    "queen_2 = queen.rstrip()\n",
    "print(queen_2)\n",
    "queen_3 = queen.strip()\n",
    "print(queen_3)"
   ]
  },
  {
   "cell_type": "markdown",
   "id": "f1a7aef8",
   "metadata": {},
   "source": [
    "### 删除前缀"
   ]
  },
  {
   "cell_type": "code",
   "execution_count": 4,
   "id": "808becf0",
   "metadata": {},
   "outputs": [
    {
     "name": "stdout",
     "output_type": "stream",
     "text": [
      "www.python.com\n"
     ]
    }
   ],
   "source": [
    "url='https://www.python.com'\n",
    "url=url.removeprefix('https://')\n",
    "print(url)"
   ]
  },
  {
   "cell_type": "code",
   "execution_count": 5,
   "id": "3c61091e",
   "metadata": {},
   "outputs": [
    {
     "name": "stdout",
     "output_type": "stream",
     "text": [
      "www.python.com\n"
     ]
    }
   ],
   "source": [
    "url='https://www.python.com'\n",
    "url=url.replace('https://','')\n",
    "print(url)"
   ]
  },
  {
   "cell_type": "markdown",
   "id": "edf538dd",
   "metadata": {},
   "source": [
    "### 字符串拼接"
   ]
  },
  {
   "cell_type": "code",
   "execution_count": 12,
   "id": "300430cb",
   "metadata": {},
   "outputs": [
    {
     "data": {
      "text/plain": [
       "'Hello Python'"
      ]
     },
     "execution_count": 12,
     "metadata": {},
     "output_type": "execute_result"
    }
   ],
   "source": [
    "\"Hello\"+\" Python\""
   ]
  },
  {
   "cell_type": "code",
   "execution_count": 15,
   "id": "038672e2",
   "metadata": {},
   "outputs": [
    {
     "data": {
      "text/plain": [
       "'Hello Hello '"
      ]
     },
     "execution_count": 15,
     "metadata": {},
     "output_type": "execute_result"
    }
   ],
   "source": [
    "\"Hello \"*2"
   ]
  },
  {
   "cell_type": "markdown",
   "id": "de2dd9dc",
   "metadata": {},
   "source": [
    "## 2.4数"
   ]
  },
  {
   "cell_type": "markdown",
   "id": "dc31d109",
   "metadata": {},
   "source": [
    "### 2.4.1/2 整数和浮点数"
   ]
  },
  {
   "cell_type": "code",
   "execution_count": 17,
   "id": "9719665c",
   "metadata": {},
   "outputs": [
    {
     "name": "stdout",
     "output_type": "stream",
     "text": [
      "1.2\n"
     ]
    }
   ],
   "source": [
    "print(1.2)"
   ]
  },
  {
   "cell_type": "code",
   "execution_count": 23,
   "id": "4616af6b",
   "metadata": {},
   "outputs": [
    {
     "name": "stdout",
     "output_type": "stream",
     "text": [
      "3\n",
      "-1\n",
      "10\n",
      "44.0\n"
     ]
    }
   ],
   "source": [
    "print(1+2)\n",
    "print(1-2)\n",
    "print(5*2)\n",
    "print(88/2)"
   ]
  },
  {
   "cell_type": "code",
   "execution_count": 24,
   "id": "ac93aa56",
   "metadata": {},
   "outputs": [
    {
     "name": "stdout",
     "output_type": "stream",
     "text": [
      "16\n"
     ]
    }
   ],
   "source": [
    "print(2**4)\n",
    "#**：乘方"
   ]
  },
  {
   "cell_type": "code",
   "execution_count": 25,
   "id": "bd3950a1",
   "metadata": {},
   "outputs": [
    {
     "name": "stdout",
     "output_type": "stream",
     "text": [
      "3\n",
      "33\n"
     ]
    }
   ],
   "source": [
    "print(9//3)\n",
    "print(100//3)\n",
    "#//:整除"
   ]
  },
  {
   "cell_type": "markdown",
   "id": "61c6e379",
   "metadata": {},
   "source": [
    "### 2.4.3数中的下划线"
   ]
  },
  {
   "cell_type": "code",
   "execution_count": 18,
   "id": "ae10bd78",
   "metadata": {},
   "outputs": [
    {
     "data": {
      "text/plain": [
       "1000000.2"
      ]
     },
     "execution_count": 18,
     "metadata": {},
     "output_type": "execute_result"
    }
   ],
   "source": [
    "1_000_000.2"
   ]
  },
  {
   "cell_type": "markdown",
   "id": "c6d658ec",
   "metadata": {},
   "source": [
    "### 2.4.4 True and False"
   ]
  },
  {
   "cell_type": "code",
   "execution_count": 26,
   "id": "b19bb059",
   "metadata": {},
   "outputs": [
    {
     "name": "stdout",
     "output_type": "stream",
     "text": [
      "True\n",
      "False\n"
     ]
    }
   ],
   "source": [
    "print(True)\n",
    "print(False)"
   ]
  },
  {
   "cell_type": "code",
   "execution_count": 27,
   "id": "47348e43",
   "metadata": {},
   "outputs": [
    {
     "data": {
      "text/plain": [
       "True"
      ]
     },
     "execution_count": 27,
     "metadata": {},
     "output_type": "execute_result"
    }
   ],
   "source": [
    "True==1"
   ]
  },
  {
   "cell_type": "code",
   "execution_count": 28,
   "id": "b4d93119",
   "metadata": {},
   "outputs": [
    {
     "data": {
      "text/plain": [
       "True"
      ]
     },
     "execution_count": 28,
     "metadata": {},
     "output_type": "execute_result"
    }
   ],
   "source": [
    "False==0"
   ]
  },
  {
   "cell_type": "code",
   "execution_count": 29,
   "id": "9e40036f",
   "metadata": {},
   "outputs": [
    {
     "data": {
      "text/plain": [
       "True"
      ]
     },
     "execution_count": 29,
     "metadata": {},
     "output_type": "execute_result"
    }
   ],
   "source": [
    "1==1"
   ]
  },
  {
   "cell_type": "code",
   "execution_count": 30,
   "id": "cf9d9412",
   "metadata": {},
   "outputs": [
    {
     "data": {
      "text/plain": [
       "False"
      ]
     },
     "execution_count": 30,
     "metadata": {},
     "output_type": "execute_result"
    }
   ],
   "source": [
    "1==0"
   ]
  },
  {
   "cell_type": "markdown",
   "id": "c5e55336",
   "metadata": {},
   "source": [
    "### 2.4.5　同时给多个变量赋值"
   ]
  },
  {
   "cell_type": "code",
   "execution_count": 31,
   "id": "398b7afb",
   "metadata": {},
   "outputs": [],
   "source": [
    "x,y,z,=1,2,3"
   ]
  },
  {
   "cell_type": "code",
   "execution_count": 32,
   "id": "6c5d1b72",
   "metadata": {},
   "outputs": [
    {
     "data": {
      "text/plain": [
       "1"
      ]
     },
     "execution_count": 32,
     "metadata": {},
     "output_type": "execute_result"
    }
   ],
   "source": [
    "x"
   ]
  },
  {
   "cell_type": "code",
   "execution_count": 33,
   "id": "76eaa993",
   "metadata": {},
   "outputs": [
    {
     "data": {
      "text/plain": [
       "2"
      ]
     },
     "execution_count": 33,
     "metadata": {},
     "output_type": "execute_result"
    }
   ],
   "source": [
    "y"
   ]
  },
  {
   "cell_type": "code",
   "execution_count": 34,
   "id": "a67b9b00",
   "metadata": {},
   "outputs": [
    {
     "data": {
      "text/plain": [
       "3"
      ]
     },
     "execution_count": 34,
     "metadata": {},
     "output_type": "execute_result"
    }
   ],
   "source": [
    "z"
   ]
  },
  {
   "cell_type": "markdown",
   "id": "84ffc2c2",
   "metadata": {},
   "source": [
    "### 2.4.6　常量"
   ]
  },
  {
   "cell_type": "code",
   "execution_count": 35,
   "id": "40f80159",
   "metadata": {},
   "outputs": [],
   "source": [
    "MAX_CONNECTIONS = 5000 "
   ]
  },
  {
   "cell_type": "markdown",
   "id": "52750e67",
   "metadata": {},
   "source": [
    "## 2.5 注释"
   ]
  },
  {
   "cell_type": "code",
   "execution_count": 37,
   "id": "dc3aa191",
   "metadata": {},
   "outputs": [
    {
     "name": "stdout",
     "output_type": "stream",
     "text": [
      "Hello Python people!\n"
     ]
    }
   ],
   "source": [
    " # 向大家问好。 \n",
    "print(\"Hello Python people!\") "
   ]
  },
  {
   "cell_type": "markdown",
   "id": "1084ab5d",
   "metadata": {},
   "source": [
    "## 2.6 禅"
   ]
  },
  {
   "cell_type": "code",
   "execution_count": 36,
   "id": "ff76c22e",
   "metadata": {},
   "outputs": [
    {
     "name": "stdout",
     "output_type": "stream",
     "text": [
      "The Zen of Python, by Tim Peters\n",
      "\n",
      "Beautiful is better than ugly.\n",
      "Explicit is better than implicit.\n",
      "Simple is better than complex.\n",
      "Complex is better than complicated.\n",
      "Flat is better than nested.\n",
      "Sparse is better than dense.\n",
      "Readability counts.\n",
      "Special cases aren't special enough to break the rules.\n",
      "Although practicality beats purity.\n",
      "Errors should never pass silently.\n",
      "Unless explicitly silenced.\n",
      "In the face of ambiguity, refuse the temptation to guess.\n",
      "There should be one-- and preferably only one --obvious way to do it.\n",
      "Although that way may not be obvious at first unless you're Dutch.\n",
      "Now is better than never.\n",
      "Although never is often better than *right* now.\n",
      "If the implementation is hard to explain, it's a bad idea.\n",
      "If the implementation is easy to explain, it may be a good idea.\n",
      "Namespaces are one honking great idea -- let's do more of those!\n"
     ]
    }
   ],
   "source": [
    "import this"
   ]
  },
  {
   "cell_type": "code",
   "execution_count": null,
   "id": "d15c7f72",
   "metadata": {},
   "outputs": [],
   "source": []
  }
 ],
 "metadata": {
  "kernelspec": {
   "display_name": "Python 3 (ipykernel)",
   "language": "python",
   "name": "python3"
  },
  "language_info": {
   "codemirror_mode": {
    "name": "ipython",
    "version": 3
   },
   "file_extension": ".py",
   "mimetype": "text/x-python",
   "name": "python",
   "nbconvert_exporter": "python",
   "pygments_lexer": "ipython3",
   "version": "3.11.5"
  }
 },
 "nbformat": 4,
 "nbformat_minor": 5
}
