{
 "cells": [
  {
   "cell_type": "markdown",
   "id": "775ec3ce",
   "metadata": {},
   "source": [
    "# 列表简介"
   ]
  },
  {
   "cell_type": "code",
   "execution_count": 1,
   "id": "07ed7b04",
   "metadata": {},
   "outputs": [
    {
     "name": "stdout",
     "output_type": "stream",
     "text": [
      "['trek', 'cannondale', 'redline', 'specialized']\n"
     ]
    }
   ],
   "source": [
    " bicycles = ['trek', 'cannondale', 'redline', 'specialized'] \n",
    "print(bicycles)"
   ]
  },
  {
   "cell_type": "markdown",
   "id": "387d7046",
   "metadata": {},
   "source": [
    "## 3.1.1　访问列表元素"
   ]
  },
  {
   "cell_type": "code",
   "execution_count": 2,
   "id": "df5cee5a",
   "metadata": {},
   "outputs": [
    {
     "data": {
      "text/plain": [
       "'trek'"
      ]
     },
     "execution_count": 2,
     "metadata": {},
     "output_type": "execute_result"
    }
   ],
   "source": [
    "#索引从0开始\n",
    "bicycles[0]"
   ]
  },
  {
   "cell_type": "code",
   "execution_count": 6,
   "id": "58efbde0",
   "metadata": {},
   "outputs": [
    {
     "data": {
      "text/plain": [
       "'specialized'"
      ]
     },
     "execution_count": 6,
     "metadata": {},
     "output_type": "execute_result"
    }
   ],
   "source": [
    "#通过将索引指定为-1 ，可让Python返回最后一个列表元素\n",
    "bicycles[-1]"
   ]
  },
  {
   "cell_type": "code",
   "execution_count": 14,
   "id": "e20e5e91",
   "metadata": {},
   "outputs": [
    {
     "name": "stdout",
     "output_type": "stream",
     "text": [
      "trek trek\n"
     ]
    }
   ],
   "source": [
    "print(bicycles[0],bicycles[-4])"
   ]
  },
  {
   "cell_type": "code",
   "execution_count": 29,
   "id": "9e5ea410",
   "metadata": {},
   "outputs": [
    {
     "name": "stdout",
     "output_type": "stream",
     "text": [
      "Her favorite food is cookies\n"
     ]
    }
   ],
   "source": [
    "food=['cake','cookies','candies','ice-cream']\n",
    "sentence=f\"Her favorite food is {food[1].lower()}\"\n",
    "print(sentence)"
   ]
  },
  {
   "cell_type": "markdown",
   "id": "57eac7cc",
   "metadata": {},
   "source": [
    "## 3.2.1　修改列表元素"
   ]
  },
  {
   "cell_type": "code",
   "execution_count": 7,
   "id": "e284fcd6",
   "metadata": {},
   "outputs": [
    {
     "name": "stdout",
     "output_type": "stream",
     "text": [
      "['honda', 'yamaha', 'suzuki']\n"
     ]
    }
   ],
   "source": [
    "motorcycles =['honda', 'yamaha','suzuki']\n",
    "print(motorcycles)"
   ]
  },
  {
   "cell_type": "code",
   "execution_count": 8,
   "id": "c91a030c",
   "metadata": {},
   "outputs": [
    {
     "name": "stdout",
     "output_type": "stream",
     "text": [
      "['ducat', 'yamaha', 'suzuki']\n"
     ]
    }
   ],
   "source": [
    "motorcycles[0]='ducat'\n",
    "print (motorcycles)"
   ]
  },
  {
   "cell_type": "markdown",
   "id": "b9ab43e0",
   "metadata": {},
   "source": [
    "## 3.2.2　在列表中添加元素"
   ]
  },
  {
   "cell_type": "code",
   "execution_count": 30,
   "id": "6cf85720",
   "metadata": {},
   "outputs": [
    {
     "name": "stdout",
     "output_type": "stream",
     "text": [
      "['cake', 'cookies', 'candies', 'ice-cream']\n",
      "['cake', 'cookies', 'candies', 'ice-cream', 'water']\n"
     ]
    }
   ],
   "source": [
    "things=['cake','cookies','candies','ice-cream']\n",
    "print(things)\n",
    "\n",
    "things.append('water')\n",
    "print(things)"
   ]
  },
  {
   "cell_type": "code",
   "execution_count": 31,
   "id": "5bcef68a",
   "metadata": {},
   "outputs": [
    {
     "name": "stdout",
     "output_type": "stream",
     "text": [
      "['trek', 'redline', 'giant', 'laung']\n"
     ]
    }
   ],
   "source": [
    "bikes=[]\n",
    "bikes.append('trek')\n",
    "bikes.append('redline')\n",
    "bikes.append('giant')\n",
    "bikes.insert(4,'laung')\n",
    "print(bikes)"
   ]
  },
  {
   "cell_type": "code",
   "execution_count": 32,
   "id": "88ad91af",
   "metadata": {},
   "outputs": [
    {
     "name": "stdout",
     "output_type": "stream",
     "text": [
      "['ko', 'trek', 'redline', 'giant', 'laung']\n"
     ]
    }
   ],
   "source": [
    "bikes=['trek', 'redline', 'giant', 'laung']\n",
    "bikes.insert(0,'ko')\n",
    "print(bikes)"
   ]
  },
  {
   "cell_type": "markdown",
   "id": "0e848733",
   "metadata": {},
   "source": [
    "## 3.2.3　从列表中删除元素 del pop remove\n",
    "要从列表中删除一个元素，且不再要使用它，用del；要在删除后还能继续使用它，用pop() ;不知要删除的值的位置,只知要删的值，用remove(),且仍可使用。  此外，list无需赋值 ，一旦调用，原变量就跟着彻底修改了，不同于第二章讲过的依然不变"
   ]
  },
  {
   "cell_type": "code",
   "execution_count": 9,
   "id": "fa19f905",
   "metadata": {},
   "outputs": [
    {
     "name": "stdout",
     "output_type": "stream",
     "text": [
      "['yamaha', 'suzuki']\n"
     ]
    }
   ],
   "source": [
    "motorcycles =['honda', 'yamaha','suzuki']\n",
    "del motorcycles[0]\n",
    "print(motorcycles)"
   ]
  },
  {
   "cell_type": "code",
   "execution_count": 16,
   "id": "d9ee0332",
   "metadata": {},
   "outputs": [
    {
     "name": "stdout",
     "output_type": "stream",
     "text": [
      "['honda', 'yamaha', 'suzuki']\n",
      "['honda', 'yamaha']\n",
      "suzuki\n"
     ]
    }
   ],
   "source": [
    "#pop() 删除列表末尾的元素，并能接着使用它.\n",
    "\n",
    "motor= ['honda', 'yamaha', 'suzuki'] \n",
    "print(motor) \n",
    "popped_motor = motor.pop() \n",
    "print(motor) \n",
    "print(popped_motor) "
   ]
  },
  {
   "cell_type": "code",
   "execution_count": 17,
   "id": "8e934984",
   "metadata": {},
   "outputs": [
    {
     "name": "stdout",
     "output_type": "stream",
     "text": [
      "The last motorcycle I owned was a Suzuki.\n"
     ]
    }
   ],
   "source": [
    "#假设列表中的摩托车是按购买时间存储的，就可使用pop() 打印消息，指出最后购买的是哪款摩托车：\n",
    "\n",
    "motor= ['honda', 'yamaha', 'suzuki'] \n",
    "last_owned = motor.pop() \n",
    "print(f\"The last motorcycle I owned was a {last_owned.title()}.\") "
   ]
  },
  {
   "cell_type": "code",
   "execution_count": 33,
   "id": "87f4466b",
   "metadata": {},
   "outputs": [
    {
     "name": "stdout",
     "output_type": "stream",
     "text": [
      "redline\n",
      "['trek']\n",
      "giant\n"
     ]
    }
   ],
   "source": [
    "bikes =['giant','trek','redline']\n",
    "print(bikes.pop())\n",
    "\n",
    "#可以使用pop() 来删除列表中任意位置的元素，只需在圆括号中指定要删除元素的索引即可\n",
    "popped_bike = bikes.pop(0)\n",
    "print(bikes)\n",
    "print(popped_bike)"
   ]
  },
  {
   "cell_type": "code",
   "execution_count": 22,
   "id": "9fdeda59",
   "metadata": {},
   "outputs": [
    {
     "name": "stdout",
     "output_type": "stream",
     "text": [
      "['ho', 'ya', 'su', 'du']\n",
      "['ho', 'su', 'du']\n",
      "\n",
      "A Ya is too costly for me.\n"
     ]
    }
   ],
   "source": [
    "cycles=['ho','ya','su','du']\n",
    "print(cycles)\n",
    "too_costly='ya'\n",
    "cycles.remove(too_costly)\n",
    "print(cycles)\n",
    "print(f\"\\nA {too_costly.title()} is too costly for me.\")\n",
    "\n",
    "#remove() 只删除第一个指定的值。如果要删除的值可能在列表中出现多次，就需要使用循环来确保将每个值都删除。这将在第7章中介绍。"
   ]
  },
  {
   "cell_type": "markdown",
   "id": "82754f51",
   "metadata": {},
   "source": [
    "## 3.3　组织列表"
   ]
  },
  {
   "cell_type": "markdown",
   "id": "c87169e0",
   "metadata": {},
   "source": [
    "### 3.3.1　使用方法sort()对列表永久排序"
   ]
  },
  {
   "cell_type": "code",
   "execution_count": 34,
   "id": "807cfc42",
   "metadata": {},
   "outputs": [
    {
     "name": "stdout",
     "output_type": "stream",
     "text": [
      "['audi', 'bmw', 'subaru', 'toyota']\n"
     ]
    }
   ],
   "source": [
    "cars = ['bmw', 'audi', 'toyota', 'subaru'] \n",
    "cars.sort() \n",
    "print(cars) "
   ]
  },
  {
   "cell_type": "code",
   "execution_count": 24,
   "id": "46637586",
   "metadata": {},
   "outputs": [
    {
     "name": "stdout",
     "output_type": "stream",
     "text": [
      "[1, 2, 4, 6, 9]\n"
     ]
    }
   ],
   "source": [
    "nums=[9,6,1,4,2]\n",
    "nums.sort()\n",
    "print(nums)\n",
    "\n",
    "#sort()永久性地修改列表元素的排列顺序  且默认正序"
   ]
  },
  {
   "cell_type": "code",
   "execution_count": 35,
   "id": "0d70f58a",
   "metadata": {},
   "outputs": [
    {
     "name": "stdout",
     "output_type": "stream",
     "text": [
      "[9, 6, 4, 2, 1]\n"
     ]
    }
   ],
   "source": [
    "nums.sort(reverse=True)\n",
    "print(nums)\n",
    "\n",
    "#指定倒序 也是永久性修改"
   ]
  },
  {
   "cell_type": "markdown",
   "id": "595e32b7",
   "metadata": {},
   "source": [
    "### 3.3.2　使用函数sorted()对列表临时排序"
   ]
  },
  {
   "cell_type": "code",
   "execution_count": 37,
   "id": "d38b50ce",
   "metadata": {},
   "outputs": [
    {
     "name": "stdout",
     "output_type": "stream",
     "text": [
      "[4, 6, 121, 888, 999]\n",
      "[999, 6, 121, 4, 888]\n"
     ]
    }
   ],
   "source": [
    "finger=[999,6,121,4,888]\n",
    "print(sorted(finger))\n",
    "\n",
    "print(finger)\n",
    "#函数sorted() 能够按特定顺序显示列表元素，同时不影响它们在列表中的原始排列顺序。"
   ]
  },
  {
   "cell_type": "markdown",
   "id": "df75b9e1",
   "metadata": {},
   "source": [
    "### 3.3.3　倒着打印列表\n",
    "不是按字母或数字倒序排列，只是元素位置倒过来而已,即翻转列表。"
   ]
  },
  {
   "cell_type": "code",
   "execution_count": 36,
   "id": "e348a41f",
   "metadata": {},
   "outputs": [
    {
     "name": "stdout",
     "output_type": "stream",
     "text": [
      "[1999, 2, 100, 6, 9]\n"
     ]
    }
   ],
   "source": [
    "number = [9,6,100,2,1999]\n",
    "number.reverse()\n",
    "print(number)\n",
    "\n",
    "#reverse() 永久性地修改列表，但可随时恢复到原来的顺序，只需再次调用reverse() "
   ]
  },
  {
   "cell_type": "markdown",
   "id": "5654f6e1",
   "metadata": {},
   "source": [
    "### 3.3.4　确定列表的长度\n",
    "　Python计算列表元素数时从1开始，因此确定列表长度时，不会遇到差一错误。"
   ]
  },
  {
   "cell_type": "code",
   "execution_count": 38,
   "id": "dea04566",
   "metadata": {},
   "outputs": [
    {
     "data": {
      "text/plain": [
       "5"
      ]
     },
     "execution_count": 38,
     "metadata": {},
     "output_type": "execute_result"
    }
   ],
   "source": [
    "#length的缩写 len 显示列表长度\n",
    "\n",
    "car=['qw','er','rt','ty','tu']\n",
    "len(car)"
   ]
  },
  {
   "cell_type": "code",
   "execution_count": null,
   "id": "7a88a7ba",
   "metadata": {},
   "outputs": [],
   "source": []
  }
 ],
 "metadata": {
  "kernelspec": {
   "display_name": "Python 3 (ipykernel)",
   "language": "python",
   "name": "python3"
  },
  "language_info": {
   "codemirror_mode": {
    "name": "ipython",
    "version": 3
   },
   "file_extension": ".py",
   "mimetype": "text/x-python",
   "name": "python",
   "nbconvert_exporter": "python",
   "pygments_lexer": "ipython3",
   "version": "3.11.5"
  }
 },
 "nbformat": 4,
 "nbformat_minor": 5
}
